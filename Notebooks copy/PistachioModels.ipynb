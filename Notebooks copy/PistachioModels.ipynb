{
 "cells": [
  {
   "cell_type": "markdown",
   "id": "d5c54b54",
   "metadata": {},
   "source": [
    "<div style=\"background-color: #D9EAD3; border-radius: 10px; border: 1px solid #D2B48C; padding: 10px;\">\n",
    "    <h2 style=\"color: #8B4513;\">Import Libraries</h2>\n",
    "</div>"
   ]
  },
  {
   "cell_type": "code",
   "execution_count": 1,
   "id": "7c587c42",
   "metadata": {},
   "outputs": [],
   "source": [
    "import pandas as pd\n",
    "import numpy as np\n",
    "import seaborn as sns\n",
    "import matplotlib.pyplot as plt\n",
    "import pickle\n",
    "import tensorflow as tf\n",
    "from tensorflow import keras\n",
    "from tensorflow.keras.layers import Dense, Dropout\n",
    "from tensorflow.keras.optimizers import Adam\n",
    "from tensorflow.keras.callbacks import EarlyStopping\n",
    "from tensorflow.keras.models import Sequential\n",
    "from sklearn import metrics\n",
    "from sklearn.metrics import cohen_kappa_score\n",
    "from sklearn.model_selection import train_test_split , GridSearchCV\n",
    "from sklearn.linear_model import LogisticRegression, LinearRegression \n",
    "from sklearn.metrics import classification_report, confusion_matrix,precision_score, recall_score, f1_score, accuracy_score, roc_curve, precision_recall_curve, auc\n",
    "from sklearn.preprocessing import StandardScaler, MinMaxScaler\n",
    "from sklearn.naive_bayes import ComplementNB, GaussianNB\n",
    "from sklearn.neighbors import KNeighborsClassifier \n",
    "from sklearn.tree import DecisionTreeClassifier\n",
    "from sklearn.ensemble import RandomForestClassifier, GradientBoostingClassifier, AdaBoostClassifier\n",
    "from xgboost import XGBClassifier\n",
    "from sklearn.svm import SVC\n",
    "from sklearn.neural_network import MLPClassifier\n",
    "from sklearn.discriminant_analysis import LinearDiscriminantAnalysis, QuadraticDiscriminantAnalysis"
   ]
  },
  {
   "cell_type": "markdown",
   "id": "d916abf6",
   "metadata": {},
   "source": [
    "<div style=\"background-color: #D9EAD3; border-radius: 10px; border: 1px solid #D2B48C; padding: 10px;\">\n",
    "    <h2 style=\"color: #8B4513;\">Read Data</h2>\n",
    "</div>\n"
   ]
  },
  {
   "cell_type": "code",
   "execution_count": 2,
   "id": "7300e681",
   "metadata": {},
   "outputs": [
    {
     "data": {
      "text/html": [
       "<div>\n",
       "<style scoped>\n",
       "    .dataframe tbody tr th:only-of-type {\n",
       "        vertical-align: middle;\n",
       "    }\n",
       "\n",
       "    .dataframe tbody tr th {\n",
       "        vertical-align: top;\n",
       "    }\n",
       "\n",
       "    .dataframe thead th {\n",
       "        text-align: right;\n",
       "    }\n",
       "</style>\n",
       "<table border=\"1\" class=\"dataframe\">\n",
       "  <thead>\n",
       "    <tr style=\"text-align: right;\">\n",
       "      <th></th>\n",
       "      <th>AREA</th>\n",
       "      <th>PERIMETER</th>\n",
       "      <th>MAJOR_AXIS</th>\n",
       "      <th>MINOR_AXIS</th>\n",
       "      <th>ECCENTRICITY</th>\n",
       "      <th>SOLIDITY</th>\n",
       "      <th>EXTENT</th>\n",
       "      <th>ROUNDNESS</th>\n",
       "      <th>COMPACTNESS</th>\n",
       "      <th>SHAPEFACTOR_2</th>\n",
       "      <th>Class</th>\n",
       "    </tr>\n",
       "  </thead>\n",
       "  <tbody>\n",
       "    <tr>\n",
       "      <th>0</th>\n",
       "      <td>73107</td>\n",
       "      <td>1161.8070</td>\n",
       "      <td>442.4074</td>\n",
       "      <td>217.7261</td>\n",
       "      <td>0.8705</td>\n",
       "      <td>0.9424</td>\n",
       "      <td>0.7710</td>\n",
       "      <td>0.6806</td>\n",
       "      <td>0.6896</td>\n",
       "      <td>0.0030</td>\n",
       "      <td>0</td>\n",
       "    </tr>\n",
       "    <tr>\n",
       "      <th>1</th>\n",
       "      <td>89272</td>\n",
       "      <td>1173.1810</td>\n",
       "      <td>460.2551</td>\n",
       "      <td>251.9546</td>\n",
       "      <td>0.8369</td>\n",
       "      <td>0.9641</td>\n",
       "      <td>0.7584</td>\n",
       "      <td>0.8151</td>\n",
       "      <td>0.7325</td>\n",
       "      <td>0.0028</td>\n",
       "      <td>1</td>\n",
       "    </tr>\n",
       "    <tr>\n",
       "      <th>2</th>\n",
       "      <td>60955</td>\n",
       "      <td>999.7890</td>\n",
       "      <td>386.9247</td>\n",
       "      <td>209.1255</td>\n",
       "      <td>0.8414</td>\n",
       "      <td>0.9465</td>\n",
       "      <td>0.7263</td>\n",
       "      <td>0.7663</td>\n",
       "      <td>0.7200</td>\n",
       "      <td>0.0034</td>\n",
       "      <td>0</td>\n",
       "    </tr>\n",
       "    <tr>\n",
       "      <th>3</th>\n",
       "      <td>79537</td>\n",
       "      <td>1439.5129</td>\n",
       "      <td>466.7973</td>\n",
       "      <td>221.2136</td>\n",
       "      <td>0.8806</td>\n",
       "      <td>0.9437</td>\n",
       "      <td>0.7568</td>\n",
       "      <td>0.4823</td>\n",
       "      <td>0.6817</td>\n",
       "      <td>0.0028</td>\n",
       "      <td>0</td>\n",
       "    </tr>\n",
       "    <tr>\n",
       "      <th>4</th>\n",
       "      <td>96395</td>\n",
       "      <td>1352.6740</td>\n",
       "      <td>515.8730</td>\n",
       "      <td>246.5945</td>\n",
       "      <td>0.8784</td>\n",
       "      <td>0.9549</td>\n",
       "      <td>0.7428</td>\n",
       "      <td>0.6620</td>\n",
       "      <td>0.6791</td>\n",
       "      <td>0.0026</td>\n",
       "      <td>0</td>\n",
       "    </tr>\n",
       "  </tbody>\n",
       "</table>\n",
       "</div>"
      ],
      "text/plain": [
       "    AREA  PERIMETER  MAJOR_AXIS  MINOR_AXIS  ECCENTRICITY  SOLIDITY  EXTENT  \\\n",
       "0  73107  1161.8070    442.4074    217.7261        0.8705    0.9424  0.7710   \n",
       "1  89272  1173.1810    460.2551    251.9546        0.8369    0.9641  0.7584   \n",
       "2  60955   999.7890    386.9247    209.1255        0.8414    0.9465  0.7263   \n",
       "3  79537  1439.5129    466.7973    221.2136        0.8806    0.9437  0.7568   \n",
       "4  96395  1352.6740    515.8730    246.5945        0.8784    0.9549  0.7428   \n",
       "\n",
       "   ROUNDNESS  COMPACTNESS  SHAPEFACTOR_2  Class  \n",
       "0     0.6806       0.6896         0.0030      0  \n",
       "1     0.8151       0.7325         0.0028      1  \n",
       "2     0.7663       0.7200         0.0034      0  \n",
       "3     0.4823       0.6817         0.0028      0  \n",
       "4     0.6620       0.6791         0.0026      0  "
      ]
     },
     "execution_count": 2,
     "metadata": {},
     "output_type": "execute_result"
    }
   ],
   "source": [
    "df = pd.read_csv('/Users/jxhn/Desktop/IRONHACK/Week_9/Final_project/Data/Cleaned/data1clean.csv')\n",
    "df.head()"
   ]
  },
  {
   "cell_type": "code",
   "execution_count": 3,
   "id": "18346a67",
   "metadata": {},
   "outputs": [
    {
     "data": {
      "text/html": [
       "<div>\n",
       "<style scoped>\n",
       "    .dataframe tbody tr th:only-of-type {\n",
       "        vertical-align: middle;\n",
       "    }\n",
       "\n",
       "    .dataframe tbody tr th {\n",
       "        vertical-align: top;\n",
       "    }\n",
       "\n",
       "    .dataframe thead th {\n",
       "        text-align: right;\n",
       "    }\n",
       "</style>\n",
       "<table border=\"1\" class=\"dataframe\">\n",
       "  <thead>\n",
       "    <tr style=\"text-align: right;\">\n",
       "      <th></th>\n",
       "      <th>AREA</th>\n",
       "      <th>MINOR_AXIS</th>\n",
       "      <th>ECCENTRICITY</th>\n",
       "      <th>EQDIASQ</th>\n",
       "      <th>CONVEX_AREA</th>\n",
       "      <th>ASPECT_RATIO</th>\n",
       "      <th>COMPACTNESS</th>\n",
       "      <th>SHAPEFACTOR_1</th>\n",
       "      <th>SHAPEFACTOR_3</th>\n",
       "      <th>Class</th>\n",
       "    </tr>\n",
       "  </thead>\n",
       "  <tbody>\n",
       "    <tr>\n",
       "      <th>0</th>\n",
       "      <td>73107</td>\n",
       "      <td>217.7261</td>\n",
       "      <td>0.8705</td>\n",
       "      <td>305.0946</td>\n",
       "      <td>77579</td>\n",
       "      <td>2.0319</td>\n",
       "      <td>0.6896</td>\n",
       "      <td>0.0061</td>\n",
       "      <td>0.4756</td>\n",
       "      <td>0</td>\n",
       "    </tr>\n",
       "    <tr>\n",
       "      <th>1</th>\n",
       "      <td>89272</td>\n",
       "      <td>251.9546</td>\n",
       "      <td>0.8369</td>\n",
       "      <td>337.1419</td>\n",
       "      <td>92598</td>\n",
       "      <td>1.8267</td>\n",
       "      <td>0.7325</td>\n",
       "      <td>0.0052</td>\n",
       "      <td>0.5366</td>\n",
       "      <td>1</td>\n",
       "    </tr>\n",
       "    <tr>\n",
       "      <th>2</th>\n",
       "      <td>60955</td>\n",
       "      <td>209.1255</td>\n",
       "      <td>0.8414</td>\n",
       "      <td>278.5863</td>\n",
       "      <td>64400</td>\n",
       "      <td>1.8502</td>\n",
       "      <td>0.7200</td>\n",
       "      <td>0.0063</td>\n",
       "      <td>0.5184</td>\n",
       "      <td>0</td>\n",
       "    </tr>\n",
       "    <tr>\n",
       "      <th>3</th>\n",
       "      <td>79537</td>\n",
       "      <td>221.2136</td>\n",
       "      <td>0.8806</td>\n",
       "      <td>318.2289</td>\n",
       "      <td>84281</td>\n",
       "      <td>2.1102</td>\n",
       "      <td>0.6817</td>\n",
       "      <td>0.0059</td>\n",
       "      <td>0.4648</td>\n",
       "      <td>0</td>\n",
       "    </tr>\n",
       "    <tr>\n",
       "      <th>4</th>\n",
       "      <td>96395</td>\n",
       "      <td>246.5945</td>\n",
       "      <td>0.8784</td>\n",
       "      <td>350.3340</td>\n",
       "      <td>100950</td>\n",
       "      <td>2.0920</td>\n",
       "      <td>0.6791</td>\n",
       "      <td>0.0054</td>\n",
       "      <td>0.4612</td>\n",
       "      <td>0</td>\n",
       "    </tr>\n",
       "  </tbody>\n",
       "</table>\n",
       "</div>"
      ],
      "text/plain": [
       "    AREA  MINOR_AXIS  ECCENTRICITY   EQDIASQ  CONVEX_AREA  ASPECT_RATIO  \\\n",
       "0  73107    217.7261        0.8705  305.0946        77579        2.0319   \n",
       "1  89272    251.9546        0.8369  337.1419        92598        1.8267   \n",
       "2  60955    209.1255        0.8414  278.5863        64400        1.8502   \n",
       "3  79537    221.2136        0.8806  318.2289        84281        2.1102   \n",
       "4  96395    246.5945        0.8784  350.3340       100950        2.0920   \n",
       "\n",
       "   COMPACTNESS  SHAPEFACTOR_1  SHAPEFACTOR_3  Class  \n",
       "0       0.6896         0.0061         0.4756      0  \n",
       "1       0.7325         0.0052         0.5366      1  \n",
       "2       0.7200         0.0063         0.5184      0  \n",
       "3       0.6817         0.0059         0.4648      0  \n",
       "4       0.6791         0.0054         0.4612      0  "
      ]
     },
     "execution_count": 3,
     "metadata": {},
     "output_type": "execute_result"
    }
   ],
   "source": [
    "df2 = pd.read_csv('/Users/jxhn/Desktop/IRONHACK/Week_9/Final_project/Data/Cleaned/data2clean.csv')\n",
    "df2.head()"
   ]
  },
  {
   "cell_type": "markdown",
   "id": "767a4819",
   "metadata": {},
   "source": [
    "<div style=\"background-color: #D9EAD3; border-radius: 10px; border: 1px solid #D2B48C; padding: 10px;\">\n",
    "    <h2 style=\"color: #8B4513;\">Checking For Skew</h2>\n",
    "</div>\n"
   ]
  },
  {
   "cell_type": "markdown",
   "id": "05ff16ea",
   "metadata": {},
   "source": [
    "### Dataset 1"
   ]
  },
  {
   "cell_type": "code",
   "execution_count": 4,
   "id": "e70fe3ac",
   "metadata": {},
   "outputs": [
    {
     "data": {
      "text/plain": [
       "AREA            -0.283972\n",
       "PERIMETER        1.309697\n",
       "MAJOR_AXIS      -0.476383\n",
       "MINOR_AXIS       0.125943\n",
       "ECCENTRICITY    -1.496670\n",
       "SOLIDITY        -1.870730\n",
       "EXTENT          -1.138123\n",
       "ROUNDNESS       -0.547435\n",
       "COMPACTNESS      0.019181\n",
       "SHAPEFACTOR_2    1.912691\n",
       "Class            0.000000\n",
       "dtype: float64"
      ]
     },
     "execution_count": 4,
     "metadata": {},
     "output_type": "execute_result"
    }
   ],
   "source": [
    "df.skew()"
   ]
  },
  {
   "cell_type": "code",
   "execution_count": 5,
   "id": "1424e6f6",
   "metadata": {},
   "outputs": [
    {
     "name": "stdout",
     "output_type": "stream",
     "text": [
      "Skew is within range -2 < :) < 2\n"
     ]
    }
   ],
   "source": [
    "print(\"Skew is within range -2 < :) < 2\")"
   ]
  },
  {
   "cell_type": "markdown",
   "id": "f4d7341c",
   "metadata": {},
   "source": [
    "### Dataset 2"
   ]
  },
  {
   "cell_type": "code",
   "execution_count": 6,
   "id": "28d7481b",
   "metadata": {},
   "outputs": [
    {
     "data": {
      "text/plain": [
       "AREA            -0.284362\n",
       "MINOR_AXIS       0.139168\n",
       "ECCENTRICITY    -1.506768\n",
       "EQDIASQ         -0.623634\n",
       "CONVEX_AREA     -0.176736\n",
       "ASPECT_RATIO     0.264598\n",
       "COMPACTNESS      0.010828\n",
       "SHAPEFACTOR_1    1.898954\n",
       "SHAPEFACTOR_3    0.258014\n",
       "Class            0.000000\n",
       "dtype: float64"
      ]
     },
     "execution_count": 6,
     "metadata": {},
     "output_type": "execute_result"
    }
   ],
   "source": [
    "df2.skew()"
   ]
  },
  {
   "cell_type": "code",
   "execution_count": 7,
   "id": "32aa8d5c",
   "metadata": {},
   "outputs": [
    {
     "name": "stdout",
     "output_type": "stream",
     "text": [
      "Skew is within range -2 < :) < 2\n"
     ]
    }
   ],
   "source": [
    "print(\"Skew is within range -2 < :) < 2\")"
   ]
  },
  {
   "cell_type": "markdown",
   "id": "14a70974",
   "metadata": {},
   "source": [
    "<div style=\"background-color: #D9EAD3; border-radius: 10px; border: 1px solid #D2B48C; padding: 10px;\">\n",
    "    <h2 style=\"color: #8B4513;\">X & y Split</h2>\n",
    "</div>\n"
   ]
  },
  {
   "cell_type": "markdown",
   "id": "6beabce2",
   "metadata": {},
   "source": [
    "## Dataset 1"
   ]
  },
  {
   "cell_type": "code",
   "execution_count": 8,
   "id": "2f9df935",
   "metadata": {},
   "outputs": [],
   "source": [
    "X = df.drop(columns=['Class'],axis=1)\n",
    "y = df['Class']"
   ]
  },
  {
   "cell_type": "code",
   "execution_count": 9,
   "id": "ef4751bf",
   "metadata": {},
   "outputs": [],
   "source": [
    "X_train, X_test, y_train, y_test = train_test_split(X, y, test_size=0.2, random_state=42)"
   ]
  },
  {
   "cell_type": "code",
   "execution_count": 10,
   "id": "94c96c30",
   "metadata": {},
   "outputs": [
    {
     "name": "stdout",
     "output_type": "stream",
     "text": [
      "X_train have 3193 rows and 10 columns.\n",
      "X_test have 799 rows and 10 columns.\n"
     ]
    }
   ],
   "source": [
    "row, col = X_train.shape\n",
    "print(\"X_train have\",row,\"rows and\",col,\"columns.\")\n",
    "row, col = X_test.shape\n",
    "print(\"X_test have\",row,\"rows and\",col,\"columns.\")"
   ]
  },
  {
   "cell_type": "markdown",
   "id": "b65618ff",
   "metadata": {},
   "source": [
    "## Dataset 2"
   ]
  },
  {
   "cell_type": "code",
   "execution_count": 11,
   "id": "78c163a4",
   "metadata": {},
   "outputs": [],
   "source": [
    "X2 = df2.drop(columns=['Class'],axis=1)\n",
    "y2 = df2['Class']"
   ]
  },
  {
   "cell_type": "code",
   "execution_count": 12,
   "id": "0d87dcc9",
   "metadata": {},
   "outputs": [],
   "source": [
    "X_train2, X_test2, y_train2, y_test2 = train_test_split(X2, y2, test_size=0.2, random_state=42)"
   ]
  },
  {
   "cell_type": "code",
   "execution_count": 13,
   "id": "f35b290a",
   "metadata": {},
   "outputs": [
    {
     "name": "stdout",
     "output_type": "stream",
     "text": [
      "X_train have 3193 rows and 9 columns.\n",
      "X_test have 799 rows and 9 columns.\n"
     ]
    }
   ],
   "source": [
    "row, col = X_train2.shape\n",
    "print(\"X_train have\",row,\"rows and\",col,\"columns.\")\n",
    "row, col = X_test2.shape\n",
    "print(\"X_test have\",row,\"rows and\",col,\"columns.\")"
   ]
  },
  {
   "cell_type": "markdown",
   "id": "becf2fa3",
   "metadata": {},
   "source": [
    "<div style=\"background-color: #D9EAD3; border-radius: 10px; border: 1px solid #D2B48C; padding: 10px;\">\n",
    "    <h2 style=\"color: #8B4513;\">Scalers & Transformers</h2>\n",
    "</div>"
   ]
  },
  {
   "cell_type": "markdown",
   "id": "b0285ce3",
   "metadata": {},
   "source": [
    "## Standard Scaler"
   ]
  },
  {
   "cell_type": "markdown",
   "id": "bb3ceea7",
   "metadata": {},
   "source": [
    "### Dataset 1"
   ]
  },
  {
   "cell_type": "code",
   "execution_count": 14,
   "id": "ce6286d3",
   "metadata": {},
   "outputs": [],
   "source": [
    "scaler = StandardScaler()\n",
    "X_train_stanscaled = scaler.fit_transform(X_train)\n",
    "X_test_stanscaled = scaler.fit_transform(X_test)\n",
    "\n",
    "# Save the scaler to a file using pickle\n",
    "path_of_file = '/Users/jxhn/Desktop/IRONHACK/Week_9/Final_project/Scalers/'\n",
    "with open(path_of_file + 'standardscaler.pkl', 'wb') as f:\n",
    "    pickle.dump(scaler, f)"
   ]
  },
  {
   "cell_type": "markdown",
   "id": "af64d57c",
   "metadata": {},
   "source": [
    "### Dataset 2"
   ]
  },
  {
   "cell_type": "code",
   "execution_count": 15,
   "id": "c2712b88",
   "metadata": {},
   "outputs": [],
   "source": [
    "scaler = StandardScaler()\n",
    "X_train_stanscaled2 = scaler.fit_transform(X_train2)\n",
    "X_test_stanscaled2 = scaler.fit_transform(X_test2)\n",
    "\n",
    "# Save the scaler to a file using pickle\n",
    "path_of_file = '/Users/jxhn/Desktop/IRONHACK/Week_9/Final_project/Scalers/'\n",
    "with open(path_of_file + 'standardscaler2.pkl', 'wb') as f:\n",
    "    pickle.dump(scaler, f)"
   ]
  },
  {
   "cell_type": "code",
   "execution_count": 16,
   "id": "d9bf2f36",
   "metadata": {},
   "outputs": [
    {
     "name": "stdout",
     "output_type": "stream",
     "text": [
      "Note to self: Will test this scaler on KNN, SVM and Logistic Regression model\n"
     ]
    }
   ],
   "source": [
    "print(\"Note to self: Will test this scaler on KNN, SVM and Logistic Regression model\")"
   ]
  },
  {
   "cell_type": "markdown",
   "id": "2d5afd5c",
   "metadata": {},
   "source": [
    "## MinMax Scaler"
   ]
  },
  {
   "cell_type": "markdown",
   "id": "6f04c40a",
   "metadata": {},
   "source": [
    "### Dataset 1"
   ]
  },
  {
   "cell_type": "code",
   "execution_count": 17,
   "id": "588418a0",
   "metadata": {},
   "outputs": [],
   "source": [
    "scaler = MinMaxScaler()\n",
    "X_train_minmaxscaled = scaler.fit_transform(X_train)\n",
    "X_test_minmaxscaled = scaler.fit_transform(X_test)\n",
    "\n",
    "# Save the scaler to a file using pickle\n",
    "path_of_file = '/Users/jxhn/Desktop/IRONHACK/Week_9/Final_project/Scalers/'\n",
    "with open(path_of_file + 'minmaxscaler.pkl', 'wb') as f:\n",
    "    pickle.dump(scaler, f)"
   ]
  },
  {
   "cell_type": "markdown",
   "id": "a88731d3",
   "metadata": {},
   "source": [
    "### Dataset 2"
   ]
  },
  {
   "cell_type": "code",
   "execution_count": 18,
   "id": "4bc139e2",
   "metadata": {},
   "outputs": [],
   "source": [
    "scaler = MinMaxScaler()\n",
    "X_train_minmaxscaled2 = scaler.fit_transform(X_train2)\n",
    "X_test_minmaxscaled2 = scaler.fit_transform(X_test2)\n",
    "\n",
    "# Save the scaler to a file using pickle\n",
    "path_of_file = '/Users/jxhn/Desktop/IRONHACK/Week_9/Final_project/Scalers/'\n",
    "with open(path_of_file + 'minmaxscaler2.pkl', 'wb') as f:\n",
    "    pickle.dump(scaler, f)"
   ]
  },
  {
   "cell_type": "code",
   "execution_count": 19,
   "id": "b58193f9",
   "metadata": {},
   "outputs": [
    {
     "name": "stdout",
     "output_type": "stream",
     "text": [
      "Note to self: Will test this scaler on neural network model\n"
     ]
    }
   ],
   "source": [
    "print(\"Note to self: Will test this scaler on neural network model\")"
   ]
  },
  {
   "cell_type": "markdown",
   "id": "5507d7f8",
   "metadata": {},
   "source": [
    "<div style=\"background-color: #D9EAD3; border-radius: 10px; border: 1px solid #D2B48C; padding: 10px;\">\n",
    "    <h2 style=\"color: #8B4513; font-size: 30px;\">Machine Learning Models</h2>\n",
    "</div>"
   ]
  },
  {
   "cell_type": "code",
   "execution_count": 20,
   "id": "53b7d52c",
   "metadata": {},
   "outputs": [],
   "source": [
    "tf.random.set_seed(12)"
   ]
  },
  {
   "cell_type": "markdown",
   "id": "8a0c38de",
   "metadata": {},
   "source": [
    "<div style=\"background-color: #D9EAD3; border-radius: 10px; border: 1px solid #D2B48C; padding: 10px;\">\n",
    "    <h2 style=\"color: #8B4513; font-size: 24px;\">Neural Networks</h2>\n",
    "</div>"
   ]
  },
  {
   "cell_type": "markdown",
   "id": "3c97c366",
   "metadata": {},
   "source": [
    "<div style=\"background-color: #D9EAD3; border-radius: 10px; border: 1px solid #D2B48C; padding: 10px;\">\n",
    "    <h2 style=\"color: #8B4513; font-size: 20px;\">Neural Network for MinMaxScaled Data (Using Sigmoid Activation) with Dataset 1:</h2>\n",
    "</div>"
   ]
  },
  {
   "cell_type": "code",
   "execution_count": 21,
   "id": "b34b89d0",
   "metadata": {},
   "outputs": [
    {
     "name": "stdout",
     "output_type": "stream",
     "text": [
      "Model: \"sequential\"\n",
      "_________________________________________________________________\n",
      " Layer (type)                Output Shape              Param #   \n",
      "=================================================================\n",
      " dense (Dense)               (None, 64)                704       \n",
      "                                                                 \n",
      " dense_1 (Dense)             (None, 32)                2080      \n",
      "                                                                 \n",
      " dense_2 (Dense)             (None, 1)                 33        \n",
      "                                                                 \n",
      "=================================================================\n",
      "Total params: 2817 (11.00 KB)\n",
      "Trainable params: 2817 (11.00 KB)\n",
      "Non-trainable params: 0 (0.00 Byte)\n",
      "_________________________________________________________________\n",
      "Epoch 1/10\n",
      "90/90 [==============================] - 0s 2ms/step - loss: 0.6944 - accuracy: 0.5047 - val_loss: 0.6883 - val_accuracy: 0.7437\n",
      "Epoch 2/10\n",
      "90/90 [==============================] - 0s 948us/step - loss: 0.6856 - accuracy: 0.5510 - val_loss: 0.6796 - val_accuracy: 0.7437\n",
      "Epoch 3/10\n",
      "90/90 [==============================] - 0s 642us/step - loss: 0.6731 - accuracy: 0.6460 - val_loss: 0.6640 - val_accuracy: 0.7125\n",
      "Epoch 4/10\n",
      "90/90 [==============================] - 0s 577us/step - loss: 0.6501 - accuracy: 0.7588 - val_loss: 0.6345 - val_accuracy: 0.8469\n",
      "Epoch 5/10\n",
      "90/90 [==============================] - 0s 567us/step - loss: 0.6133 - accuracy: 0.7999 - val_loss: 0.5902 - val_accuracy: 0.8313\n",
      "Epoch 6/10\n",
      "90/90 [==============================] - 0s 567us/step - loss: 0.5594 - accuracy: 0.8228 - val_loss: 0.5345 - val_accuracy: 0.8344\n",
      "Epoch 7/10\n",
      "90/90 [==============================] - 0s 603us/step - loss: 0.4960 - accuracy: 0.8455 - val_loss: 0.4751 - val_accuracy: 0.8375\n",
      "Epoch 8/10\n",
      "90/90 [==============================] - 0s 609us/step - loss: 0.4410 - accuracy: 0.8468 - val_loss: 0.4400 - val_accuracy: 0.8344\n",
      "Epoch 9/10\n",
      "90/90 [==============================] - 0s 580us/step - loss: 0.3956 - accuracy: 0.8556 - val_loss: 0.3971 - val_accuracy: 0.8438\n",
      "Epoch 10/10\n",
      "90/90 [==============================] - 0s 551us/step - loss: 0.3661 - accuracy: 0.8604 - val_loss: 0.3820 - val_accuracy: 0.8344\n"
     ]
    }
   ],
   "source": [
    "# Define the neural network architecture\n",
    "model_minmax = keras.Sequential([\n",
    "    keras.layers.Dense(64, activation='sigmoid', input_dim=X_train_minmaxscaled.shape[1]),\n",
    "    keras.layers.Dense(32, activation='sigmoid'),\n",
    "    keras.layers.Dense(1, activation='sigmoid')  # Binary classification output\n",
    "])\n",
    "\n",
    "# Compile the model\n",
    "model_minmax.compile(optimizer='adam', loss='binary_crossentropy', metrics=['accuracy'])\n",
    "model_minmax.summary() # 30 coef * 10 = 300 samples\n",
    "\n",
    "# Train the model\n",
    "history = model_minmax.fit(X_train_minmaxscaled, y_train, epochs=10, batch_size=32, validation_split=0.1)\n",
    "\n",
    "# Suppose your trained model is named 'model'\n",
    "path_of_file = '/Users/jxhn/Desktop/IRONHACK/Week_9/Final_project/Models/'\n",
    "with open(path_of_file + 'minmaxneural1.pkl', 'wb') as model_file:\n",
    "    pickle.dump(model_minmax, model_file)\n"
   ]
  },
  {
   "cell_type": "markdown",
   "id": "1bff2f79",
   "metadata": {},
   "source": [
    "<div style=\"background-color: #D9EAD3; border-radius: 10px; border: 1px solid #D2B48C; padding: 10px;\">\n",
    "    <h2 style=\"color: #8B4513; font-size: 20px;\">Evaluation for MinMaxScaled Model with Dataset 1</h2>\n",
    "</div>"
   ]
  },
  {
   "cell_type": "code",
   "execution_count": 22,
   "id": "9b777d26",
   "metadata": {},
   "outputs": [
    {
     "name": "stdout",
     "output_type": "stream",
     "text": [
      "25/25 [==============================] - 0s 412us/step - loss: 0.3271 - accuracy: 0.8711\n",
      "Min-Max Scaled Test Data accuracy (D1): 0.8710888624191284\n"
     ]
    }
   ],
   "source": [
    "# Evaluate the model on the test set\n",
    "test_loss, test_acc = model_minmax.evaluate(X_test_minmaxscaled, y_test)\n",
    "print(\"Min-Max Scaled Test Data accuracy (D1):\", test_acc)"
   ]
  },
  {
   "cell_type": "code",
   "execution_count": 23,
   "id": "abc09b3e",
   "metadata": {},
   "outputs": [
    {
     "name": "stdout",
     "output_type": "stream",
     "text": [
      "25/25 [==============================] - 0s 334us/step\n",
      "F1-score on Test Set for MinMaxScaled Model (D1): 0.8748481166464155\n",
      "\n",
      "Cohen's Kappa Score on test (D1): 0.7420908637920607\n"
     ]
    }
   ],
   "source": [
    "# Predictions from the MinMaxScaled model\n",
    "y_pred_minmax = model_minmax.predict(X_test_minmaxscaled)\n",
    "y_pred_minmax = (y_pred_minmax > 0.5).astype(int)  # Convert probabilities to binary predictions\n",
    "\n",
    "# Calculate F1-score for the MinMaxScaled model\n",
    "f1_minmax = f1_score(y_test, y_pred_minmax)\n",
    "print(\"F1-score on Test Set for MinMaxScaled Model (D1):\", f1_minmax)\n",
    "print()\n",
    "kappa_score = cohen_kappa_score(y_test, y_pred_minmax)\n",
    "print(\"Cohen's Kappa Score on test (D1):\", kappa_score)"
   ]
  },
  {
   "cell_type": "markdown",
   "id": "786e157f",
   "metadata": {},
   "source": [
    "<div style=\"background-color: #D9EAD3; border-radius: 10px; border: 1px solid #D2B48C; padding: 10px;\">\n",
    "    <h2 style=\"color: #8B4513; font-size: 20px;\">Confusion Matrix for MinMaxScaled Model with Dataset 1</h2>\n",
    "</div>"
   ]
  },
  {
   "cell_type": "code",
   "execution_count": 24,
   "id": "0456d4c8",
   "metadata": {},
   "outputs": [
    {
     "name": "stdout",
     "output_type": "stream",
     "text": [
      "25/25 [==============================] - 0s 334us/step\n"
     ]
    },
    {
     "data": {
      "image/png": "[encoded data removed]",
      "text/plain": [
       "<Figure size 448x336 with 2 Axes>"
      ]
     },
     "metadata": {},
     "output_type": "display_data"
    }
   ],
   "source": [
    "minmax_cm = confusion_matrix(y_test, (model_minmax.predict(X_test_minmaxscaled) > 0.5).astype(int))\n",
    "sns.set(font_scale=1.5)\n",
    "plt.figure(dpi=70)\n",
    "sns.heatmap(minmax_cm, annot=True, cmap='Greens', fmt='g')\n",
    "plt.xlabel('Predicted')\n",
    "plt.ylabel('Actual')\n",
    "plt.title('Confusion Matrix for MinMaxScaled Model (D1)')\n",
    "plt.show()"
   ]
  },
  {
   "cell_type": "markdown",
   "id": "0c6975c7",
   "metadata": {},
   "source": [
    "<div style=\"background-color: #D9EAD3; border-radius: 10px; border: 1px solid #D2B48C; padding: 10px;\">\n",
    "    <h2 style=\"color: #8B4513; font-size: 20px;\">Neural Network for MinMaxScaled Data (Using Sigmoid Activation) with Dataset 2:</h2>\n",
    "</div>"
   ]
  },
  {
   "cell_type": "code",
   "execution_count": 25,
   "id": "b5eed7c6",
   "metadata": {},
   "outputs": [
    {
     "name": "stdout",
     "output_type": "stream",
     "text": [
      "Model: \"sequential_1\"\n",
      "_________________________________________________________________\n",
      " Layer (type)                Output Shape              Param #   \n",
      "=================================================================\n",
      " dense_3 (Dense)             (None, 64)                640       \n",
      "                                                                 \n",
      " dense_4 (Dense)             (None, 32)                2080      \n",
      "                                                                 \n",
      " dense_5 (Dense)             (None, 1)                 33        \n",
      "                                                                 \n",
      "=================================================================\n",
      "Total params: 2753 (10.75 KB)\n",
      "Trainable params: 2753 (10.75 KB)\n",
      "Non-trainable params: 0 (0.00 Byte)\n",
      "_________________________________________________________________\n",
      "Epoch 1/10\n",
      "90/90 [==============================] - 0s 1ms/step - loss: 0.6848 - accuracy: 0.5468 - val_loss: 0.6731 - val_accuracy: 0.7719\n",
      "Epoch 2/10\n",
      "90/90 [==============================] - 0s 576us/step - loss: 0.6589 - accuracy: 0.7334 - val_loss: 0.6404 - val_accuracy: 0.8625\n",
      "Epoch 3/10\n",
      "90/90 [==============================] - 0s 548us/step - loss: 0.6109 - accuracy: 0.8134 - val_loss: 0.5799 - val_accuracy: 0.8531\n",
      "Epoch 4/10\n",
      "90/90 [==============================] - 0s 604us/step - loss: 0.5320 - accuracy: 0.8472 - val_loss: 0.4972 - val_accuracy: 0.8500\n",
      "Epoch 5/10\n",
      "90/90 [==============================] - 0s 576us/step - loss: 0.4490 - accuracy: 0.8569 - val_loss: 0.4309 - val_accuracy: 0.8500\n",
      "Epoch 6/10\n",
      "90/90 [==============================] - 0s 569us/step - loss: 0.3901 - accuracy: 0.8618 - val_loss: 0.3912 - val_accuracy: 0.8531\n",
      "Epoch 7/10\n",
      "90/90 [==============================] - 0s 572us/step - loss: 0.3569 - accuracy: 0.8601 - val_loss: 0.3714 - val_accuracy: 0.8531\n",
      "Epoch 8/10\n",
      "90/90 [==============================] - 0s 543us/step - loss: 0.3422 - accuracy: 0.8618 - val_loss: 0.3680 - val_accuracy: 0.8562\n",
      "Epoch 9/10\n",
      "90/90 [==============================] - 0s 566us/step - loss: 0.3334 - accuracy: 0.8566 - val_loss: 0.3588 - val_accuracy: 0.8594\n",
      "Epoch 10/10\n",
      "90/90 [==============================] - 0s 574us/step - loss: 0.3275 - accuracy: 0.8618 - val_loss: 0.3637 - val_accuracy: 0.8375\n"
     ]
    }
   ],
   "source": [
    "# Define the neural network architecture\n",
    "model_minmax2 = keras.Sequential([\n",
    "    keras.layers.Dense(64, activation='sigmoid', input_dim=X_train_minmaxscaled2.shape[1]),\n",
    "    keras.layers.Dense(32, activation='sigmoid'),\n",
    "    keras.layers.Dense(1, activation='sigmoid')  # Binary classification output\n",
    "])\n",
    "\n",
    "# Compile the model\n",
    "model_minmax2.compile(optimizer='adam', loss='binary_crossentropy', metrics=['accuracy'])\n",
    "model_minmax2.summary() # 30 coef * 10 = 300 samples\n",
    "\n",
    "# Train the model\n",
    "history2 = model_minmax2.fit(X_train_minmaxscaled2, y_train2, epochs=10, batch_size=32, validation_split=0.1)\n",
    "\n",
    "# Suppose your trained model is named 'model'\n",
    "path_of_file = '/Users/jxhn/Desktop/IRONHACK/Week_9/Final_project/Models/'\n",
    "with open(path_of_file + 'minmaxneural2.pkl', 'wb') as model_file:\n",
    "    pickle.dump(model_minmax2, model_file)"
   ]
  },
  {
   "cell_type": "markdown",
   "id": "caecb3c9",
   "metadata": {},
   "source": [
    "<div style=\"background-color: #D9EAD3; border-radius: 10px; border: 1px solid #D2B48C; padding: 10px;\">\n",
    "    <h2 style=\"color: #8B4513; font-size: 20px;\">Evaluation for MinMaxScaled Model with Dataset 2</h2>\n",
    "</div>"
   ]
  },
  {
   "cell_type": "code",
   "execution_count": 26,
   "id": "c5035a6e",
   "metadata": {},
   "outputs": [
    {
     "name": "stdout",
     "output_type": "stream",
     "text": [
      "25/25 [==============================] - 0s 426us/step - loss: 0.2982 - accuracy: 0.8698\n",
      "Min-Max Scaled Test Data accuracy (D2): 0.8698372840881348\n"
     ]
    }
   ],
   "source": [
    "test_loss2, test_acc2 = model_minmax2.evaluate(X_test_minmaxscaled2, y_test2)\n",
    "print(\"Min-Max Scaled Test Data accuracy (D2):\", test_acc2)"
   ]
  },
  {
   "cell_type": "code",
   "execution_count": 27,
   "id": "1d99c5d7",
   "metadata": {},
   "outputs": [
    {
     "name": "stdout",
     "output_type": "stream",
     "text": [
      "25/25 [==============================] - 0s 310us/step\n",
      "F1-score on Test Set for MinMaxScaled Model (D2): 0.8719211822660099\n",
      "\n",
      "Cohen's Kappa Score on test (D2): 0.7396317695865241\n"
     ]
    }
   ],
   "source": [
    "# Predictions from the MinMaxScaled model\n",
    "y_pred_minmax2 = model_minmax2.predict(X_test_minmaxscaled2)\n",
    "y_pred_minmax2 = (y_pred_minmax2 > 0.5).astype(int)  # Convert probabilities to binary predictions\n",
    "\n",
    "# Calculate F1-score for the MinMaxScaled model\n",
    "f1_minmax2 = f1_score(y_test2, y_pred_minmax2)\n",
    "print(\"F1-score on Test Set for MinMaxScaled Model (D2):\", f1_minmax2)\n",
    "print()\n",
    "kappa_score2 = cohen_kappa_score(y_test2, y_pred_minmax2)\n",
    "print(\"Cohen's Kappa Score on test (D2):\", kappa_score2)"
   ]
  },
  {
   "cell_type": "markdown",
   "id": "4cf2c1ee",
   "metadata": {},
   "source": [
    "<div style=\"background-color: #D9EAD3; border-radius: 10px; border: 1px solid #D2B48C; padding: 10px;\">\n",
    "    <h2 style=\"color: #8B4513; font-size: 20px;\">Confusion Matrix for MinMaxScaled Model with Dataset 2</h2>\n",
    "</div>"
   ]
  },
  {
   "cell_type": "code",
   "execution_count": 28,
   "id": "be122483",
   "metadata": {},
   "outputs": [
    {
     "name": "stdout",
     "output_type": "stream",
     "text": [
      "25/25 [==============================] - 0s 309us/step\n"
     ]
    },
    {
     "data": {
      "image/png": "[encoded data removed]",
      "text/plain": [
       "<Figure size 448x336 with 2 Axes>"
      ]
     },
     "metadata": {},
     "output_type": "display_data"
    }
   ],
   "source": [
    "minmax_cm2 = confusion_matrix(y_test2, (model_minmax2.predict(X_test_minmaxscaled2) > 0.5).astype(int))\n",
    "sns.set(font_scale=1.5)\n",
    "plt.figure(dpi=70)\n",
    "sns.heatmap(minmax_cm2, annot=True, cmap='Greens', fmt='g')\n",
    "plt.xlabel('Predicted')\n",
    "plt.ylabel('Actual')\n",
    "plt.title('Confusion Matrix for MinMaxScaled Model (D2)')\n",
    "plt.show()"
   ]
  },
  {
   "cell_type": "markdown",
   "id": "660be0c6",
   "metadata": {},
   "source": [
    "<div style=\"background-color: #D9EAD3; border-radius: 10px; border: 1px solid #D2B48C; padding: 10px;\">\n",
    "    <h2 style=\"color: #8B4513; font-size: 20px;\">Time for some fine tuning for Dataset 1</h2>\n",
    "</div>"
   ]
  },
  {
   "cell_type": "markdown",
   "id": "6b74878b",
   "metadata": {},
   "source": [
    "1. Increased the number of hidden layers and neurons per layer to potentially allow the model to learn more complex patterns.\n",
    "2. Used the Adam optimizer with a lower learning rate for better convergence.\n",
    "3. Added an EarlyStopping callback to monitor validation loss and stop training if it doesn't improve for a certain number of epochs (in this case, patience is set to 3)."
   ]
  },
  {
   "cell_type": "code",
   "execution_count": 29,
   "id": "c0d88514",
   "metadata": {},
   "outputs": [
    {
     "name": "stderr",
     "output_type": "stream",
     "text": [
      "WARNING:absl:At this time, the v2.11+ optimizer `tf.keras.optimizers.Adam` runs slowly on M1/M2 Macs, please use the legacy Keras optimizer instead, located at `tf.keras.optimizers.legacy.Adam`.\n",
      "WARNING:absl:There is a known slowdown when using v2.11+ Keras optimizers on M1/M2 Macs. Falling back to the legacy Keras optimizer, i.e., `tf.keras.optimizers.legacy.Adam`.\n"
     ]
    },
    {
     "name": "stdout",
     "output_type": "stream",
     "text": [
      "Model: \"sequential_2\"\n",
      "_________________________________________________________________\n",
      " Layer (type)                Output Shape              Param #   \n",
      "=================================================================\n",
      " dense_6 (Dense)             (None, 128)               1408      \n",
      "                                                                 \n",
      " dense_7 (Dense)             (None, 64)                8256      \n",
      "                                                                 \n",
      " dense_8 (Dense)             (None, 32)                2080      \n",
      "                                                                 \n",
      " dense_9 (Dense)             (None, 1)                 33        \n",
      "                                                                 \n",
      "=================================================================\n",
      "Total params: 11777 (46.00 KB)\n",
      "Trainable params: 11777 (46.00 KB)\n",
      "Non-trainable params: 0 (0.00 Byte)\n",
      "_________________________________________________________________\n",
      "Epoch 1/20\n",
      "10/10 [==============================] - 0s 7ms/step - loss: 0.6971 - accuracy: 0.4890 - val_loss: 0.6931 - val_accuracy: 0.5031\n",
      "Epoch 2/20\n",
      "10/10 [==============================] - 0s 2ms/step - loss: 0.6930 - accuracy: 0.4998 - val_loss: 0.6929 - val_accuracy: 0.4969\n",
      "Epoch 3/20\n",
      "10/10 [==============================] - 0s 2ms/step - loss: 0.6930 - accuracy: 0.5033 - val_loss: 0.6921 - val_accuracy: 0.5031\n",
      "Epoch 4/20\n",
      "10/10 [==============================] - 0s 2ms/step - loss: 0.6920 - accuracy: 0.4998 - val_loss: 0.6915 - val_accuracy: 0.6062\n",
      "Epoch 5/20\n",
      "10/10 [==============================] - 0s 2ms/step - loss: 0.6917 - accuracy: 0.5458 - val_loss: 0.6911 - val_accuracy: 0.4969\n",
      "Epoch 6/20\n",
      "10/10 [==============================] - 0s 2ms/step - loss: 0.6905 - accuracy: 0.6707 - val_loss: 0.6900 - val_accuracy: 0.5750\n",
      "Epoch 7/20\n",
      "10/10 [==============================] - 0s 2ms/step - loss: 0.6904 - accuracy: 0.5298 - val_loss: 0.6893 - val_accuracy: 0.5000\n",
      "Epoch 8/20\n",
      "10/10 [==============================] - 0s 2ms/step - loss: 0.6889 - accuracy: 0.5127 - val_loss: 0.6877 - val_accuracy: 0.6125\n",
      "Epoch 9/20\n",
      "10/10 [==============================] - 0s 2ms/step - loss: 0.6891 - accuracy: 0.5124 - val_loss: 0.6862 - val_accuracy: 0.6094\n",
      "Epoch 10/20\n",
      "10/10 [==============================] - 0s 2ms/step - loss: 0.6892 - accuracy: 0.5141 - val_loss: 0.6840 - val_accuracy: 0.8406\n",
      "Epoch 11/20\n",
      "10/10 [==============================] - 0s 2ms/step - loss: 0.6835 - accuracy: 0.5548 - val_loss: 0.6814 - val_accuracy: 0.6812\n",
      "Epoch 12/20\n",
      "10/10 [==============================] - 0s 2ms/step - loss: 0.6807 - accuracy: 0.5907 - val_loss: 0.6779 - val_accuracy: 0.7812\n",
      "Epoch 13/20\n",
      "10/10 [==============================] - 0s 2ms/step - loss: 0.6759 - accuracy: 0.6411 - val_loss: 0.6728 - val_accuracy: 0.8344\n",
      "Epoch 14/20\n",
      "10/10 [==============================] - 0s 2ms/step - loss: 0.6720 - accuracy: 0.6154 - val_loss: 0.6664 - val_accuracy: 0.7250\n",
      "Epoch 15/20\n",
      "10/10 [==============================] - 0s 3ms/step - loss: 0.6625 - accuracy: 0.6822 - val_loss: 0.6575 - val_accuracy: 0.8062\n",
      "Epoch 16/20\n",
      "10/10 [==============================] - 0s 3ms/step - loss: 0.6515 - accuracy: 0.7929 - val_loss: 0.6449 - val_accuracy: 0.8375\n",
      "Epoch 17/20\n",
      "10/10 [==============================] - 0s 4ms/step - loss: 0.6374 - accuracy: 0.8145 - val_loss: 0.6286 - val_accuracy: 0.8406\n",
      "Epoch 18/20\n",
      "10/10 [==============================] - 0s 2ms/step - loss: 0.6172 - accuracy: 0.8413 - val_loss: 0.6069 - val_accuracy: 0.8406\n",
      "Epoch 19/20\n",
      "10/10 [==============================] - 0s 2ms/step - loss: 0.5922 - accuracy: 0.8402 - val_loss: 0.5794 - val_accuracy: 0.8406\n",
      "Epoch 20/20\n",
      "10/10 [==============================] - 0s 19ms/step - loss: 0.5603 - accuracy: 0.8430 - val_loss: 0.5475 - val_accuracy: 0.8250\n"
     ]
    }
   ],
   "source": [
    "#tf.random.set_seed(12)\n",
    "# Define the neural network architecture\n",
    "model_minmax3 = Sequential([\n",
    "    Dense(128, activation='sigmoid', input_dim=X_train_minmaxscaled.shape[1]),\n",
    "    Dense(64, activation='sigmoid'),\n",
    "    Dense(32, activation='sigmoid'),\n",
    "    Dense(1, activation='sigmoid')  # Binary classification output\n",
    "])\n",
    "\n",
    "# Compile the model\n",
    "model_minmax3.compile(optimizer=Adam(learning_rate=0.001), loss='binary_crossentropy', metrics=['accuracy'])\n",
    "\n",
    "# Implement early stopping to prevent overfitting\n",
    "early_stopping3 = EarlyStopping(monitor='val_loss', patience=3, restore_best_weights=True)\n",
    "\n",
    "model_minmax3.summary()\n",
    "\n",
    "# Train the model with hyperparameter tuning\n",
    "history3 = model_minmax3.fit(\n",
    "    X_train_minmaxscaled, y_train,\n",
    "    epochs=20, batch_size=300,\n",
    "    validation_split=0.1,\n",
    "    callbacks=[early_stopping3]\n",
    ")\n",
    "\n",
    "# Suppose your trained model is named 'model'\n",
    "path_of_file = '/Users/jxhn/Desktop/IRONHACK/Week_9/Final_project/Models/'\n",
    "with open(path_of_file + 'minmaxneuraltuned1.pkl', 'wb') as model_file:\n",
    "    pickle.dump(model_minmax3, model_file)"
   ]
  },
  {
   "cell_type": "markdown",
   "id": "f6c9c0f7",
   "metadata": {},
   "source": [
    "<div style=\"background-color: #D9EAD3; border-radius: 10px; border: 1px solid #D2B48C; padding: 10px;\">\n",
    "    <h2 style=\"color: #8B4513; font-size: 20px;\">Evaluation for tuned MinMaxScaled Model with Dataset 1</h2>\n",
    "</div>"
   ]
  },
  {
   "cell_type": "code",
   "execution_count": 30,
   "id": "7b706dd8",
   "metadata": {},
   "outputs": [
    {
     "name": "stdout",
     "output_type": "stream",
     "text": [
      "25/25 [==============================] - 0s 1ms/step - loss: 0.5232 - accuracy: 0.8298\n",
      "Tuned Min-Max Scaled Test Data accuracy (D1): 0.8297872543334961\n"
     ]
    }
   ],
   "source": [
    "# Evaluate the model on the test set\n",
    "test_loss3, test_acc3 = model_minmax3.evaluate(X_test_minmaxscaled, y_test)\n",
    "print(\"Tuned Min-Max Scaled Test Data accuracy (D1):\", test_acc3)"
   ]
  },
  {
   "cell_type": "code",
   "execution_count": 31,
   "id": "0374b0cd",
   "metadata": {},
   "outputs": [
    {
     "name": "stdout",
     "output_type": "stream",
     "text": [
      "25/25 [==============================] - 0s 804us/step\n",
      "F1-score for Test Data for the Tuned MinMaxScaled Model (D1): 0.8502202643171807\n",
      "\n",
      "Cohen's Kappa Score on test (D1): 0.6590056108551847\n"
     ]
    }
   ],
   "source": [
    "# Predictions from the MinMaxScaled model\n",
    "y_pred_minmax3 = model_minmax3.predict(X_test_minmaxscaled)\n",
    "y_pred_minmax3 = (y_pred_minmax3 > 0.5).astype(int)  # Convert probabilities to binary predictions\n",
    "\n",
    "# Calculate F1-score for the MinMaxScaled model\n",
    "f1_minmax3 = f1_score(y_test, y_pred_minmax3)\n",
    "print(\"F1-score for Test Data for the Tuned MinMaxScaled Model (D1):\", f1_minmax3)\n",
    "print()\n",
    "kappa_score3 = cohen_kappa_score(y_test, y_pred_minmax3)\n",
    "print(\"Cohen's Kappa Score on test (D1):\", kappa_score3)"
   ]
  },
  {
   "cell_type": "markdown",
   "id": "1ae334bb",
   "metadata": {},
   "source": [
    "<div style=\"background-color: #D9EAD3; border-radius: 10px; border: 1px solid #D2B48C; padding: 10px;\">\n",
    "    <h2 style=\"color: #8B4513; font-size: 20px;\">Confusion Matrix for tuned MinMaxScaled Model for Dataset 1</h2>\n",
    "</div>"
   ]
  },
  {
   "cell_type": "code",
   "execution_count": 32,
   "id": "898cb127",
   "metadata": {},
   "outputs": [
    {
     "name": "stdout",
     "output_type": "stream",
     "text": [
      "25/25 [==============================] - 0s 749us/step\n"
     ]
    },
    {
     "data": {
      "image/png": "[encoded data removed]",
      "text/plain": [
       "<Figure size 448x336 with 2 Axes>"
      ]
     },
     "metadata": {},
     "output_type": "display_data"
    }
   ],
   "source": [
    "minmax_cm3 = confusion_matrix(y_test, (model_minmax3.predict(X_test_minmaxscaled) > 0.5).astype(int))\n",
    "sns.set(font_scale=1.5)\n",
    "plt.figure(dpi=70)\n",
    "sns.heatmap(minmax_cm3, annot=True, cmap='Greens', fmt='g')\n",
    "plt.xlabel('Predicted')\n",
    "plt.ylabel('Actual')\n",
    "plt.title('Confusion Matrix for Tuned MinMaxScaled Model (D1)')\n",
    "plt.show()"
   ]
  },
  {
   "cell_type": "markdown",
   "id": "b60863e9",
   "metadata": {},
   "source": [
    "<div style=\"background-color: #D9EAD3; border-radius: 10px; border: 1px solid #D2B48C; padding: 10px;\">\n",
    "    <h2 style=\"color: #8B4513; font-size: 20px;\">Time for some fine tuning for Dataset 2</h2>\n",
    "</div>"
   ]
  },
  {
   "cell_type": "markdown",
   "id": "b0a7a89c",
   "metadata": {},
   "source": [
    "1. Increased the number of hidden layers and neurons per layer to potentially allow the model to learn more complex patterns.\n",
    "2. Used the Adam optimizer with a lower learning rate for better convergence.\n",
    "3. Added an EarlyStopping callback to monitor validation loss and stop training if it doesn't improve for a certain number of epochs (in this case, patience is set to 3)."
   ]
  },
  {
   "cell_type": "code",
   "execution_count": 33,
   "id": "e25a7c59",
   "metadata": {},
   "outputs": [
    {
     "name": "stderr",
     "output_type": "stream",
     "text": [
      "WARNING:absl:At this time, the v2.11+ optimizer `tf.keras.optimizers.Adam` runs slowly on M1/M2 Macs, please use the legacy Keras optimizer instead, located at `tf.keras.optimizers.legacy.Adam`.\n",
      "WARNING:absl:There is a known slowdown when using v2.11+ Keras optimizers on M1/M2 Macs. Falling back to the legacy Keras optimizer, i.e., `tf.keras.optimizers.legacy.Adam`.\n"
     ]
    },
    {
     "name": "stdout",
     "output_type": "stream",
     "text": [
      "Model: \"sequential_3\"\n",
      "_________________________________________________________________\n",
      " Layer (type)                Output Shape              Param #   \n",
      "=================================================================\n",
      " dense_10 (Dense)            (None, 128)               1280      \n",
      "                                                                 \n",
      " dense_11 (Dense)            (None, 64)                8256      \n",
      "                                                                 \n",
      " dense_12 (Dense)            (None, 32)                2080      \n",
      "                                                                 \n",
      " dense_13 (Dense)            (None, 1)                 33        \n",
      "                                                                 \n",
      "=================================================================\n",
      "Total params: 11649 (45.50 KB)\n",
      "Trainable params: 11649 (45.50 KB)\n",
      "Non-trainable params: 0 (0.00 Byte)\n",
      "_________________________________________________________________\n",
      "Epoch 1/20\n",
      "10/10 [==============================] - 0s 7ms/step - loss: 0.7141 - accuracy: 0.4963 - val_loss: 0.6939 - val_accuracy: 0.4969\n",
      "Epoch 2/20\n",
      "10/10 [==============================] - 0s 2ms/step - loss: 0.6963 - accuracy: 0.5012 - val_loss: 0.6967 - val_accuracy: 0.4969\n",
      "Epoch 3/20\n",
      "10/10 [==============================] - 0s 2ms/step - loss: 0.6936 - accuracy: 0.5012 - val_loss: 0.6921 - val_accuracy: 0.5094\n",
      "Epoch 4/20\n",
      "10/10 [==============================] - 0s 2ms/step - loss: 0.6922 - accuracy: 0.4991 - val_loss: 0.6917 - val_accuracy: 0.5031\n",
      "Epoch 5/20\n",
      "10/10 [==============================] - 0s 2ms/step - loss: 0.6916 - accuracy: 0.5113 - val_loss: 0.6910 - val_accuracy: 0.4969\n",
      "Epoch 6/20\n",
      "10/10 [==============================] - 0s 2ms/step - loss: 0.6906 - accuracy: 0.5012 - val_loss: 0.6901 - val_accuracy: 0.4969\n",
      "Epoch 7/20\n",
      "10/10 [==============================] - 0s 2ms/step - loss: 0.6897 - accuracy: 0.5451 - val_loss: 0.6888 - val_accuracy: 0.5750\n",
      "Epoch 8/20\n",
      "10/10 [==============================] - 0s 2ms/step - loss: 0.6884 - accuracy: 0.6116 - val_loss: 0.6874 - val_accuracy: 0.6062\n",
      "Epoch 9/20\n",
      "10/10 [==============================] - 0s 2ms/step - loss: 0.6873 - accuracy: 0.5646 - val_loss: 0.6853 - val_accuracy: 0.5813\n",
      "Epoch 10/20\n",
      "10/10 [==============================] - 0s 2ms/step - loss: 0.6849 - accuracy: 0.5628 - val_loss: 0.6828 - val_accuracy: 0.5750\n",
      "Epoch 11/20\n",
      "10/10 [==============================] - 0s 2ms/step - loss: 0.6804 - accuracy: 0.7626 - val_loss: 0.6783 - val_accuracy: 0.7469\n",
      "Epoch 12/20\n",
      "10/10 [==============================] - 0s 2ms/step - loss: 0.6754 - accuracy: 0.8107 - val_loss: 0.6721 - val_accuracy: 0.8125\n",
      "Epoch 13/20\n",
      "10/10 [==============================] - 0s 2ms/step - loss: 0.6674 - accuracy: 0.8305 - val_loss: 0.6622 - val_accuracy: 0.8500\n",
      "Epoch 14/20\n",
      "10/10 [==============================] - 0s 2ms/step - loss: 0.6562 - accuracy: 0.7633 - val_loss: 0.6476 - val_accuracy: 0.8500\n",
      "Epoch 15/20\n",
      "10/10 [==============================] - 0s 2ms/step - loss: 0.6369 - accuracy: 0.8232 - val_loss: 0.6255 - val_accuracy: 0.8594\n",
      "Epoch 16/20\n",
      "10/10 [==============================] - 0s 2ms/step - loss: 0.6093 - accuracy: 0.8573 - val_loss: 0.5930 - val_accuracy: 0.8594\n",
      "Epoch 17/20\n",
      "10/10 [==============================] - 0s 2ms/step - loss: 0.5711 - accuracy: 0.8569 - val_loss: 0.5510 - val_accuracy: 0.8562\n",
      "Epoch 18/20\n",
      "10/10 [==============================] - 0s 2ms/step - loss: 0.5221 - accuracy: 0.8566 - val_loss: 0.5024 - val_accuracy: 0.8562\n",
      "Epoch 19/20\n",
      "10/10 [==============================] - 0s 2ms/step - loss: 0.4700 - accuracy: 0.8618 - val_loss: 0.4540 - val_accuracy: 0.8469\n",
      "Epoch 20/20\n",
      "10/10 [==============================] - 0s 2ms/step - loss: 0.4207 - accuracy: 0.8622 - val_loss: 0.4144 - val_accuracy: 0.8594\n"
     ]
    }
   ],
   "source": [
    "#tf.random.set_seed(12)\n",
    "# Define the neural network architecture\n",
    "model_minmax4 = Sequential([\n",
    "    Dense(128, activation='sigmoid', input_dim=X_train_minmaxscaled2.shape[1]),\n",
    "    Dense(64, activation='sigmoid'),\n",
    "    Dense(32, activation='sigmoid'),\n",
    "    Dense(1, activation='sigmoid')  # Binary classification output\n",
    "])\n",
    "\n",
    "# Compile the model\n",
    "model_minmax4.compile(optimizer=Adam(learning_rate=0.001), loss='binary_crossentropy', metrics=['accuracy'])\n",
    "\n",
    "# Implement early stopping to prevent overfitting\n",
    "early_stopping4 = EarlyStopping(monitor='val_loss', patience=3, restore_best_weights=True)\n",
    "\n",
    "model_minmax4.summary()\n",
    "\n",
    "# Train the model with hyperparameter tuning\n",
    "history4 = model_minmax4.fit(\n",
    "    X_train_minmaxscaled2, y_train2,\n",
    "    epochs=20, batch_size=300,\n",
    "    validation_split=0.1,\n",
    "    callbacks=[early_stopping4]\n",
    ")\n",
    "# Suppose your trained model is named 'model'\n",
    "path_of_file = '/Users/jxhn/Desktop/IRONHACK/Week_9/Final_project/Models/'\n",
    "with open(path_of_file + 'minmaxneuraltuned2.pkl', 'wb') as model_file:\n",
    "    pickle.dump(model_minmax4, model_file)"
   ]
  },
  {
   "cell_type": "markdown",
   "id": "0c303d0f",
   "metadata": {},
   "source": [
    "<div style=\"background-color: #D9EAD3; border-radius: 10px; border: 1px solid #D2B48C; padding: 10px;\">\n",
    "    <h2 style=\"color: #8B4513; font-size: 20px;\">Evaluation for Tuned MinMaxScaled Model using Dataset 2</h2>\n",
    "</div>"
   ]
  },
  {
   "cell_type": "code",
   "execution_count": 34,
   "id": "2eddecb4",
   "metadata": {},
   "outputs": [
    {
     "name": "stdout",
     "output_type": "stream",
     "text": [
      "25/25 [==============================] - 0s 454us/step - loss: 0.3784 - accuracy: 0.8673\n",
      "Tuned Min-Max Scaled Test Data accuracy (D2): 0.8710888624191284\n"
     ]
    }
   ],
   "source": [
    "# Evaluate the model on the test set\n",
    "test_loss4, test_acc4 = model_minmax4.evaluate(X_test_minmaxscaled2, y_test2)\n",
    "print(\"Tuned Min-Max Scaled Test Data accuracy (D2):\", test_acc)"
   ]
  },
  {
   "cell_type": "code",
   "execution_count": 35,
   "id": "47053750",
   "metadata": {},
   "outputs": [
    {
     "name": "stdout",
     "output_type": "stream",
     "text": [
      "25/25 [==============================] - 0s 332us/step\n",
      "F1-score for Test Data for the tuned MinMaxScaled Model (D2): 0.8744075829383886\n",
      "\n",
      "Cohen's Kappa Score on test: 0.73449157962055\n"
     ]
    }
   ],
   "source": [
    "# Predictions from the MinMaxScaled model\n",
    "y_pred_minmax4 = model_minmax4.predict(X_test_minmaxscaled2)\n",
    "y_pred_minmax4 = (y_pred_minmax4 > 0.5).astype(int)  # Convert probabilities to binary predictions\n",
    "\n",
    "# Calculate F1-score for the MinMaxScaled model\n",
    "f1_minmax4 = f1_score(y_test2, y_pred_minmax4)\n",
    "print(\"F1-score for Test Data for the tuned MinMaxScaled Model (D2):\", f1_minmax4)\n",
    "print()\n",
    "kappa_score4 = cohen_kappa_score(y_test2, y_pred_minmax4)\n",
    "print(\"Cohen's Kappa Score on test:\", kappa_score4)"
   ]
  },
  {
   "cell_type": "markdown",
   "id": "7afe32ee",
   "metadata": {},
   "source": [
    "<div style=\"background-color: #D9EAD3; border-radius: 10px; border: 1px solid #D2B48C; padding: 10px;\">\n",
    "    <h2 style=\"color: #8B4513; font-size: 20px;\">Confusion Matrix for Tuned MinMaxScaled Model using Dataset 2</h2>\n",
    "</div>"
   ]
  },
  {
   "cell_type": "code",
   "execution_count": 36,
   "id": "650f44ac",
   "metadata": {},
   "outputs": [
    {
     "name": "stdout",
     "output_type": "stream",
     "text": [
      "25/25 [==============================] - 0s 354us/step\n"
     ]
    },
    {
     "data": {
      "image/png": "[encoded data removed]",
      "text/plain": [
       "<Figure size 448x336 with 2 Axes>"
      ]
     },
     "metadata": {},
     "output_type": "display_data"
    }
   ],
   "source": [
    "minmax_cm4 = confusion_matrix(y_test2, (model_minmax4.predict(X_test_minmaxscaled2) > 0.5).astype(int))\n",
    "sns.set(font_scale=1.5)\n",
    "plt.figure(dpi=70)\n",
    "sns.heatmap(minmax_cm4, annot=True, cmap='Greens', fmt='g')\n",
    "plt.xlabel('Predicted')\n",
    "plt.ylabel('Actual')\n",
    "plt.title('Confusion Matrix for Tuned MinMaxScaled Model (D2)')\n",
    "plt.show()"
   ]
  },
  {
   "cell_type": "markdown",
   "id": "909ee6bd",
   "metadata": {},
   "source": [
    "#"
   ]
  },
  {
   "cell_type": "markdown",
   "id": "766a087f",
   "metadata": {},
   "source": [
    "<div style=\"background-color: #D9EAD3; border-radius: 10px; border: 1px solid #D2B48C; padding: 10px;\">\n",
    "    <h2 style=\"color: #8B4513; font-size: 20px;\">Neural Network for StandardScaled Data (Using ReLU Activation) using Dataset 1:</h2>\n",
    "</div>"
   ]
  },
  {
   "cell_type": "code",
   "execution_count": 37,
   "id": "05038799",
   "metadata": {},
   "outputs": [
    {
     "name": "stdout",
     "output_type": "stream",
     "text": [
      "Model: \"sequential_4\"\n",
      "_________________________________________________________________\n",
      " Layer (type)                Output Shape              Param #   \n",
      "=================================================================\n",
      " dense_14 (Dense)            (None, 64)                704       \n",
      "                                                                 \n",
      " dense_15 (Dense)            (None, 32)                2080      \n",
      "                                                                 \n",
      " dense_16 (Dense)            (None, 1)                 33        \n",
      "                                                                 \n",
      "=================================================================\n",
      "Total params: 2817 (11.00 KB)\n",
      "Trainable params: 2817 (11.00 KB)\n",
      "Non-trainable params: 0 (0.00 Byte)\n",
      "_________________________________________________________________\n",
      "Epoch 1/10\n",
      "90/90 [==============================] - 0s 1ms/step - loss: 0.4552 - accuracy: 0.8141 - val_loss: 0.3397 - val_accuracy: 0.8719\n",
      "Epoch 2/10\n",
      "90/90 [==============================] - 0s 564us/step - loss: 0.2996 - accuracy: 0.8824 - val_loss: 0.3321 - val_accuracy: 0.8813\n",
      "Epoch 3/10\n",
      "90/90 [==============================] - 0s 547us/step - loss: 0.2915 - accuracy: 0.8820 - val_loss: 0.3263 - val_accuracy: 0.8781\n",
      "Epoch 4/10\n",
      "90/90 [==============================] - 0s 538us/step - loss: 0.2856 - accuracy: 0.8837 - val_loss: 0.3294 - val_accuracy: 0.8719\n",
      "Epoch 5/10\n",
      "90/90 [==============================] - 0s 538us/step - loss: 0.2827 - accuracy: 0.8844 - val_loss: 0.3274 - val_accuracy: 0.8844\n",
      "Epoch 6/10\n",
      "90/90 [==============================] - 0s 534us/step - loss: 0.2805 - accuracy: 0.8851 - val_loss: 0.3241 - val_accuracy: 0.8875\n",
      "Epoch 7/10\n",
      "90/90 [==============================] - 0s 538us/step - loss: 0.2775 - accuracy: 0.8876 - val_loss: 0.3175 - val_accuracy: 0.8781\n",
      "Epoch 8/10\n",
      "90/90 [==============================] - 0s 646us/step - loss: 0.2765 - accuracy: 0.8890 - val_loss: 0.3164 - val_accuracy: 0.8813\n",
      "Epoch 9/10\n",
      "90/90 [==============================] - 0s 537us/step - loss: 0.2741 - accuracy: 0.8904 - val_loss: 0.3218 - val_accuracy: 0.8844\n",
      "Epoch 10/10\n",
      "90/90 [==============================] - 0s 638us/step - loss: 0.2709 - accuracy: 0.8907 - val_loss: 0.3129 - val_accuracy: 0.8875\n"
     ]
    }
   ],
   "source": [
    "model_standard5 = keras.Sequential([\n",
    "    keras.layers.Dense(64, activation='relu', input_dim=X_train_stanscaled.shape[1]),\n",
    "    keras.layers.Dense(32, activation='relu'),\n",
    "    keras.layers.Dense(1, activation='sigmoid')  # Binary classification output\n",
    "])\n",
    "\n",
    "# Compile the model\n",
    "model_standard5.compile(optimizer='adam', loss='binary_crossentropy', metrics=['accuracy'])\n",
    "model_standard5.summary()\n",
    "\n",
    "# Train the model\n",
    "model_standard5.fit(X_train_stanscaled, y_train, epochs=10, batch_size=32, validation_split=0.1)\n",
    "\n",
    "# Suppose your trained model is named 'model'\n",
    "path_of_file = '/Users/jxhn/Desktop/IRONHACK/Week_9/Final_project/Models/'\n",
    "with open(path_of_file + 'standardneural1.pkl', 'wb') as model_file:\n",
    "    pickle.dump(model_standard5, model_file)"
   ]
  },
  {
   "cell_type": "markdown",
   "id": "6969fab8",
   "metadata": {},
   "source": [
    "<div style=\"background-color: #D9EAD3; border-radius: 10px; border: 1px solid #D2B48C; padding: 10px;\">\n",
    "    <h2 style=\"color: #8B4513; font-size: 20px;\">Evaluation for StandardScaled Model using Dataset 1</h2>\n",
    "</div>"
   ]
  },
  {
   "cell_type": "code",
   "execution_count": 38,
   "id": "89735783",
   "metadata": {},
   "outputs": [
    {
     "name": "stdout",
     "output_type": "stream",
     "text": [
      "25/25 [==============================] - 0s 418us/step - loss: 0.2694 - accuracy: 0.8861\n",
      "Standard Scaled Test Data accuracy (D1): 0.8861076235771179\n"
     ]
    }
   ],
   "source": [
    "# Evaluate the model on the test set\n",
    "test_loss5, test_acc5 = model_standard5.evaluate(X_test_stanscaled, y_test)\n",
    "print(\"Standard Scaled Test Data accuracy (D1):\", test_acc5)"
   ]
  },
  {
   "cell_type": "code",
   "execution_count": 39,
   "id": "a848c52c",
   "metadata": {},
   "outputs": [
    {
     "name": "stdout",
     "output_type": "stream",
     "text": [
      "25/25 [==============================] - 0s 314us/step\n",
      "F1-score for Test Data for StandardScaled Model (D1): 0.8846641318124209\n",
      "\n",
      "Cohen's Kappa Score on test data: 0.772259860992348\n"
     ]
    }
   ],
   "source": [
    "# Predictions from the StandardScaled model\n",
    "y_pred_standard5 = model_standard5.predict(X_test_stanscaled)\n",
    "y_pred_standard5 = (y_pred_standard5 > 0.5).astype(int)  # Convert probabilities to binary predictions\n",
    "\n",
    "# Calculate F1-score for the StandardScaled model\n",
    "f1_standard5 = f1_score(y_test, y_pred_standard5)\n",
    "print(\"F1-score for Test Data for StandardScaled Model (D1):\", f1_standard5)\n",
    "print()\n",
    "kappa_score5 = cohen_kappa_score(y_test, y_pred_standard5)\n",
    "print(\"Cohen's Kappa Score on test data:\", kappa_score5)"
   ]
  },
  {
   "cell_type": "markdown",
   "id": "e6b7ba9f",
   "metadata": {},
   "source": [
    "<div style=\"background-color: #D9EAD3; border-radius: 10px; border: 1px solid #D2B48C; padding: 10px;\">\n",
    "    <h2 style=\"color: #8B4513; font-size: 20px;\">Confusion Matrix for StandardScaled Model using Dataset 1</h2>\n",
    "</div>"
   ]
  },
  {
   "cell_type": "code",
   "execution_count": 40,
   "id": "82a89e68",
   "metadata": {},
   "outputs": [
    {
     "name": "stdout",
     "output_type": "stream",
     "text": [
      "25/25 [==============================] - 0s 317us/step\n"
     ]
    },
    {
     "data": {
      "image/png": "[encoded data removed]",
      "text/plain": [
       "<Figure size 448x336 with 2 Axes>"
      ]
     },
     "metadata": {},
     "output_type": "display_data"
    }
   ],
   "source": [
    "standard_cm5 = confusion_matrix(y_test, (model_standard5.predict(X_test_stanscaled) > 0.5).astype(int))\n",
    "sns.set(font_scale=1.5)\n",
    "plt.figure(dpi=70)\n",
    "sns.heatmap(standard_cm5, annot=True, cmap='Greens', fmt='g')\n",
    "plt.xlabel('Predicted')\n",
    "plt.ylabel('Actual')\n",
    "plt.title('Confusion Matrix for StandardScaled Model (D1)')\n",
    "plt.show()"
   ]
  },
  {
   "cell_type": "markdown",
   "id": "253d7336",
   "metadata": {},
   "source": [
    "<div style=\"background-color: #D9EAD3; border-radius: 10px; border: 1px solid #D2B48C; padding: 10px;\">\n",
    "    <h2 style=\"color: #8B4513; font-size: 20px;\">Time for some fine tuning for Dataset 1</h2>\n",
    "</div>"
   ]
  },
  {
   "cell_type": "markdown",
   "id": "5e26e074",
   "metadata": {},
   "source": [
    "1. Added Dropout layers after the first and second hidden layers. Dropout is a regularization technique that randomly drops out a fraction of neurons during training to prevent overfitting.\n",
    "2. Increased the number of neurons in the first hidden layer to 128 to allow the model to learn more complex patterns.\n",
    "3. Added an EarlyStopping callback to monitor validation loss and stop training if it doesn't improve for a certain number of epochs (patience is set to 3)."
   ]
  },
  {
   "cell_type": "code",
   "execution_count": 41,
   "id": "04fb4214",
   "metadata": {},
   "outputs": [
    {
     "name": "stderr",
     "output_type": "stream",
     "text": [
      "WARNING:absl:At this time, the v2.11+ optimizer `tf.keras.optimizers.Adam` runs slowly on M1/M2 Macs, please use the legacy Keras optimizer instead, located at `tf.keras.optimizers.legacy.Adam`.\n",
      "WARNING:absl:There is a known slowdown when using v2.11+ Keras optimizers on M1/M2 Macs. Falling back to the legacy Keras optimizer, i.e., `tf.keras.optimizers.legacy.Adam`.\n"
     ]
    },
    {
     "name": "stdout",
     "output_type": "stream",
     "text": [
      "Model: \"sequential_5\"\n",
      "_________________________________________________________________\n",
      " Layer (type)                Output Shape              Param #   \n",
      "=================================================================\n",
      " dense_17 (Dense)            (None, 128)               1408      \n",
      "                                                                 \n",
      " dropout (Dropout)           (None, 128)               0         \n",
      "                                                                 \n",
      " dense_18 (Dense)            (None, 64)                8256      \n",
      "                                                                 \n",
      " dropout_1 (Dropout)         (None, 64)                0         \n",
      "                                                                 \n",
      " dense_19 (Dense)            (None, 32)                2080      \n",
      "                                                                 \n",
      " dense_20 (Dense)            (None, 1)                 33        \n",
      "                                                                 \n",
      "=================================================================\n",
      "Total params: 11777 (46.00 KB)\n",
      "Trainable params: 11777 (46.00 KB)\n",
      "Non-trainable params: 0 (0.00 Byte)\n",
      "_________________________________________________________________\n",
      "Epoch 1/20\n",
      "10/10 [==============================] - 0s 13ms/step - loss: 0.6440 - accuracy: 0.6509 - val_loss: 0.5532 - val_accuracy: 0.8219\n",
      "Epoch 2/20\n",
      "10/10 [==============================] - 0s 10ms/step - loss: 0.4912 - accuracy: 0.8395 - val_loss: 0.4053 - val_accuracy: 0.8562\n",
      "Epoch 3/20\n",
      "10/10 [==============================] - 0s 5ms/step - loss: 0.3646 - accuracy: 0.8643 - val_loss: 0.3384 - val_accuracy: 0.8656\n",
      "Epoch 4/20\n",
      "10/10 [==============================] - 0s 5ms/step - loss: 0.3228 - accuracy: 0.8632 - val_loss: 0.3399 - val_accuracy: 0.8687\n",
      "Epoch 5/20\n",
      "10/10 [==============================] - 0s 9ms/step - loss: 0.3151 - accuracy: 0.8670 - val_loss: 0.3394 - val_accuracy: 0.8719\n",
      "Epoch 6/20\n",
      "10/10 [==============================] - 0s 3ms/step - loss: 0.3081 - accuracy: 0.8768 - val_loss: 0.3320 - val_accuracy: 0.8656\n",
      "Epoch 7/20\n",
      "10/10 [==============================] - 0s 3ms/step - loss: 0.3065 - accuracy: 0.8726 - val_loss: 0.3311 - val_accuracy: 0.8750\n",
      "Epoch 8/20\n",
      "10/10 [==============================] - 0s 3ms/step - loss: 0.3008 - accuracy: 0.8761 - val_loss: 0.3315 - val_accuracy: 0.8813\n",
      "Epoch 9/20\n",
      "10/10 [==============================] - 0s 3ms/step - loss: 0.2963 - accuracy: 0.8803 - val_loss: 0.3311 - val_accuracy: 0.8844\n",
      "Epoch 10/20\n",
      "10/10 [==============================] - 0s 3ms/step - loss: 0.2985 - accuracy: 0.8827 - val_loss: 0.3310 - val_accuracy: 0.8719\n",
      "Epoch 11/20\n",
      "10/10 [==============================] - 0s 3ms/step - loss: 0.2956 - accuracy: 0.8844 - val_loss: 0.3313 - val_accuracy: 0.8750\n",
      "Epoch 12/20\n",
      "10/10 [==============================] - 0s 3ms/step - loss: 0.2929 - accuracy: 0.8841 - val_loss: 0.3296 - val_accuracy: 0.8750\n",
      "Epoch 13/20\n",
      "10/10 [==============================] - 0s 3ms/step - loss: 0.2886 - accuracy: 0.8810 - val_loss: 0.3299 - val_accuracy: 0.8813\n",
      "Epoch 14/20\n",
      "10/10 [==============================] - 0s 9ms/step - loss: 0.2919 - accuracy: 0.8820 - val_loss: 0.3307 - val_accuracy: 0.8719\n",
      "Epoch 15/20\n",
      "10/10 [==============================] - 0s 5ms/step - loss: 0.2896 - accuracy: 0.8837 - val_loss: 0.3295 - val_accuracy: 0.8844\n",
      "Epoch 16/20\n",
      "10/10 [==============================] - 0s 5ms/step - loss: 0.2895 - accuracy: 0.8817 - val_loss: 0.3309 - val_accuracy: 0.8813\n",
      "Epoch 17/20\n",
      "10/10 [==============================] - 0s 5ms/step - loss: 0.2907 - accuracy: 0.8792 - val_loss: 0.3294 - val_accuracy: 0.8781\n",
      "Epoch 18/20\n",
      "10/10 [==============================] - 0s 5ms/step - loss: 0.2871 - accuracy: 0.8851 - val_loss: 0.3266 - val_accuracy: 0.8750\n",
      "Epoch 19/20\n",
      "10/10 [==============================] - 0s 3ms/step - loss: 0.2847 - accuracy: 0.8848 - val_loss: 0.3285 - val_accuracy: 0.8813\n",
      "Epoch 20/20\n",
      "10/10 [==============================] - 0s 3ms/step - loss: 0.2879 - accuracy: 0.8824 - val_loss: 0.3288 - val_accuracy: 0.8813\n"
     ]
    }
   ],
   "source": [
    "# Define the neural network architecture\n",
    "model_standard6 = Sequential([\n",
    "    Dense(128, activation='relu', input_dim=X_train_stanscaled.shape[1]),\n",
    "    Dropout(0.3),  # Adding dropout for regularization\n",
    "    Dense(64, activation='relu'),\n",
    "    Dropout(0.2),  # Adding dropout for regularization\n",
    "    Dense(32, activation='relu'),\n",
    "    Dense(1, activation='sigmoid')  # Binary classification output\n",
    "])\n",
    "\n",
    "# Compile the model\n",
    "model_standard6.compile(optimizer=Adam(learning_rate=0.001), loss='binary_crossentropy', metrics=['accuracy'])\n",
    "\n",
    "# Implement early stopping to prevent overfitting\n",
    "early_stopping6 = EarlyStopping(monitor='val_loss', patience=3, restore_best_weights=True)\n",
    "model_standard6.summary()\n",
    "\n",
    "# Train the model with hyperparameter tuning\n",
    "history6  = model_standard6.fit(\n",
    "    X_train_stanscaled, y_train,\n",
    "    epochs=20, batch_size=300,\n",
    "    validation_split=0.1,\n",
    "    callbacks=[early_stopping6]\n",
    ")\n",
    "\n",
    "path_of_file = '/Users/jxhn/Desktop/IRONHACK/Week_9/Final_project/Models/'\n",
    "with open(path_of_file + 'standardneuraltuned1.pkl', 'wb') as model_file:\n",
    "    pickle.dump(model_standard6, model_file)"
   ]
  },
  {
   "cell_type": "markdown",
   "id": "7eb8101d",
   "metadata": {},
   "source": [
    "<div style=\"background-color: #D9EAD3; border-radius: 10px; border: 1px solid #D2B48C; padding: 10px;\">\n",
    "    <h2 style=\"color: #8B4513; font-size: 20px;\">Evaluation for tuned StandardScaled Model using Dataset 1</h2>\n",
    "</div>"
   ]
  },
  {
   "cell_type": "code",
   "execution_count": 42,
   "id": "976bc3cd",
   "metadata": {},
   "outputs": [
    {
     "name": "stdout",
     "output_type": "stream",
     "text": [
      "25/25 [==============================] - 0s 439us/step - loss: 0.2759 - accuracy: 0.8886\n",
      "Tuned Standard Scaled Test Data accuracy (D1): 0.8886107802391052\n"
     ]
    }
   ],
   "source": [
    "# Evaluate the model on the test set\n",
    "test_loss6, test_acc6 = model_standard6.evaluate(X_test_stanscaled, y_test)\n",
    "print(\"Tuned Standard Scaled Test Data accuracy (D1):\", test_acc6)"
   ]
  },
  {
   "cell_type": "code",
   "execution_count": 43,
   "id": "6e8b0b0e",
   "metadata": {},
   "outputs": [
    {
     "name": "stdout",
     "output_type": "stream",
     "text": [
      "25/25 [==============================] - 0s 346us/step\n",
      "F1-score for Test Data for the Tuned StandardScaled Model (D1): 0.8877679697351829\n",
      "\n",
      "Cohen's Kappa Score on test: 0.7772511848341233\n"
     ]
    }
   ],
   "source": [
    "# Predictions from the StandardScaled model\n",
    "y_pred_standard6 = model_standard6.predict(X_test_stanscaled)\n",
    "y_pred_standard6 = (y_pred_standard6 > 0.5).astype(int)  # Convert probabilities to binary predictions\n",
    "\n",
    "# Calculate F1-score for the StandardScaled model\n",
    "f1_standard6 = f1_score(y_test, y_pred_standard6)\n",
    "print(\"F1-score for Test Data for the Tuned StandardScaled Model (D1):\", f1_standard6)\n",
    "print()\n",
    "kappa_score6 = cohen_kappa_score(y_test, y_pred_standard6)\n",
    "print(\"Cohen's Kappa Score on test:\", kappa_score6)"
   ]
  },
  {
   "cell_type": "markdown",
   "id": "af791469",
   "metadata": {},
   "source": [
    "<div style=\"background-color: #D9EAD3; border-radius: 10px; border: 1px solid #D2B48C; padding: 10px;\">\n",
    "    <h2 style=\"color: #8B4513; font-size: 20px;\">Confusion Matrix for tuned StandardScaled Model using Dataset 1</h2>\n",
    "</div>"
   ]
  },
  {
   "cell_type": "code",
   "execution_count": 44,
   "id": "4413ee17",
   "metadata": {},
   "outputs": [
    {
     "name": "stdout",
     "output_type": "stream",
     "text": [
      "25/25 [==============================] - 0s 365us/step\n"
     ]
    },
    {
     "data": {
      "image/png": "[encoded data removed]",
      "text/plain": [
       "<Figure size 448x336 with 2 Axes>"
      ]
     },
     "metadata": {},
     "output_type": "display_data"
    }
   ],
   "source": [
    "standard_cm6 = confusion_matrix(y_test, (model_standard6.predict(X_test_stanscaled) > 0.5).astype(int))\n",
    "sns.set(font_scale=1.5)\n",
    "plt.figure(dpi=70)\n",
    "sns.heatmap(standard_cm6, annot=True, cmap='Greens', fmt='g')\n",
    "plt.xlabel('Predicted')\n",
    "plt.ylabel('Actual')\n",
    "plt.title('Confusion Matrix for Tuned StandardScaled Model (D1)')\n",
    "plt.show()"
   ]
  },
  {
   "cell_type": "markdown",
   "id": "906d4c5e",
   "metadata": {},
   "source": [
    "#"
   ]
  },
  {
   "cell_type": "markdown",
   "id": "7ea9c674",
   "metadata": {},
   "source": [
    "<div style=\"background-color: #D9EAD3; border-radius: 10px; border: 1px solid #D2B48C; padding: 10px;\">\n",
    "    <h2 style=\"color: #8B4513; font-size: 20px;\">Neural Network for StandardScaled Data (Using ReLU Activation) using Dataset 2:</h2>\n",
    "</div>"
   ]
  },
  {
   "cell_type": "code",
   "execution_count": 45,
   "id": "457aa1d9",
   "metadata": {},
   "outputs": [
    {
     "name": "stdout",
     "output_type": "stream",
     "text": [
      "Model: \"sequential_6\"\n",
      "_________________________________________________________________\n",
      " Layer (type)                Output Shape              Param #   \n",
      "=================================================================\n",
      " dense_21 (Dense)            (None, 64)                640       \n",
      "                                                                 \n",
      " dense_22 (Dense)            (None, 32)                2080      \n",
      "                                                                 \n",
      " dense_23 (Dense)            (None, 1)                 33        \n",
      "                                                                 \n",
      "=================================================================\n",
      "Total params: 2753 (10.75 KB)\n",
      "Trainable params: 2753 (10.75 KB)\n",
      "Non-trainable params: 0 (0.00 Byte)\n",
      "_________________________________________________________________\n",
      "Epoch 1/10\n",
      "90/90 [==============================] - 0s 2ms/step - loss: 0.3900 - accuracy: 0.8503 - val_loss: 0.3508 - val_accuracy: 0.8562\n",
      "Epoch 2/10\n",
      "90/90 [==============================] - 0s 2ms/step - loss: 0.3127 - accuracy: 0.8677 - val_loss: 0.3519 - val_accuracy: 0.8656\n",
      "Epoch 3/10\n",
      "90/90 [==============================] - 0s 2ms/step - loss: 0.3096 - accuracy: 0.8691 - val_loss: 0.3444 - val_accuracy: 0.8687\n",
      "Epoch 4/10\n",
      "90/90 [==============================] - 0s 2ms/step - loss: 0.3056 - accuracy: 0.8709 - val_loss: 0.3434 - val_accuracy: 0.8750\n",
      "Epoch 5/10\n",
      "90/90 [==============================] - 0s 1ms/step - loss: 0.3024 - accuracy: 0.8737 - val_loss: 0.3471 - val_accuracy: 0.8781\n",
      "Epoch 6/10\n",
      "90/90 [==============================] - 0s 1ms/step - loss: 0.3014 - accuracy: 0.8709 - val_loss: 0.3437 - val_accuracy: 0.8781\n",
      "Epoch 7/10\n",
      "90/90 [==============================] - 0s 1ms/step - loss: 0.2991 - accuracy: 0.8730 - val_loss: 0.3371 - val_accuracy: 0.8656\n",
      "Epoch 8/10\n",
      "90/90 [==============================] - 0s 2ms/step - loss: 0.2977 - accuracy: 0.8723 - val_loss: 0.3388 - val_accuracy: 0.8687\n",
      "Epoch 9/10\n",
      "90/90 [==============================] - 0s 2ms/step - loss: 0.2956 - accuracy: 0.8771 - val_loss: 0.3426 - val_accuracy: 0.8625\n",
      "Epoch 10/10\n",
      "90/90 [==============================] - 0s 2ms/step - loss: 0.2931 - accuracy: 0.8757 - val_loss: 0.3358 - val_accuracy: 0.8656\n"
     ]
    }
   ],
   "source": [
    "model_standard7 = keras.Sequential([\n",
    "    keras.layers.Dense(64, activation='relu', input_dim=X_train_stanscaled2.shape[1]),\n",
    "    keras.layers.Dense(32, activation='relu'),\n",
    "    keras.layers.Dense(1, activation='sigmoid')  # Binary classification output\n",
    "])\n",
    "\n",
    "# Compile the model\n",
    "model_standard7.compile(optimizer='adam', loss='binary_crossentropy', metrics=['accuracy'])\n",
    "model_standard7.summary()\n",
    "\n",
    "# Train the model\n",
    "model_standard7.fit(X_train_stanscaled2, y_train2, epochs=10, batch_size=32, validation_split=0.1)\n",
    "\n",
    "path_of_file = '/Users/jxhn/Desktop/IRONHACK/Week_9/Final_project/Models/'\n",
    "with open(path_of_file + 'standardneural2.pkl', 'wb') as model_file:\n",
    "    pickle.dump(model_standard7, model_file)"
   ]
  },
  {
   "cell_type": "markdown",
   "id": "65bad07e",
   "metadata": {},
   "source": [
    "<div style=\"background-color: #D9EAD3; border-radius: 10px; border: 1px solid #D2B48C; padding: 10px;\">\n",
    "    <h2 style=\"color: #8B4513; font-size: 20px;\">Evaluation for StandardScaled Model using Dataset 2</h2>\n",
    "</div>"
   ]
  },
  {
   "cell_type": "code",
   "execution_count": 46,
   "id": "f1b9be41",
   "metadata": {},
   "outputs": [
    {
     "name": "stdout",
     "output_type": "stream",
     "text": [
      "25/25 [==============================] - 0s 431us/step - loss: 0.2782 - accuracy: 0.8786\n",
      "Standard Scaled Test Data accuracy (D2): 0.8785982728004456\n"
     ]
    }
   ],
   "source": [
    "# Evaluate the model on the test set\n",
    "test_loss7, test_acc7 = model_standard7.evaluate(X_test_stanscaled2, y_test2)\n",
    "print(\"Standard Scaled Test Data accuracy (D2):\", test_acc7)"
   ]
  },
  {
   "cell_type": "code",
   "execution_count": 47,
   "id": "de3e67da",
   "metadata": {},
   "outputs": [
    {
     "name": "stdout",
     "output_type": "stream",
     "text": [
      "25/25 [==============================] - 0s 320us/step\n",
      "F1-score for Test Data for StandardScaled Model (D2): 0.8779874213836478\n",
      "\n",
      "Cohen's Kappa Score on test data: 0.7572212145987414\n"
     ]
    }
   ],
   "source": [
    "# Predictions from the StandardScaled model\n",
    "y_pred_standard7 = model_standard7.predict(X_test_stanscaled2)\n",
    "y_pred_standard7 = (y_pred_standard7 > 0.5).astype(int)  # Convert probabilities to binary predictions\n",
    "\n",
    "# Calculate F1-score for the StandardScaled model\n",
    "f1_standard7 = f1_score(y_test2, y_pred_standard7)\n",
    "print(\"F1-score for Test Data for StandardScaled Model (D2):\", f1_standard7)\n",
    "print()\n",
    "kappa_score7 = cohen_kappa_score(y_test2, y_pred_standard7)\n",
    "print(\"Cohen's Kappa Score on test data:\", kappa_score7)"
   ]
  },
  {
   "cell_type": "markdown",
   "id": "dc6cd029",
   "metadata": {},
   "source": [
    "<div style=\"background-color: #D9EAD3; border-radius: 10px; border: 1px solid #D2B48C; padding: 10px;\">\n",
    "    <h2 style=\"color: #8B4513; font-size: 20px;\">Confusion Matrix for StandardScaled Model using Dataset 2</h2>\n",
    "</div>"
   ]
  },
  {
   "cell_type": "code",
   "execution_count": 48,
   "id": "975dc0da",
   "metadata": {},
   "outputs": [
    {
     "name": "stdout",
     "output_type": "stream",
     "text": [
      "25/25 [==============================] - 0s 325us/step\n"
     ]
    },
    {
     "data": {
      "image/png": "[encoded data removed]",
      "text/plain": [
       "<Figure size 448x336 with 2 Axes>"
      ]
     },
     "metadata": {},
     "output_type": "display_data"
    }
   ],
   "source": [
    "standard_cm7 = confusion_matrix(y_test2, (model_standard7.predict(X_test_stanscaled2) > 0.5).astype(int))\n",
    "sns.set(font_scale=1.5)\n",
    "plt.figure(dpi=70)\n",
    "sns.heatmap(standard_cm7, annot=True, cmap='Greens', fmt='g')\n",
    "plt.xlabel('Predicted')\n",
    "plt.ylabel('Actual')\n",
    "plt.title('Confusion Matrix for StandardScaled Model (D2)')\n",
    "plt.show()"
   ]
  },
  {
   "cell_type": "markdown",
   "id": "62bf9ed0",
   "metadata": {},
   "source": [
    "<div style=\"background-color: #D9EAD3; border-radius: 10px; border: 1px solid #D2B48C; padding: 10px;\">\n",
    "    <h2 style=\"color: #8B4513; font-size: 20px;\">Time for some fine tuning for Dataset 2</h2>\n",
    "</div>"
   ]
  },
  {
   "cell_type": "markdown",
   "id": "bb5e4c77",
   "metadata": {},
   "source": [
    "1. Added Dropout layers after the first and second hidden layers. Dropout is a regularization technique that randomly drops out a fraction of neurons during training to prevent overfitting.\n",
    "2. Increased the number of neurons in the first hidden layer to 128 to allow the model to learn more complex patterns.\n",
    "3. Added an EarlyStopping callback to monitor validation loss and stop training if it doesn't improve for a certain number of epochs (patience is set to 3)."
   ]
  },
  {
   "cell_type": "code",
   "execution_count": 49,
   "id": "7ed96767",
   "metadata": {},
   "outputs": [
    {
     "name": "stderr",
     "output_type": "stream",
     "text": [
      "WARNING:absl:At this time, the v2.11+ optimizer `tf.keras.optimizers.Adam` runs slowly on M1/M2 Macs, please use the legacy Keras optimizer instead, located at `tf.keras.optimizers.legacy.Adam`.\n",
      "WARNING:absl:There is a known slowdown when using v2.11+ Keras optimizers on M1/M2 Macs. Falling back to the legacy Keras optimizer, i.e., `tf.keras.optimizers.legacy.Adam`.\n"
     ]
    },
    {
     "name": "stdout",
     "output_type": "stream",
     "text": [
      "Model: \"sequential_7\"\n",
      "_________________________________________________________________\n",
      " Layer (type)                Output Shape              Param #   \n",
      "=================================================================\n",
      " dense_24 (Dense)            (None, 128)               1280      \n",
      "                                                                 \n",
      " dropout_2 (Dropout)         (None, 128)               0         \n",
      "                                                                 \n",
      " dense_25 (Dense)            (None, 64)                8256      \n",
      "                                                                 \n",
      " dropout_3 (Dropout)         (None, 64)                0         \n",
      "                                                                 \n",
      " dense_26 (Dense)            (None, 32)                2080      \n",
      "                                                                 \n",
      " dense_27 (Dense)            (None, 1)                 33        \n",
      "                                                                 \n",
      "=================================================================\n",
      "Total params: 11649 (45.50 KB)\n",
      "Trainable params: 11649 (45.50 KB)\n",
      "Non-trainable params: 0 (0.00 Byte)\n",
      "_________________________________________________________________\n",
      "Epoch 1/20\n",
      "10/10 [==============================] - 0s 10ms/step - loss: 0.6116 - accuracy: 0.7483 - val_loss: 0.4944 - val_accuracy: 0.8531\n",
      "Epoch 2/20\n",
      "10/10 [==============================] - 0s 3ms/step - loss: 0.4264 - accuracy: 0.8569 - val_loss: 0.3793 - val_accuracy: 0.8500\n",
      "Epoch 3/20\n",
      "10/10 [==============================] - 0s 3ms/step - loss: 0.3404 - accuracy: 0.8636 - val_loss: 0.3636 - val_accuracy: 0.8469\n",
      "Epoch 4/20\n",
      "10/10 [==============================] - 0s 3ms/step - loss: 0.3269 - accuracy: 0.8674 - val_loss: 0.3730 - val_accuracy: 0.8500\n",
      "Epoch 5/20\n",
      "10/10 [==============================] - 0s 3ms/step - loss: 0.3247 - accuracy: 0.8684 - val_loss: 0.3636 - val_accuracy: 0.8531\n",
      "Epoch 6/20\n",
      "10/10 [==============================] - 0s 3ms/step - loss: 0.3223 - accuracy: 0.8716 - val_loss: 0.3543 - val_accuracy: 0.8625\n",
      "Epoch 7/20\n",
      "10/10 [==============================] - 0s 3ms/step - loss: 0.3201 - accuracy: 0.8726 - val_loss: 0.3520 - val_accuracy: 0.8687\n",
      "Epoch 8/20\n",
      "10/10 [==============================] - 0s 3ms/step - loss: 0.3192 - accuracy: 0.8705 - val_loss: 0.3501 - val_accuracy: 0.8687\n",
      "Epoch 9/20\n",
      "10/10 [==============================] - 0s 3ms/step - loss: 0.3172 - accuracy: 0.8691 - val_loss: 0.3480 - val_accuracy: 0.8687\n",
      "Epoch 10/20\n",
      "10/10 [==============================] - 0s 3ms/step - loss: 0.3159 - accuracy: 0.8681 - val_loss: 0.3475 - val_accuracy: 0.8656\n",
      "Epoch 11/20\n",
      "10/10 [==============================] - 0s 4ms/step - loss: 0.3177 - accuracy: 0.8705 - val_loss: 0.3467 - val_accuracy: 0.8687\n",
      "Epoch 12/20\n",
      "10/10 [==============================] - 0s 4ms/step - loss: 0.3134 - accuracy: 0.8698 - val_loss: 0.3452 - val_accuracy: 0.8656\n",
      "Epoch 13/20\n",
      "10/10 [==============================] - 0s 4ms/step - loss: 0.3133 - accuracy: 0.8719 - val_loss: 0.3440 - val_accuracy: 0.8750\n",
      "Epoch 14/20\n",
      "10/10 [==============================] - 0s 3ms/step - loss: 0.3103 - accuracy: 0.8674 - val_loss: 0.3433 - val_accuracy: 0.8687\n",
      "Epoch 15/20\n",
      "10/10 [==============================] - 0s 3ms/step - loss: 0.3066 - accuracy: 0.8698 - val_loss: 0.3433 - val_accuracy: 0.8750\n",
      "Epoch 16/20\n",
      "10/10 [==============================] - 0s 4ms/step - loss: 0.3065 - accuracy: 0.8737 - val_loss: 0.3425 - val_accuracy: 0.8719\n",
      "Epoch 17/20\n",
      "10/10 [==============================] - 0s 3ms/step - loss: 0.3102 - accuracy: 0.8743 - val_loss: 0.3417 - val_accuracy: 0.8719\n",
      "Epoch 18/20\n",
      "10/10 [==============================] - 0s 4ms/step - loss: 0.3061 - accuracy: 0.8688 - val_loss: 0.3390 - val_accuracy: 0.8687\n",
      "Epoch 19/20\n",
      "10/10 [==============================] - 0s 4ms/step - loss: 0.3045 - accuracy: 0.8750 - val_loss: 0.3386 - val_accuracy: 0.8719\n",
      "Epoch 20/20\n",
      "10/10 [==============================] - 0s 4ms/step - loss: 0.3046 - accuracy: 0.8719 - val_loss: 0.3382 - val_accuracy: 0.8719\n"
     ]
    }
   ],
   "source": [
    "# Define the neural network architecture\n",
    "model_standard8 = Sequential([\n",
    "    Dense(128, activation='relu', input_dim=X_train_stanscaled2.shape[1]),\n",
    "    Dropout(0.3),  # Adding dropout for regularization\n",
    "    Dense(64, activation='relu'),\n",
    "    Dropout(0.2),  # Adding dropout for regularization\n",
    "    Dense(32, activation='relu'),\n",
    "    Dense(1, activation='sigmoid')  # Binary classification output\n",
    "])\n",
    "\n",
    "# Compile the model\n",
    "model_standard8.compile(optimizer=Adam(learning_rate=0.001), loss='binary_crossentropy', metrics=['accuracy'])\n",
    "\n",
    "# Implement early stopping to prevent overfitting\n",
    "early_stopping8 = EarlyStopping(monitor='val_loss', patience=3, restore_best_weights=True)\n",
    "model_standard8.summary()\n",
    "\n",
    "# Train the model with hyperparameter tuning\n",
    "history8 = model_standard8.fit(\n",
    "    X_train_stanscaled2, y_train2,\n",
    "    epochs=20, batch_size=300,\n",
    "    validation_split=0.1,\n",
    "    callbacks=[early_stopping8]\n",
    ")\n",
    "\n",
    "path_of_file = '/Users/jxhn/Desktop/IRONHACK/Week_9/Final_project/Models/'\n",
    "with open(path_of_file + 'standardneuraltuned2.pkl', 'wb') as model_file:\n",
    "    pickle.dump(model_standard8, model_file)"
   ]
  },
  {
   "cell_type": "markdown",
   "id": "9f355aa0",
   "metadata": {},
   "source": [
    "<div style=\"background-color: #D9EAD3; border-radius: 10px; border: 1px solid #D2B48C; padding: 10px;\">\n",
    "    <h2 style=\"color: #8B4513; font-size: 20px;\">Evaluation for Tuned StandardScaled Model using Dataset 2</h2>\n",
    "</div>"
   ]
  },
  {
   "cell_type": "code",
   "execution_count": 50,
   "id": "8ded46d5",
   "metadata": {},
   "outputs": [
    {
     "name": "stdout",
     "output_type": "stream",
     "text": [
      "25/25 [==============================] - 0s 1ms/step - loss: 0.2796 - accuracy: 0.8798\n",
      "Tuned Standard Scaled Data Test accuracy (D2): 0.8798497915267944\n"
     ]
    }
   ],
   "source": [
    "# Evaluate the model on the test set\n",
    "test_loss8, test_acc8 = model_standard8.evaluate(X_test_stanscaled2, y_test2)\n",
    "print(\"Tuned Standard Scaled Data Test accuracy (D2):\", test_acc8)"
   ]
  },
  {
   "cell_type": "code",
   "execution_count": 51,
   "id": "c46182e6",
   "metadata": {},
   "outputs": [
    {
     "name": "stdout",
     "output_type": "stream",
     "text": [
      "25/25 [==============================] - 0s 2ms/step\n",
      "F1-score for Test Data for the Tuned StandardScaled Model (D2): 0.8808933002481389\n",
      "\n",
      "Cohen's Kappa Score on test: 0.7596826848968288\n"
     ]
    }
   ],
   "source": [
    "# Predictions from the StandardScaled model\n",
    "y_pred_standard8 = model_standard8.predict(X_test_stanscaled2)\n",
    "y_pred_standard8 = (y_pred_standard8 > 0.5).astype(int)  # Convert probabilities to binary predictions\n",
    "\n",
    "# Calculate F1-score for the StandardScaled model\n",
    "f1_standard8 = f1_score(y_test2, y_pred_standard8)\n",
    "print(\"F1-score for Test Data for the Tuned StandardScaled Model (D2):\", f1_standard8)\n",
    "print()\n",
    "kappa_score8 = cohen_kappa_score(y_test2, y_pred_standard8)\n",
    "print(\"Cohen's Kappa Score on test:\", kappa_score8)"
   ]
  },
  {
   "cell_type": "markdown",
   "id": "6bdeeba9",
   "metadata": {},
   "source": [
    "<div style=\"background-color: #D9EAD3; border-radius: 10px; border: 1px solid #D2B48C; padding: 10px;\">\n",
    "    <h2 style=\"color: #8B4513; font-size: 20px;\">Confusion Matrix for tuned StandardScaled Model using Dataset 2</h2>\n",
    "</div>"
   ]
  },
  {
   "cell_type": "code",
   "execution_count": 52,
   "id": "78b295da",
   "metadata": {},
   "outputs": [
    {
     "name": "stdout",
     "output_type": "stream",
     "text": [
      "25/25 [==============================] - 0s 1ms/step\n"
     ]
    },
    {
     "data": {
      "image/png": "[encoded data removed]",
      "text/plain": [
       "<Figure size 448x336 with 2 Axes>"
      ]
     },
     "metadata": {},
     "output_type": "display_data"
    }
   ],
   "source": [
    "standard_cm8 = confusion_matrix(y_test2, (model_standard8.predict(X_test_stanscaled2) > 0.5).astype(int))\n",
    "sns.set(font_scale=1.5)\n",
    "plt.figure(dpi=70)\n",
    "sns.heatmap(standard_cm8, annot=True, cmap='Greens', fmt='g')\n",
    "plt.xlabel('Predicted')\n",
    "plt.ylabel('Actual')\n",
    "plt.title('Confusion Matrix for Tuned StandardScaled Model (D2)')\n",
    "plt.show()"
   ]
  },
  {
   "cell_type": "markdown",
   "id": "a88a74d8",
   "metadata": {},
   "source": [
    "#"
   ]
  },
  {
   "cell_type": "markdown",
   "id": "b2c06231",
   "metadata": {},
   "source": [
    "<div style=\"background-color: #D9EAD3; border-radius: 10px; border: 1px solid #D2B48C; padding: 10px;\">\n",
    "    <h2 style=\"color: #8B4513; font-size: 30px;\">K-Nearest Neighbors (KNN)</h2>\n",
    "</div>"
   ]
  },
  {
   "cell_type": "markdown",
   "id": "912441ea",
   "metadata": {},
   "source": [
    "<div style=\"background-color: #D9EAD3; border-radius: 10px; border: 1px solid #D2B48C; padding: 10px;\">\n",
    "    <h2 style=\"color: #8B4513; font-size: 20px;\">GridSearch for finding out the best hyperparameters</h2>\n",
    "</div>"
   ]
  },
  {
   "cell_type": "markdown",
   "id": "746af60a",
   "metadata": {},
   "source": [
    "## Dataset 1"
   ]
  },
  {
   "cell_type": "code",
   "execution_count": 53,
   "id": "92acb65d",
   "metadata": {},
   "outputs": [
    {
     "name": "stdout",
     "output_type": "stream",
     "text": [
      "Fitting 5 folds for each of 36 candidates, totalling 180 fits\n"
     ]
    }
   ],
   "source": [
    "hyperparameters = [{\n",
    "    'n_neighbors': range(3,21,2),\n",
    "    'weights': ['uniform', 'distance'],\n",
    "    'p': [1, 2]\n",
    "}]\n",
    "\n",
    "knn = KNeighborsClassifier()\n",
    "grid_search = GridSearchCV(knn, hyperparameters, scoring='f1', cv=5, verbose=True, n_jobs=-1)\n",
    "grid_search.fit(X_train_stanscaled, y_train)\n",
    "\n",
    "path_of_file = '/Users/jxhn/Desktop/IRONHACK/Week_9/Final_project/Models/'\n",
    "with open(path_of_file + 'knn1.pkl', 'wb') as model_file:\n",
    "    pickle.dump(knn, model_file)"
   ]
  },
  {
   "cell_type": "code",
   "execution_count": 54,
   "id": "be6bd2e3",
   "metadata": {},
   "outputs": [
    {
     "name": "stdout",
     "output_type": "stream",
     "text": [
      "{'n_neighbors': 13, 'p': 1, 'weights': 'distance'}\n",
      "0.9536716737618554\n"
     ]
    }
   ],
   "source": [
    "best_knn_params = grid_search.best_params_\n",
    "best_knnscore = grid_search.best_score_\n",
    "print(best_knn_params)\n",
    "print(best_knnscore)"
   ]
  },
  {
   "cell_type": "markdown",
   "id": "5796b2fd",
   "metadata": {},
   "source": [
    "## Dataset 2"
   ]
  },
  {
   "cell_type": "code",
   "execution_count": 55,
   "id": "4496ff02",
   "metadata": {},
   "outputs": [
    {
     "name": "stdout",
     "output_type": "stream",
     "text": [
      "Fitting 5 folds for each of 36 candidates, totalling 180 fits\n"
     ]
    }
   ],
   "source": [
    "hyperparameters2 = [{\n",
    "    'n_neighbors': range(3,21,2),\n",
    "    'weights': ['uniform', 'distance'],\n",
    "    'p': [1, 2]\n",
    "}]\n",
    "\n",
    "knn2 = KNeighborsClassifier()\n",
    "grid_search2 = GridSearchCV(knn, hyperparameters, scoring='f1', cv=5, verbose=True, n_jobs=-1)\n",
    "grid_search2.fit(X_train_stanscaled2, y_train2)\n",
    "\n",
    "path_of_file = '/Users/jxhn/Desktop/IRONHACK/Week_9/Final_project/Models/'\n",
    "with open(path_of_file + 'knn2.pkl', 'wb') as model_file:\n",
    "    pickle.dump(knn2, model_file)"
   ]
  },
  {
   "cell_type": "code",
   "execution_count": 56,
   "id": "6572011b",
   "metadata": {},
   "outputs": [
    {
     "name": "stdout",
     "output_type": "stream",
     "text": [
      "{'n_neighbors': 19, 'p': 1, 'weights': 'distance'}\n",
      "0.9537008537483439\n"
     ]
    }
   ],
   "source": [
    "best_knn_params2 = grid_search2.best_params_\n",
    "best_knnscore2 = grid_search2.best_score_\n",
    "print(best_knn_params2)\n",
    "print(best_knnscore2)"
   ]
  },
  {
   "cell_type": "markdown",
   "id": "b4dc9f8d",
   "metadata": {},
   "source": [
    "<div style=\"background-color: #D9EAD3; border-radius: 10px; border: 1px solid #D2B48C; padding: 10px;\">\n",
    "    <h2 style=\"color: #8B4513; font-size: 20px;\">Train X & y with best parameters</h2>\n",
    "</div>"
   ]
  },
  {
   "cell_type": "markdown",
   "id": "9be4d855",
   "metadata": {},
   "source": [
    "### Dataset 1"
   ]
  },
  {
   "cell_type": "code",
   "execution_count": 57,
   "id": "895097d2",
   "metadata": {},
   "outputs": [],
   "source": [
    "best_knn = KNeighborsClassifier(**best_knn_params)\n",
    "best_knn.fit(X_train_stanscaled, y_train.ravel())\n",
    "y_pred_knn = best_knn.predict(X_test_stanscaled)"
   ]
  },
  {
   "cell_type": "code",
   "execution_count": 58,
   "id": "c4aa4620",
   "metadata": {},
   "outputs": [
    {
     "name": "stdout",
     "output_type": "stream",
     "text": [
      "F1 Score on test data for dataset 1:  0.9511885274575095\n",
      "\n",
      "Cohen's Kappa Score on test: 0.9023726200956818\n",
      "\n",
      "Accuracy (KNN) for test set for dataset 1: 0.951188986232791\n"
     ]
    }
   ],
   "source": [
    "print('F1 Score on test data for dataset 1: ', f1_score(y_test, best_knn.predict(X_test_stanscaled), average='weighted'))\n",
    "print()\n",
    "kappa_score9 = cohen_kappa_score(y_test, y_pred_knn)\n",
    "print(\"Cohen's Kappa Score on test:\", kappa_score9)\n",
    "print()\n",
    "print(\"Accuracy (KNN) for test set for dataset 1:\", metrics.accuracy_score(y_test, y_pred_knn))"
   ]
  },
  {
   "cell_type": "markdown",
   "id": "622ce8bb",
   "metadata": {},
   "source": [
    "### Dataset 2"
   ]
  },
  {
   "cell_type": "code",
   "execution_count": 59,
   "id": "b151229c",
   "metadata": {},
   "outputs": [],
   "source": [
    "best_knn2 = KNeighborsClassifier(**best_knn_params2)\n",
    "best_knn2.fit(X_train_stanscaled2, y_train2.ravel())\n",
    "y_pred_knn2 = best_knn2.predict(X_test_stanscaled2)"
   ]
  },
  {
   "cell_type": "code",
   "execution_count": 60,
   "id": "7341742b",
   "metadata": {},
   "outputs": [
    {
     "name": "stdout",
     "output_type": "stream",
     "text": [
      "F1 Score on test data for dataset 2:  0.886065867149092\n",
      "\n",
      "Cohen's Kappa Score on test: 0.7721599508653403\n",
      "\n",
      "Accuracy (KNN) for test set for dataset 2: 0.886107634543179\n"
     ]
    }
   ],
   "source": [
    "print('F1 Score on test data for dataset 2: ', f1_score(y_test2, best_knn2.predict(X_test_stanscaled2), average='weighted'))\n",
    "print()\n",
    "kappa_score10 = cohen_kappa_score(y_test2, y_pred_knn2)\n",
    "print(\"Cohen's Kappa Score on test:\", kappa_score10)\n",
    "print()\n",
    "print(\"Accuracy (KNN) for test set for dataset 2:\", metrics.accuracy_score(y_test2, y_pred_knn2))"
   ]
  },
  {
   "cell_type": "markdown",
   "id": "bdd6b27c",
   "metadata": {},
   "source": [
    "<div style=\"background-color: #D9EAD3; border-radius: 10px; border: 1px solid #D2B48C; padding: 10px;\">\n",
    "    <h2 style=\"color: #8B4513; font-size: 20px;\">Confusion Matrix for KNN</h2>\n",
    "</div>"
   ]
  },
  {
   "cell_type": "markdown",
   "id": "65614829",
   "metadata": {},
   "source": [
    "### Dataset 1"
   ]
  },
  {
   "cell_type": "code",
   "execution_count": 61,
   "id": "6efad5ac",
   "metadata": {},
   "outputs": [
    {
     "data": {
      "image/png": "[encoded data removed]",
      "text/plain": [
       "<Figure size 448x336 with 2 Axes>"
      ]
     },
     "metadata": {},
     "output_type": "display_data"
    }
   ],
   "source": [
    "knn_cm = confusion_matrix(y_test, best_knn.predict(X_test_stanscaled))\n",
    "sns.set(font_scale=1.5)\n",
    "plt.figure(dpi=70)\n",
    "sns.heatmap(knn_cm, annot=True, cmap='Greens', fmt='g')\n",
    "plt.xlabel('Predicted')\n",
    "plt.ylabel('Actual')\n",
    "plt.show()"
   ]
  },
  {
   "cell_type": "markdown",
   "id": "113f593e",
   "metadata": {},
   "source": [
    "### Dataset 2"
   ]
  },
  {
   "cell_type": "code",
   "execution_count": 62,
   "id": "a8d9fe31",
   "metadata": {},
   "outputs": [
    {
     "data": {
      "image/png": "[encoded data removed]",
      "text/plain": [
       "<Figure size 448x336 with 2 Axes>"
      ]
     },
     "metadata": {},
     "output_type": "display_data"
    }
   ],
   "source": [
    "knn_cm2 = confusion_matrix(y_test2, best_knn2.predict(X_test_stanscaled2))\n",
    "sns.set(font_scale=1.5)\n",
    "plt.figure(dpi=70)\n",
    "sns.heatmap(knn_cm2, annot=True, cmap='Greens', fmt='g')\n",
    "plt.xlabel('Predicted')\n",
    "plt.ylabel('Actual')\n",
    "plt.show()"
   ]
  },
  {
   "cell_type": "markdown",
   "id": "6c665e78",
   "metadata": {},
   "source": [
    "#"
   ]
  },
  {
   "cell_type": "markdown",
   "id": "0f1ef164",
   "metadata": {},
   "source": [
    "<div style=\"background-color: #D9EAD3; border-radius: 10px; border: 1px solid #D2B48C; padding: 10px;\">\n",
    "    <h2 style=\"color: #8B4513; font-size: 30px;\">Support Vector Machines (SVM)</h2>\n",
    "</div>"
   ]
  },
  {
   "cell_type": "markdown",
   "id": "b89a1cb9",
   "metadata": {},
   "source": [
    "An SVM seeks to find a hyperplane that maximizes the margin between data points of different classes. The hyperplane is the decision boundary that separates the classes with the maximum margin."
   ]
  },
  {
   "cell_type": "markdown",
   "id": "cf995732",
   "metadata": {},
   "source": [
    "<!DOCTYPE html>\n",
    "<html>\n",
    "  <head>\n",
    "    <script src=\"https://polyfill.io/v3/polyfill.min.js?features=es6\"></script>\n",
    "    <script src=\"https://cdn.mathjax.org/mathjax/latest/MathJax.js?config=TeX-MML-AM_CHTML\"></script>\n",
    "  </head>\n",
    "  <body>\n",
    "    <div>\n",
    "      <p>Support Vector Machine (SVM) Algorithm:</p>\n",
    "      <ul>\n",
    "        <li>Find the hyperplane that maximally separates the data points of different classes.</li>\n",
    "        <li>Transform the data into a higher-dimensional space using the kernel trick for nonlinear separation.</li>\n",
    "        <li>Use support vectors to define the decision boundary.</li>\n",
    "      </ul>\n",
    "      <p>The Decision Function:</p>\n",
    "      <div>\n",
    "        <span>\\( f(x) = \\)</span>\n",
    "        <span>\\( \\text{sign} \\left( \\sum_{i=1}^{n} \\alpha_i y_i K(x_i, x) + b \\right) \\)</span>\n",
    "      </div>\n",
    "      <p>The Objective Function:</p>\n",
    "      <div>\n",
    "        <span>\\( \\text{minimize} \\left( \\frac{1}{2} \\sum_{i=1}^{n} \\sum_{j=1}^{n} \\alpha_i \\alpha_j y_i y_j K(x_i, x_j) - \\sum_{i=1}^{n} \\alpha_i \\right) \\)</span>\n",
    "      </div>\n",
    "      <p>The Kernel Function:</p>\n",
    "      <div>\n",
    "        <span>\\( K(x, x') = \\)</span>\n",
    "        <span>\\( \\phi(x) \\cdot \\phi(x') \\)</span>\n",
    "      </div>\n",
    "    </div>\n",
    "  </body>\n",
    "</html>\n"
   ]
  },
  {
   "cell_type": "markdown",
   "id": "93a1561d",
   "metadata": {},
   "source": [
    "<div style=\"background-color: #D9EAD3; border-radius: 10px; border: 1px solid #D2B48C; padding: 10px;\">\n",
    "    <h2 style=\"color: #8B4513; font-size: 20px;\">GridSearch for finding out the best hyperparameters</h2>\n",
    "</div>"
   ]
  },
  {
   "cell_type": "markdown",
   "id": "e9c24a9c",
   "metadata": {},
   "source": [
    "### Dataset 1"
   ]
  },
  {
   "cell_type": "code",
   "execution_count": 63,
   "id": "ddb3887d",
   "metadata": {},
   "outputs": [
    {
     "name": "stdout",
     "output_type": "stream",
     "text": [
      "Fitting 5 folds for each of 6 candidates, totalling 30 fits\n"
     ]
    }
   ],
   "source": [
    "svm_params = [{'C': [0.1, 1, 10], 'kernel': ['linear', 'rbf']}]\n",
    "\n",
    "svm = SVC()\n",
    "svm_grid_search = GridSearchCV(svm, svm_params, scoring='f1', cv=5, verbose=True, n_jobs=-1)\n",
    "svm_grid_search.fit(X_train_stanscaled, y_train)\n",
    "\n",
    "path_of_file = '/Users/jxhn/Desktop/IRONHACK/Week_9/Final_project/Models/'\n",
    "with open(path_of_file + 'svm1.pkl', 'wb') as model_file:\n",
    "    pickle.dump(svm, model_file)"
   ]
  },
  {
   "cell_type": "code",
   "execution_count": 64,
   "id": "79d16ed4",
   "metadata": {},
   "outputs": [
    {
     "name": "stdout",
     "output_type": "stream",
     "text": [
      "Best Parameters: {'C': 10, 'kernel': 'rbf'}\n",
      "Best Score: 0.9536716737618554\n"
     ]
    }
   ],
   "source": [
    "best_svm_params = svm_grid_search.best_params_\n",
    "best_svmscore = grid_search.best_score_\n",
    "print(\"Best Parameters:\", best_svm_params)\n",
    "print(\"Best Score:\", best_svmscore)"
   ]
  },
  {
   "cell_type": "markdown",
   "id": "6a9f6d48",
   "metadata": {},
   "source": [
    "### Dataset 2"
   ]
  },
  {
   "cell_type": "code",
   "execution_count": 65,
   "id": "65156105",
   "metadata": {},
   "outputs": [
    {
     "name": "stdout",
     "output_type": "stream",
     "text": [
      "Fitting 5 folds for each of 6 candidates, totalling 30 fits\n"
     ]
    }
   ],
   "source": [
    "svm_params2 = [{'C': [0.1, 1, 10], 'kernel': ['linear', 'rbf']}]\n",
    "\n",
    "svm2 = SVC()\n",
    "svm_grid_search2 = GridSearchCV(svm2, svm_params2, scoring='f1', cv=5, verbose=True, n_jobs=-1)\n",
    "svm_grid_search2.fit(X_train_stanscaled2, y_train2)\n",
    "\n",
    "path_of_file = '/Users/jxhn/Desktop/IRONHACK/Week_9/Final_project/Models/'\n",
    "with open(path_of_file + 'svm2.pkl', 'wb') as model_file:\n",
    "    pickle.dump(svm2, model_file)"
   ]
  },
  {
   "cell_type": "code",
   "execution_count": 66,
   "id": "6e021482",
   "metadata": {},
   "outputs": [
    {
     "name": "stdout",
     "output_type": "stream",
     "text": [
      "Best Parameters: {'C': 10, 'kernel': 'rbf'}\n",
      "Best Score: 0.9536716737618554\n"
     ]
    }
   ],
   "source": [
    "best_svm_params2 = svm_grid_search2.best_params_\n",
    "best_svmscore2 = grid_search.best_score_\n",
    "print(\"Best Parameters:\",best_svm_params2)\n",
    "print(\"Best Score:\", best_svmscore2)"
   ]
  },
  {
   "cell_type": "markdown",
   "id": "24877d61",
   "metadata": {},
   "source": [
    "<div style=\"background-color: #D9EAD3; border-radius: 10px; border: 1px solid #D2B48C; padding: 10px;\">\n",
    "    <h2 style=\"color: #8B4513; font-size: 20px;\">Train X & y with best parameters</h2>\n",
    "</div>"
   ]
  },
  {
   "cell_type": "markdown",
   "id": "e7de9b2e",
   "metadata": {},
   "source": [
    "### Dataset 1"
   ]
  },
  {
   "cell_type": "code",
   "execution_count": 67,
   "id": "afd032a9",
   "metadata": {},
   "outputs": [],
   "source": [
    "best_svm = SVC(**best_svm_params)\n",
    "best_svm.fit(X_train_stanscaled, y_train)\n",
    "y_pred_svm = best_svm.predict(X_test_stanscaled)"
   ]
  },
  {
   "cell_type": "code",
   "execution_count": 68,
   "id": "aa4dabc6",
   "metadata": {},
   "outputs": [
    {
     "name": "stdout",
     "output_type": "stream",
     "text": [
      "F1 Score on Test Set (SVM) for dataset 1: 0.8955223880597015\n"
     ]
    }
   ],
   "source": [
    "f1_svm = f1_score(y_test, y_pred_svm)\n",
    "print(\"F1 Score on Test Set (SVM) for dataset 1:\", f1_svm)"
   ]
  },
  {
   "cell_type": "code",
   "execution_count": 69,
   "id": "81f9d382",
   "metadata": {},
   "outputs": [
    {
     "name": "stdout",
     "output_type": "stream",
     "text": [
      "Accuracy (SVM) for test set for dataset 1: 0.8948685857321652\n",
      "Accuracy on train (SVM) for dataset 1: 0.9069840275602882\n",
      "Accuracy on test (SVM) for dataset 1: 0.8948685857321652\n",
      "Cohen's Kappa Score on test: 0.7897289371780893\n"
     ]
    }
   ],
   "source": [
    "print(\"Accuracy (SVM) for test set for dataset 1:\", metrics.accuracy_score(y_test, y_pred_svm))\n",
    "y_pred_svm_train = best_svm.predict(X_train_stanscaled)\n",
    "print(\"Accuracy on train (SVM) for dataset 1:\", metrics.accuracy_score(y_train, y_pred_svm_train))\n",
    "print(\"Accuracy on test (SVM) for dataset 1:\", metrics.accuracy_score(y_test, y_pred_svm))\n",
    "kappa_score11 = cohen_kappa_score(y_test, y_pred_svm)\n",
    "print(\"Cohen's Kappa Score on test:\", kappa_score11)"
   ]
  },
  {
   "cell_type": "markdown",
   "id": "953ac602",
   "metadata": {},
   "source": [
    "### Dataset 2"
   ]
  },
  {
   "cell_type": "code",
   "execution_count": 70,
   "id": "ae98835e",
   "metadata": {},
   "outputs": [],
   "source": [
    "best_svm2 = SVC(**best_svm_params2)\n",
    "best_svm2.fit(X_train_stanscaled2, y_train2)\n",
    "y_pred_svm2 = best_svm2.predict(X_test_stanscaled2)"
   ]
  },
  {
   "cell_type": "code",
   "execution_count": 71,
   "id": "84aa5c4a",
   "metadata": {},
   "outputs": [
    {
     "name": "stdout",
     "output_type": "stream",
     "text": [
      "F1 Score on Test Set (SVM) for dataset 2: 0.8793969849246231\n"
     ]
    }
   ],
   "source": [
    "f1_svm2 = f1_score(y_test2, y_pred_svm2)\n",
    "print(\"F1 Score on Test Set (SVM) for dataset 2:\", f1_svm2)"
   ]
  },
  {
   "cell_type": "code",
   "execution_count": 72,
   "id": "62404c29",
   "metadata": {},
   "outputs": [
    {
     "name": "stdout",
     "output_type": "stream",
     "text": [
      "Accuracy (SVM) for test set for dataset 2: 0.8798498122653317\n",
      "Accuracy on train (SVM) for dataset 2: 0.8787973692452239\n",
      "ACcuracy on test (SVM) for dataset 2: 0.8798498122653317\n",
      "Cohen's Kappa Score on test: 0.7597203252847494\n"
     ]
    }
   ],
   "source": [
    "print(\"Accuracy (SVM) for test set for dataset 2:\", metrics.accuracy_score(y_test2, y_pred_svm2))\n",
    "y_pred_svm_train2 = best_svm2.predict(X_train_stanscaled2)\n",
    "print(\"Accuracy on train (SVM) for dataset 2:\", metrics.accuracy_score(y_train2, y_pred_svm_train2))\n",
    "print(\"ACcuracy on test (SVM) for dataset 2:\", metrics.accuracy_score(y_test2, y_pred_svm2))\n",
    "kappa_score12 = cohen_kappa_score(y_test2, y_pred_svm2)\n",
    "print(\"Cohen's Kappa Score on test:\", kappa_score12)"
   ]
  },
  {
   "cell_type": "markdown",
   "id": "d1a52571",
   "metadata": {},
   "source": [
    "<div style=\"background-color: #D9EAD3; border-radius: 10px; border: 1px solid #D2B48C; padding: 10px;\">\n",
    "    <h2 style=\"color: #8B4513; font-size: 20px;\">Confusion Matrix for SVM</h2>\n",
    "</div>"
   ]
  },
  {
   "cell_type": "markdown",
   "id": "c4e117ef",
   "metadata": {},
   "source": [
    "### Dataset 1"
   ]
  },
  {
   "cell_type": "code",
   "execution_count": 73,
   "id": "4cb5cb41",
   "metadata": {},
   "outputs": [
    {
     "data": {
      "image/png": "[encoded data removed]",
      "text/plain": [
       "<Figure size 448x336 with 2 Axes>"
      ]
     },
     "metadata": {},
     "output_type": "display_data"
    }
   ],
   "source": [
    "svm_cm = confusion_matrix(y_test, y_pred_svm)\n",
    "plt.figure(dpi=70)\n",
    "sns.heatmap(svm_cm, annot=True, cmap='Greens', fmt='g')\n",
    "plt.xlabel('Predicted')\n",
    "plt.ylabel('Actual')\n",
    "plt.title('Confusion Matrix - SVM for dataset 1')\n",
    "plt.show()"
   ]
  },
  {
   "cell_type": "markdown",
   "id": "1dca41d5",
   "metadata": {},
   "source": [
    "### Dataset 2"
   ]
  },
  {
   "cell_type": "code",
   "execution_count": 74,
   "id": "de5adc6a",
   "metadata": {},
   "outputs": [
    {
     "data": {
      "image/png": "[encoded data removed]",
      "text/plain": [
       "<Figure size 448x336 with 2 Axes>"
      ]
     },
     "metadata": {},
     "output_type": "display_data"
    }
   ],
   "source": [
    "svm_cm2 = confusion_matrix(y_test2, y_pred_svm2)\n",
    "plt.figure(dpi=70)\n",
    "sns.heatmap(svm_cm2, annot=True, cmap='Greens', fmt='g')\n",
    "plt.xlabel('Predicted')\n",
    "plt.ylabel('Actual')\n",
    "plt.title('Confusion Matrix - SVM for dataset 2')\n",
    "plt.show()"
   ]
  },
  {
   "cell_type": "markdown",
   "id": "15e2f566",
   "metadata": {},
   "source": [
    "<div style=\"background-color: #D9EAD3; border-radius: 10px; border: 1px solid #D2B48C; padding: 10px;\">\n",
    "    <h2 style=\"color: #8B4513; font-size: 20px;\">Finding the best model</h2>\n",
    "</div>"
   ]
  },
  {
   "cell_type": "code",
   "execution_count": 75,
   "id": "471a589f",
   "metadata": {},
   "outputs": [
    {
     "name": "stdout",
     "output_type": "stream",
     "text": [
      "Accuracy on Test Dataset 1 Leaderboard:\n",
      "1. K-Nearest Neighbors: 0.9512\n",
      "2. SVM: 0.8949\n",
      "3. Neural Networks Tuned Standardscaled: 0.8886\n",
      "4. Neural Networks Standardscaled: 0.8861\n",
      "5. Neural Networks MinMaxscaled: 0.8711\n",
      "6. Neural Networks Tuned MinMaxscaled: 0.8298\n",
      "\n",
      "Best Method: K-Nearest Neighbors\n",
      "With Accuracy of: 0.9512\n",
      "\n",
      "\n",
      "Cohen Kappa score on Test Dataset 1 Leaderboard:\n",
      "1. K-Nearest Neighbors: 0.9024\n",
      "2. SVM: 0.7897\n",
      "3. Neural Networks Tuned Standardscaled: 0.7773\n",
      "4. Neural Networks Standardscaled: 0.7723\n",
      "5. Neural Networks MinMaxscaled: 0.7421\n",
      "6. Neural Networks Tuned MinMaxscaled: 0.6590\n",
      "\n",
      "Best Method: K-Nearest Neighbors\n",
      "With Cohen Kappa score of: 0.9024\n",
      "\n",
      "\n",
      "F1 score on Test Dataset 1 Leaderboard:\n",
      "1. K-Nearest Neighbors: 0.9516\n",
      "2. SVM: 0.8955\n",
      "3. Neural Networks Tuned Standardscaled: 0.8878\n",
      "4. Neural Networks Standardscaled: 0.8847\n",
      "5. Neural Networks MinMaxscaled: 0.8748\n",
      "6. Neural Networks Tuned MinMaxscaled: 0.8502\n",
      "\n",
      "Best Method: K-Nearest Neighbors\n",
      "With F1 score of: 0.9516\n"
     ]
    }
   ],
   "source": [
    "accuracy_scores = {}\n",
    "\n",
    "accuracy_scores['K-Nearest Neighbors'] = metrics.accuracy_score(y_test, y_pred_knn)\n",
    "accuracy_scores['SVM'] = metrics.accuracy_score(y_test, y_pred_svm)\n",
    "accuracy_scores['Neural Networks MinMaxscaled'] = metrics.accuracy_score(y_test, y_pred_minmax)\n",
    "accuracy_scores['Neural Networks Tuned MinMaxscaled'] = metrics.accuracy_score(y_test, y_pred_minmax3)\n",
    "accuracy_scores['Neural Networks Standardscaled'] = metrics.accuracy_score(y_test, y_pred_standard5)\n",
    "accuracy_scores['Neural Networks Tuned Standardscaled'] = metrics.accuracy_score(y_test, y_pred_standard6)\n",
    "\n",
    "# Sort accuracy_scores in descending order by values (accuracy)\n",
    "sorted_scores = {k: v for k, v in sorted(accuracy_scores.items(), key=lambda item: item[1], reverse=True)}\n",
    "\n",
    "best_method = next(iter(sorted_scores))\n",
    "best_accuracy = sorted_scores[best_method]\n",
    "\n",
    "print(\"Accuracy on Test Dataset 1 Leaderboard:\")\n",
    "for rank, (method, accuracy) in enumerate(sorted_scores.items(), start=1):\n",
    "    print(f\"{rank}. {method}: {accuracy:.4f}\")\n",
    "\n",
    "print(f\"\\nBest Method: {best_method}\")\n",
    "print(f\"With Accuracy of: {best_accuracy:.4f}\")\n",
    "print()\n",
    "print()\n",
    "Kappa_scores = {}\n",
    "\n",
    "Kappa_scores['K-Nearest Neighbors'] = cohen_kappa_score(y_test, y_pred_knn)\n",
    "Kappa_scores['SVM'] = cohen_kappa_score(y_test, y_pred_svm)\n",
    "Kappa_scores['Neural Networks MinMaxscaled'] = cohen_kappa_score(y_test, y_pred_minmax)\n",
    "Kappa_scores['Neural Networks Tuned MinMaxscaled'] = cohen_kappa_score(y_test, y_pred_minmax3)\n",
    "Kappa_scores['Neural Networks Standardscaled'] = cohen_kappa_score(y_test, y_pred_standard5)\n",
    "Kappa_scores['Neural Networks Tuned Standardscaled'] = cohen_kappa_score(y_test, y_pred_standard6)\n",
    "\n",
    "# Sort accuracy_scores in descending order by values (accuracy)\n",
    "sortedk_scores = {k: v for k, v in sorted(Kappa_scores.items(), key=lambda item: item[1], reverse=True)}\n",
    "\n",
    "bestk_method = next(iter(sortedk_scores))\n",
    "bestk_accuracy = sortedk_scores[bestk_method]\n",
    "\n",
    "print(\"Cohen Kappa score on Test Dataset 1 Leaderboard:\")\n",
    "for rank, (method, accuracy) in enumerate(sortedk_scores.items(), start=1):\n",
    "    print(f\"{rank}. {method}: {accuracy:.4f}\")\n",
    "\n",
    "print(f\"\\nBest Method: {bestk_method}\")\n",
    "print(f\"With Cohen Kappa score of: {bestk_accuracy:.4f}\")\n",
    "print()\n",
    "print()\n",
    "f1_scores = {}\n",
    "\n",
    "f1_scores['K-Nearest Neighbors'] = f1_score(y_test, y_pred_knn)\n",
    "f1_scores['SVM'] = f1_score(y_test, y_pred_svm)\n",
    "f1_scores['Neural Networks MinMaxscaled'] = f1_score(y_test, y_pred_minmax)\n",
    "f1_scores['Neural Networks Tuned MinMaxscaled'] = f1_score(y_test, y_pred_minmax3)\n",
    "f1_scores['Neural Networks Standardscaled'] = f1_score(y_test, y_pred_standard5)\n",
    "f1_scores['Neural Networks Tuned Standardscaled'] = f1_score(y_test, y_pred_standard6)\n",
    "\n",
    "# Sort accuracy_scores in descending order by values (accuracy)\n",
    "sortedf1_scores = {k: v for k, v in sorted(f1_scores.items(), key=lambda item: item[1], reverse=True)}\n",
    "\n",
    "bestf1_method = next(iter(sortedf1_scores))\n",
    "bestf1_accuracy = sortedf1_scores[bestf1_method]\n",
    "\n",
    "print(\"F1 score on Test Dataset 1 Leaderboard:\")\n",
    "for rank, (method, accuracy) in enumerate(sortedf1_scores.items(), start=1):\n",
    "    print(f\"{rank}. {method}: {accuracy:.4f}\")\n",
    "\n",
    "print(f\"\\nBest Method: {bestf1_method}\")\n",
    "print(f\"With F1 score of: {bestf1_accuracy:.4f}\")\n"
   ]
  },
  {
   "cell_type": "code",
   "execution_count": 76,
   "id": "da8d00b7",
   "metadata": {},
   "outputs": [
    {
     "name": "stdout",
     "output_type": "stream",
     "text": [
      "Accuracy on Test Dataset 2 Leaderboard:\n",
      "1. K-Nearest Neighbors: 0.8861\n",
      "2. SVM: 0.8798\n",
      "3. Neural Networks Tuned Standardscaled: 0.8798\n",
      "4. Neural Networks Standardscaled: 0.8786\n",
      "5. Neural Networks MinMaxscaled: 0.8698\n",
      "6. Neural Networks Tuned MinMaxscaled: 0.8673\n",
      "\n",
      "Best Method: K-Nearest Neighbors\n",
      "With Accuracy of: 0.8861\n",
      "\n",
      "\n",
      "Cohen Kappa score on Test Dataset 2 Leaderboard:\n",
      "1. K-Nearest Neighbors: 0.7722\n",
      "2. SVM: 0.7597\n",
      "3. Neural Networks Tuned Standardscaled: 0.7597\n",
      "4. Neural Networks Standardscaled: 0.7572\n",
      "5. Neural Networks MinMaxscaled: 0.7396\n",
      "6. Neural Networks Tuned MinMaxscaled: 0.7345\n",
      "\n",
      "Best Method: K-Nearest Neighbors\n",
      "With Cohen Kappa score of: 0.7722\n",
      "\n",
      "\n",
      "F1 score on Test Dataset 2 Leaderboard:\n",
      "1. K-Nearest Neighbors: 0.8886\n",
      "2. Neural Networks Tuned Standardscaled: 0.8809\n",
      "3. SVM: 0.8794\n",
      "4. Neural Networks Standardscaled: 0.8780\n",
      "5. Neural Networks Tuned MinMaxscaled: 0.8744\n",
      "6. Neural Networks MinMaxscaled: 0.8719\n",
      "\n",
      "Best Method: K-Nearest Neighbors\n",
      "With F1 score of: 0.8886\n"
     ]
    }
   ],
   "source": [
    "accuracy_scores2 = {}\n",
    "\n",
    "accuracy_scores2['K-Nearest Neighbors'] = metrics.accuracy_score(y_test2, y_pred_knn2)\n",
    "accuracy_scores2['SVM'] = metrics.accuracy_score(y_test2, y_pred_svm2)\n",
    "accuracy_scores2['Neural Networks MinMaxscaled'] = metrics.accuracy_score(y_test2, y_pred_minmax2)\n",
    "accuracy_scores2['Neural Networks Tuned MinMaxscaled'] = metrics.accuracy_score(y_test2, y_pred_minmax4)\n",
    "accuracy_scores2['Neural Networks Standardscaled'] = metrics.accuracy_score(y_test2, y_pred_standard7)\n",
    "accuracy_scores2['Neural Networks Tuned Standardscaled'] = metrics.accuracy_score(y_test2, y_pred_standard8)\n",
    "\n",
    "# Sort accuracy_scores in descending order by values (accuracy)\n",
    "sorted_scores2 = {k: v for k, v in sorted(accuracy_scores2.items(), key=lambda item: item[1], reverse=True)}\n",
    "\n",
    "best_method2 = next(iter(sorted_scores2))\n",
    "best_accuracy2 = sorted_scores2[best_method2]\n",
    "\n",
    "print(\"Accuracy on Test Dataset 2 Leaderboard:\")\n",
    "for rank, (method, accuracy) in enumerate(sorted_scores2.items(), start=1):\n",
    "    print(f\"{rank}. {method}: {accuracy:.4f}\")\n",
    "\n",
    "print(f\"\\nBest Method: {best_method2}\")\n",
    "print(f\"With Accuracy of: {best_accuracy2:.4f}\")\n",
    "print()\n",
    "print()\n",
    "Kappa_scores2 = {}\n",
    "\n",
    "Kappa_scores2['K-Nearest Neighbors'] = cohen_kappa_score(y_test2, y_pred_knn2)\n",
    "Kappa_scores2['SVM'] = cohen_kappa_score(y_test2, y_pred_svm2)\n",
    "Kappa_scores2['Neural Networks MinMaxscaled'] = cohen_kappa_score(y_test2, y_pred_minmax2)\n",
    "Kappa_scores2['Neural Networks Tuned MinMaxscaled'] = cohen_kappa_score(y_test2, y_pred_minmax4)\n",
    "Kappa_scores2['Neural Networks Standardscaled'] = cohen_kappa_score(y_test2, y_pred_standard7)\n",
    "Kappa_scores2['Neural Networks Tuned Standardscaled'] = cohen_kappa_score(y_test2, y_pred_standard8)\n",
    "\n",
    "# Sort accuracy_scores in descending order by values (accuracy)\n",
    "sortedk_scores2 = {k: v for k, v in sorted(Kappa_scores2.items(), key=lambda item: item[1], reverse=True)}\n",
    "\n",
    "bestk_method2 = next(iter(sortedk_scores2))\n",
    "bestk_accuracy2 = sortedk_scores2[bestk_method2]\n",
    "\n",
    "print(\"Cohen Kappa score on Test Dataset 2 Leaderboard:\")\n",
    "for rank, (method, accuracy) in enumerate(sortedk_scores2.items(), start=1):\n",
    "    print(f\"{rank}. {method}: {accuracy:.4f}\")\n",
    "\n",
    "print(f\"\\nBest Method: {bestk_method2}\")\n",
    "print(f\"With Cohen Kappa score of: {bestk_accuracy2:.4f}\")\n",
    "print()\n",
    "print()\n",
    "f1_scores2 = {}\n",
    "\n",
    "f1_scores2['K-Nearest Neighbors'] = f1_score(y_test2, y_pred_knn2)\n",
    "f1_scores2['SVM'] = f1_score(y_test2, y_pred_svm2)\n",
    "f1_scores2['Neural Networks MinMaxscaled'] = f1_score(y_test2, y_pred_minmax2)\n",
    "f1_scores2['Neural Networks Tuned MinMaxscaled'] = f1_score(y_test2, y_pred_minmax4)\n",
    "f1_scores2['Neural Networks Standardscaled'] = f1_score(y_test2, y_pred_standard7)\n",
    "f1_scores2['Neural Networks Tuned Standardscaled'] = f1_score(y_test2, y_pred_standard8)\n",
    "\n",
    "# Sort accuracy_scores in descending order by values (accuracy)\n",
    "sortedf1_scores2 = {k: v for k, v in sorted(f1_scores2.items(), key=lambda item: item[1], reverse=True)}\n",
    "\n",
    "bestf1_method2 = next(iter(sortedf1_scores2))\n",
    "bestf1_accuracy2 = sortedf1_scores2[bestf1_method2]\n",
    "\n",
    "print(\"F1 score on Test Dataset 2 Leaderboard:\")\n",
    "for rank, (method, accuracy) in enumerate(sortedf1_scores2.items(), start=1):\n",
    "    print(f\"{rank}. {method}: {accuracy:.4f}\")\n",
    "\n",
    "print(f\"\\nBest Method: {bestf1_method2}\")\n",
    "print(f\"With F1 score of: {bestf1_accuracy2:.4f}\")\n"
   ]
  },
  {
   "cell_type": "code",
   "execution_count": 77,
   "id": "12a73352",
   "metadata": {},
   "outputs": [
    {
     "name": "stdout",
     "output_type": "stream",
     "text": [
      "Top 10 Accuracy Scores Leaderboard:\n",
      "Rank | Method                                      | Score  | Dataset\n",
      "----------------------------------------------------------------------\n",
      "   1 | K-Nearest Neighbors                      | 0.9512 | Dataset 1\n",
      "   2 | SVM                                      | 0.8949 | Dataset 1\n",
      "   3 | Neural Networks Tuned Standardscaled     | 0.8861 | Dataset 1\n",
      "   4 | K-Nearest Neighbors 2                    | 0.8861 | Dataset 2\n",
      "   5 | Neural Networks Standardscaled           | 0.8849 | Dataset 1\n",
      "   6 | Neural Networks Standardscaled 2         | 0.8811 | Dataset 2\n",
      "   7 | SVM 2                                    | 0.8798 | Dataset 2\n",
      "   8 | Neural Networks Tuned Standardscaled 2   | 0.8798 | Dataset 2\n",
      "   9 | Neural Networks Tuned MinMaxscaled 2     | 0.8748 | Dataset 2\n",
      "  10 | Neural Networks MinMaxscaled 2           | 0.8698 | Dataset 2\n"
     ]
    }
   ],
   "source": [
    "# Accuracy scores for Dataset 1\n",
    "accuracy_scores = {\n",
    "    'K-Nearest Neighbors': 0.9512,\n",
    "    'SVM': 0.8949,\n",
    "    'Neural Networks MinMaxscaled': 0.8686,\n",
    "    'Neural Networks Tuned MinMaxscaled': 0.8473,\n",
    "    'Neural Networks Standardscaled': 0.8849,\n",
    "    'Neural Networks Tuned Standardscaled': 0.8861\n",
    "}\n",
    "\n",
    "# Accuracy scores for Dataset 2\n",
    "accuracy_scores2 = {\n",
    "    'K-Nearest Neighbors 2': 0.8861,\n",
    "    'SVM 2': 0.8798,\n",
    "    'Neural Networks MinMaxscaled 2': 0.8698,\n",
    "    'Neural Networks Tuned MinMaxscaled 2': 0.8748,\n",
    "    'Neural Networks Standardscaled 2': 0.8811,\n",
    "    'Neural Networks Tuned Standardscaled 2': 0.8798\n",
    "}\n",
    "\n",
    "# Combine accuracy scores from both datasets\n",
    "combined_accuracy_scores = {**accuracy_scores, **accuracy_scores2}\n",
    "\n",
    "# Sort accuracy scores in descending order\n",
    "sorted_accuracy_scores = {k: v for k, v in sorted(combined_accuracy_scores.items(), key=lambda item: item[1], reverse=True)}\n",
    "\n",
    "# Display top 10 Accuracy Scores leaderboard\n",
    "print(\"Top 10 Accuracy Scores Leaderboard:\")\n",
    "print(\"Rank | Method                                      | Score  | Dataset\")\n",
    "print(\"-\" * 70)\n",
    "for rank, (method, score) in enumerate(sorted_accuracy_scores.items(), start=1):\n",
    "    dataset_name = \"Dataset 1\" if method in accuracy_scores else \"Dataset 2\"\n",
    "    print(f\"{rank:4d} | {method:<40} | {score:.4f} | {dataset_name}\")\n",
    "    if rank == 10:\n",
    "        break\n"
   ]
  },
  {
   "cell_type": "code",
   "execution_count": 78,
   "id": "0da44c40",
   "metadata": {},
   "outputs": [
    {
     "name": "stdout",
     "output_type": "stream",
     "text": [
      "Top 10 Cohen Kappa Scores Leaderboard:\n",
      "Rank | Method                                      | Score  | Dataset\n",
      "----------------------------------------------------------------------\n",
      "   1 | K-Nearest Neighbors                      | 0.9024 | Dataset 1\n",
      "   2 | SVM                                      | 0.7897 | Dataset 1\n",
      "   3 | Neural Networks Tuned Standardscaled     | 0.7773 | Dataset 1\n",
      "   4 | Neural Networks Standardscaled           | 0.7723 | Dataset 1\n",
      "   5 | K-Nearest Neighbors 2                    | 0.7722 | Dataset 2\n",
      "   6 | SVM 2                                    | 0.7597 | Dataset 2\n",
      "   7 | Neural Networks Tuned Standardscaled 2   | 0.7597 | Dataset 2\n",
      "   8 | Neural Networks Standardscaled 2         | 0.7572 | Dataset 2\n",
      "   9 | Neural Networks MinMaxscaled             | 0.7421 | Dataset 1\n",
      "  10 | Neural Networks MinMaxscaled 2           | 0.7396 | Dataset 2\n"
     ]
    }
   ],
   "source": [
    "# Cohen Kappa scores for Dataset 1\n",
    "Kappa_scores = {\n",
    "    'K-Nearest Neighbors': cohen_kappa_score(y_test, y_pred_knn),\n",
    "    'SVM': cohen_kappa_score(y_test, y_pred_svm),\n",
    "    'Neural Networks MinMaxscaled': cohen_kappa_score(y_test, y_pred_minmax),\n",
    "    'Neural Networks Tuned MinMaxscaled': cohen_kappa_score(y_test, y_pred_minmax3),\n",
    "    'Neural Networks Standardscaled': cohen_kappa_score(y_test, y_pred_standard5),\n",
    "    'Neural Networks Tuned Standardscaled': cohen_kappa_score(y_test, y_pred_standard6)\n",
    "}\n",
    "\n",
    "# Cohen Kappa scores for Dataset 2\n",
    "Kappa_scores2 = {\n",
    "    'K-Nearest Neighbors 2': cohen_kappa_score(y_test2, y_pred_knn2),\n",
    "    'SVM 2': cohen_kappa_score(y_test2, y_pred_svm2),\n",
    "    'Neural Networks MinMaxscaled 2': cohen_kappa_score(y_test2, y_pred_minmax2),\n",
    "    'Neural Networks Tuned MinMaxscaled 2': cohen_kappa_score(y_test2, y_pred_minmax4),\n",
    "    'Neural Networks Standardscaled 2': cohen_kappa_score(y_test2, y_pred_standard7),\n",
    "    'Neural Networks Tuned Standardscaled 2': cohen_kappa_score(y_test2, y_pred_standard8)\n",
    "}\n",
    "\n",
    "# Combine Cohen Kappa scores from both datasets\n",
    "combined_kappa_scores = {**Kappa_scores, **Kappa_scores2}\n",
    "\n",
    "# Sort Cohen Kappa scores in descending order\n",
    "sorted_kappa_scores = {k: v for k, v in sorted(combined_kappa_scores.items(), key=lambda item: item[1], reverse=True)}\n",
    "\n",
    "# Display top 10 Cohen Kappa Scores leaderboard\n",
    "print(\"Top 10 Cohen Kappa Scores Leaderboard:\")\n",
    "print(\"Rank | Method                                      | Score  | Dataset\")\n",
    "print(\"-\" * 70)\n",
    "for rank, (method, score) in enumerate(sorted_kappa_scores.items(), start=1):\n",
    "    dataset_name = \"Dataset 1\" if method in Kappa_scores else \"Dataset 2\"\n",
    "    print(f\"{rank:4d} | {method:<40} | {score:.4f} | {dataset_name}\")\n",
    "    if rank == 10:\n",
    "        break\n"
   ]
  },
  {
   "cell_type": "code",
   "execution_count": 79,
   "id": "42debf51",
   "metadata": {},
   "outputs": [
    {
     "name": "stdout",
     "output_type": "stream",
     "text": [
      "Top 10 F1 Scores Leaderboard:\n",
      "Rank | Method                                      | Score  | Dataset\n",
      "----------------------------------------------------------------------\n",
      "   1 | K-Nearest Neighbors                      | 0.9516 | Dataset 1\n",
      "   2 | SVM                                      | 0.8955 | Dataset 1\n",
      "   3 | K-Nearest Neighbors 2                    | 0.8886 | Dataset 2\n",
      "   4 | Neural Networks Tuned Standardscaled     | 0.8878 | Dataset 1\n",
      "   5 | Neural Networks Standardscaled           | 0.8847 | Dataset 1\n",
      "   6 | Neural Networks Tuned Standardscaled 2   | 0.8809 | Dataset 2\n",
      "   7 | SVM 2                                    | 0.8794 | Dataset 2\n",
      "   8 | Neural Networks Standardscaled 2         | 0.8780 | Dataset 2\n",
      "   9 | Neural Networks MinMaxscaled             | 0.8748 | Dataset 1\n",
      "  10 | Neural Networks Tuned MinMaxscaled 2     | 0.8744 | Dataset 2\n"
     ]
    }
   ],
   "source": [
    "# F1 scores for Dataset 1\n",
    "f1_scores = {\n",
    "    'K-Nearest Neighbors': f1_score(y_test, y_pred_knn),\n",
    "    'SVM': f1_score(y_test, y_pred_svm),\n",
    "    'Neural Networks MinMaxscaled': f1_score(y_test, y_pred_minmax),\n",
    "    'Neural Networks Tuned MinMaxscaled': f1_score(y_test, y_pred_minmax3),\n",
    "    'Neural Networks Standardscaled': f1_score(y_test, y_pred_standard5),\n",
    "    'Neural Networks Tuned Standardscaled': f1_score(y_test, y_pred_standard6)\n",
    "}\n",
    "\n",
    "# F1 scores for Dataset 2\n",
    "f1_scores2 = {\n",
    "    'K-Nearest Neighbors 2': f1_score(y_test2, y_pred_knn2),\n",
    "    'SVM 2': f1_score(y_test2, y_pred_svm2),\n",
    "    'Neural Networks MinMaxscaled 2': f1_score(y_test2, y_pred_minmax2),\n",
    "    'Neural Networks Tuned MinMaxscaled 2': f1_score(y_test2, y_pred_minmax4),\n",
    "    'Neural Networks Standardscaled 2': f1_score(y_test2, y_pred_standard7),\n",
    "    'Neural Networks Tuned Standardscaled 2': f1_score(y_test2, y_pred_standard8)\n",
    "}\n",
    "\n",
    "# Combine F1 scores from both datasets\n",
    "combined_f1_scores = {**f1_scores, **f1_scores2}\n",
    "\n",
    "# Sort F1 scores in descending order\n",
    "sorted_f1_scores = {k: v for k, v in sorted(combined_f1_scores.items(), key=lambda item: item[1], reverse=True)}\n",
    "\n",
    "# Display top 10 F1 Scores leaderboard\n",
    "print(\"Top 10 F1 Scores Leaderboard:\")\n",
    "print(\"Rank | Method                                      | Score  | Dataset\")\n",
    "print(\"-\" * 70)\n",
    "for rank, (method, score) in enumerate(sorted_f1_scores.items(), start=1):\n",
    "    dataset_name = \"Dataset 1\" if method in f1_scores else \"Dataset 2\"\n",
    "    print(f\"{rank:4d} | {method:<40} | {score:.4f} | {dataset_name}\")\n",
    "    if rank == 10:\n",
    "        break"
   ]
  },
  {
   "cell_type": "code",
   "execution_count": null,
   "id": "c669b25b",
   "metadata": {},
   "outputs": [],
   "source": []
  }
 ],
 "metadata": {
  "kernelspec": {
   "display_name": "final_project",
   "language": "python",
   "name": "final_project"
  },
  "language_info": {
   "codemirror_mode": {
    "name": "ipython",
    "version": 3
   },
   "file_extension": ".py",
   "mimetype": "text/x-python",
   "name": "python",
   "nbconvert_exporter": "python",
   "pygments_lexer": "ipython3",
   "version": "3.10.9"
  }
 },
 "nbformat": 4,
 "nbformat_minor": 5
}
