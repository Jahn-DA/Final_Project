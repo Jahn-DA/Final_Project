{
 "cells": [
  {
   "cell_type": "markdown",
   "id": "29f06c81",
   "metadata": {},
   "source": [
    "<div style=\"background-color: #D9EAD3; border-radius: 10px; border: 1px solid #D2B48C; padding: 10px;\">\n",
    "    <h2 style=\"color: #8B4513;\">Import Libraries</h2>\n",
    "</div>"
   ]
  },
  {
   "cell_type": "code",
   "execution_count": 1,
   "id": "ae64b8cc",
   "metadata": {},
   "outputs": [],
   "source": [
    "import pandas as pd\n",
    "import numpy as np\n",
    "import seaborn as sns\n",
    "import matplotlib.pyplot as plt\n",
    "import pickle\n",
    "import tensorflow as tf\n",
    "from tensorflow import keras\n",
    "from tensorflow.keras.layers import Dense, Dropout\n",
    "from tensorflow.keras.optimizers import Adam\n",
    "from tensorflow.keras.callbacks import EarlyStopping\n",
    "from tensorflow.keras.models import Sequential\n",
    "from sklearn import metrics\n",
    "from sklearn.metrics import cohen_kappa_score\n",
    "from sklearn.model_selection import train_test_split , GridSearchCV\n",
    "from sklearn.linear_model import LogisticRegression, LinearRegression \n",
    "from sklearn.metrics import classification_report, confusion_matrix,precision_score, recall_score, f1_score, accuracy_score, roc_curve, precision_recall_curve, auc\n",
    "from sklearn.preprocessing import StandardScaler, MinMaxScaler\n",
    "from sklearn.naive_bayes import ComplementNB, GaussianNB\n",
    "from sklearn.neighbors import KNeighborsClassifier \n",
    "from sklearn.tree import DecisionTreeClassifier\n",
    "from sklearn.ensemble import RandomForestClassifier, GradientBoostingClassifier, AdaBoostClassifier\n",
    "from xgboost import XGBClassifier\n",
    "from sklearn.svm import SVC\n",
    "from sklearn.neural_network import MLPClassifier\n",
    "from sklearn.datasets import load_iris\n",
    "from sklearn.discriminant_analysis import LinearDiscriminantAnalysis, QuadraticDiscriminantAnalysis"
   ]
  },
  {
   "cell_type": "markdown",
   "id": "10cdca48",
   "metadata": {},
   "source": [
    "<div style=\"background-color: #D9EAD3; border-radius: 10px; border: 1px solid #D2B48C; padding: 10px;\">\n",
    "    <h2 style=\"color: #8B4513;\">Read Data</h2>\n",
    "</div>\n"
   ]
  },
  {
   "cell_type": "code",
   "execution_count": 2,
   "id": "b55b31f9",
   "metadata": {},
   "outputs": [
    {
     "data": {
      "text/html": [
       "<div>\n",
       "<style scoped>\n",
       "    .dataframe tbody tr th:only-of-type {\n",
       "        vertical-align: middle;\n",
       "    }\n",
       "\n",
       "    .dataframe tbody tr th {\n",
       "        vertical-align: top;\n",
       "    }\n",
       "\n",
       "    .dataframe thead th {\n",
       "        text-align: right;\n",
       "    }\n",
       "</style>\n",
       "<table border=\"1\" class=\"dataframe\">\n",
       "  <thead>\n",
       "    <tr style=\"text-align: right;\">\n",
       "      <th></th>\n",
       "      <th>AREA</th>\n",
       "      <th>PERIMETER</th>\n",
       "      <th>MAJOR_AXIS</th>\n",
       "      <th>MINOR_AXIS</th>\n",
       "      <th>ECCENTRICITY</th>\n",
       "      <th>SOLIDITY</th>\n",
       "      <th>EXTENT</th>\n",
       "      <th>ROUNDNESS</th>\n",
       "      <th>COMPACTNESS</th>\n",
       "      <th>SHAPEFACTOR_2</th>\n",
       "      <th>Class</th>\n",
       "    </tr>\n",
       "  </thead>\n",
       "  <tbody>\n",
       "    <tr>\n",
       "      <th>0</th>\n",
       "      <td>73107</td>\n",
       "      <td>1161.8070</td>\n",
       "      <td>442.4074</td>\n",
       "      <td>217.7261</td>\n",
       "      <td>0.8705</td>\n",
       "      <td>0.9424</td>\n",
       "      <td>0.7710</td>\n",
       "      <td>0.6806</td>\n",
       "      <td>0.6896</td>\n",
       "      <td>0.0030</td>\n",
       "      <td>0</td>\n",
       "    </tr>\n",
       "    <tr>\n",
       "      <th>1</th>\n",
       "      <td>89272</td>\n",
       "      <td>1173.1810</td>\n",
       "      <td>460.2551</td>\n",
       "      <td>251.9546</td>\n",
       "      <td>0.8369</td>\n",
       "      <td>0.9641</td>\n",
       "      <td>0.7584</td>\n",
       "      <td>0.8151</td>\n",
       "      <td>0.7325</td>\n",
       "      <td>0.0028</td>\n",
       "      <td>1</td>\n",
       "    </tr>\n",
       "    <tr>\n",
       "      <th>2</th>\n",
       "      <td>60955</td>\n",
       "      <td>999.7890</td>\n",
       "      <td>386.9247</td>\n",
       "      <td>209.1255</td>\n",
       "      <td>0.8414</td>\n",
       "      <td>0.9465</td>\n",
       "      <td>0.7263</td>\n",
       "      <td>0.7663</td>\n",
       "      <td>0.7200</td>\n",
       "      <td>0.0034</td>\n",
       "      <td>0</td>\n",
       "    </tr>\n",
       "    <tr>\n",
       "      <th>3</th>\n",
       "      <td>79537</td>\n",
       "      <td>1439.5129</td>\n",
       "      <td>466.7973</td>\n",
       "      <td>221.2136</td>\n",
       "      <td>0.8806</td>\n",
       "      <td>0.9437</td>\n",
       "      <td>0.7568</td>\n",
       "      <td>0.4823</td>\n",
       "      <td>0.6817</td>\n",
       "      <td>0.0028</td>\n",
       "      <td>0</td>\n",
       "    </tr>\n",
       "    <tr>\n",
       "      <th>4</th>\n",
       "      <td>96395</td>\n",
       "      <td>1352.6740</td>\n",
       "      <td>515.8730</td>\n",
       "      <td>246.5945</td>\n",
       "      <td>0.8784</td>\n",
       "      <td>0.9549</td>\n",
       "      <td>0.7428</td>\n",
       "      <td>0.6620</td>\n",
       "      <td>0.6791</td>\n",
       "      <td>0.0026</td>\n",
       "      <td>0</td>\n",
       "    </tr>\n",
       "  </tbody>\n",
       "</table>\n",
       "</div>"
      ],
      "text/plain": [
       "    AREA  PERIMETER  MAJOR_AXIS  MINOR_AXIS  ECCENTRICITY  SOLIDITY  EXTENT  \\\n",
       "0  73107  1161.8070    442.4074    217.7261        0.8705    0.9424  0.7710   \n",
       "1  89272  1173.1810    460.2551    251.9546        0.8369    0.9641  0.7584   \n",
       "2  60955   999.7890    386.9247    209.1255        0.8414    0.9465  0.7263   \n",
       "3  79537  1439.5129    466.7973    221.2136        0.8806    0.9437  0.7568   \n",
       "4  96395  1352.6740    515.8730    246.5945        0.8784    0.9549  0.7428   \n",
       "\n",
       "   ROUNDNESS  COMPACTNESS  SHAPEFACTOR_2  Class  \n",
       "0     0.6806       0.6896         0.0030      0  \n",
       "1     0.8151       0.7325         0.0028      1  \n",
       "2     0.7663       0.7200         0.0034      0  \n",
       "3     0.4823       0.6817         0.0028      0  \n",
       "4     0.6620       0.6791         0.0026      0  "
      ]
     },
     "execution_count": 2,
     "metadata": {},
     "output_type": "execute_result"
    }
   ],
   "source": [
    "df = pd.read_csv('/Users/jxhn/Desktop/IRONHACK/Week_9/Final_project/Data/Cleaned/data1clean.csv')\n",
    "df.head()"
   ]
  },
  {
   "cell_type": "code",
   "execution_count": 3,
   "id": "21f1d71f",
   "metadata": {},
   "outputs": [
    {
     "data": {
      "text/html": [
       "<div>\n",
       "<style scoped>\n",
       "    .dataframe tbody tr th:only-of-type {\n",
       "        vertical-align: middle;\n",
       "    }\n",
       "\n",
       "    .dataframe tbody tr th {\n",
       "        vertical-align: top;\n",
       "    }\n",
       "\n",
       "    .dataframe thead th {\n",
       "        text-align: right;\n",
       "    }\n",
       "</style>\n",
       "<table border=\"1\" class=\"dataframe\">\n",
       "  <thead>\n",
       "    <tr style=\"text-align: right;\">\n",
       "      <th></th>\n",
       "      <th>AREA</th>\n",
       "      <th>MINOR_AXIS</th>\n",
       "      <th>ECCENTRICITY</th>\n",
       "      <th>EQDIASQ</th>\n",
       "      <th>CONVEX_AREA</th>\n",
       "      <th>ASPECT_RATIO</th>\n",
       "      <th>COMPACTNESS</th>\n",
       "      <th>SHAPEFACTOR_1</th>\n",
       "      <th>SHAPEFACTOR_3</th>\n",
       "      <th>Class</th>\n",
       "    </tr>\n",
       "  </thead>\n",
       "  <tbody>\n",
       "    <tr>\n",
       "      <th>0</th>\n",
       "      <td>73107</td>\n",
       "      <td>217.7261</td>\n",
       "      <td>0.8705</td>\n",
       "      <td>305.0946</td>\n",
       "      <td>77579</td>\n",
       "      <td>2.0319</td>\n",
       "      <td>0.6896</td>\n",
       "      <td>0.0061</td>\n",
       "      <td>0.4756</td>\n",
       "      <td>0</td>\n",
       "    </tr>\n",
       "    <tr>\n",
       "      <th>1</th>\n",
       "      <td>89272</td>\n",
       "      <td>251.9546</td>\n",
       "      <td>0.8369</td>\n",
       "      <td>337.1419</td>\n",
       "      <td>92598</td>\n",
       "      <td>1.8267</td>\n",
       "      <td>0.7325</td>\n",
       "      <td>0.0052</td>\n",
       "      <td>0.5366</td>\n",
       "      <td>1</td>\n",
       "    </tr>\n",
       "    <tr>\n",
       "      <th>2</th>\n",
       "      <td>60955</td>\n",
       "      <td>209.1255</td>\n",
       "      <td>0.8414</td>\n",
       "      <td>278.5863</td>\n",
       "      <td>64400</td>\n",
       "      <td>1.8502</td>\n",
       "      <td>0.7200</td>\n",
       "      <td>0.0063</td>\n",
       "      <td>0.5184</td>\n",
       "      <td>0</td>\n",
       "    </tr>\n",
       "    <tr>\n",
       "      <th>3</th>\n",
       "      <td>79537</td>\n",
       "      <td>221.2136</td>\n",
       "      <td>0.8806</td>\n",
       "      <td>318.2289</td>\n",
       "      <td>84281</td>\n",
       "      <td>2.1102</td>\n",
       "      <td>0.6817</td>\n",
       "      <td>0.0059</td>\n",
       "      <td>0.4648</td>\n",
       "      <td>0</td>\n",
       "    </tr>\n",
       "    <tr>\n",
       "      <th>4</th>\n",
       "      <td>96395</td>\n",
       "      <td>246.5945</td>\n",
       "      <td>0.8784</td>\n",
       "      <td>350.3340</td>\n",
       "      <td>100950</td>\n",
       "      <td>2.0920</td>\n",
       "      <td>0.6791</td>\n",
       "      <td>0.0054</td>\n",
       "      <td>0.4612</td>\n",
       "      <td>0</td>\n",
       "    </tr>\n",
       "  </tbody>\n",
       "</table>\n",
       "</div>"
      ],
      "text/plain": [
       "    AREA  MINOR_AXIS  ECCENTRICITY   EQDIASQ  CONVEX_AREA  ASPECT_RATIO  \\\n",
       "0  73107    217.7261        0.8705  305.0946        77579        2.0319   \n",
       "1  89272    251.9546        0.8369  337.1419        92598        1.8267   \n",
       "2  60955    209.1255        0.8414  278.5863        64400        1.8502   \n",
       "3  79537    221.2136        0.8806  318.2289        84281        2.1102   \n",
       "4  96395    246.5945        0.8784  350.3340       100950        2.0920   \n",
       "\n",
       "   COMPACTNESS  SHAPEFACTOR_1  SHAPEFACTOR_3  Class  \n",
       "0       0.6896         0.0061         0.4756      0  \n",
       "1       0.7325         0.0052         0.5366      1  \n",
       "2       0.7200         0.0063         0.5184      0  \n",
       "3       0.6817         0.0059         0.4648      0  \n",
       "4       0.6791         0.0054         0.4612      0  "
      ]
     },
     "execution_count": 3,
     "metadata": {},
     "output_type": "execute_result"
    }
   ],
   "source": [
    "df2 = pd.read_csv('/Users/jxhn/Desktop/IRONHACK/Week_9/Final_project/Data/Cleaned/data2clean.csv')\n",
    "df2.head()"
   ]
  },
  {
   "cell_type": "markdown",
   "id": "692c2d22",
   "metadata": {},
   "source": [
    "<div style=\"background-color: #D9EAD3; border-radius: 10px; border: 1px solid #D2B48C; padding: 10px;\">\n",
    "    <h2 style=\"color: #8B4513;\">X & y Split</h2>\n",
    "</div>\n"
   ]
  },
  {
   "cell_type": "markdown",
   "id": "cded04ee",
   "metadata": {},
   "source": [
    "### Dataset 1"
   ]
  },
  {
   "cell_type": "code",
   "execution_count": 4,
   "id": "f4757f75",
   "metadata": {},
   "outputs": [],
   "source": [
    "X = df.drop(columns=['Class'],axis=1)\n",
    "y = df['Class']"
   ]
  },
  {
   "cell_type": "code",
   "execution_count": 5,
   "id": "4119e17e",
   "metadata": {},
   "outputs": [],
   "source": [
    "X_train, X_test, y_train, y_test = train_test_split(X, y, test_size=0.2, random_state=42)"
   ]
  },
  {
   "cell_type": "code",
   "execution_count": 6,
   "id": "70d51ab5",
   "metadata": {},
   "outputs": [
    {
     "name": "stdout",
     "output_type": "stream",
     "text": [
      "X_train have 3193 rows and 10 columns.\n",
      "X_test have 799 rows and 10 columns.\n"
     ]
    }
   ],
   "source": [
    "row, col = X_train.shape\n",
    "print(\"X_train have\",row,\"rows and\",col,\"columns.\")\n",
    "row, col = X_test.shape\n",
    "print(\"X_test have\",row,\"rows and\",col,\"columns.\")"
   ]
  },
  {
   "cell_type": "markdown",
   "id": "225c1fda",
   "metadata": {},
   "source": [
    "### Dataset 2"
   ]
  },
  {
   "cell_type": "code",
   "execution_count": 7,
   "id": "33290840",
   "metadata": {},
   "outputs": [],
   "source": [
    "X2 = df2.drop(columns=['Class'],axis=1)\n",
    "y2 = df2['Class']"
   ]
  },
  {
   "cell_type": "code",
   "execution_count": 8,
   "id": "b860fdfb",
   "metadata": {},
   "outputs": [],
   "source": [
    "X_train2, X_test2, y_train2, y_test2 = train_test_split(X2, y2, test_size=0.2, random_state=42)"
   ]
  },
  {
   "cell_type": "code",
   "execution_count": 9,
   "id": "7c00903d",
   "metadata": {},
   "outputs": [
    {
     "name": "stdout",
     "output_type": "stream",
     "text": [
      "X_train have 3193 rows and 9 columns.\n",
      "X_test have 799 rows and 9 columns.\n"
     ]
    }
   ],
   "source": [
    "row, col = X_train2.shape\n",
    "print(\"X_train have\",row,\"rows and\",col,\"columns.\")\n",
    "row, col = X_test2.shape\n",
    "print(\"X_test have\",row,\"rows and\",col,\"columns.\")"
   ]
  },
  {
   "cell_type": "markdown",
   "id": "619926d4",
   "metadata": {},
   "source": [
    "<div style=\"background-color: #D9EAD3; border-radius: 10px; border: 1px solid #D2B48C; padding: 10px;\">\n",
    "    <h2 style=\"color: #8B4513; font-size: 30px;\">Machine Learning Models</h2>\n",
    "</div>"
   ]
  },
  {
   "cell_type": "code",
   "execution_count": 10,
   "id": "6573bcb5",
   "metadata": {},
   "outputs": [],
   "source": [
    "tf.random.set_seed(12)"
   ]
  },
  {
   "cell_type": "markdown",
   "id": "7b8da951",
   "metadata": {},
   "source": [
    "<div style=\"background-color: #D9EAD3; border-radius: 10px; border: 1px solid #D2B48C; padding: 10px;\">\n",
    "    <h2 style=\"color: #8B4513; font-size: 24px;\">Decision Tree</h2>\n",
    "</div>"
   ]
  },
  {
   "cell_type": "markdown",
   "id": "9429d158",
   "metadata": {},
   "source": [
    "<!DOCTYPE html>\n",
    "<html>\n",
    "  <head>\n",
    "    <script src=\"https://polyfill.io/v3/polyfill.min.js?features=es6\"></script>\n",
    "    <script src=\"https://cdn.mathjax.org/mathjax/latest/MathJax.js?config=TeX-MML-AM_CHTML\"></script>\n",
    "  </head>\n",
    "  <body>\n",
    "    <p style=\"color: #446A46;\">The Decision Tree formula:</p>\n",
    "      <br/>\n",
    "    <div>\n",
    "      <span style=\"color: #446A46;\">\\( y = \\)</span> \n",
    "      <span style=\"color: #446A46;\">\\( \\begin{cases} \\text{class}_1, & \\text{if condition}_1 \\\\ \\text{class}_2, & \\text{if condition}_2 \\\\ \\ldots \\\\ \\text{class}_n, & \\text{if condition}_n \\end{cases} \\)</span>\n",
    "    </div>\n",
    "  </body>\n",
    "</html>"
   ]
  },
  {
   "cell_type": "markdown",
   "id": "94258883",
   "metadata": {},
   "source": [
    "<div style=\"background-color: #D9EAD3; border-radius: 10px; border: 1px solid #D2B48C; padding: 10px;\">\n",
    "    <h2 style=\"color: #8B4513; font-size: 20px;\">GridSearch for finding out the best hyperparameters</h2>\n",
    "</div>"
   ]
  },
  {
   "cell_type": "markdown",
   "id": "e8b8bf7b",
   "metadata": {},
   "source": [
    "### Dataset 1"
   ]
  },
  {
   "cell_type": "code",
   "execution_count": 11,
   "id": "d0ae70e9",
   "metadata": {},
   "outputs": [
    {
     "name": "stdout",
     "output_type": "stream",
     "text": [
      "Fitting 10 folds for each of 144 candidates, totalling 1440 fits\n"
     ]
    }
   ],
   "source": [
    "hyperparameters = [{\n",
    "    'criterion': ['gini', 'entropy'],\n",
    "    'max_depth': [5, 10, 20],\n",
    "    'min_samples_split': [2, 5, 10],\n",
    "    'max_features': ['sqrt', 'log2'],\n",
    "    'min_samples_leaf': [1, 2, 4, 10]\n",
    "}]\n",
    "\n",
    "dt = DecisionTreeClassifier()\n",
    "grid_search = GridSearchCV(dt, hyperparameters, scoring='f1', cv=10, verbose=True, n_jobs=-1)\n",
    "grid_search.fit(X_train, y_train)\n",
    "\n",
    "path_of_file = '/Users/jxhn/Desktop/IRONHACK/Week_9/Final_project/Models/'\n",
    "with open(path_of_file + 'dt1.pkl', 'wb') as model_file:\n",
    "    pickle.dump(dt, model_file)"
   ]
  },
  {
   "cell_type": "code",
   "execution_count": 12,
   "id": "7da89d22",
   "metadata": {},
   "outputs": [
    {
     "name": "stdout",
     "output_type": "stream",
     "text": [
      "Best Parameters: {'criterion': 'entropy', 'max_depth': 20, 'max_features': 'sqrt', 'min_samples_leaf': 1, 'min_samples_split': 2}\n",
      "Best Score: 0.9501020207297556\n"
     ]
    }
   ],
   "source": [
    "best_dt_params = grid_search.best_params_\n",
    "best_dtscore = grid_search.best_score_\n",
    "print(\"Best Parameters:\", best_dt_params)\n",
    "print(\"Best Score:\", best_dtscore)"
   ]
  },
  {
   "cell_type": "markdown",
   "id": "71f955bb",
   "metadata": {},
   "source": [
    "### Dataset 2"
   ]
  },
  {
   "cell_type": "code",
   "execution_count": 13,
   "id": "abab6426",
   "metadata": {},
   "outputs": [
    {
     "name": "stdout",
     "output_type": "stream",
     "text": [
      "Fitting 10 folds for each of 144 candidates, totalling 1440 fits\n"
     ]
    }
   ],
   "source": [
    "hyperparameters2 = [{\n",
    "    'criterion': ['gini', 'entropy'],\n",
    "    'max_depth': [5, 10, 20],\n",
    "    'min_samples_split': [2, 5, 10],\n",
    "    'max_features': ['sqrt', 'log2'],\n",
    "    'min_samples_leaf': [1, 2, 4, 10]\n",
    "}]\n",
    "\n",
    "dt2 = DecisionTreeClassifier()\n",
    "grid_search2 = GridSearchCV(dt2, hyperparameters2, scoring='f1', cv=10, verbose=True, n_jobs=-1)\n",
    "grid_search2.fit(X_train2, y_train2)\n",
    "\n",
    "path_of_file = '/Users/jxhn/Desktop/IRONHACK/Week_9/Final_project/Models/'\n",
    "with open(path_of_file + 'dt2.pkl', 'wb') as model_file:\n",
    "    pickle.dump(dt2, model_file)"
   ]
  },
  {
   "cell_type": "code",
   "execution_count": 14,
   "id": "5f547fed",
   "metadata": {},
   "outputs": [
    {
     "name": "stdout",
     "output_type": "stream",
     "text": [
      "Best Parameters: {'criterion': 'entropy', 'max_depth': 20, 'max_features': 'sqrt', 'min_samples_leaf': 1, 'min_samples_split': 2}\n",
      "Best Score: 0.9562667740707059\n"
     ]
    }
   ],
   "source": [
    "best_dt_params2 = grid_search2.best_params_\n",
    "best_dtscore2 = grid_search2.best_score_\n",
    "print(\"Best Parameters:\", best_dt_params2)\n",
    "print(\"Best Score:\", best_dtscore2)"
   ]
  },
  {
   "cell_type": "markdown",
   "id": "7ce0f91d",
   "metadata": {},
   "source": [
    "<div style=\"background-color: #D9EAD3; border-radius: 10px; border: 1px solid #D2B48C; padding: 10px;\">\n",
    "    <h2 style=\"color: #8B4513; font-size: 20px;\">Train X & y with best parameters</h2>\n",
    "</div>"
   ]
  },
  {
   "cell_type": "markdown",
   "id": "c60f299c",
   "metadata": {},
   "source": [
    "### Dataset 1"
   ]
  },
  {
   "cell_type": "code",
   "execution_count": 15,
   "id": "4a80e260",
   "metadata": {},
   "outputs": [],
   "source": [
    "best_dt = DecisionTreeClassifier(**best_dt_params)\n",
    "best_dt.fit(X_train, y_train.ravel())\n",
    "y_pred_dt = best_dt.predict(X_test)"
   ]
  },
  {
   "cell_type": "code",
   "execution_count": 16,
   "id": "af212112",
   "metadata": {},
   "outputs": [
    {
     "name": "stdout",
     "output_type": "stream",
     "text": [
      "F1 Score on Test Set: 0.95\n"
     ]
    }
   ],
   "source": [
    "f1 = f1_score(y_test, y_pred_dt)\n",
    "print(\"F1 Score on Test Set:\", f1)"
   ]
  },
  {
   "cell_type": "code",
   "execution_count": 17,
   "id": "0f192a2f",
   "metadata": {},
   "outputs": [
    {
     "name": "stdout",
     "output_type": "stream",
     "text": [
      "Accuracy on test: 0.9499374217772215\n",
      "Accuracy on train: 1.0\n",
      "Cohen's Kappa Score on test: 0.8998771960602491\n"
     ]
    }
   ],
   "source": [
    "print(\"Accuracy on test:\", metrics.accuracy_score(y_test,y_pred_dt))\n",
    "y_pred_dt_train = best_dt.predict(X_train)\n",
    "print(\"Accuracy on train:\", metrics.accuracy_score(y_train,y_pred_dt_train))\n",
    "kappa_score13 = cohen_kappa_score(y_test, y_pred_dt)\n",
    "print(\"Cohen's Kappa Score on test:\", kappa_score13)"
   ]
  },
  {
   "cell_type": "markdown",
   "id": "daf7f8af",
   "metadata": {},
   "source": [
    "### Dataset 2"
   ]
  },
  {
   "cell_type": "code",
   "execution_count": 18,
   "id": "4762b8b8",
   "metadata": {},
   "outputs": [],
   "source": [
    "best_dt2 = DecisionTreeClassifier(**best_dt_params2)\n",
    "best_dt2.fit(X_train2, y_train2.ravel())\n",
    "y_pred_dt2 = best_dt2.predict(X_test2)"
   ]
  },
  {
   "cell_type": "code",
   "execution_count": 19,
   "id": "9216b348",
   "metadata": {},
   "outputs": [
    {
     "name": "stdout",
     "output_type": "stream",
     "text": [
      "F1 Score on Test Set: 0.9686323713927226\n"
     ]
    }
   ],
   "source": [
    "f12 = f1_score(y_test2, y_pred_dt2)\n",
    "print(\"F1 Score on Test Set:\", f12)"
   ]
  },
  {
   "cell_type": "code",
   "execution_count": 20,
   "id": "98756dde",
   "metadata": {},
   "outputs": [
    {
     "name": "stdout",
     "output_type": "stream",
     "text": [
      "Accuracy on test: 0.9687108886107635\n",
      "Accuracy on train: 0.9996868149076104\n",
      "Cohen's Kappa Score on test: 0.9374261879626468\n"
     ]
    }
   ],
   "source": [
    "print(\"Accuracy on test:\", metrics.accuracy_score(y_test2,y_pred_dt2))\n",
    "y_pred_dt_train2 = best_dt2.predict(X_train2)\n",
    "print(\"Accuracy on train:\", metrics.accuracy_score(y_train2,y_pred_dt_train2))\n",
    "kappa_score14 = cohen_kappa_score(y_test2, y_pred_dt2)\n",
    "print(\"Cohen's Kappa Score on test:\", kappa_score14)"
   ]
  },
  {
   "cell_type": "markdown",
   "id": "ce64407b",
   "metadata": {},
   "source": [
    "<div style=\"background-color: #D9EAD3; border-radius: 10px; border: 1px solid #D2B48C; padding: 10px;\">\n",
    "    <h2 style=\"color: #8B4513; font-size: 20px;\">Confusion Matrix for Decision Tree</h2>\n",
    "</div>"
   ]
  },
  {
   "cell_type": "markdown",
   "id": "e91e3358",
   "metadata": {},
   "source": [
    "### Dataset 1"
   ]
  },
  {
   "cell_type": "code",
   "execution_count": 21,
   "id": "31f135b1",
   "metadata": {},
   "outputs": [
    {
     "data": {
      "image/png": "[encoded data removed]",
      "text/plain": [
       "<Figure size 448x336 with 2 Axes>"
      ]
     },
     "metadata": {},
     "output_type": "display_data"
    }
   ],
   "source": [
    "dt_cm = confusion_matrix(y_test, y_pred_dt)\n",
    "sns.set(font_scale=1.5)\n",
    "plt.figure(dpi=70)\n",
    "sns.heatmap(dt_cm, annot=True, cmap='Greens', fmt='g')\n",
    "plt.xlabel('Predicted')\n",
    "plt.ylabel('Actual')\n",
    "plt.show()"
   ]
  },
  {
   "cell_type": "markdown",
   "id": "0fa8b568",
   "metadata": {},
   "source": [
    "### Dataset 2"
   ]
  },
  {
   "cell_type": "code",
   "execution_count": 22,
   "id": "a05ade99",
   "metadata": {},
   "outputs": [
    {
     "data": {
      "image/png": "[encoded data removed]",
      "text/plain": [
       "<Figure size 448x336 with 2 Axes>"
      ]
     },
     "metadata": {},
     "output_type": "display_data"
    }
   ],
   "source": [
    "dt_cm2 = confusion_matrix(y_test2, y_pred_dt2)\n",
    "sns.set(font_scale=1.5)\n",
    "plt.figure(dpi=70)\n",
    "sns.heatmap(dt_cm2, annot=True, cmap='Greens', fmt='g')\n",
    "plt.xlabel('Predicted')\n",
    "plt.ylabel('Actual')\n",
    "plt.show()"
   ]
  },
  {
   "cell_type": "markdown",
   "id": "23facc4c",
   "metadata": {},
   "source": [
    "<div style=\"background-color: #D9EAD3; border-radius: 10px; border: 1px solid #D2B48C; padding: 10px;\">\n",
    "    <h2 style=\"color: #8B4513; font-size: 24px;\">Random Forest</h2>\n",
    "</div>"
   ]
  },
  {
   "cell_type": "markdown",
   "id": "a087acd8",
   "metadata": {},
   "source": [
    "</html>\n",
    "  </body>\n",
    "    </div>\n",
    "     </div>\n",
    "      <p style=\"color: #446A46;\">The Random Forest formula:</p>\n",
    "      <div style=\"color: #446A46;\">\n",
    "        <span style=\"color: #446A46;\">\\( y = \\)</span>\n",
    "        <span>\\( \\frac{1}{T} \\sum_{t=1}^{T} f_t(x) \\)</span>\n",
    "      </div>\n",
    "    </div>\n",
    "  </body>\n",
    "</html>\n"
   ]
  },
  {
   "cell_type": "markdown",
   "id": "895e6e7d",
   "metadata": {},
   "source": [
    "<div style=\"background-color: #D9EAD3; border-radius: 10px; border: 1px solid #D2B48C; padding: 10px;\">\n",
    "    <h2 style=\"color: #8B4513; font-size: 20px;\">GridSearch for finding out the best hyperparameters</h2>\n",
    "</div>"
   ]
  },
  {
   "cell_type": "markdown",
   "id": "12d409a3",
   "metadata": {},
   "source": [
    "### Dataset 1"
   ]
  },
  {
   "cell_type": "code",
   "execution_count": 23,
   "id": "2924c8c6",
   "metadata": {},
   "outputs": [
    {
     "name": "stdout",
     "output_type": "stream",
     "text": [
      "Fitting 5 folds for each of 198 candidates, totalling 990 fits\n"
     ]
    }
   ],
   "source": [
    "hyperparameters3 = [{\n",
    "    'n_estimators': range(10,120,10),\n",
    "    'criterion': ['gini', 'entropy'],\n",
    "    'max_depth': [2, 5, 10],\n",
    "    'max_features':[2,3,4]\n",
    "}]\n",
    "\n",
    "rf = RandomForestClassifier()\n",
    "grid_search3 = GridSearchCV(rf, hyperparameters3, scoring='f1', cv=5, verbose=True, n_jobs=-1)\n",
    "grid_search3.fit(X_train, y_train)\n",
    "\n",
    "path_of_file = '/Users/jxhn/Desktop/IRONHACK/Week_9/Final_project/Models/'\n",
    "with open(path_of_file + 'rf.pkl', 'wb') as model_file:\n",
    "    pickle.dump(rf, model_file)"
   ]
  },
  {
   "cell_type": "code",
   "execution_count": 24,
   "id": "f65a8ddf",
   "metadata": {},
   "outputs": [
    {
     "name": "stdout",
     "output_type": "stream",
     "text": [
      "Best Parameters: {'criterion': 'entropy', 'max_depth': 20, 'max_features': 'sqrt', 'min_samples_leaf': 1, 'min_samples_split': 2}\n",
      "Best Score: 0.9501020207297556\n"
     ]
    }
   ],
   "source": [
    "best_rf_params = grid_search.best_params_\n",
    "best_rfscore = grid_search.best_score_\n",
    "print(\"Best Parameters:\", best_rf_params)\n",
    "print(\"Best Score:\", best_rfscore)"
   ]
  },
  {
   "cell_type": "markdown",
   "id": "f0c53b2a",
   "metadata": {},
   "source": [
    "### Dataset 2"
   ]
  },
  {
   "cell_type": "code",
   "execution_count": 25,
   "id": "2eb617b7",
   "metadata": {},
   "outputs": [
    {
     "name": "stdout",
     "output_type": "stream",
     "text": [
      "Fitting 5 folds for each of 198 candidates, totalling 990 fits\n"
     ]
    }
   ],
   "source": [
    "hyperparameters4 = [{\n",
    "    'n_estimators': range(10,120,10),\n",
    "    'criterion': ['gini', 'entropy'],\n",
    "    'max_depth': [2, 5, 10],\n",
    "    'max_features':[2,3,4]\n",
    "}]\n",
    "\n",
    "rf2 = RandomForestClassifier()\n",
    "grid_search4 = GridSearchCV(rf2, hyperparameters4, scoring='f1', cv=5, verbose=True, n_jobs=-1)\n",
    "grid_search4.fit(X_train2, y_train2)\n",
    "\n",
    "path_of_file = '/Users/jxhn/Desktop/IRONHACK/Week_9/Final_project/Models/'\n",
    "with open(path_of_file + 'rf2.pkl', 'wb') as model_file:\n",
    "    pickle.dump(rf2, model_file)"
   ]
  },
  {
   "cell_type": "code",
   "execution_count": 26,
   "id": "b75871d6",
   "metadata": {},
   "outputs": [
    {
     "name": "stdout",
     "output_type": "stream",
     "text": [
      "Best Parameters: {'criterion': 'gini', 'max_depth': 10, 'max_features': 4, 'n_estimators': 110}\n",
      "Best Score: 0.9441357860008829\n"
     ]
    }
   ],
   "source": [
    "best_rf_params2 = grid_search4.best_params_\n",
    "best_rfscore2 = grid_search4.best_score_\n",
    "print(\"Best Parameters:\", best_rf_params2)\n",
    "print(\"Best Score:\", best_rfscore2)"
   ]
  },
  {
   "cell_type": "markdown",
   "id": "262a20ae",
   "metadata": {},
   "source": [
    "<div style=\"background-color: #D9EAD3; border-radius: 10px; border: 1px solid #D2B48C; padding: 10px;\">\n",
    "    <h2 style=\"color: #8B4513; font-size: 20px;\">Train X & y with best parameters</h2>\n",
    "</div>"
   ]
  },
  {
   "cell_type": "markdown",
   "id": "1d505fdf",
   "metadata": {},
   "source": [
    "### Dataset 1"
   ]
  },
  {
   "cell_type": "code",
   "execution_count": 27,
   "id": "f21a5299",
   "metadata": {},
   "outputs": [],
   "source": [
    "best_rf = RandomForestClassifier(**best_rf_params)\n",
    "best_rf.fit(X_train, y_train.ravel())\n",
    "y_pred_rf = best_rf.predict(X_test)"
   ]
  },
  {
   "cell_type": "code",
   "execution_count": 28,
   "id": "76cac4b6",
   "metadata": {},
   "outputs": [
    {
     "name": "stdout",
     "output_type": "stream",
     "text": [
      "F1 Score on Test Set: 0.9737171464330412\n"
     ]
    }
   ],
   "source": [
    "f13 = f1_score(y_test, y_pred_rf)\n",
    "print(\"F1 Score on Test Set:\", f13)"
   ]
  },
  {
   "cell_type": "code",
   "execution_count": 29,
   "id": "e98cff96",
   "metadata": {},
   "outputs": [
    {
     "name": "stdout",
     "output_type": "stream",
     "text": [
      "Accuracy on test: 0.9737171464330413\n",
      "Accuracy on train: 1.0\n",
      "Cohen's Kappa Score on test: 0.9474363512764205\n"
     ]
    }
   ],
   "source": [
    "print(\"Accuracy on test:\", metrics.accuracy_score(y_test,y_pred_rf))\n",
    "y_pred_rf_train = best_rf.predict(X_train)\n",
    "print(\"Accuracy on train:\", metrics.accuracy_score(y_train,y_pred_rf_train))\n",
    "kappa_score15 = cohen_kappa_score(y_test, y_pred_rf)\n",
    "print(\"Cohen's Kappa Score on test:\", kappa_score15)"
   ]
  },
  {
   "cell_type": "markdown",
   "id": "826a108c",
   "metadata": {},
   "source": [
    "### Dataset 2"
   ]
  },
  {
   "cell_type": "code",
   "execution_count": 30,
   "id": "09b5de81",
   "metadata": {},
   "outputs": [],
   "source": [
    "best_rf2 = RandomForestClassifier(**best_rf_params2)\n",
    "best_rf2.fit(X_train2, y_train2.ravel())\n",
    "y_pred_rf2 = best_rf2.predict(X_test2)"
   ]
  },
  {
   "cell_type": "code",
   "execution_count": 31,
   "id": "f025d834",
   "metadata": {},
   "outputs": [
    {
     "name": "stdout",
     "output_type": "stream",
     "text": [
      "F1 Score on Test Set: 0.9477611940298507\n"
     ]
    }
   ],
   "source": [
    "f14 = f1_score(y_test2, y_pred_rf2)\n",
    "print(\"F1 Score on Test Set:\", f14)"
   ]
  },
  {
   "cell_type": "code",
   "execution_count": 32,
   "id": "1de8bb58",
   "metadata": {},
   "outputs": [
    {
     "name": "stdout",
     "output_type": "stream",
     "text": [
      "Accuracy on test: 0.9474342928660826\n",
      "Accuracy on train: 0.9846539304729095\n",
      "Cohen's Kappa Score on test: 0.8948644685890447\n"
     ]
    }
   ],
   "source": [
    "print(\"Accuracy on test:\", metrics.accuracy_score(y_test2,y_pred_rf2))\n",
    "y_pred_rf_train2 = best_rf2.predict(X_train2)\n",
    "print(\"Accuracy on train:\", metrics.accuracy_score(y_train2,y_pred_rf_train2))\n",
    "kappa_score16 = cohen_kappa_score(y_test2, y_pred_rf2)\n",
    "print(\"Cohen's Kappa Score on test:\", kappa_score16)"
   ]
  },
  {
   "cell_type": "markdown",
   "id": "45e0335f",
   "metadata": {},
   "source": [
    "<div style=\"background-color: #D9EAD3; border-radius: 10px; border: 1px solid #D2B48C; padding: 10px;\">\n",
    "    <h2 style=\"color: #8B4513; font-size: 20px;\">Confusion Matrix for Random Forest</h2>\n",
    "</div>"
   ]
  },
  {
   "cell_type": "markdown",
   "id": "5ea13cba",
   "metadata": {},
   "source": [
    "### Dataset 1"
   ]
  },
  {
   "cell_type": "code",
   "execution_count": 33,
   "id": "b00f0d29",
   "metadata": {},
   "outputs": [
    {
     "data": {
      "image/png": "[encoded data removed]",
      "text/plain": [
       "<Figure size 448x336 with 2 Axes>"
      ]
     },
     "metadata": {},
     "output_type": "display_data"
    }
   ],
   "source": [
    "rf_cm = confusion_matrix(y_test, y_pred_rf)\n",
    "sns.set(font_scale=1.5)\n",
    "plt.figure(dpi=70)\n",
    "sns.heatmap(rf_cm, annot=True, cmap='Greens', fmt='g')\n",
    "plt.xlabel('Predicted')\n",
    "plt.ylabel('Actual')\n",
    "plt.show()"
   ]
  },
  {
   "cell_type": "markdown",
   "id": "d15e3b8d",
   "metadata": {},
   "source": [
    "### Dataset 2"
   ]
  },
  {
   "cell_type": "code",
   "execution_count": 34,
   "id": "9904d5df",
   "metadata": {},
   "outputs": [
    {
     "data": {
      "image/png": "[encoded data removed]",
      "text/plain": [
       "<Figure size 448x336 with 2 Axes>"
      ]
     },
     "metadata": {},
     "output_type": "display_data"
    }
   ],
   "source": [
    "rf_cm2 = confusion_matrix(y_test2, y_pred_rf2)\n",
    "sns.set(font_scale=1.5)\n",
    "plt.figure(dpi=70)\n",
    "sns.heatmap(rf_cm2, annot=True, cmap='Greens', fmt='g')\n",
    "plt.xlabel('Predicted')\n",
    "plt.ylabel('Actual')\n",
    "plt.show()"
   ]
  },
  {
   "cell_type": "markdown",
   "id": "daab44b5",
   "metadata": {},
   "source": [
    "<div style=\"background-color: #D9EAD3; border-radius: 10px; border: 1px solid #D2B48C; padding: 10px;\">\n",
    "    <h2 style=\"color: #8B4513; font-size: 24px;\">ADA Boost</h2>\n",
    "</div>"
   ]
  },
  {
   "cell_type": "markdown",
   "id": "bd8e8a9f",
   "metadata": {},
   "source": [
    "</html>\n",
    "  </body>\n",
    "    </div>\n",
    "     </div>\n",
    "        <p style=\"color: #446A46;\">The ADABoost formula:</p>\n",
    "      <div style=\"color: #446A46;\">\n",
    "        <span style=\"color: #446A46;\">\\( y = \\)</span>\n",
    "        <span>\\( \\sum_{t=1}^{T} \\alpha_t f_t(x) \\)</span>\n",
    "      </div>\n",
    "    </div>\n",
    "  </body>\n",
    "</html>"
   ]
  },
  {
   "cell_type": "markdown",
   "id": "ad9c2397",
   "metadata": {},
   "source": [
    "<div style=\"background-color: #D9EAD3; border-radius: 10px; border: 1px solid #D2B48C; padding: 10px;\">\n",
    "    <h2 style=\"color: #8B4513; font-size: 20px;\">GridSearch for finding out the best hyperparameters</h2>\n",
    "</div>"
   ]
  },
  {
   "cell_type": "markdown",
   "id": "a35d0c2c",
   "metadata": {},
   "source": [
    "### Dataset 1"
   ]
  },
  {
   "cell_type": "code",
   "execution_count": 35,
   "id": "a0bf1f38",
   "metadata": {},
   "outputs": [
    {
     "name": "stdout",
     "output_type": "stream",
     "text": [
      "Fitting 5 folds for each of 30 candidates, totalling 150 fits\n"
     ]
    }
   ],
   "source": [
    "ada_params = [{\n",
    "    'n_estimators': range(300, 400, 10),\n",
    "    'learning_rate': [0.1, 0.5, 1.0]\n",
    "}]\n",
    "\n",
    "ada = AdaBoostClassifier()\n",
    "ada_grid_search = GridSearchCV(ada, ada_params, scoring='f1', cv=5, verbose=True, n_jobs=-1)\n",
    "ada_grid_search.fit(X_train, y_train)\n",
    "\n",
    "path_of_file = '/Users/jxhn/Desktop/IRONHACK/Week_9/Final_project/Models/'\n",
    "with open(path_of_file + 'ada1.pkl', 'wb') as model_file:\n",
    "    pickle.dump(ada, model_file)"
   ]
  },
  {
   "cell_type": "code",
   "execution_count": 36,
   "id": "fa010659",
   "metadata": {},
   "outputs": [
    {
     "name": "stdout",
     "output_type": "stream",
     "text": [
      "Best Parameters: {'learning_rate': 1.0, 'n_estimators': 390}\n",
      "Best Score: 0.8961476068376205\n"
     ]
    }
   ],
   "source": [
    "best_ada_params = ada_grid_search.best_params_\n",
    "best_adascore = ada_grid_search.best_score_\n",
    "\n",
    "print(\"Best Parameters:\", best_ada_params)\n",
    "print(\"Best Score:\", best_adascore)"
   ]
  },
  {
   "cell_type": "markdown",
   "id": "e2dbb7b4",
   "metadata": {},
   "source": [
    "### Dataset 2"
   ]
  },
  {
   "cell_type": "code",
   "execution_count": 37,
   "id": "403d06ab",
   "metadata": {},
   "outputs": [
    {
     "name": "stdout",
     "output_type": "stream",
     "text": [
      "Fitting 5 folds for each of 30 candidates, totalling 150 fits\n"
     ]
    }
   ],
   "source": [
    "ada_params2 = [{\n",
    "    'n_estimators': range(300, 400, 10),\n",
    "    'learning_rate': [0.1, 0.5, 1.0]\n",
    "}]\n",
    "\n",
    "ada2 = AdaBoostClassifier()\n",
    "ada_grid_search2 = GridSearchCV(ada2, ada_params2, scoring='f1', cv=5, verbose=True, n_jobs=-1)\n",
    "ada_grid_search2.fit(X_train2, y_train2)\n",
    "\n",
    "path_of_file = '/Users/jxhn/Desktop/IRONHACK/Week_9/Final_project/Models/'\n",
    "with open(path_of_file + 'ada2.pkl', 'wb') as model_file:\n",
    "    pickle.dump(ada2, model_file)"
   ]
  },
  {
   "cell_type": "code",
   "execution_count": 38,
   "id": "09f56413",
   "metadata": {},
   "outputs": [
    {
     "name": "stdout",
     "output_type": "stream",
     "text": [
      "Best Parameters: {'learning_rate': 1.0, 'n_estimators': 390}\n",
      "Best Score: 0.8883452331195478\n"
     ]
    }
   ],
   "source": [
    "best_ada_params2 = ada_grid_search2.best_params_\n",
    "best_adascore2 = ada_grid_search2.best_score_\n",
    "\n",
    "print(\"Best Parameters:\", best_ada_params2)\n",
    "print(\"Best Score:\", best_adascore2)"
   ]
  },
  {
   "cell_type": "markdown",
   "id": "a3b7ee8d",
   "metadata": {},
   "source": [
    "<div style=\"background-color: #D9EAD3; border-radius: 10px; border: 1px solid #D2B48C; padding: 10px;\">\n",
    "    <h2 style=\"color: #8B4513; font-size: 20px;\">Train X & y with best parameters</h2>\n",
    "</div>"
   ]
  },
  {
   "cell_type": "markdown",
   "id": "dfd745ea",
   "metadata": {},
   "source": [
    "### Dataset 1"
   ]
  },
  {
   "cell_type": "code",
   "execution_count": 39,
   "id": "4187df3b",
   "metadata": {},
   "outputs": [],
   "source": [
    "best_ada = AdaBoostClassifier(**best_ada_params)\n",
    "best_ada.fit(X_train, y_train)\n",
    "y_pred_ada = best_ada.predict(X_test)"
   ]
  },
  {
   "cell_type": "code",
   "execution_count": 40,
   "id": "9ce9759b",
   "metadata": {},
   "outputs": [
    {
     "name": "stdout",
     "output_type": "stream",
     "text": [
      "F1 Score on Test Set (ADABoost): 0.9033078880407125\n"
     ]
    }
   ],
   "source": [
    "f1_ada = f1_score(y_test, y_pred_ada)\n",
    "print(\"F1 Score on Test Set (ADABoost):\", f1_ada)"
   ]
  },
  {
   "cell_type": "code",
   "execution_count": 41,
   "id": "5b65f984",
   "metadata": {},
   "outputs": [
    {
     "name": "stdout",
     "output_type": "stream",
     "text": [
      "Accuracy on test (ADABoost): 0.904881101376721\n",
      "Accuracy on train (ADABoost): 0.9373629815220795\n",
      "Cohen's Kappa Score on test: 0.8098083801577309\n"
     ]
    }
   ],
   "source": [
    "print(\"Accuracy on test (ADABoost):\", metrics.accuracy_score(y_test, y_pred_ada))\n",
    "y_pred_ada_train = best_ada.predict(X_train)\n",
    "print(\"Accuracy on train (ADABoost):\", metrics.accuracy_score(y_train, y_pred_ada_train))\n",
    "kappa_score17 = cohen_kappa_score(y_test, y_pred_ada)\n",
    "print(\"Cohen's Kappa Score on test:\", kappa_score17)"
   ]
  },
  {
   "cell_type": "markdown",
   "id": "e60cd8b7",
   "metadata": {},
   "source": [
    "### Dataset 2"
   ]
  },
  {
   "cell_type": "code",
   "execution_count": 42,
   "id": "9c13bfa6",
   "metadata": {},
   "outputs": [],
   "source": [
    "best_ada2 = AdaBoostClassifier(**best_ada_params2)\n",
    "best_ada2.fit(X_train2, y_train2)\n",
    "y_pred_ada2 = best_ada2.predict(X_test2)"
   ]
  },
  {
   "cell_type": "code",
   "execution_count": 43,
   "id": "f5004349",
   "metadata": {},
   "outputs": [
    {
     "name": "stdout",
     "output_type": "stream",
     "text": [
      "F1 Score on Test Set (ADABoost): 0.900126422250316\n"
     ]
    }
   ],
   "source": [
    "f1_ada2 = f1_score(y_test2, y_pred_ada2)\n",
    "print(\"F1 Score on Test Set (ADABoost):\", f1_ada2)"
   ]
  },
  {
   "cell_type": "code",
   "execution_count": 44,
   "id": "09e6f5c4",
   "metadata": {},
   "outputs": [
    {
     "name": "stdout",
     "output_type": "stream",
     "text": [
      "Accuracy on test (ADABoost): 0.9011264080100125\n",
      "Accuracy on train (ADABoost): 0.9119949890385217\n",
      "Cohen's Kappa Score on test: 0.8022853348284902\n"
     ]
    }
   ],
   "source": [
    "print(\"Accuracy on test (ADABoost):\", metrics.accuracy_score(y_test2, y_pred_ada2))\n",
    "y_pred_ada_train2 = best_ada2.predict(X_train2)\n",
    "print(\"Accuracy on train (ADABoost):\", metrics.accuracy_score(y_train2, y_pred_ada_train2))\n",
    "kappa_score18 = cohen_kappa_score(y_test2, y_pred_ada2)\n",
    "print(\"Cohen's Kappa Score on test:\", kappa_score18)"
   ]
  },
  {
   "cell_type": "markdown",
   "id": "48e7176c",
   "metadata": {},
   "source": [
    "<div style=\"background-color: #D9EAD3; border-radius: 10px; border: 1px solid #D2B48C; padding: 10px;\">\n",
    "    <h2 style=\"color: #8B4513; font-size: 20px;\">Confusion Matrix for ADA Boost</h2>\n",
    "</div>"
   ]
  },
  {
   "cell_type": "markdown",
   "id": "6c1cc5d0",
   "metadata": {},
   "source": [
    "### Dataset 1"
   ]
  },
  {
   "cell_type": "code",
   "execution_count": 45,
   "id": "608885d2",
   "metadata": {},
   "outputs": [
    {
     "data": {
      "image/png": "[encoded data removed]",
      "text/plain": [
       "<Figure size 448x336 with 2 Axes>"
      ]
     },
     "metadata": {},
     "output_type": "display_data"
    }
   ],
   "source": [
    "ada_cm = confusion_matrix(y_test, y_pred_ada)\n",
    "plt.figure(dpi=70)\n",
    "sns.heatmap(ada_cm, annot=True, cmap='Greens', fmt='g')\n",
    "plt.xlabel('Predicted')\n",
    "plt.ylabel('Actual')\n",
    "plt.title('Confusion Matrix - ADABoost')\n",
    "plt.show()"
   ]
  },
  {
   "cell_type": "markdown",
   "id": "566a179b",
   "metadata": {},
   "source": [
    "### Dataset 2"
   ]
  },
  {
   "cell_type": "code",
   "execution_count": 46,
   "id": "5a07ff4a",
   "metadata": {},
   "outputs": [
    {
     "data": {
      "image/png": "[encoded data removed]",
      "text/plain": [
       "<Figure size 448x336 with 2 Axes>"
      ]
     },
     "metadata": {},
     "output_type": "display_data"
    }
   ],
   "source": [
    "ada_cm2 = confusion_matrix(y_test2, y_pred_ada2)\n",
    "plt.figure(dpi=70)\n",
    "sns.heatmap(ada_cm2, annot=True, cmap='Greens', fmt='g')\n",
    "plt.xlabel('Predicted')\n",
    "plt.ylabel('Actual')\n",
    "plt.title('Confusion Matrix - ADABoost')\n",
    "plt.show()"
   ]
  },
  {
   "cell_type": "markdown",
   "id": "799dcaf4",
   "metadata": {},
   "source": [
    "<div style=\"background-color: #D9EAD3; border-radius: 10px; border: 1px solid #D2B48C; padding: 10px;\">\n",
    "    <h2 style=\"color: #8B4513; font-size: 24px;\">XGBoost</h2>\n",
    "</div>"
   ]
  },
  {
   "cell_type": "markdown",
   "id": "1409e37b",
   "metadata": {},
   "source": [
    "</html>\n",
    "  </body>\n",
    "    </div>\n",
    "     </div>\n",
    "      <p style=\"color: #446A46;\">The XGBoost formula:</p>\n",
    "      <div style=\"color: #446A46;\">\n",
    "        <span style=\"color: #446A46;\">\\( y = \\)</span>\n",
    "        <span>\\( \\sum_{t=1}^{T} f_t(x) \\)</span>\n",
    "      </div>\n",
    "    </div>\n",
    "  </body>\n",
    "</html>"
   ]
  },
  {
   "cell_type": "markdown",
   "id": "11c5d0e3",
   "metadata": {},
   "source": [
    "<div style=\"background-color: #D9EAD3; border-radius: 10px; border: 1px solid #D2B48C; padding: 10px;\">\n",
    "    <h2 style=\"color: #8B4513; font-size: 20px;\">GridSearch for finding out the best hyperparameters</h2>\n",
    "</div>"
   ]
  },
  {
   "cell_type": "markdown",
   "id": "4845e133",
   "metadata": {},
   "source": [
    "### Dataset 1"
   ]
  },
  {
   "cell_type": "code",
   "execution_count": 47,
   "id": "86911d65",
   "metadata": {},
   "outputs": [
    {
     "name": "stdout",
     "output_type": "stream",
     "text": [
      "Fitting 5 folds for each of 108 candidates, totalling 540 fits\n"
     ]
    }
   ],
   "source": [
    "xgb_params = [{\n",
    "    'n_estimators': range(10, 50, 10),\n",
    "    'learning_rate': [0.1, 0.5, 1.0],\n",
    "    'max_depth': range(3,21,2)\n",
    "}]\n",
    "\n",
    "xgb = XGBClassifier()\n",
    "xgb_grid_search = GridSearchCV(xgb, xgb_params, scoring='f1', cv=5, verbose=True, n_jobs=-1)\n",
    "xgb_grid_search.fit(X_train, y_train)\n",
    "\n",
    "path_of_file = '/Users/jxhn/Desktop/IRONHACK/Week_9/Final_project/Models/'\n",
    "with open(path_of_file + 'xgb.pkl', 'wb') as model_file:\n",
    "    pickle.dump(xgb, model_file)"
   ]
  },
  {
   "cell_type": "code",
   "execution_count": 48,
   "id": "1be87c8f",
   "metadata": {},
   "outputs": [
    {
     "name": "stdout",
     "output_type": "stream",
     "text": [
      "Best Parameters: {'learning_rate': 0.5, 'max_depth': 11, 'n_estimators': 40}\n",
      "Best Score: 0.9555704539100468\n"
     ]
    }
   ],
   "source": [
    "best_xgb_params = xgb_grid_search.best_params_\n",
    "best_xgb_score = xgb_grid_search.best_score_\n",
    "\n",
    "print(\"Best Parameters:\", best_xgb_params)\n",
    "print(\"Best Score:\", best_xgb_score)"
   ]
  },
  {
   "cell_type": "markdown",
   "id": "264a4be3",
   "metadata": {},
   "source": [
    "### Dataset 2"
   ]
  },
  {
   "cell_type": "code",
   "execution_count": 49,
   "id": "18f4afb7",
   "metadata": {},
   "outputs": [
    {
     "name": "stdout",
     "output_type": "stream",
     "text": [
      "Fitting 5 folds for each of 108 candidates, totalling 540 fits\n"
     ]
    }
   ],
   "source": [
    "xgb_params2 = [{\n",
    "    'n_estimators': range(10, 50, 10),\n",
    "    'learning_rate': [0.1, 0.5, 1.0],\n",
    "    'max_depth': range(3,21,2)\n",
    "}]\n",
    "\n",
    "xgb2 = XGBClassifier()\n",
    "xgb_grid_search2 = GridSearchCV(xgb2, xgb_params2, scoring='f1', cv=5, verbose=True, n_jobs=-1)\n",
    "xgb_grid_search2.fit(X_train2, y_train2)\n",
    "\n",
    "path_of_file = '/Users/jxhn/Desktop/IRONHACK/Week_9/Final_project/Models/'\n",
    "with open(path_of_file + 'xgb2.pkl', 'wb') as model_file:\n",
    "    pickle.dump(xgb2, model_file)"
   ]
  },
  {
   "cell_type": "code",
   "execution_count": 50,
   "id": "ed55a8a2",
   "metadata": {},
   "outputs": [
    {
     "name": "stdout",
     "output_type": "stream",
     "text": [
      "Best Parameters: {'learning_rate': 0.5, 'max_depth': 9, 'n_estimators': 30}\n",
      "Best Score: 0.9581316683930099\n"
     ]
    }
   ],
   "source": [
    "best_xgb_params2 = xgb_grid_search2.best_params_\n",
    "best_xgb_score2 = xgb_grid_search2.best_score_\n",
    "\n",
    "print(\"Best Parameters:\", best_xgb_params2)\n",
    "print(\"Best Score:\", best_xgb_score2)"
   ]
  },
  {
   "cell_type": "markdown",
   "id": "bc49ce8f",
   "metadata": {},
   "source": [
    "<div style=\"background-color: #D9EAD3; border-radius: 10px; border: 1px solid #D2B48C; padding: 10px;\">\n",
    "    <h2 style=\"color: #8B4513; font-size: 20px;\">Train X & y with best parameters</h2>\n",
    "</div>"
   ]
  },
  {
   "cell_type": "markdown",
   "id": "9d1f650d",
   "metadata": {},
   "source": [
    "### Dataset 1"
   ]
  },
  {
   "cell_type": "code",
   "execution_count": 51,
   "id": "591dc729",
   "metadata": {},
   "outputs": [],
   "source": [
    "best_xgb = XGBClassifier(**best_xgb_params)\n",
    "best_xgb.fit(X_train, y_train)\n",
    "y_pred_xgb = best_xgb.predict(X_test)"
   ]
  },
  {
   "cell_type": "code",
   "execution_count": 52,
   "id": "70d65ab0",
   "metadata": {},
   "outputs": [
    {
     "name": "stdout",
     "output_type": "stream",
     "text": [
      "F1 Score on Test Set (XGBoost): 0.9698492462311556\n"
     ]
    }
   ],
   "source": [
    "f1_xgb = f1_score(y_test, y_pred_xgb)\n",
    "print(\"F1 Score on Test Set (XGBoost):\", f1_xgb)"
   ]
  },
  {
   "cell_type": "code",
   "execution_count": 53,
   "id": "ed414b5d",
   "metadata": {},
   "outputs": [
    {
     "name": "stdout",
     "output_type": "stream",
     "text": [
      "Accuracy on test (XGBoost): 0.9699624530663329\n",
      "Accuracy on train (XGBoost): 1.0\n",
      "Cohen's Kappa Score on test: 0.9399300813211874\n"
     ]
    }
   ],
   "source": [
    "print(\"Accuracy on test (XGBoost):\", metrics.accuracy_score(y_test, y_pred_xgb))\n",
    "y_pred_xgb_train = best_xgb.predict(X_train)\n",
    "print(\"Accuracy on train (XGBoost):\", metrics.accuracy_score(y_train, y_pred_xgb_train))\n",
    "kappa_score19 = cohen_kappa_score(y_test, y_pred_xgb)\n",
    "print(\"Cohen's Kappa Score on test:\", kappa_score19)"
   ]
  },
  {
   "cell_type": "markdown",
   "id": "bc678555",
   "metadata": {},
   "source": [
    "### Dataset 2"
   ]
  },
  {
   "cell_type": "code",
   "execution_count": 54,
   "id": "27167552",
   "metadata": {},
   "outputs": [],
   "source": [
    "best_xgb2 = XGBClassifier(**best_xgb_params2)\n",
    "best_xgb2.fit(X_train2, y_train2)\n",
    "y_pred_xgb2 = best_xgb2.predict(X_test2)"
   ]
  },
  {
   "cell_type": "code",
   "execution_count": 55,
   "id": "8d242997",
   "metadata": {},
   "outputs": [
    {
     "name": "stdout",
     "output_type": "stream",
     "text": [
      "F1 Score on Test Set (XGBoost): 0.9623115577889448\n"
     ]
    }
   ],
   "source": [
    "f1_xgb2 = f1_score(y_test2, y_pred_xgb2)\n",
    "print(\"F1 Score on Test Set (XGBoost):\", f1_xgb2)"
   ]
  },
  {
   "cell_type": "code",
   "execution_count": 56,
   "id": "6033f01e",
   "metadata": {},
   "outputs": [
    {
     "name": "stdout",
     "output_type": "stream",
     "text": [
      "Accuracy on test (XGBoost): 0.9624530663329162\n",
      "Accuracy on train (XGBoost): 0.9990604447228312\n",
      "Cohen's Kappa Score on test: 0.9249126016514841\n"
     ]
    }
   ],
   "source": [
    "print(\"Accuracy on test (XGBoost):\", metrics.accuracy_score(y_test2, y_pred_xgb2))\n",
    "y_pred_xgb_train2 = best_xgb2.predict(X_train2)\n",
    "print(\"Accuracy on train (XGBoost):\", metrics.accuracy_score(y_train2, y_pred_xgb_train2))\n",
    "kappa_score20 = cohen_kappa_score(y_test2, y_pred_xgb2)\n",
    "print(\"Cohen's Kappa Score on test:\", kappa_score20)"
   ]
  },
  {
   "cell_type": "markdown",
   "id": "854e5fef",
   "metadata": {},
   "source": [
    "<div style=\"background-color: #D9EAD3; border-radius: 10px; border: 1px solid #D2B48C; padding: 10px;\">\n",
    "    <h2 style=\"color: #8B4513; font-size: 20px;\">Confusion Matrix for XGBoost</h2>\n",
    "</div>"
   ]
  },
  {
   "cell_type": "markdown",
   "id": "8896f2b6",
   "metadata": {},
   "source": [
    "### Dataset 1"
   ]
  },
  {
   "cell_type": "code",
   "execution_count": 57,
   "id": "ceda34d0",
   "metadata": {},
   "outputs": [
    {
     "data": {
      "image/png": "[encoded data removed]",
      "text/plain": [
       "<Figure size 448x336 with 2 Axes>"
      ]
     },
     "metadata": {},
     "output_type": "display_data"
    }
   ],
   "source": [
    "xgb_cm = confusion_matrix(y_test, y_pred_xgb)\n",
    "plt.figure(dpi=70)\n",
    "sns.heatmap(xgb_cm, annot=True, cmap='Greens', fmt='g')\n",
    "plt.xlabel('Predicted')\n",
    "plt.ylabel('Actual')\n",
    "plt.title('Confusion Matrix - XGBoost')\n",
    "plt.show()"
   ]
  },
  {
   "cell_type": "markdown",
   "id": "eb9ed3d0",
   "metadata": {},
   "source": [
    "### Dataset 2"
   ]
  },
  {
   "cell_type": "code",
   "execution_count": 58,
   "id": "0ab6c4a5",
   "metadata": {},
   "outputs": [
    {
     "data": {
      "image/png": "[encoded data removed]",
      "text/plain": [
       "<Figure size 448x336 with 2 Axes>"
      ]
     },
     "metadata": {},
     "output_type": "display_data"
    }
   ],
   "source": [
    "xgb_cm2 = confusion_matrix(y_test2, y_pred_xgb2)\n",
    "plt.figure(dpi=70)\n",
    "sns.heatmap(xgb_cm2, annot=True, cmap='Greens', fmt='g')\n",
    "plt.xlabel('Predicted')\n",
    "plt.ylabel('Actual')\n",
    "plt.title('Confusion Matrix - XGBoost')\n",
    "plt.show()"
   ]
  },
  {
   "cell_type": "markdown",
   "id": "b15b1546",
   "metadata": {},
   "source": [
    "<div style=\"background-color: #D9EAD3; border-radius: 10px; border: 1px solid #D2B48C; padding: 10px;\">\n",
    "    <h2 style=\"color: #8B4513; font-size: 24px;\">Logistic Regression</h2>\n",
    "</div>"
   ]
  },
  {
   "cell_type": "markdown",
   "id": "b5ef3d74",
   "metadata": {},
   "source": [
    "</html>\n",
    "  </body>\n",
    "    </div>\n",
    "     </div>\n",
    "      <p style=\"color: #446A46;\">The Logistic Regression formula:</p>\n",
    "      <div style=\"color: #446A46;\">\n",
    "        <span style=\"color: #446A46;\">\\( p = \\)</span>\n",
    "        <span>\\( \\frac{1}{{1 + e^{-(\\beta_0 + \\beta_1 x_1 + \\beta_2 x_2 + \\ldots + \\beta_n x_n)}}} \\)</span>\n",
    "      </div>\n",
    "      <p style=\"color: #446A46;\">The sigmoid function:</p>\n",
    "      <div style=\"color: #446A46;\">\n",
    "        <span style=\"color: #446A46;\">\\( \\sigma(z) = \\)</span>\n",
    "        <span>\\( \\frac{1}{{1 + e^{-z}}} \\)</span>\n",
    "      </div>\n",
    "    </div>\n",
    "  </body>\n",
    "</html>"
   ]
  },
  {
   "cell_type": "markdown",
   "id": "07e13f37",
   "metadata": {},
   "source": [
    "<div style=\"background-color: #D9EAD3; border-radius: 10px; border: 1px solid #D2B48C; padding: 10px;\">\n",
    "    <h2 style=\"color: #8B4513; font-size: 20px;\">GridSearch for finding out the best hyperparameters</h2>\n",
    "</div>"
   ]
  },
  {
   "cell_type": "markdown",
   "id": "3c2d1a42",
   "metadata": {},
   "source": [
    "### Dataset 1"
   ]
  },
  {
   "cell_type": "code",
   "execution_count": 59,
   "id": "73801a34",
   "metadata": {},
   "outputs": [
    {
     "name": "stdout",
     "output_type": "stream",
     "text": [
      "Fitting 5 folds for each of 3 candidates, totalling 15 fits\n"
     ]
    }
   ],
   "source": [
    "lr_params = [{'C': [0.1, 1, 10]}]\n",
    "\n",
    "lr = LogisticRegression()\n",
    "lr_grid_search = GridSearchCV(lr, lr_params, scoring='f1', cv=5, verbose=True, n_jobs=-1)\n",
    "lr_grid_search.fit(X_train, y_train)\n",
    "\n",
    "path_of_file = '/Users/jxhn/Desktop/IRONHACK/Week_9/Final_project/Models/'\n",
    "with open(path_of_file + 'lr1.pkl', 'wb') as model_file:\n",
    "    pickle.dump(lr, model_file)"
   ]
  },
  {
   "cell_type": "code",
   "execution_count": 60,
   "id": "775940bf",
   "metadata": {},
   "outputs": [
    {
     "name": "stdout",
     "output_type": "stream",
     "text": [
      "Best Parameters: {'C': 0.1}\n",
      "Best Score: 0.8696240171691934\n"
     ]
    }
   ],
   "source": [
    "best_lr_params = lr_grid_search.best_params_\n",
    "best_lr_score = lr_grid_search.best_score_\n",
    "\n",
    "print(\"Best Parameters:\", best_lr_params)\n",
    "print(\"Best Score:\", best_lr_score)"
   ]
  },
  {
   "cell_type": "markdown",
   "id": "7df0d870",
   "metadata": {},
   "source": [
    "### Dataset 2"
   ]
  },
  {
   "cell_type": "code",
   "execution_count": 61,
   "id": "d1963dd6",
   "metadata": {},
   "outputs": [
    {
     "name": "stdout",
     "output_type": "stream",
     "text": [
      "Fitting 5 folds for each of 3 candidates, totalling 15 fits\n"
     ]
    }
   ],
   "source": [
    "lr_params2 = [{'C': [0.1, 1, 10]}]\n",
    "\n",
    "lr2 = LogisticRegression()\n",
    "lr_grid_search2 = GridSearchCV(lr2, lr_params2, scoring='f1', cv=5, verbose=True, n_jobs=-1)\n",
    "lr_grid_search2.fit(X_train2, y_train2)\n",
    "\n",
    "path_of_file = '/Users/jxhn/Desktop/IRONHACK/Week_9/Final_project/Models/'\n",
    "with open(path_of_file + 'lr2.pkl', 'wb') as model_file:\n",
    "    pickle.dump(lr2, model_file)"
   ]
  },
  {
   "cell_type": "code",
   "execution_count": 62,
   "id": "a08dfa55",
   "metadata": {},
   "outputs": [
    {
     "name": "stdout",
     "output_type": "stream",
     "text": [
      "Best Parameters: {'C': 0.1}\n",
      "Best Score: 0.8671998702594264\n"
     ]
    }
   ],
   "source": [
    "best_lr_params2 = lr_grid_search2.best_params_\n",
    "best_lr_score2 = lr_grid_search2.best_score_\n",
    "\n",
    "print(\"Best Parameters:\", best_lr_params2)\n",
    "print(\"Best Score:\", best_lr_score2)"
   ]
  },
  {
   "cell_type": "markdown",
   "id": "084a345d",
   "metadata": {},
   "source": [
    "<div style=\"background-color: #D9EAD3; border-radius: 10px; border: 1px solid #D2B48C; padding: 10px;\">\n",
    "    <h2 style=\"color: #8B4513; font-size: 20px;\">Train X & y with best parameters</h2>\n",
    "</div>"
   ]
  },
  {
   "cell_type": "markdown",
   "id": "d0b68132",
   "metadata": {},
   "source": [
    "### Dataset 1"
   ]
  },
  {
   "cell_type": "code",
   "execution_count": 63,
   "id": "0792330a",
   "metadata": {},
   "outputs": [],
   "source": [
    "best_lr = LogisticRegression(**best_lr_params)\n",
    "best_lr.fit(X_train, y_train)\n",
    "y_pred_lr = best_lr.predict(X_test)"
   ]
  },
  {
   "cell_type": "code",
   "execution_count": 64,
   "id": "91aafcc1",
   "metadata": {},
   "outputs": [
    {
     "name": "stdout",
     "output_type": "stream",
     "text": [
      "F1 Score on Test Set (Logistic Regression): 0.8658227848101266\n"
     ]
    }
   ],
   "source": [
    "f1_lr = f1_score(y_test, y_pred_lr)\n",
    "print(\"F1 Score on Test Set (Logistic Regression):\", f1_lr)"
   ]
  },
  {
   "cell_type": "code",
   "execution_count": 65,
   "id": "49337fdb",
   "metadata": {},
   "outputs": [
    {
     "name": "stdout",
     "output_type": "stream",
     "text": [
      "Accuracy on test set (Logistic Regression): 0.867334167709637\n",
      "Accuracy on train (Logistic Regression): 0.871594112120263\n",
      "Cohen's Kappa Score on test: 0.7347161230102299\n"
     ]
    }
   ],
   "source": [
    "print(\"Accuracy on test set (Logistic Regression):\", metrics.accuracy_score(y_test, y_pred_lr))\n",
    "y_pred_lr_train = best_lr.predict(X_train)\n",
    "print(\"Accuracy on train (Logistic Regression):\", metrics.accuracy_score(y_train, y_pred_lr_train))\n",
    "kappa_score21 = cohen_kappa_score(y_test, y_pred_lr)\n",
    "print(\"Cohen's Kappa Score on test:\", kappa_score21)"
   ]
  },
  {
   "cell_type": "markdown",
   "id": "6ada025d",
   "metadata": {},
   "source": [
    "### Dataset 2"
   ]
  },
  {
   "cell_type": "code",
   "execution_count": 66,
   "id": "f005d690",
   "metadata": {},
   "outputs": [],
   "source": [
    "best_lr2 = LogisticRegression(**best_lr_params2)\n",
    "best_lr2.fit(X_train2, y_train2)\n",
    "y_pred_lr2 = best_lr2.predict(X_test2)"
   ]
  },
  {
   "cell_type": "code",
   "execution_count": 67,
   "id": "8a825a95",
   "metadata": {},
   "outputs": [
    {
     "name": "stdout",
     "output_type": "stream",
     "text": [
      "F1 Score on Test Set (Logistic Regression): 0.8737373737373737\n"
     ]
    }
   ],
   "source": [
    "f1_lr2 = f1_score(y_test2, y_pred_lr2)\n",
    "print(\"F1 Score on Test Set (Logistic Regression):\", f1_lr2)"
   ]
  },
  {
   "cell_type": "code",
   "execution_count": 68,
   "id": "a5886640",
   "metadata": {},
   "outputs": [
    {
     "name": "stdout",
     "output_type": "stream",
     "text": [
      "Accuracy on test set (Logistic Regression): 0.8748435544430538\n",
      "Accuracy on train (Logistic Regression): 0.8675227059191982\n",
      "Cohen's Kappa Score on test: 0.7497243522277351\n"
     ]
    }
   ],
   "source": [
    "print(\"Accuracy on test set (Logistic Regression):\", metrics.accuracy_score(y_test2, y_pred_lr2))\n",
    "y_pred_lr_train2 = best_lr2.predict(X_train2)\n",
    "print(\"Accuracy on train (Logistic Regression):\", metrics.accuracy_score(y_train2, y_pred_lr_train2))\n",
    "kappa_score22 = cohen_kappa_score(y_test2, y_pred_lr2)\n",
    "print(\"Cohen's Kappa Score on test:\", kappa_score22)"
   ]
  },
  {
   "cell_type": "markdown",
   "id": "604255f6",
   "metadata": {},
   "source": [
    "<div style=\"background-color: #D9EAD3; border-radius: 10px; border: 1px solid #D2B48C; padding: 10px;\">\n",
    "    <h2 style=\"color: #8B4513; font-size: 20px;\">Confusion Matrix for Logistic Regression</h2>\n",
    "</div>"
   ]
  },
  {
   "cell_type": "markdown",
   "id": "db2debc3",
   "metadata": {},
   "source": [
    "### Dataset 1"
   ]
  },
  {
   "cell_type": "code",
   "execution_count": 69,
   "id": "641d9a1e",
   "metadata": {},
   "outputs": [
    {
     "data": {
      "image/png": "[encoded data removed]",
      "text/plain": [
       "<Figure size 448x336 with 2 Axes>"
      ]
     },
     "metadata": {},
     "output_type": "display_data"
    }
   ],
   "source": [
    "lr_cm = confusion_matrix(y_test, y_pred_lr)\n",
    "plt.figure(dpi=70)\n",
    "sns.heatmap(lr_cm, annot=True, cmap='Greens', fmt='g')\n",
    "plt.xlabel('Predicted')\n",
    "plt.ylabel('Actual')\n",
    "plt.title('Confusion Matrix - Logistic Regression')\n",
    "plt.show()"
   ]
  },
  {
   "cell_type": "markdown",
   "id": "b5a647a3",
   "metadata": {},
   "source": [
    "### Dataset 2"
   ]
  },
  {
   "cell_type": "code",
   "execution_count": 70,
   "id": "303e4f63",
   "metadata": {},
   "outputs": [
    {
     "data": {
      "image/png": "[encoded data removed]",
      "text/plain": [
       "<Figure size 448x336 with 2 Axes>"
      ]
     },
     "metadata": {},
     "output_type": "display_data"
    }
   ],
   "source": [
    "lr_cm2 = confusion_matrix(y_test2, y_pred_lr2)\n",
    "plt.figure(dpi=70)\n",
    "sns.heatmap(lr_cm2, annot=True, cmap='Greens', fmt='g')\n",
    "plt.xlabel('Predicted')\n",
    "plt.ylabel('Actual')\n",
    "plt.title('Confusion Matrix - Logistic Regression')\n",
    "plt.show()"
   ]
  },
  {
   "cell_type": "markdown",
   "id": "355e1d8a",
   "metadata": {},
   "source": [
    "<div style=\"background-color: #D9EAD3; border-radius: 10px; border: 1px solid #D2B48C; padding: 10px;\">\n",
    "    <h2 style=\"color: #8B4513; font-size: 24px;\">Gaussain Naive Bayes</h2>\n",
    "</div>"
   ]
  },
  {
   "cell_type": "markdown",
   "id": "f5558b43",
   "metadata": {},
   "source": [
    "</html>\n",
    "  </body>\n",
    "    </div>\n",
    "     </div>\n",
    "      <p style=\"color: #446A46;\">The Gaussian Naive Bayes formula:</p>\n",
    "      <div style=\"color: #446A46;\">\n",
    "        <span style=\"color: #446A46;\">\\( P(C_k | x) = \\)</span>\n",
    "        <span>\\( \\frac{{P(C_k) \\prod_{i=1}^{n} P(x_i | C_k)}}{{P(x)}} \\)</span>\n",
    "      </div>\n",
    "    </div>\n",
    "  </body>\n",
    "</html>"
   ]
  },
  {
   "cell_type": "markdown",
   "id": "628fa569",
   "metadata": {},
   "source": [
    "<div style=\"background-color: #D9EAD3; border-radius: 10px; border: 1px solid #D2B48C; padding: 10px;\">\n",
    "    <h2 style=\"color: #8B4513; font-size: 20px;\">GridSearch for finding out the best hyperparameters</h2>\n",
    "</div>"
   ]
  },
  {
   "cell_type": "markdown",
   "id": "3ae41280",
   "metadata": {},
   "source": [
    "### Dataset 1"
   ]
  },
  {
   "cell_type": "code",
   "execution_count": 71,
   "id": "56b904a8",
   "metadata": {},
   "outputs": [],
   "source": [
    "# Define the hyperparameter grid\n",
    "param_grid_gnb = {\n",
    "    'var_smoothing': [1e-9, 1e-8, 1e-7, 1e-6, 1e-5]\n",
    "}\n",
    "\n",
    "# Create a Gaussian Naive Bayes model\n",
    "gnb = GaussianNB()\n",
    "\n",
    "# Create GridSearchCV instance\n",
    "grid_search = GridSearchCV(gnb, param_grid_gnb, cv=5, scoring='accuracy')\n",
    "\n",
    "# Fit the grid search to your data\n",
    "grid_search.fit(X, y)\n",
    "\n",
    "path_of_file = '/Users/jxhn/Desktop/IRONHACK/Week_9/Final_project/Models/'\n",
    "with open(path_of_file + 'gnb1.pkl', 'wb') as model_file:\n",
    "    pickle.dump(gnb, model_file)"
   ]
  },
  {
   "cell_type": "code",
   "execution_count": 72,
   "id": "f33c72e0",
   "metadata": {},
   "outputs": [
    {
     "name": "stdout",
     "output_type": "stream",
     "text": [
      "Best Parameters: {'var_smoothing': 1e-09}\n",
      "Best Score: 0.8269080084441391\n"
     ]
    }
   ],
   "source": [
    "best_params_gnb = grid_search.best_params_\n",
    "best_score_gnb = grid_search.best_score_\n",
    "\n",
    "print(\"Best Parameters:\", best_params_gnb)\n",
    "print(\"Best Score:\", best_score_gnb)"
   ]
  },
  {
   "cell_type": "markdown",
   "id": "a8f19f72",
   "metadata": {},
   "source": [
    "### Dataset 2"
   ]
  },
  {
   "cell_type": "code",
   "execution_count": 73,
   "id": "b9062bbb",
   "metadata": {},
   "outputs": [],
   "source": [
    "# Define the hyperparameter grid\n",
    "param_grid_gnb2 = {\n",
    "    'var_smoothing': [1e-9, 1e-8, 1e-7, 1e-6, 1e-5]\n",
    "}\n",
    "\n",
    "# Create a Gaussian Naive Bayes model\n",
    "gnb2 = GaussianNB()\n",
    "\n",
    "# Create GridSearchCV instance\n",
    "grid_search2 = GridSearchCV(gnb2, param_grid_gnb2, cv=5, scoring='accuracy')\n",
    "\n",
    "# Fit the grid search to your data\n",
    "grid_search2.fit(X2, y2)\n",
    "\n",
    "\n",
    "path_of_file = '/Users/jxhn/Desktop/IRONHACK/Week_9/Final_project/Models/'\n",
    "with open(path_of_file + 'gnb2.pkl', 'wb') as model_file:\n",
    "    pickle.dump(gnb2, model_file)"
   ]
  },
  {
   "cell_type": "code",
   "execution_count": 74,
   "id": "baa184cc",
   "metadata": {},
   "outputs": [
    {
     "name": "stdout",
     "output_type": "stream",
     "text": [
      "Best Parameters: {'var_smoothing': 1e-09}\n",
      "Best Score: 0.8191414079629611\n"
     ]
    }
   ],
   "source": [
    "best_params_gnb2 = grid_search2.best_params_\n",
    "best_score_gnb2 = grid_search2.best_score_\n",
    "\n",
    "print(\"Best Parameters:\", best_params_gnb2)\n",
    "print(\"Best Score:\", best_score_gnb2)"
   ]
  },
  {
   "cell_type": "markdown",
   "id": "3cf863d4",
   "metadata": {},
   "source": [
    "<div style=\"background-color: #D9EAD3; border-radius: 10px; border: 1px solid #D2B48C; padding: 10px;\">\n",
    "    <h2 style=\"color: #8B4513; font-size: 20px;\">Train X & y with best parameters</h2>\n",
    "</div>"
   ]
  },
  {
   "cell_type": "markdown",
   "id": "411c9502",
   "metadata": {},
   "source": [
    "### Dataset 1"
   ]
  },
  {
   "cell_type": "code",
   "execution_count": 75,
   "id": "7db3ed6c",
   "metadata": {},
   "outputs": [
    {
     "name": "stdout",
     "output_type": "stream",
     "text": [
      "F1 Score on Test Set (Naive Bayes): 0.8383838383838383\n"
     ]
    }
   ],
   "source": [
    "best_nb = GaussianNB(**best_params_gnb)\n",
    "best_nb.fit(X_train, y_train)\n",
    "y_pred_nb = best_nb.predict(X_test)\n",
    "\n",
    "f1_nb = f1_score(y_test, y_pred_nb)\n",
    "print(\"F1 Score on Test Set (Naive Bayes):\", f1_nb)"
   ]
  },
  {
   "cell_type": "code",
   "execution_count": 76,
   "id": "883baaeb",
   "metadata": {},
   "outputs": [
    {
     "name": "stdout",
     "output_type": "stream",
     "text": [
      "Accuracy on test set (Naive Bayes): 0.8397997496871089\n",
      "Accuracy on train (Naive Bayes): 0.8224240526150955\n",
      "Cohen's Kappa Score on test: 0.6796471708515011\n"
     ]
    }
   ],
   "source": [
    "print(\"Accuracy on test set (Naive Bayes):\", metrics.accuracy_score(y_test, y_pred_nb))\n",
    "y_pred_nb_train = best_nb.predict(X_train)\n",
    "print(\"Accuracy on train (Naive Bayes):\", metrics.accuracy_score(y_train, y_pred_nb_train))\n",
    "kappa_score23 = cohen_kappa_score(y_test, y_pred_nb)\n",
    "print(\"Cohen's Kappa Score on test:\", kappa_score23)"
   ]
  },
  {
   "cell_type": "markdown",
   "id": "8014fafe",
   "metadata": {},
   "source": [
    "### Dataset 2"
   ]
  },
  {
   "cell_type": "code",
   "execution_count": 77,
   "id": "e527cc79",
   "metadata": {},
   "outputs": [
    {
     "name": "stdout",
     "output_type": "stream",
     "text": [
      "F1 Score on Test Set (Naive Bayes): 0.8308457711442786\n"
     ]
    }
   ],
   "source": [
    "best_nb2 = GaussianNB(**best_params_gnb2)\n",
    "best_nb2.fit(X_train2, y_train2)\n",
    "y_pred_nb2 = best_nb2.predict(X_test2)\n",
    "\n",
    "f1_nb2 = f1_score(y_test2, y_pred_nb2)\n",
    "print(\"F1 Score on Test Set (Naive Bayes):\", f1_nb2)"
   ]
  },
  {
   "cell_type": "code",
   "execution_count": 78,
   "id": "9ebf3a8e",
   "metadata": {},
   "outputs": [
    {
     "name": "stdout",
     "output_type": "stream",
     "text": [
      "Accuracy on test set (Naive Bayes): 0.8297872340425532\n",
      "Accuracy on train (Naive Bayes): 0.8152207954901347\n",
      "Cohen's Kappa Score on test: 0.6595611363835734\n"
     ]
    }
   ],
   "source": [
    "print(\"Accuracy on test set (Naive Bayes):\", metrics.accuracy_score(y_test2, y_pred_nb2))\n",
    "y_pred_nb_train2 = best_nb2.predict(X_train2)\n",
    "print(\"Accuracy on train (Naive Bayes):\", metrics.accuracy_score(y_train2, y_pred_nb_train2))\n",
    "kappa_score24 = cohen_kappa_score(y_test2, y_pred_nb2)\n",
    "print(\"Cohen's Kappa Score on test:\", kappa_score24)"
   ]
  },
  {
   "cell_type": "markdown",
   "id": "75efa269",
   "metadata": {},
   "source": [
    "<div style=\"background-color: #D9EAD3; border-radius: 10px; border: 1px solid #D2B48C; padding: 10px;\">\n",
    "    <h2 style=\"color: #8B4513; font-size: 20px;\">Confusion Matrix for Gaussain Naive Bayes</h2>\n",
    "</div>"
   ]
  },
  {
   "cell_type": "markdown",
   "id": "1ad8b720",
   "metadata": {},
   "source": [
    "### Dataset 1"
   ]
  },
  {
   "cell_type": "code",
   "execution_count": 79,
   "id": "8cc54c51",
   "metadata": {},
   "outputs": [
    {
     "data": {
      "image/png": "[encoded data removed]",
      "text/plain": [
       "<Figure size 448x336 with 2 Axes>"
      ]
     },
     "metadata": {},
     "output_type": "display_data"
    }
   ],
   "source": [
    "nb_cm = confusion_matrix(y_test, y_pred_nb)\n",
    "plt.figure(dpi=70)\n",
    "sns.heatmap(nb_cm, annot=True, cmap='Greens', fmt='g')\n",
    "plt.xlabel('Predicted')\n",
    "plt.ylabel('Actual')\n",
    "plt.title('Confusion Matrix - Naive Bayes')\n",
    "plt.show()"
   ]
  },
  {
   "cell_type": "markdown",
   "id": "ddf155f8",
   "metadata": {},
   "source": [
    "### Dataset 2"
   ]
  },
  {
   "cell_type": "code",
   "execution_count": 80,
   "id": "e984d2df",
   "metadata": {},
   "outputs": [
    {
     "data": {
      "image/png": "[encoded data removed]",
      "text/plain": [
       "<Figure size 448x336 with 2 Axes>"
      ]
     },
     "metadata": {},
     "output_type": "display_data"
    }
   ],
   "source": [
    "nb_cm2 = confusion_matrix(y_test2, y_pred_nb2)\n",
    "plt.figure(dpi=70)\n",
    "sns.heatmap(nb_cm2, annot=True, cmap='Greens', fmt='g')\n",
    "plt.xlabel('Predicted')\n",
    "plt.ylabel('Actual')\n",
    "plt.title('Confusion Matrix - Naive Bayes')\n",
    "plt.show()"
   ]
  },
  {
   "cell_type": "markdown",
   "id": "5fafb6e6",
   "metadata": {},
   "source": [
    "<div style=\"background-color: #D9EAD3; border-radius: 10px; border: 1px solid #D2B48C; padding: 10px;\">\n",
    "    <h2 style=\"color: #8B4513; font-size: 30px;\">Gradient Boosting</h2>\n",
    "</div>"
   ]
  },
  {
   "cell_type": "markdown",
   "id": "b3f1665c",
   "metadata": {},
   "source": [
    "</html>\n",
    "  </body>\n",
    "    </div>\n",
    "     </div>\n",
    "      <p style=\"color: #446A46;\">The Prediction Function:</p>\n",
    "      <div style=\"color: #446A46;\">\n",
    "        <span style=\"color: #446A46;\">\\( F(x) = \\)</span>\n",
    "        <span>\\( \\sum_{m=1}^{M} \\beta_m f_m(x) \\)</span>\n",
    "      </div>\n",
    "      <p style=\"color: #446A46;\">The Loss Function:</p>\n",
    "      <div style=\"color: #446A46;\">\n",
    "        <span style=\"color: #446A46;\">\\( L(y, F) = \\)</span>\n",
    "        <span>\\( \\sum_{i=1}^{n} l(y_i, F(x_i)) \\)</span>\n",
    "      </div>\n",
    "      <p style=\"color: #446A46;\">The Update Step:</p>\n",
    "      <div style=\"color: #446A46;\">\n",
    "        <span style=\"color: #446A46;\">\\( \\text{pseudo-residual} = \\)</span>\n",
    "        <span>\\( -\\frac{{\\partial L(y, F)}}{{\\partial F}} \\)</span>\n",
    "      </div>\n",
    "    </div>\n",
    "  </body>\n",
    "</html>"
   ]
  },
  {
   "cell_type": "markdown",
   "id": "5d46d685",
   "metadata": {},
   "source": [
    "<div style=\"background-color: #D9EAD3; border-radius: 10px; border: 1px solid #D2B48C; padding: 10px;\">\n",
    "    <h2 style=\"color: #8B4513; font-size: 20px;\">GridSearch for finding out the best hyperparameters</h2>\n",
    "</div>"
   ]
  },
  {
   "cell_type": "markdown",
   "id": "f791f7c8",
   "metadata": {},
   "source": [
    "### Dataset 1"
   ]
  },
  {
   "cell_type": "code",
   "execution_count": 81,
   "id": "e2136c34",
   "metadata": {},
   "outputs": [
    {
     "name": "stdout",
     "output_type": "stream",
     "text": [
      "Fitting 5 folds for each of 60 candidates, totalling 300 fits\n"
     ]
    }
   ],
   "source": [
    "gbm_params = [{\n",
    "    'n_estimators': range(100, 150, 10),\n",
    "    'learning_rate': [0.1, 0.5, 1.0],\n",
    "    'max_depth': [2, 3, 4, 5]\n",
    "}]\n",
    "\n",
    "gbm = GradientBoostingClassifier()\n",
    "gbm_grid_search = GridSearchCV(gbm, gbm_params, scoring='f1', cv=5, verbose=True, n_jobs=-1)\n",
    "gbm_grid_search.fit(X_train, y_train)\n",
    "\n",
    "\n",
    "path_of_file = '/Users/jxhn/Desktop/IRONHACK/Week_9/Final_project/Models/'\n",
    "with open(path_of_file + 'gbm1.pkl', 'wb') as model_file:\n",
    "    pickle.dump(gbm, model_file)"
   ]
  },
  {
   "cell_type": "code",
   "execution_count": 82,
   "id": "842f52ae",
   "metadata": {},
   "outputs": [
    {
     "name": "stdout",
     "output_type": "stream",
     "text": [
      "Best Parameters: {'learning_rate': 0.5, 'max_depth': 4, 'n_estimators': 100}\n",
      "Best Score: 0.9552724791223509\n"
     ]
    }
   ],
   "source": [
    "best_gbm_params = gbm_grid_search.best_params_\n",
    "best_gbm_score = gbm_grid_search.best_score_\n",
    "\n",
    "print(\"Best Parameters:\", best_gbm_params)\n",
    "print(\"Best Score:\", best_gbm_score)"
   ]
  },
  {
   "cell_type": "markdown",
   "id": "6cfa8bd3",
   "metadata": {},
   "source": [
    "### Dataset 2"
   ]
  },
  {
   "cell_type": "code",
   "execution_count": 83,
   "id": "fee9fc71",
   "metadata": {},
   "outputs": [
    {
     "name": "stdout",
     "output_type": "stream",
     "text": [
      "Fitting 5 folds for each of 60 candidates, totalling 300 fits\n"
     ]
    }
   ],
   "source": [
    "gbm_params2 = [{\n",
    "    'n_estimators': range(100, 150, 10),\n",
    "    'learning_rate': [0.1, 0.5, 1.0],\n",
    "    'max_depth': [2, 3, 4, 5]\n",
    "}]\n",
    "\n",
    "gbm2 = GradientBoostingClassifier()\n",
    "gbm_grid_search2 = GridSearchCV(gbm2, gbm_params2, scoring='f1', cv=5, verbose=True, n_jobs=-1)\n",
    "gbm_grid_search2.fit(X_train2, y_train2)\n",
    "\n",
    "path_of_file = '/Users/jxhn/Desktop/IRONHACK/Week_9/Final_project/Models/'\n",
    "with open(path_of_file + 'gbm2.pkl', 'wb') as model_file:\n",
    "    pickle.dump(gbm2, model_file)"
   ]
  },
  {
   "cell_type": "code",
   "execution_count": 84,
   "id": "646a50d4",
   "metadata": {},
   "outputs": [
    {
     "name": "stdout",
     "output_type": "stream",
     "text": [
      "Best Parameters: {'learning_rate': 0.5, 'max_depth': 5, 'n_estimators': 130}\n",
      "Best Score: 0.9564414769231891\n"
     ]
    }
   ],
   "source": [
    "best_gbm_params2 = gbm_grid_search2.best_params_\n",
    "best_gbm_score2 = gbm_grid_search2.best_score_\n",
    "\n",
    "print(\"Best Parameters:\", best_gbm_params2)\n",
    "print(\"Best Score:\", best_gbm_score2)"
   ]
  },
  {
   "cell_type": "markdown",
   "id": "5c0c114e",
   "metadata": {},
   "source": [
    "<div style=\"background-color: #D9EAD3; border-radius: 10px; border: 1px solid #D2B48C; padding: 10px;\">\n",
    "    <h2 style=\"color: #8B4513; font-size: 20px;\">Train X & y with best parameters</h2>\n",
    "</div>"
   ]
  },
  {
   "cell_type": "markdown",
   "id": "0beab87c",
   "metadata": {},
   "source": [
    "### Dataset 1"
   ]
  },
  {
   "cell_type": "code",
   "execution_count": 85,
   "id": "a3f047e5",
   "metadata": {},
   "outputs": [],
   "source": [
    "best_gbm = GradientBoostingClassifier(**best_gbm_params)\n",
    "best_gbm.fit(X_train, y_train)\n",
    "y_pred_gbm = best_gbm.predict(X_test)"
   ]
  },
  {
   "cell_type": "code",
   "execution_count": 86,
   "id": "0ac069f9",
   "metadata": {},
   "outputs": [
    {
     "name": "stdout",
     "output_type": "stream",
     "text": [
      "F1 Score on Test Set (GBM): 0.9672544080604534\n"
     ]
    }
   ],
   "source": [
    "f1_gbm = f1_score(y_test, y_pred_gbm)\n",
    "print(\"F1 Score on Test Set (GBM):\", f1_gbm)"
   ]
  },
  {
   "cell_type": "code",
   "execution_count": 87,
   "id": "0c952982",
   "metadata": {},
   "outputs": [
    {
     "name": "stdout",
     "output_type": "stream",
     "text": [
      "Accuracy on test set (GBM): 0.967459324155194\n",
      "Accuracy on train (GBM): 1.0\n",
      "Cohen's Kappa Score on test: 0.9349262932357677\n"
     ]
    }
   ],
   "source": [
    "print(\"Accuracy on test set (GBM):\", metrics.accuracy_score(y_test, y_pred_gbm))\n",
    "y_pred_gbm_train = best_gbm.predict(X_train)\n",
    "print(\"Accuracy on train (GBM):\", metrics.accuracy_score(y_train, y_pred_gbm_train))\n",
    "kappa_score25 = cohen_kappa_score(y_test, y_pred_gbm)\n",
    "print(\"Cohen's Kappa Score on test:\", kappa_score25)"
   ]
  },
  {
   "cell_type": "markdown",
   "id": "c3925978",
   "metadata": {},
   "source": [
    "### Dataset 2"
   ]
  },
  {
   "cell_type": "code",
   "execution_count": 88,
   "id": "ab697412",
   "metadata": {},
   "outputs": [],
   "source": [
    "best_gbm2 = GradientBoostingClassifier(**best_gbm_params2)\n",
    "best_gbm2.fit(X_train2, y_train2)\n",
    "y_pred_gbm2 = best_gbm2.predict(X_test2)"
   ]
  },
  {
   "cell_type": "code",
   "execution_count": 89,
   "id": "cd8f013d",
   "metadata": {},
   "outputs": [
    {
     "name": "stdout",
     "output_type": "stream",
     "text": [
      "F1 Score on Test Set (GBM): 0.9687108886107636\n"
     ]
    }
   ],
   "source": [
    "f1_gbm2 = f1_score(y_test2, y_pred_gbm2)\n",
    "print(\"F1 Score on Test Set (GBM):\", f1_gbm2)"
   ]
  },
  {
   "cell_type": "code",
   "execution_count": 90,
   "id": "54aa5397",
   "metadata": {},
   "outputs": [
    {
     "name": "stdout",
     "output_type": "stream",
     "text": [
      "Accuracy on test set (GBM): 0.9687108886107635\n",
      "Accuracy on train (GBM): 1.0\n",
      "Cohen's Kappa Score on test: 0.9374242277100243\n"
     ]
    }
   ],
   "source": [
    "print(\"Accuracy on test set (GBM):\", metrics.accuracy_score(y_test2, y_pred_gbm2))\n",
    "y_pred_gbm_train2 = best_gbm2.predict(X_train2)\n",
    "print(\"Accuracy on train (GBM):\", metrics.accuracy_score(y_train2, y_pred_gbm_train2))\n",
    "kappa_score26 = cohen_kappa_score(y_test2, y_pred_gbm2)\n",
    "print(\"Cohen's Kappa Score on test:\", kappa_score26)"
   ]
  },
  {
   "cell_type": "markdown",
   "id": "f2895088",
   "metadata": {},
   "source": [
    "<div style=\"background-color: #D9EAD3; border-radius: 10px; border: 1px solid #D2B48C; padding: 10px;\">\n",
    "    <h2 style=\"color: #8B4513; font-size: 20px;\">Confusion Matrix for Gradient Boosting</h2>\n",
    "</div>"
   ]
  },
  {
   "cell_type": "markdown",
   "id": "6eaddfd8",
   "metadata": {},
   "source": [
    "### Dataset 1"
   ]
  },
  {
   "cell_type": "code",
   "execution_count": 91,
   "id": "a6bfacc0",
   "metadata": {},
   "outputs": [
    {
     "data": {
      "image/png": "[encoded data removed]",
      "text/plain": [
       "<Figure size 448x336 with 2 Axes>"
      ]
     },
     "metadata": {},
     "output_type": "display_data"
    }
   ],
   "source": [
    "gbm_cm = confusion_matrix(y_test, y_pred_gbm)\n",
    "plt.figure(dpi=70)\n",
    "sns.heatmap(gbm_cm, annot=True, cmap='Greens', fmt='g')\n",
    "plt.xlabel('Predicted')\n",
    "plt.ylabel('Actual')\n",
    "plt.title('Confusion Matrix- GBM')\n",
    "plt.show()"
   ]
  },
  {
   "cell_type": "markdown",
   "id": "043d1458",
   "metadata": {},
   "source": [
    "### Dataset 2"
   ]
  },
  {
   "cell_type": "code",
   "execution_count": 92,
   "id": "6bdee882",
   "metadata": {},
   "outputs": [
    {
     "data": {
      "image/png": "[encoded data removed]",
      "text/plain": [
       "<Figure size 448x336 with 2 Axes>"
      ]
     },
     "metadata": {},
     "output_type": "display_data"
    }
   ],
   "source": [
    "gbm_cm2 = confusion_matrix(y_test2, y_pred_gbm2)\n",
    "plt.figure(dpi=70)\n",
    "sns.heatmap(gbm_cm2, annot=True, cmap='Greens', fmt='g')\n",
    "plt.xlabel('Predicted')\n",
    "plt.ylabel('Actual')\n",
    "plt.title('Confusion Matrix- GBM')\n",
    "plt.show()"
   ]
  },
  {
   "cell_type": "markdown",
   "id": "e402c42f",
   "metadata": {},
   "source": [
    "<div style=\"background-color: #D9EAD3; border-radius: 10px; border: 1px solid #D2B48C; padding: 10px;\">\n",
    "    <h2 style=\"color: #8B4513; font-size: 30px;\">Gradient Boosting Decision Trees (GBDT)</h2>\n",
    "</div>"
   ]
  },
  {
   "cell_type": "markdown",
   "id": "c7c21ced",
   "metadata": {},
   "source": [
    "</html>\n",
    "  </body>\n",
    "    </div>\n",
    "     </div>\n",
    "      <p style=\"color: #446A46;\">The Prediction Function:</p>\n",
    "      <div style=\"color: #446A46;\">\n",
    "        <span style=\"color: #446A46;\">\\( F(x) = \\)</span>\n",
    "        <span>\\( \\sum_{m=1}^{M} f_m(x) \\)</span>\n",
    "      </div>\n",
    "      <p style=\"color: #446A46;\">The Loss Function:</p>\n",
    "      <div style=\"color: #446A46;\">\n",
    "        <span style=\"color: #446A46;\">\\( L(y, F) = \\)</span>\n",
    "        <span>\\( \\sum_{i=1}^{n} l(y_i, F(x_i)) \\)</span>\n",
    "      </div>\n",
    "      <p style=\"color: #446A46;\">The Update Step:</p>\n",
    "      <div style=\"color: #446A46;\">\n",
    "        <span style=\"color: #446A46;\">\\( \\text{pseudo-residual} = \\)</span>\n",
    "        <span>\\( -\\frac{{\\partial L(y, F)}}{{\\partial F}} \\)</span>\n",
    "      </div>\n",
    "    </div>\n",
    "  </body>\n",
    "</html>"
   ]
  },
  {
   "cell_type": "markdown",
   "id": "3972cacc",
   "metadata": {},
   "source": [
    "<div style=\"background-color: #D9EAD3; border-radius: 10px; border: 1px solid #D2B48C; padding: 10px;\">\n",
    "    <h2 style=\"color: #8B4513; font-size: 20px;\">GridSearch for finding out the best hyperparameters</h2>\n",
    "</div>"
   ]
  },
  {
   "cell_type": "markdown",
   "id": "88c2f4f6",
   "metadata": {},
   "source": [
    "### Dataset 1"
   ]
  },
  {
   "cell_type": "code",
   "execution_count": 93,
   "id": "da8a19a3",
   "metadata": {},
   "outputs": [
    {
     "name": "stdout",
     "output_type": "stream",
     "text": [
      "Fitting 5 folds for each of 120 candidates, totalling 600 fits\n"
     ]
    }
   ],
   "source": [
    "gbdt_params = [{\n",
    "    'n_estimators': range(100, 200, 10),\n",
    "    'learning_rate': [0.1, 0.5, 1.0],\n",
    "    'max_depth': range(3,11,2)\n",
    "}]\n",
    "\n",
    "gbdt = GradientBoostingClassifier()\n",
    "gbdt_grid_search = GridSearchCV(gbdt, gbdt_params, scoring='f1', cv=5, verbose=True, n_jobs=-1)\n",
    "gbdt_grid_search.fit(X_train, y_train)\n",
    "\n",
    "path_of_file = '/Users/jxhn/Desktop/IRONHACK/Week_9/Final_project/Models/'\n",
    "with open(path_of_file + 'gbdt1.pkl', 'wb') as model_file:\n",
    "    pickle.dump(gbdt, model_file)"
   ]
  },
  {
   "cell_type": "code",
   "execution_count": 94,
   "id": "83d943c9",
   "metadata": {},
   "outputs": [
    {
     "name": "stdout",
     "output_type": "stream",
     "text": [
      "Best Parameters: {'learning_rate': 0.5, 'max_depth': 9, 'n_estimators': 120}\n",
      "Best Score: 0.9600120193246721\n"
     ]
    }
   ],
   "source": [
    "best_gbdt_params = gbdt_grid_search.best_params_\n",
    "best_gbdt_score = gbdt_grid_search.best_score_\n",
    "\n",
    "print(\"Best Parameters:\", best_gbdt_params)\n",
    "print(\"Best Score:\", best_gbdt_score)"
   ]
  },
  {
   "cell_type": "markdown",
   "id": "7211005d",
   "metadata": {},
   "source": [
    "### Dataset 2"
   ]
  },
  {
   "cell_type": "code",
   "execution_count": 95,
   "id": "f2795170",
   "metadata": {},
   "outputs": [
    {
     "name": "stdout",
     "output_type": "stream",
     "text": [
      "Fitting 5 folds for each of 120 candidates, totalling 600 fits\n"
     ]
    }
   ],
   "source": [
    "gbdt_params2 = [{\n",
    "    'n_estimators': range(100, 200, 10),\n",
    "    'learning_rate': [0.1, 0.5, 1.0],\n",
    "    'max_depth': range(3,11,2)\n",
    "}]\n",
    "\n",
    "gbdt2 = GradientBoostingClassifier()\n",
    "gbdt_grid_search2 = GridSearchCV(gbdt2, gbdt_params2, scoring='f1', cv=5, verbose=True, n_jobs=-1)\n",
    "gbdt_grid_search2.fit(X_train2, y_train2)\n",
    "\n",
    "path_of_file = '/Users/jxhn/Desktop/IRONHACK/Week_9/Final_project/Models/'\n",
    "with open(path_of_file + 'gbdt2.pkl', 'wb') as model_file:\n",
    "    pickle.dump(gbdt2, model_file)"
   ]
  },
  {
   "cell_type": "code",
   "execution_count": 96,
   "id": "6e721b4f",
   "metadata": {},
   "outputs": [
    {
     "name": "stdout",
     "output_type": "stream",
     "text": [
      "Best Parameters: {'learning_rate': 0.5, 'max_depth': 9, 'n_estimators': 140}\n",
      "Best Score: 0.9592243276569011\n"
     ]
    }
   ],
   "source": [
    "best_gbdt_params2 = gbdt_grid_search2.best_params_\n",
    "best_gbdt_score2 = gbdt_grid_search2.best_score_\n",
    "\n",
    "print(\"Best Parameters:\", best_gbdt_params2)\n",
    "print(\"Best Score:\", best_gbdt_score2)"
   ]
  },
  {
   "cell_type": "markdown",
   "id": "7bc1bc86",
   "metadata": {},
   "source": [
    "<div style=\"background-color: #D9EAD3; border-radius: 10px; border: 1px solid #D2B48C; padding: 10px;\">\n",
    "    <h2 style=\"color: #8B4513; font-size: 20px;\">Train X & y with best parameters</h2>\n",
    "</div>"
   ]
  },
  {
   "cell_type": "markdown",
   "id": "f02a6045",
   "metadata": {},
   "source": [
    "### Dataset 1"
   ]
  },
  {
   "cell_type": "code",
   "execution_count": 97,
   "id": "12957227",
   "metadata": {},
   "outputs": [],
   "source": [
    "best_gbdt = GradientBoostingClassifier(**best_gbdt_params)\n",
    "best_gbdt.fit(X_train, y_train)\n",
    "y_pred_gbdt = best_gbdt.predict(X_test)"
   ]
  },
  {
   "cell_type": "code",
   "execution_count": 98,
   "id": "aef9f1a8",
   "metadata": {},
   "outputs": [
    {
     "name": "stdout",
     "output_type": "stream",
     "text": [
      "F1 Score on Test Set (GBDT): 0.9672544080604534\n"
     ]
    }
   ],
   "source": [
    "f1_gbdt = f1_score(y_test, y_pred_gbdt)\n",
    "print(\"F1 Score on Test Set (GBDT):\", f1_gbdt)"
   ]
  },
  {
   "cell_type": "code",
   "execution_count": 99,
   "id": "84df8941",
   "metadata": {},
   "outputs": [
    {
     "name": "stdout",
     "output_type": "stream",
     "text": [
      "Accuracy on test set (GBDT): 0.967459324155194\n",
      "Accuracy on train (GBDT): 1.0\n",
      "Cohen's Kappa Score on test: 0.9349262932357677\n"
     ]
    }
   ],
   "source": [
    "print(\"Accuracy on test set (GBDT):\", metrics.accuracy_score(y_test, y_pred_gbdt))\n",
    "y_pred_gbdt_train = best_gbdt.predict(X_train)\n",
    "print(\"Accuracy on train (GBDT):\", metrics.accuracy_score(y_train, y_pred_gbdt_train))\n",
    "kappa_score27 = cohen_kappa_score(y_test, y_pred_gbdt)\n",
    "print(\"Cohen's Kappa Score on test:\", kappa_score27)"
   ]
  },
  {
   "cell_type": "markdown",
   "id": "fddef0da",
   "metadata": {},
   "source": [
    "### Dataset 2"
   ]
  },
  {
   "cell_type": "code",
   "execution_count": 100,
   "id": "59369bda",
   "metadata": {},
   "outputs": [],
   "source": [
    "best_gbdt2 = GradientBoostingClassifier(**best_gbdt_params2)\n",
    "best_gbdt2.fit(X_train2, y_train2)\n",
    "y_pred_gbdt2 = best_gbdt2.predict(X_test2)"
   ]
  },
  {
   "cell_type": "code",
   "execution_count": 101,
   "id": "35b61c51",
   "metadata": {},
   "outputs": [
    {
     "name": "stdout",
     "output_type": "stream",
     "text": [
      "F1 Score on Test Set (GBDT): 0.9737171464330412\n"
     ]
    }
   ],
   "source": [
    "f1_gbdt2 = f1_score(y_test2, y_pred_gbdt2)\n",
    "print(\"F1 Score on Test Set (GBDT):\", f1_gbdt2)"
   ]
  },
  {
   "cell_type": "code",
   "execution_count": 102,
   "id": "d584e6f3",
   "metadata": {},
   "outputs": [
    {
     "name": "stdout",
     "output_type": "stream",
     "text": [
      "Accuracy on test set (GBDT): 0.9737171464330413\n",
      "Accuracy on train (GBDT): 1.0\n",
      "Cohen's Kappa Score on test: 0.9474363512764205\n"
     ]
    }
   ],
   "source": [
    "print(\"Accuracy on test set (GBDT):\", metrics.accuracy_score(y_test2, y_pred_gbdt2))\n",
    "y_pred_gbdt_train2 = best_gbdt2.predict(X_train2)\n",
    "print(\"Accuracy on train (GBDT):\", metrics.accuracy_score(y_train2, y_pred_gbdt_train2))\n",
    "kappa_score28 = cohen_kappa_score(y_test2, y_pred_gbdt2)\n",
    "print(\"Cohen's Kappa Score on test:\", kappa_score28)"
   ]
  },
  {
   "cell_type": "markdown",
   "id": "08472a4d",
   "metadata": {},
   "source": [
    "<div style=\"background-color: #D9EAD3; border-radius: 10px; border: 1px solid #D2B48C; padding: 10px;\">\n",
    "    <h2 style=\"color: #8B4513; font-size: 20px;\">Confusion Matrix for Gradient Boosting Decision Trees</h2>\n",
    "</div>"
   ]
  },
  {
   "cell_type": "markdown",
   "id": "bdcc0c35",
   "metadata": {},
   "source": [
    "### Dataset 1"
   ]
  },
  {
   "cell_type": "code",
   "execution_count": 103,
   "id": "e24924e8",
   "metadata": {},
   "outputs": [
    {
     "data": {
      "image/png": "[encoded data removed]",
      "text/plain": [
       "<Figure size 448x336 with 2 Axes>"
      ]
     },
     "metadata": {},
     "output_type": "display_data"
    }
   ],
   "source": [
    "gbdt_cm = confusion_matrix(y_test, y_pred_gbdt)\n",
    "plt.figure(dpi=70)\n",
    "sns.heatmap(gbdt_cm, annot=True, cmap='Greens', fmt='g')\n",
    "plt.xlabel('Predicted')\n",
    "plt.ylabel('Actual')\n",
    "plt.title('Confusion Matrix - GBDT')\n",
    "plt.show()"
   ]
  },
  {
   "cell_type": "markdown",
   "id": "78f1c739",
   "metadata": {},
   "source": [
    "### Dataset 2"
   ]
  },
  {
   "cell_type": "code",
   "execution_count": 104,
   "id": "b43cd0e7",
   "metadata": {},
   "outputs": [
    {
     "data": {
      "image/png": "[encoded data removed]",
      "text/plain": [
       "<Figure size 448x336 with 2 Axes>"
      ]
     },
     "metadata": {},
     "output_type": "display_data"
    }
   ],
   "source": [
    "gbdt_cm2 = confusion_matrix(y_test2, y_pred_gbdt2)\n",
    "plt.figure(dpi=70)\n",
    "sns.heatmap(gbdt_cm2, annot=True, cmap='Greens', fmt='g')\n",
    "plt.xlabel('Predicted')\n",
    "plt.ylabel('Actual')\n",
    "plt.title('Confusion Matrix - GBDT')\n",
    "plt.show()"
   ]
  },
  {
   "cell_type": "markdown",
   "id": "435dabee",
   "metadata": {},
   "source": [
    "<div style=\"background-color: #D9EAD3; border-radius: 10px; border: 1px solid #D2B48C; padding: 10px;\">\n",
    "    <h2 style=\"color: #8B4513; font-size: 20px;\">Finding the best model</h2>\n",
    "</div>"
   ]
  },
  {
   "cell_type": "code",
   "execution_count": 105,
   "id": "8840abf8",
   "metadata": {},
   "outputs": [
    {
     "name": "stdout",
     "output_type": "stream",
     "text": [
      "Accuracy on Test Dataset 1 Leaderboard:\n",
      "1. Random Forest: 0.9737\n",
      "2. XGBoost: 0.9700\n",
      "3. Gradient Boosting: 0.9675\n",
      "4. Gradient Boosting Decision Trees: 0.9675\n",
      "5. Decision Tree: 0.9499\n",
      "6. ADABoost: 0.9049\n",
      "7. Logistic Regression: 0.8673\n",
      "8. Naive Bayes: 0.8398\n",
      "\n",
      "Best Method: Random Forest\n",
      "With Accuracy of: 0.9737\n",
      "\n",
      "\n",
      "Cohen Kappa score on Test Dataset 1 Leaderboard:\n",
      "1. Random Forest: 0.9737\n",
      "2. XGBoost: 0.9700\n",
      "3. Gradient Boosting: 0.9675\n",
      "4. Gradient Boosting Decision Trees: 0.9675\n",
      "5. Decision Tree: 0.9499\n",
      "6. ADABoost: 0.9049\n",
      "7. Logistic Regression: 0.8673\n",
      "8. Naive Bayes: 0.8398\n",
      "\n",
      "Best Method: Random Forest\n",
      "With Cohen Kappa score of: 0.9737\n",
      "\n",
      "\n",
      "F1 score on Test Dataset 1 Leaderboard:\n",
      "1. Random Forest: 0.9737\n",
      "2. XGBoost: 0.9698\n",
      "3. Gradient Boosting: 0.9673\n",
      "4. Gradient Boosting Decision Trees: 0.9673\n",
      "5. Decision Tree: 0.9500\n",
      "6. ADABoost: 0.9033\n",
      "7. Logistic Regression: 0.8658\n",
      "8. Naive Bayes: 0.8384\n",
      "\n",
      "Best Method: Random Forest\n",
      "With F1 score of: 0.9737\n"
     ]
    }
   ],
   "source": [
    "accuracy_scores = {}\n",
    "\n",
    "accuracy_scores['Random Forest'] = metrics.accuracy_score(y_test, y_pred_rf)\n",
    "accuracy_scores['Decision Tree'] = metrics.accuracy_score(y_test, y_pred_dt)\n",
    "accuracy_scores['ADABoost'] = metrics.accuracy_score(y_test, y_pred_ada)\n",
    "accuracy_scores['XGBoost'] = metrics.accuracy_score(y_test, y_pred_xgb)\n",
    "accuracy_scores['Logistic Regression'] = metrics.accuracy_score(y_test, y_pred_lr)\n",
    "accuracy_scores['Naive Bayes'] = metrics.accuracy_score(y_test, y_pred_nb)\n",
    "accuracy_scores['Gradient Boosting'] = metrics.accuracy_score(y_test, y_pred_gbm)\n",
    "accuracy_scores['Gradient Boosting Decision Trees'] = metrics.accuracy_score(y_test, y_pred_gbdt)\n",
    "\n",
    "# Sort accuracy_scores in descending order by values (accuracy)\n",
    "sorted_scores = {k: v for k, v in sorted(accuracy_scores.items(), key=lambda item: item[1], reverse=True)}\n",
    "\n",
    "best_method = next(iter(sorted_scores))\n",
    "best_accuracy = sorted_scores[best_method]\n",
    "\n",
    "print(\"Accuracy on Test Dataset 1 Leaderboard:\")\n",
    "for rank, (method, accuracy) in enumerate(sorted_scores.items(), start=1):\n",
    "    print(f\"{rank}. {method}: {accuracy:.4f}\")\n",
    "\n",
    "print(f\"\\nBest Method: {best_method}\")\n",
    "print(f\"With Accuracy of: {best_accuracy:.4f}\")\n",
    "print()\n",
    "print()\n",
    "Kappa_scores = {}\n",
    "\n",
    "Kappa_scores['Random Forest'] = metrics.accuracy_score(y_test, y_pred_rf)\n",
    "Kappa_scores['Decision Tree'] = metrics.accuracy_score(y_test, y_pred_dt)\n",
    "Kappa_scores['ADABoost'] = metrics.accuracy_score(y_test, y_pred_ada)\n",
    "Kappa_scores['XGBoost'] = metrics.accuracy_score(y_test, y_pred_xgb)\n",
    "Kappa_scores['Logistic Regression'] = metrics.accuracy_score(y_test, y_pred_lr)\n",
    "Kappa_scores['Naive Bayes'] = metrics.accuracy_score(y_test, y_pred_nb)\n",
    "Kappa_scores['Gradient Boosting'] = metrics.accuracy_score(y_test, y_pred_gbm)\n",
    "Kappa_scores['Gradient Boosting Decision Trees'] = metrics.accuracy_score(y_test, y_pred_gbdt)\n",
    "\n",
    "# Sort accuracy_scores in descending order by values (accuracy)\n",
    "sortedk_scores = {k: v for k, v in sorted(Kappa_scores.items(), key=lambda item: item[1], reverse=True)}\n",
    "\n",
    "bestk_method = next(iter(sortedk_scores))\n",
    "bestk_accuracy = sortedk_scores[bestk_method]\n",
    "\n",
    "print(\"Cohen Kappa score on Test Dataset 1 Leaderboard:\")\n",
    "for rank, (method, accuracy) in enumerate(sortedk_scores.items(), start=1):\n",
    "    print(f\"{rank}. {method}: {accuracy:.4f}\")\n",
    "\n",
    "print(f\"\\nBest Method: {bestk_method}\")\n",
    "print(f\"With Cohen Kappa score of: {bestk_accuracy:.4f}\")\n",
    "print()\n",
    "print()\n",
    "f1_scores = {}\n",
    "\n",
    "f1_scores['Random Forest'] = f1_score(y_test, y_pred_rf)\n",
    "f1_scores['Decision Tree'] = f1_score(y_test, y_pred_dt)\n",
    "f1_scores['ADABoost'] = f1_score(y_test, y_pred_ada)\n",
    "f1_scores['XGBoost'] = f1_score(y_test, y_pred_xgb)\n",
    "f1_scores['Logistic Regression'] = f1_score(y_test, y_pred_lr)\n",
    "f1_scores['Naive Bayes'] = f1_score(y_test, y_pred_nb)\n",
    "f1_scores['Gradient Boosting'] = f1_score(y_test, y_pred_gbm)\n",
    "f1_scores['Gradient Boosting Decision Trees'] = f1_score(y_test, y_pred_gbdt)\n",
    "\n",
    "# Sort accuracy_scores in descending order by values (accuracy)\n",
    "sortedf1_scores = {k: v for k, v in sorted(f1_scores.items(), key=lambda item: item[1], reverse=True)}\n",
    "\n",
    "bestf1_method = next(iter(sortedf1_scores))\n",
    "bestf1_accuracy = sortedf1_scores[bestf1_method]\n",
    "\n",
    "print(\"F1 score on Test Dataset 1 Leaderboard:\")\n",
    "for rank, (method, accuracy) in enumerate(sortedf1_scores.items(), start=1):\n",
    "    print(f\"{rank}. {method}: {accuracy:.4f}\")\n",
    "\n",
    "print(f\"\\nBest Method: {bestf1_method}\")\n",
    "print(f\"With F1 score of: {bestf1_accuracy:.4f}\")\n"
   ]
  },
  {
   "cell_type": "code",
   "execution_count": 106,
   "id": "2e1efa92",
   "metadata": {},
   "outputs": [
    {
     "name": "stdout",
     "output_type": "stream",
     "text": [
      "Accuracy on Test Dataset 2 Leaderboard:\n",
      "1. Gradient Boosting Decision Trees: 0.9737\n",
      "2. Decision Tree: 0.9687\n",
      "3. Gradient Boosting: 0.9687\n",
      "4. XGBoost: 0.9625\n",
      "5. Random Forest: 0.9474\n",
      "6. ADABoost: 0.9011\n",
      "7. Logistic Regression: 0.8748\n",
      "8. Naive Bayes: 0.8298\n",
      "\n",
      "Best Method: Gradient Boosting Decision Trees\n",
      "With Accuracy of: 0.9675\n",
      "\n",
      "\n",
      "Cohen Kappa score on Test Dataset 2 Leaderboard:\n",
      "1. Gradient Boosting Decision Trees: 0.9737\n",
      "2. Decision Tree: 0.9687\n",
      "3. Gradient Boosting: 0.9687\n",
      "4. XGBoost: 0.9625\n",
      "5. Random Forest: 0.9474\n",
      "6. ADABoost: 0.9011\n",
      "7. Logistic Regression: 0.8748\n",
      "8. Naive Bayes: 0.8298\n",
      "\n",
      "Best Method: Gradient Boosting Decision Trees\n",
      "With Cohen Kappa score of: 0.9737\n",
      "\n",
      "\n",
      "F1 score on Test Dataset 2 Leaderboard:\n",
      "1. Gradient Boosting Decision Trees: 0.9737\n",
      "2. Gradient Boosting: 0.9687\n",
      "3. Decision Tree: 0.9686\n",
      "4. XGBoost: 0.9623\n",
      "5. Random Forest: 0.9478\n",
      "6. ADABoost: 0.9001\n",
      "7. Logistic Regression: 0.8737\n",
      "8. Naive Bayes: 0.8308\n",
      "\n",
      "Best Method: Gradient Boosting Decision Trees\n",
      "With F1 score of: 0.9737\n"
     ]
    }
   ],
   "source": [
    "accuracy_scores2 = {}\n",
    "\n",
    "accuracy_scores2['Random Forest'] = metrics.accuracy_score(y_test2, y_pred_rf2)\n",
    "accuracy_scores2['Decision Tree'] = metrics.accuracy_score(y_test2, y_pred_dt2)\n",
    "accuracy_scores2['ADABoost'] = metrics.accuracy_score(y_test2, y_pred_ada2)\n",
    "accuracy_scores2['XGBoost'] = metrics.accuracy_score(y_test2, y_pred_xgb2)\n",
    "accuracy_scores2['Logistic Regression'] = metrics.accuracy_score(y_test2, y_pred_lr2)\n",
    "accuracy_scores2['Naive Bayes'] = metrics.accuracy_score(y_test2, y_pred_nb2)\n",
    "accuracy_scores2['Gradient Boosting'] = metrics.accuracy_score(y_test2, y_pred_gbm2)\n",
    "accuracy_scores2['Gradient Boosting Decision Trees'] = metrics.accuracy_score(y_test2, y_pred_gbdt2)\n",
    "\n",
    "# Sort accuracy_scores in descending order by values (accuracy)\n",
    "sorted_scores2 = {k: v for k, v in sorted(accuracy_scores2.items(), key=lambda item: item[1], reverse=True)}\n",
    "\n",
    "best_method2 = next(iter(sorted_scores2))\n",
    "best_accuracy2 = sorted_scores[best_method2]\n",
    "\n",
    "print(\"Accuracy on Test Dataset 2 Leaderboard:\")\n",
    "for rank, (method, accuracy) in enumerate(sorted_scores2.items(), start=1):\n",
    "    print(f\"{rank}. {method}: {accuracy:.4f}\")\n",
    "\n",
    "print(f\"\\nBest Method: {best_method2}\")\n",
    "print(f\"With Accuracy of: {best_accuracy2:.4f}\")\n",
    "print()\n",
    "print()\n",
    "Kappa_scores2 = {}\n",
    "\n",
    "Kappa_scores2['Random Forest'] = metrics.accuracy_score(y_test2, y_pred_rf2)\n",
    "Kappa_scores2['Decision Tree'] = metrics.accuracy_score(y_test2, y_pred_dt2)\n",
    "Kappa_scores2['ADABoost'] = metrics.accuracy_score(y_test2, y_pred_ada2)\n",
    "Kappa_scores2['XGBoost'] = metrics.accuracy_score(y_test2, y_pred_xgb2)\n",
    "Kappa_scores2['Logistic Regression'] = metrics.accuracy_score(y_test2, y_pred_lr2)\n",
    "Kappa_scores2['Naive Bayes'] = metrics.accuracy_score(y_test2, y_pred_nb2)\n",
    "Kappa_scores2['Gradient Boosting'] = metrics.accuracy_score(y_test2, y_pred_gbm2)\n",
    "Kappa_scores2['Gradient Boosting Decision Trees'] = metrics.accuracy_score(y_test2, y_pred_gbdt2)\n",
    "\n",
    "# Sort accuracy_scores in descending order by values (accuracy)\n",
    "sortedk_scores2 = {k: v for k, v in sorted(Kappa_scores2.items(), key=lambda item: item[1], reverse=True)}\n",
    "\n",
    "bestk_method2 = next(iter(sortedk_scores2))\n",
    "bestk_accuracy2 = sortedk_scores2[bestk_method2]\n",
    "\n",
    "print(\"Cohen Kappa score on Test Dataset 2 Leaderboard:\")\n",
    "for rank, (method, accuracy) in enumerate(sortedk_scores2.items(), start=1):\n",
    "    print(f\"{rank}. {method}: {accuracy:.4f}\")\n",
    "\n",
    "print(f\"\\nBest Method: {bestk_method2}\")\n",
    "print(f\"With Cohen Kappa score of: {bestk_accuracy2:.4f}\")\n",
    "print()\n",
    "print()\n",
    "f1_scores2 = {}\n",
    "\n",
    "f1_scores2['Random Forest'] = f1_score(y_test2, y_pred_rf2)\n",
    "f1_scores2['Decision Tree'] = f1_score(y_test2, y_pred_dt2)\n",
    "f1_scores2['ADABoost'] = f1_score(y_test2, y_pred_ada2)\n",
    "f1_scores2['XGBoost'] = f1_score(y_test2, y_pred_xgb2)\n",
    "f1_scores2['Logistic Regression'] = f1_score(y_test2, y_pred_lr2)\n",
    "f1_scores2['Naive Bayes'] = f1_score(y_test2, y_pred_nb2)\n",
    "f1_scores2['Gradient Boosting'] = f1_score(y_test2, y_pred_gbm2)\n",
    "f1_scores2['Gradient Boosting Decision Trees'] = f1_score(y_test2, y_pred_gbdt2)\n",
    "\n",
    "# Sort accuracy_scores in descending order by values (accuracy)\n",
    "sortedf1_scores2 = {k: v for k, v in sorted(f1_scores2.items(), key=lambda item: item[1], reverse=True)}\n",
    "\n",
    "bestf1_method2 = next(iter(sortedf1_scores2))\n",
    "bestf1_accuracy2 = sortedf1_scores2[bestf1_method2]\n",
    "\n",
    "print(\"F1 score on Test Dataset 2 Leaderboard:\")\n",
    "for rank, (method, accuracy) in enumerate(sortedf1_scores2.items(), start=1):\n",
    "    print(f\"{rank}. {method}: {accuracy:.4f}\")\n",
    "\n",
    "print(f\"\\nBest Method: {bestf1_method2}\")\n",
    "print(f\"With F1 score of: {bestf1_accuracy2:.4f}\")\n"
   ]
  },
  {
   "cell_type": "code",
   "execution_count": 107,
   "id": "cb831cee",
   "metadata": {},
   "outputs": [
    {
     "name": "stdout",
     "output_type": "stream",
     "text": [
      "Top 10 Accuracy Scores Leaderboard:\n",
      "Rank | Method                                      | Score  | Dataset\n",
      "----------------------------------------------------------------------\n",
      "   1 | Random Forest                            | 0.9737 | Dataset 1\n",
      "   2 | Gradient Boosting Decision Trees 2       | 0.9737 | Dataset 2\n",
      "   3 | XGBoost                                  | 0.9700 | Dataset 1\n",
      "   4 | Decision Tree 2                          | 0.9687 | Dataset 2\n",
      "   5 | Gradient Boosting 2                      | 0.9687 | Dataset 2\n",
      "   6 | Gradient Boosting                        | 0.9675 | Dataset 1\n",
      "   7 | Gradient Boosting Decision Trees         | 0.9675 | Dataset 1\n",
      "   8 | XGBoost 2                                | 0.9625 | Dataset 2\n",
      "   9 | Decision Tree                            | 0.9499 | Dataset 1\n",
      "  10 | Random Forest 2                          | 0.9474 | Dataset 2\n"
     ]
    }
   ],
   "source": [
    "# Accuracy scores for Dataset 1\n",
    "accuracy_scores = {\n",
    "    'Random Forest': metrics.accuracy_score(y_test, y_pred_rf),\n",
    "    'Decision Tree': metrics.accuracy_score(y_test, y_pred_dt),\n",
    "    'ADABoost': metrics.accuracy_score(y_test, y_pred_ada),\n",
    "    'XGBoost': metrics.accuracy_score(y_test, y_pred_xgb),\n",
    "    'Logistic Regression': metrics.accuracy_score(y_test, y_pred_lr),\n",
    "    'Naive Bayes': metrics.accuracy_score(y_test, y_pred_nb),\n",
    "    'Gradient Boosting': metrics.accuracy_score(y_test, y_pred_gbm),\n",
    "    'Gradient Boosting Decision Trees': metrics.accuracy_score(y_test, y_pred_gbdt)\n",
    "}\n",
    "\n",
    "# Accuracy scores for Dataset 2\n",
    "accuracy_scores2 = {\n",
    "    'Random Forest 2': metrics.accuracy_score(y_test2, y_pred_rf2),\n",
    "    'Decision Tree 2': metrics.accuracy_score(y_test2, y_pred_dt2),\n",
    "    'ADABoost 2': metrics.accuracy_score(y_test2, y_pred_ada2),\n",
    "    'XGBoost 2': metrics.accuracy_score(y_test2, y_pred_xgb2),\n",
    "    'Logistic Regression 2': metrics.accuracy_score(y_test2, y_pred_lr2),\n",
    "    'Naive Bayes 2': metrics.accuracy_score(y_test2, y_pred_nb2),\n",
    "    'Gradient Boosting 2': metrics.accuracy_score(y_test2, y_pred_gbm2),\n",
    "    'Gradient Boosting Decision Trees 2': metrics.accuracy_score(y_test2, y_pred_gbdt2)\n",
    "}\n",
    "\n",
    "# Combine Accuracy scores from both datasets\n",
    "combined_accuracy_scores = {**accuracy_scores, **accuracy_scores2}\n",
    "\n",
    "# Sort Accuracy scores in descending order\n",
    "sorted_accuracy_scores = {k: v for k, v in sorted(combined_accuracy_scores.items(), key=lambda item: item[1], reverse=True)}\n",
    "\n",
    "# Display top 10 Accuracy Scores leaderboard\n",
    "print(\"Top 10 Accuracy Scores Leaderboard:\")\n",
    "print(\"Rank | Method                                      | Score  | Dataset\")\n",
    "print(\"-\" * 70)\n",
    "for rank, (method, score) in enumerate(sorted_accuracy_scores.items(), start=1):\n",
    "    dataset_name = \"Dataset 1\" if method in accuracy_scores else \"Dataset 2\"\n",
    "    print(f\"{rank:4d} | {method:<40} | {score:.4f} | {dataset_name}\")\n",
    "    if rank == 10:\n",
    "        break\n"
   ]
  },
  {
   "cell_type": "code",
   "execution_count": 108,
   "id": "47ff21b3",
   "metadata": {},
   "outputs": [
    {
     "name": "stdout",
     "output_type": "stream",
     "text": [
      "Top 10 Cohen Kappa Scores Leaderboard:\n",
      "Rank | Method                                      | Score  | Dataset\n",
      "----------------------------------------------------------------------\n",
      "   1 | Random Forest                            | 0.9474 | Dataset 1\n",
      "   2 | Gradient Boosting Decision Trees 2       | 0.9474 | Dataset 2\n",
      "   3 | XGBoost                                  | 0.9399 | Dataset 1\n",
      "   4 | Decision Tree 2                          | 0.9374 | Dataset 2\n",
      "   5 | Gradient Boosting 2                      | 0.9374 | Dataset 2\n",
      "   6 | Gradient Boosting                        | 0.9349 | Dataset 1\n",
      "   7 | Gradient Boosting Decision Trees         | 0.9349 | Dataset 1\n",
      "   8 | XGBoost 2                                | 0.9249 | Dataset 2\n",
      "   9 | Decision Tree                            | 0.8999 | Dataset 1\n",
      "  10 | Random Forest 2                          | 0.8949 | Dataset 2\n"
     ]
    }
   ],
   "source": [
    "# Cohen Kappa scores for Dataset 1\n",
    "kappa_scores = {\n",
    "    'Random Forest': cohen_kappa_score(y_test, y_pred_rf),\n",
    "    'Decision Tree': cohen_kappa_score(y_test, y_pred_dt),\n",
    "    'ADABoost': cohen_kappa_score(y_test, y_pred_ada),\n",
    "    'XGBoost': cohen_kappa_score(y_test, y_pred_xgb),\n",
    "    'Logistic Regression': cohen_kappa_score(y_test, y_pred_lr),\n",
    "    'Naive Bayes': cohen_kappa_score(y_test, y_pred_nb),\n",
    "    'Gradient Boosting': cohen_kappa_score(y_test, y_pred_gbm),\n",
    "    'Gradient Boosting Decision Trees': cohen_kappa_score(y_test, y_pred_gbdt)\n",
    "}\n",
    "\n",
    "# Cohen Kappa scores for Dataset 2\n",
    "kappa_scores2 = {\n",
    "    'Random Forest 2': cohen_kappa_score(y_test2, y_pred_rf2),\n",
    "    'Decision Tree 2': cohen_kappa_score(y_test2, y_pred_dt2),\n",
    "    'ADABoost 2': cohen_kappa_score(y_test2, y_pred_ada2),\n",
    "    'XGBoost 2': cohen_kappa_score(y_test2, y_pred_xgb2),\n",
    "    'Logistic Regression 2': cohen_kappa_score(y_test2, y_pred_lr2),\n",
    "    'Naive Bayes 2': cohen_kappa_score(y_test2, y_pred_nb2),\n",
    "    'Gradient Boosting 2': cohen_kappa_score(y_test2, y_pred_gbm2),\n",
    "    'Gradient Boosting Decision Trees 2': cohen_kappa_score(y_test2, y_pred_gbdt2)\n",
    "}\n",
    "\n",
    "# Combine Cohen Kappa scores from both datasets\n",
    "combined_kappa_scores = {**kappa_scores, **kappa_scores2}\n",
    "\n",
    "# Sort Cohen Kappa scores in descending order\n",
    "sorted_kappa_scores = {k: v for k, v in sorted(combined_kappa_scores.items(), key=lambda item: item[1], reverse=True)}\n",
    "\n",
    "# Display top 10 Cohen Kappa Scores leaderboard\n",
    "print(\"Top 10 Cohen Kappa Scores Leaderboard:\")\n",
    "print(\"Rank | Method                                      | Score  | Dataset\")\n",
    "print(\"-\" * 70)\n",
    "for rank, (method, score) in enumerate(sorted_kappa_scores.items(), start=1):\n",
    "    dataset_name = \"Dataset 1\" if method in kappa_scores else \"Dataset 2\"\n",
    "    print(f\"{rank:4d} | {method:<40} | {score:.4f} | {dataset_name}\")\n",
    "    if rank == 10:\n",
    "        break\n"
   ]
  },
  {
   "cell_type": "code",
   "execution_count": 109,
   "id": "21f20146",
   "metadata": {},
   "outputs": [
    {
     "name": "stdout",
     "output_type": "stream",
     "text": [
      "Top 10 F1 Scores Leaderboard:\n",
      "Rank | Method                                      | Score  | Dataset\n",
      "----------------------------------------------------------------------\n",
      "   1 | Random Forest                            | 0.9737 | Dataset 1\n",
      "   2 | Gradient Boosting Decision Trees 2       | 0.9737 | Dataset 2\n",
      "   3 | XGBoost                                  | 0.9698 | Dataset 1\n",
      "   4 | Gradient Boosting 2                      | 0.9687 | Dataset 2\n",
      "   5 | Decision Tree 2                          | 0.9686 | Dataset 2\n",
      "   6 | Gradient Boosting                        | 0.9673 | Dataset 1\n",
      "   7 | Gradient Boosting Decision Trees         | 0.9673 | Dataset 1\n",
      "   8 | XGBoost 2                                | 0.9623 | Dataset 2\n",
      "   9 | Decision Tree                            | 0.9500 | Dataset 1\n",
      "  10 | Random Forest 2                          | 0.9478 | Dataset 2\n"
     ]
    }
   ],
   "source": [
    "# F1 scores for Dataset 1\n",
    "f1_scores = {\n",
    "    'Random Forest': f1_score(y_test, y_pred_rf),\n",
    "    'Decision Tree': f1_score(y_test, y_pred_dt),\n",
    "    'ADABoost': f1_score(y_test, y_pred_ada),\n",
    "    'XGBoost': f1_score(y_test, y_pred_xgb),\n",
    "    'Logistic Regression': f1_score(y_test, y_pred_lr),\n",
    "    'Naive Bayes': f1_score(y_test, y_pred_nb),\n",
    "    'Gradient Boosting': f1_score(y_test, y_pred_gbm),\n",
    "    'Gradient Boosting Decision Trees': f1_score(y_test, y_pred_gbdt)\n",
    "}\n",
    "\n",
    "# F1 scores for Dataset 2\n",
    "f1_scores2 = {\n",
    "    'Random Forest 2': f1_score(y_test2, y_pred_rf2),\n",
    "    'Decision Tree 2': f1_score(y_test2, y_pred_dt2),\n",
    "    'ADABoost 2': f1_score(y_test2, y_pred_ada2),\n",
    "    'XGBoost 2': f1_score(y_test2, y_pred_xgb2),\n",
    "    'Logistic Regression 2': f1_score(y_test2, y_pred_lr2),\n",
    "    'Naive Bayes 2': f1_score(y_test2, y_pred_nb2),\n",
    "    'Gradient Boosting 2': f1_score(y_test2, y_pred_gbm2),\n",
    "    'Gradient Boosting Decision Trees 2': f1_score(y_test2, y_pred_gbdt2)\n",
    "}\n",
    "\n",
    "# Combine F1 scores from both datasets\n",
    "combined_f1_scores = {**f1_scores, **f1_scores2}\n",
    "\n",
    "# Sort F1 scores in descending order\n",
    "sorted_f1_scores = {k: v for k, v in sorted(combined_f1_scores.items(), key=lambda item: item[1], reverse=True)}\n",
    "\n",
    "# Display top 10 F1 Scores leaderboard\n",
    "print(\"Top 10 F1 Scores Leaderboard:\")\n",
    "print(\"Rank | Method                                      | Score  | Dataset\")\n",
    "print(\"-\" * 70)\n",
    "for rank, (method, score) in enumerate(sorted_f1_scores.items(), start=1):\n",
    "    dataset_name = \"Dataset 1\" if method in f1_scores else \"Dataset 2\"\n",
    "    print(f\"{rank:4d} | {method:<40} | {score:.4f} | {dataset_name}\")\n",
    "    if rank == 10:\n",
    "        break\n"
   ]
  },
  {
   "cell_type": "markdown",
   "id": "a581bed0",
   "metadata": {},
   "source": [
    "# Adding previous notebook to new notebook"
   ]
  },
  {
   "cell_type": "markdown",
   "id": "9b5e173c",
   "metadata": {},
   "source": [
    "<div style=\"background-color: #D9EAD3; border-radius: 10px; border: 1px solid #D2B48C; padding: 10px;\">\n",
    "    <h2 style=\"color: #8B4513;\">Scalers & Transformers</h2>\n",
    "</div>"
   ]
  },
  {
   "cell_type": "markdown",
   "id": "912ee778",
   "metadata": {},
   "source": [
    "## Standard Scaler"
   ]
  },
  {
   "cell_type": "markdown",
   "id": "8c3c7f32",
   "metadata": {},
   "source": [
    "### Dataset 1"
   ]
  },
  {
   "cell_type": "code",
   "execution_count": 110,
   "id": "c5898135",
   "metadata": {},
   "outputs": [],
   "source": [
    "scaler = StandardScaler()\n",
    "X_train_stanscaled = scaler.fit_transform(X_train)\n",
    "X_test_stanscaled = scaler.fit_transform(X_test)"
   ]
  },
  {
   "cell_type": "markdown",
   "id": "8a0a6ede",
   "metadata": {},
   "source": [
    "### Dataset 2"
   ]
  },
  {
   "cell_type": "code",
   "execution_count": 111,
   "id": "d4c4ba78",
   "metadata": {},
   "outputs": [],
   "source": [
    "scaler = StandardScaler()\n",
    "X_train_stanscaled2 = scaler.fit_transform(X_train2)\n",
    "X_test_stanscaled2 = scaler.fit_transform(X_test2)"
   ]
  },
  {
   "cell_type": "markdown",
   "id": "414432a6",
   "metadata": {},
   "source": [
    "## MinMax Scaler"
   ]
  },
  {
   "cell_type": "markdown",
   "id": "fbdfe367",
   "metadata": {},
   "source": [
    "### Dataset 1"
   ]
  },
  {
   "cell_type": "code",
   "execution_count": 112,
   "id": "233d6250",
   "metadata": {},
   "outputs": [],
   "source": [
    "scaler = MinMaxScaler()\n",
    "X_train_minmaxscaled = scaler.fit_transform(X_train)\n",
    "X_test_minmaxscaled = scaler.fit_transform(X_test)\n"
   ]
  },
  {
   "cell_type": "markdown",
   "id": "f7e57673",
   "metadata": {},
   "source": [
    "### Dataset 2"
   ]
  },
  {
   "cell_type": "code",
   "execution_count": 113,
   "id": "6c57ef31",
   "metadata": {},
   "outputs": [],
   "source": [
    "scaler = MinMaxScaler()\n",
    "X_train_minmaxscaled2 = scaler.fit_transform(X_train2)\n",
    "X_test_minmaxscaled2 = scaler.fit_transform(X_test2)\n"
   ]
  },
  {
   "cell_type": "markdown",
   "id": "6fe0be2f",
   "metadata": {},
   "source": [
    "<div style=\"background-color: #D9EAD3; border-radius: 10px; border: 1px solid #D2B48C; padding: 10px;\">\n",
    "    <h2 style=\"color: #8B4513; font-size: 24px;\">Neural Networks</h2>\n",
    "</div>"
   ]
  },
  {
   "cell_type": "markdown",
   "id": "5ec149a0",
   "metadata": {},
   "source": [
    "<div style=\"background-color: #D9EAD3; border-radius: 10px; border: 1px solid #D2B48C; padding: 10px;\">\n",
    "    <h2 style=\"color: #8B4513; font-size: 20px;\">Neural Network for MinMaxScaled Data (Using Sigmoid Activation) with Dataset 1:</h2>\n",
    "</div>"
   ]
  },
  {
   "cell_type": "code",
   "execution_count": 114,
   "id": "2315589c",
   "metadata": {},
   "outputs": [
    {
     "name": "stdout",
     "output_type": "stream",
     "text": [
      "Model: \"sequential\"\n",
      "_________________________________________________________________\n",
      " Layer (type)                Output Shape              Param #   \n",
      "=================================================================\n",
      " dense (Dense)               (None, 64)                704       \n",
      "                                                                 \n",
      " dense_1 (Dense)             (None, 32)                2080      \n",
      "                                                                 \n",
      " dense_2 (Dense)             (None, 1)                 33        \n",
      "                                                                 \n",
      "=================================================================\n",
      "Total params: 2817 (11.00 KB)\n",
      "Trainable params: 2817 (11.00 KB)\n",
      "Non-trainable params: 0 (0.00 Byte)\n",
      "_________________________________________________________________\n",
      "Epoch 1/10\n",
      "90/90 [==============================] - 0s 1ms/step - loss: 0.6940 - accuracy: 0.5082 - val_loss: 0.6868 - val_accuracy: 0.5906\n",
      "Epoch 2/10\n",
      "90/90 [==============================] - 0s 545us/step - loss: 0.6829 - accuracy: 0.5799 - val_loss: 0.6756 - val_accuracy: 0.8250\n",
      "Epoch 3/10\n",
      "90/90 [==============================] - 0s 522us/step - loss: 0.6677 - accuracy: 0.6700 - val_loss: 0.6572 - val_accuracy: 0.7937\n",
      "Epoch 4/10\n",
      "90/90 [==============================] - 0s 518us/step - loss: 0.6417 - accuracy: 0.7776 - val_loss: 0.6249 - val_accuracy: 0.8344\n",
      "Epoch 5/10\n",
      "90/90 [==============================] - 0s 522us/step - loss: 0.6028 - accuracy: 0.8030 - val_loss: 0.5802 - val_accuracy: 0.8281\n",
      "Epoch 6/10\n",
      "90/90 [==============================] - 0s 522us/step - loss: 0.5502 - accuracy: 0.8260 - val_loss: 0.5273 - val_accuracy: 0.8281\n",
      "Epoch 7/10\n",
      "90/90 [==============================] - 0s 529us/step - loss: 0.4910 - accuracy: 0.8462 - val_loss: 0.4727 - val_accuracy: 0.8375\n",
      "Epoch 8/10\n",
      "90/90 [==============================] - 0s 534us/step - loss: 0.4408 - accuracy: 0.8444 - val_loss: 0.4407 - val_accuracy: 0.8344\n",
      "Epoch 9/10\n",
      "90/90 [==============================] - 0s 530us/step - loss: 0.3980 - accuracy: 0.8549 - val_loss: 0.3995 - val_accuracy: 0.8438\n",
      "Epoch 10/10\n",
      "90/90 [==============================] - 0s 554us/step - loss: 0.3693 - accuracy: 0.8604 - val_loss: 0.3844 - val_accuracy: 0.8344\n"
     ]
    }
   ],
   "source": [
    "# Define the neural network architecture\n",
    "model_minmax = keras.Sequential([\n",
    "    keras.layers.Dense(64, activation='sigmoid', input_dim=X_train_minmaxscaled.shape[1]),\n",
    "    keras.layers.Dense(32, activation='sigmoid'),\n",
    "    keras.layers.Dense(1, activation='sigmoid')  # Binary classification output\n",
    "])\n",
    "\n",
    "# Compile the model\n",
    "model_minmax.compile(optimizer='adam', loss='binary_crossentropy', metrics=['accuracy'])\n",
    "model_minmax.summary() # 30 coef * 10 = 300 samples\n",
    "\n",
    "# Train the model\n",
    "history = model_minmax.fit(X_train_minmaxscaled, y_train, epochs=10, batch_size=32, validation_split=0.1)"
   ]
  },
  {
   "cell_type": "code",
   "execution_count": 115,
   "id": "fa726659",
   "metadata": {},
   "outputs": [
    {
     "name": "stdout",
     "output_type": "stream",
     "text": [
      "25/25 [==============================] - 0s 418us/step - loss: 0.3298 - accuracy: 0.8686\n",
      "Min-Max Scaled Test Data accuracy (D1): 0.8685857057571411\n",
      "25/25 [==============================] - 0s 299us/step\n",
      "F1-score on Test Set for MinMaxScaled Model (D1): 0.8721071863580999\n",
      "\n",
      "Cohen's Kappa Score on test (D1): 0.7370911586541022\n"
     ]
    }
   ],
   "source": [
    "# Evaluate the model on the test set\n",
    "test_loss, test_acc = model_minmax.evaluate(X_test_minmaxscaled, y_test)\n",
    "print(\"Min-Max Scaled Test Data accuracy (D1):\", test_acc)\n",
    "\n",
    "# Predictions from the MinMaxScaled model\n",
    "y_pred_minmax = model_minmax.predict(X_test_minmaxscaled)\n",
    "y_pred_minmax = (y_pred_minmax > 0.5).astype(int)  # Convert probabilities to binary predictions\n",
    "\n",
    "# Calculate F1-score for the MinMaxScaled model\n",
    "f1_minmax = f1_score(y_test, y_pred_minmax)\n",
    "print(\"F1-score on Test Set for MinMaxScaled Model (D1):\", f1_minmax)\n",
    "print()\n",
    "kappa_score = cohen_kappa_score(y_test, y_pred_minmax)\n",
    "print(\"Cohen's Kappa Score on test (D1):\", kappa_score)"
   ]
  },
  {
   "cell_type": "markdown",
   "id": "e09a38ba",
   "metadata": {},
   "source": [
    "<div style=\"background-color: #D9EAD3; border-radius: 10px; border: 1px solid #D2B48C; padding: 10px;\">\n",
    "    <h2 style=\"color: #8B4513; font-size: 20px;\">Neural Network for MinMaxScaled Data (Using Sigmoid Activation) with Dataset 2:</h2>\n",
    "</div>"
   ]
  },
  {
   "cell_type": "code",
   "execution_count": 116,
   "id": "75248883",
   "metadata": {},
   "outputs": [
    {
     "name": "stdout",
     "output_type": "stream",
     "text": [
      "Model: \"sequential_1\"\n",
      "_________________________________________________________________\n",
      " Layer (type)                Output Shape              Param #   \n",
      "=================================================================\n",
      " dense_3 (Dense)             (None, 64)                640       \n",
      "                                                                 \n",
      " dense_4 (Dense)             (None, 32)                2080      \n",
      "                                                                 \n",
      " dense_5 (Dense)             (None, 1)                 33        \n",
      "                                                                 \n",
      "=================================================================\n",
      "Total params: 2753 (10.75 KB)\n",
      "Trainable params: 2753 (10.75 KB)\n",
      "Non-trainable params: 0 (0.00 Byte)\n",
      "_________________________________________________________________\n",
      "Epoch 1/10\n",
      "90/90 [==============================] - 0s 988us/step - loss: 0.6950 - accuracy: 0.4998 - val_loss: 0.6827 - val_accuracy: 0.7344\n",
      "Epoch 2/10\n",
      "90/90 [==============================] - 0s 518us/step - loss: 0.6752 - accuracy: 0.6676 - val_loss: 0.6646 - val_accuracy: 0.7812\n",
      "Epoch 3/10\n",
      "90/90 [==============================] - 0s 521us/step - loss: 0.6470 - accuracy: 0.7651 - val_loss: 0.6264 - val_accuracy: 0.8344\n",
      "Epoch 4/10\n",
      "90/90 [==============================] - 0s 514us/step - loss: 0.5896 - accuracy: 0.8315 - val_loss: 0.5557 - val_accuracy: 0.8406\n",
      "Epoch 5/10\n",
      "90/90 [==============================] - 0s 505us/step - loss: 0.5064 - accuracy: 0.8531 - val_loss: 0.4749 - val_accuracy: 0.8500\n",
      "Epoch 6/10\n",
      "90/90 [==============================] - 0s 510us/step - loss: 0.4271 - accuracy: 0.8566 - val_loss: 0.4147 - val_accuracy: 0.8500\n",
      "Epoch 7/10\n",
      "90/90 [==============================] - 0s 511us/step - loss: 0.3754 - accuracy: 0.8604 - val_loss: 0.3820 - val_accuracy: 0.8500\n",
      "Epoch 8/10\n",
      "90/90 [==============================] - 0s 514us/step - loss: 0.3513 - accuracy: 0.8639 - val_loss: 0.3743 - val_accuracy: 0.8469\n",
      "Epoch 9/10\n",
      "90/90 [==============================] - 0s 525us/step - loss: 0.3382 - accuracy: 0.8556 - val_loss: 0.3614 - val_accuracy: 0.8531\n",
      "Epoch 10/10\n",
      "90/90 [==============================] - 0s 515us/step - loss: 0.3303 - accuracy: 0.8608 - val_loss: 0.3663 - val_accuracy: 0.8344\n"
     ]
    }
   ],
   "source": [
    "# Define the neural network architecture\n",
    "model_minmax2 = keras.Sequential([\n",
    "    keras.layers.Dense(64, activation='sigmoid', input_dim=X_train_minmaxscaled2.shape[1]),\n",
    "    keras.layers.Dense(32, activation='sigmoid'),\n",
    "    keras.layers.Dense(1, activation='sigmoid')  # Binary classification output\n",
    "])\n",
    "\n",
    "# Compile the model\n",
    "model_minmax2.compile(optimizer='adam', loss='binary_crossentropy', metrics=['accuracy'])\n",
    "model_minmax2.summary() # 30 coef * 10 = 300 samples\n",
    "\n",
    "# Train the model\n",
    "history2 = model_minmax2.fit(X_train_minmaxscaled2, y_train2, epochs=10, batch_size=32, validation_split=0.1)"
   ]
  },
  {
   "cell_type": "code",
   "execution_count": 117,
   "id": "31123b4d",
   "metadata": {},
   "outputs": [
    {
     "name": "stdout",
     "output_type": "stream",
     "text": [
      "25/25 [==============================] - 0s 416us/step - loss: 0.3024 - accuracy: 0.8698\n",
      "Min-Max Scaled Test Data accuracy (D2): 0.8698372840881348\n",
      "25/25 [==============================] - 0s 291us/step\n",
      "F1-score on Test Set for MinMaxScaled Model (D2): 0.8719211822660099\n",
      "\n",
      "Cohen's Kappa Score on test (D2): 0.7396317695865241\n"
     ]
    }
   ],
   "source": [
    "test_loss2, test_acc2 = model_minmax2.evaluate(X_test_minmaxscaled2, y_test2)\n",
    "print(\"Min-Max Scaled Test Data accuracy (D2):\", test_acc2)\n",
    "\n",
    "# Predictions from the MinMaxScaled model\n",
    "y_pred_minmax2 = model_minmax2.predict(X_test_minmaxscaled2)\n",
    "y_pred_minmax2 = (y_pred_minmax2 > 0.5).astype(int)  # Convert probabilities to binary predictions\n",
    "\n",
    "# Calculate F1-score for the MinMaxScaled model\n",
    "f1_minmax2 = f1_score(y_test2, y_pred_minmax2)\n",
    "print(\"F1-score on Test Set for MinMaxScaled Model (D2):\", f1_minmax2)\n",
    "print()\n",
    "kappa_score2 = cohen_kappa_score(y_test2, y_pred_minmax2)\n",
    "print(\"Cohen's Kappa Score on test (D2):\", kappa_score2)"
   ]
  },
  {
   "cell_type": "markdown",
   "id": "02c037fd",
   "metadata": {},
   "source": [
    "<div style=\"background-color: #D9EAD3; border-radius: 10px; border: 1px solid #D2B48C; padding: 10px;\">\n",
    "    <h2 style=\"color: #8B4513; font-size: 20px;\">Time for some fine tuning for Dataset 1</h2>\n",
    "</div>"
   ]
  },
  {
   "cell_type": "code",
   "execution_count": 118,
   "id": "bc27e252",
   "metadata": {},
   "outputs": [
    {
     "name": "stderr",
     "output_type": "stream",
     "text": [
      "WARNING:absl:At this time, the v2.11+ optimizer `tf.keras.optimizers.Adam` runs slowly on M1/M2 Macs, please use the legacy Keras optimizer instead, located at `tf.keras.optimizers.legacy.Adam`.\n",
      "WARNING:absl:There is a known slowdown when using v2.11+ Keras optimizers on M1/M2 Macs. Falling back to the legacy Keras optimizer, i.e., `tf.keras.optimizers.legacy.Adam`.\n"
     ]
    },
    {
     "name": "stdout",
     "output_type": "stream",
     "text": [
      "Model: \"sequential_2\"\n",
      "_________________________________________________________________\n",
      " Layer (type)                Output Shape              Param #   \n",
      "=================================================================\n",
      " dense_6 (Dense)             (None, 128)               1408      \n",
      "                                                                 \n",
      " dense_7 (Dense)             (None, 64)                8256      \n",
      "                                                                 \n",
      " dense_8 (Dense)             (None, 32)                2080      \n",
      "                                                                 \n",
      " dense_9 (Dense)             (None, 1)                 33        \n",
      "                                                                 \n",
      "=================================================================\n",
      "Total params: 11777 (46.00 KB)\n",
      "Trainable params: 11777 (46.00 KB)\n",
      "Non-trainable params: 0 (0.00 Byte)\n",
      "_________________________________________________________________\n",
      "Epoch 1/20\n",
      "10/10 [==============================] - 0s 8ms/step - loss: 0.6951 - accuracy: 0.5144 - val_loss: 0.6952 - val_accuracy: 0.4969\n",
      "Epoch 2/20\n",
      "10/10 [==============================] - 0s 2ms/step - loss: 0.6944 - accuracy: 0.4970 - val_loss: 0.6930 - val_accuracy: 0.5031\n",
      "Epoch 3/20\n",
      "10/10 [==============================] - 0s 2ms/step - loss: 0.6932 - accuracy: 0.4929 - val_loss: 0.6925 - val_accuracy: 0.4969\n",
      "Epoch 4/20\n",
      "10/10 [==============================] - 0s 2ms/step - loss: 0.6915 - accuracy: 0.5496 - val_loss: 0.6910 - val_accuracy: 0.5031\n",
      "Epoch 5/20\n",
      "10/10 [==============================] - 0s 2ms/step - loss: 0.6911 - accuracy: 0.5064 - val_loss: 0.6904 - val_accuracy: 0.5000\n",
      "Epoch 6/20\n",
      "10/10 [==============================] - 0s 2ms/step - loss: 0.6899 - accuracy: 0.5030 - val_loss: 0.6893 - val_accuracy: 0.7344\n",
      "Epoch 7/20\n",
      "10/10 [==============================] - 0s 2ms/step - loss: 0.6895 - accuracy: 0.5586 - val_loss: 0.6882 - val_accuracy: 0.7594\n",
      "Epoch 8/20\n",
      "10/10 [==============================] - 0s 2ms/step - loss: 0.6879 - accuracy: 0.5378 - val_loss: 0.6867 - val_accuracy: 0.7781\n",
      "Epoch 9/20\n",
      "10/10 [==============================] - 0s 2ms/step - loss: 0.6878 - accuracy: 0.5308 - val_loss: 0.6847 - val_accuracy: 0.8250\n",
      "Epoch 10/20\n",
      "10/10 [==============================] - 0s 2ms/step - loss: 0.6868 - accuracy: 0.5367 - val_loss: 0.6827 - val_accuracy: 0.6656\n",
      "Epoch 11/20\n",
      "10/10 [==============================] - 0s 2ms/step - loss: 0.6814 - accuracy: 0.6029 - val_loss: 0.6797 - val_accuracy: 0.6125\n",
      "Epoch 12/20\n",
      "10/10 [==============================] - 0s 2ms/step - loss: 0.6784 - accuracy: 0.6234 - val_loss: 0.6758 - val_accuracy: 0.7406\n",
      "Epoch 13/20\n",
      "10/10 [==============================] - 0s 2ms/step - loss: 0.6733 - accuracy: 0.7000 - val_loss: 0.6700 - val_accuracy: 0.8281\n",
      "Epoch 14/20\n",
      "10/10 [==============================] - 0s 2ms/step - loss: 0.6686 - accuracy: 0.6429 - val_loss: 0.6630 - val_accuracy: 0.7781\n",
      "Epoch 15/20\n",
      "10/10 [==============================] - 0s 2ms/step - loss: 0.6586 - accuracy: 0.7135 - val_loss: 0.6533 - val_accuracy: 0.8375\n",
      "Epoch 16/20\n",
      "10/10 [==============================] - 0s 2ms/step - loss: 0.6467 - accuracy: 0.8173 - val_loss: 0.6396 - val_accuracy: 0.8344\n",
      "Epoch 17/20\n",
      "10/10 [==============================] - 0s 2ms/step - loss: 0.6311 - accuracy: 0.8221 - val_loss: 0.6215 - val_accuracy: 0.8438\n",
      "Epoch 18/20\n",
      "10/10 [==============================] - 0s 2ms/step - loss: 0.6087 - accuracy: 0.8434 - val_loss: 0.5971 - val_accuracy: 0.8438\n",
      "Epoch 19/20\n",
      "10/10 [==============================] - 0s 2ms/step - loss: 0.5806 - accuracy: 0.8458 - val_loss: 0.5661 - val_accuracy: 0.8375\n",
      "Epoch 20/20\n",
      "10/10 [==============================] - 0s 2ms/step - loss: 0.5447 - accuracy: 0.8458 - val_loss: 0.5301 - val_accuracy: 0.8281\n"
     ]
    }
   ],
   "source": [
    "#tf.random.set_seed(12)\n",
    "# Define the neural network architecture\n",
    "model_minmax3 = Sequential([\n",
    "    Dense(128, activation='sigmoid', input_dim=X_train_minmaxscaled.shape[1]),\n",
    "    Dense(64, activation='sigmoid'),\n",
    "    Dense(32, activation='sigmoid'),\n",
    "    Dense(1, activation='sigmoid')  # Binary classification output\n",
    "])\n",
    "\n",
    "# Compile the model\n",
    "model_minmax3.compile(optimizer=Adam(learning_rate=0.001), loss='binary_crossentropy', metrics=['accuracy'])\n",
    "\n",
    "# Implement early stopping to prevent overfitting\n",
    "early_stopping3 = EarlyStopping(monitor='val_loss', patience=3, restore_best_weights=True)\n",
    "\n",
    "model_minmax3.summary()\n",
    "\n",
    "# Train the model with hyperparameter tuning\n",
    "history3 = model_minmax3.fit(\n",
    "    X_train_minmaxscaled, y_train,\n",
    "    epochs=20, batch_size=300,\n",
    "    validation_split=0.1,\n",
    "    callbacks=[early_stopping3]\n",
    ")\n"
   ]
  },
  {
   "cell_type": "code",
   "execution_count": 119,
   "id": "d541f764",
   "metadata": {},
   "outputs": [
    {
     "name": "stdout",
     "output_type": "stream",
     "text": [
      "25/25 [==============================] - 0s 384us/step - loss: 0.5033 - accuracy: 0.8398\n",
      "Tuned Min-Max Scaled Test Data accuracy (D1): 0.8397997617721558\n",
      "25/25 [==============================] - 0s 329us/step\n",
      "F1-score for Test Data for the Tuned MinMaxScaled Model (D1): 0.8571428571428571\n",
      "\n",
      "Cohen's Kappa Score on test (D1): 0.6791245199668683\n"
     ]
    }
   ],
   "source": [
    "# Evaluate the model on the test set\n",
    "test_loss3, test_acc3 = model_minmax3.evaluate(X_test_minmaxscaled, y_test)\n",
    "print(\"Tuned Min-Max Scaled Test Data accuracy (D1):\", test_acc3)\n",
    "\n",
    "# Predictions from the MinMaxScaled model\n",
    "y_pred_minmax3 = model_minmax3.predict(X_test_minmaxscaled)\n",
    "y_pred_minmax3 = (y_pred_minmax3 > 0.5).astype(int)  # Convert probabilities to binary predictions\n",
    "\n",
    "# Calculate F1-score for the MinMaxScaled model\n",
    "f1_minmax3 = f1_score(y_test, y_pred_minmax3)\n",
    "print(\"F1-score for Test Data for the Tuned MinMaxScaled Model (D1):\", f1_minmax3)\n",
    "print()\n",
    "kappa_score3 = cohen_kappa_score(y_test, y_pred_minmax3)\n",
    "print(\"Cohen's Kappa Score on test (D1):\", kappa_score3)"
   ]
  },
  {
   "cell_type": "markdown",
   "id": "a71c0781",
   "metadata": {},
   "source": [
    "<div style=\"background-color: #D9EAD3; border-radius: 10px; border: 1px solid #D2B48C; padding: 10px;\">\n",
    "    <h2 style=\"color: #8B4513; font-size: 20px;\">Time for some fine tuning for Dataset 2</h2>\n",
    "</div>"
   ]
  },
  {
   "cell_type": "code",
   "execution_count": 120,
   "id": "43684952",
   "metadata": {},
   "outputs": [
    {
     "name": "stderr",
     "output_type": "stream",
     "text": [
      "WARNING:absl:At this time, the v2.11+ optimizer `tf.keras.optimizers.Adam` runs slowly on M1/M2 Macs, please use the legacy Keras optimizer instead, located at `tf.keras.optimizers.legacy.Adam`.\n",
      "WARNING:absl:There is a known slowdown when using v2.11+ Keras optimizers on M1/M2 Macs. Falling back to the legacy Keras optimizer, i.e., `tf.keras.optimizers.legacy.Adam`.\n"
     ]
    },
    {
     "name": "stdout",
     "output_type": "stream",
     "text": [
      "Model: \"sequential_3\"\n",
      "_________________________________________________________________\n",
      " Layer (type)                Output Shape              Param #   \n",
      "=================================================================\n",
      " dense_10 (Dense)            (None, 128)               1280      \n",
      "                                                                 \n",
      " dense_11 (Dense)            (None, 64)                8256      \n",
      "                                                                 \n",
      " dense_12 (Dense)            (None, 32)                2080      \n",
      "                                                                 \n",
      " dense_13 (Dense)            (None, 1)                 33        \n",
      "                                                                 \n",
      "=================================================================\n",
      "Total params: 11649 (45.50 KB)\n",
      "Trainable params: 11649 (45.50 KB)\n",
      "Non-trainable params: 0 (0.00 Byte)\n",
      "_________________________________________________________________\n",
      "Epoch 1/20\n",
      "10/10 [==============================] - 0s 7ms/step - loss: 0.7792 - accuracy: 0.5012 - val_loss: 0.7031 - val_accuracy: 0.4969\n",
      "Epoch 2/20\n",
      "10/10 [==============================] - 0s 2ms/step - loss: 0.6970 - accuracy: 0.4904 - val_loss: 0.6988 - val_accuracy: 0.5031\n",
      "Epoch 3/20\n",
      "10/10 [==============================] - 0s 2ms/step - loss: 0.6985 - accuracy: 0.4988 - val_loss: 0.6938 - val_accuracy: 0.5031\n",
      "Epoch 4/20\n",
      "10/10 [==============================] - 0s 2ms/step - loss: 0.6926 - accuracy: 0.5033 - val_loss: 0.6921 - val_accuracy: 0.4969\n",
      "Epoch 5/20\n",
      "10/10 [==============================] - 0s 2ms/step - loss: 0.6920 - accuracy: 0.5012 - val_loss: 0.6920 - val_accuracy: 0.4969\n",
      "Epoch 6/20\n",
      "10/10 [==============================] - 0s 2ms/step - loss: 0.6909 - accuracy: 0.5026 - val_loss: 0.6906 - val_accuracy: 0.8031\n",
      "Epoch 7/20\n",
      "10/10 [==============================] - 0s 2ms/step - loss: 0.6906 - accuracy: 0.5329 - val_loss: 0.6900 - val_accuracy: 0.5094\n",
      "Epoch 8/20\n",
      "10/10 [==============================] - 0s 2ms/step - loss: 0.6899 - accuracy: 0.5722 - val_loss: 0.6894 - val_accuracy: 0.5437\n",
      "Epoch 9/20\n",
      "10/10 [==============================] - 0s 2ms/step - loss: 0.6893 - accuracy: 0.5691 - val_loss: 0.6884 - val_accuracy: 0.5562\n",
      "Epoch 10/20\n",
      "10/10 [==============================] - 0s 2ms/step - loss: 0.6883 - accuracy: 0.5593 - val_loss: 0.6876 - val_accuracy: 0.5219\n",
      "Epoch 11/20\n",
      "10/10 [==============================] - 0s 2ms/step - loss: 0.6867 - accuracy: 0.6310 - val_loss: 0.6861 - val_accuracy: 0.8438\n",
      "Epoch 12/20\n",
      "10/10 [==============================] - 0s 2ms/step - loss: 0.6852 - accuracy: 0.8232 - val_loss: 0.6844 - val_accuracy: 0.8219\n",
      "Epoch 13/20\n",
      "10/10 [==============================] - 0s 2ms/step - loss: 0.6833 - accuracy: 0.7797 - val_loss: 0.6822 - val_accuracy: 0.8125\n",
      "Epoch 14/20\n",
      "10/10 [==============================] - 0s 2ms/step - loss: 0.6815 - accuracy: 0.6317 - val_loss: 0.6797 - val_accuracy: 0.6656\n",
      "Epoch 15/20\n",
      "10/10 [==============================] - 0s 2ms/step - loss: 0.6772 - accuracy: 0.7939 - val_loss: 0.6756 - val_accuracy: 0.7156\n",
      "Epoch 16/20\n",
      "10/10 [==============================] - 0s 2ms/step - loss: 0.6731 - accuracy: 0.7671 - val_loss: 0.6704 - val_accuracy: 0.7656\n",
      "Epoch 17/20\n",
      "10/10 [==============================] - 0s 2ms/step - loss: 0.6663 - accuracy: 0.7981 - val_loss: 0.6626 - val_accuracy: 0.8594\n",
      "Epoch 18/20\n",
      "10/10 [==============================] - 0s 2ms/step - loss: 0.6569 - accuracy: 0.8455 - val_loss: 0.6517 - val_accuracy: 0.8594\n",
      "Epoch 19/20\n",
      "10/10 [==============================] - 0s 2ms/step - loss: 0.6436 - accuracy: 0.8604 - val_loss: 0.6363 - val_accuracy: 0.8156\n",
      "Epoch 20/20\n",
      "10/10 [==============================] - 0s 2ms/step - loss: 0.6247 - accuracy: 0.8375 - val_loss: 0.6143 - val_accuracy: 0.8687\n"
     ]
    }
   ],
   "source": [
    "model_minmax4 = Sequential([\n",
    "    Dense(128, activation='sigmoid', input_dim=X_train_minmaxscaled2.shape[1]),\n",
    "    Dense(64, activation='sigmoid'),\n",
    "    Dense(32, activation='sigmoid'),\n",
    "    Dense(1, activation='sigmoid')  # Binary classification output\n",
    "])\n",
    "\n",
    "# Compile the model\n",
    "model_minmax4.compile(optimizer=Adam(learning_rate=0.001), loss='binary_crossentropy', metrics=['accuracy'])\n",
    "\n",
    "# Implement early stopping to prevent overfitting\n",
    "early_stopping4 = EarlyStopping(monitor='val_loss', patience=3, restore_best_weights=True)\n",
    "\n",
    "model_minmax4.summary()\n",
    "\n",
    "# Train the model with hyperparameter tuning\n",
    "history4 = model_minmax4.fit(\n",
    "    X_train_minmaxscaled2, y_train2,\n",
    "    epochs=20, batch_size=300,\n",
    "    validation_split=0.1,\n",
    "    callbacks=[early_stopping4]\n",
    ")\n"
   ]
  },
  {
   "cell_type": "code",
   "execution_count": 121,
   "id": "4102bc4c",
   "metadata": {},
   "outputs": [
    {
     "name": "stdout",
     "output_type": "stream",
     "text": [
      "25/25 [==============================] - 0s 410us/step - loss: 0.6013 - accuracy: 0.8661\n",
      "Tuned Min-Max Scaled Test Data accuracy (D2): 0.8685857057571411\n",
      "25/25 [==============================] - 0s 314us/step\n",
      "F1-score for Test Data for the tuned MinMaxScaled Model (D2): 0.8736717827626919\n",
      "\n",
      "Cohen's Kappa Score on test: 0.7319741796327588\n"
     ]
    }
   ],
   "source": [
    "# Evaluate the model on the test set\n",
    "test_loss4, test_acc4 = model_minmax4.evaluate(X_test_minmaxscaled2, y_test2)\n",
    "print(\"Tuned Min-Max Scaled Test Data accuracy (D2):\", test_acc)\n",
    "\n",
    "# Predictions from the MinMaxScaled model\n",
    "y_pred_minmax4 = model_minmax4.predict(X_test_minmaxscaled2)\n",
    "y_pred_minmax4 = (y_pred_minmax4 > 0.5).astype(int)  # Convert probabilities to binary predictions\n",
    "\n",
    "# Calculate F1-score for the MinMaxScaled model\n",
    "f1_minmax4 = f1_score(y_test2, y_pred_minmax4)\n",
    "print(\"F1-score for Test Data for the tuned MinMaxScaled Model (D2):\", f1_minmax4)\n",
    "print()\n",
    "kappa_score4 = cohen_kappa_score(y_test2, y_pred_minmax4)\n",
    "print(\"Cohen's Kappa Score on test:\", kappa_score4)"
   ]
  },
  {
   "cell_type": "markdown",
   "id": "d2c0cc21",
   "metadata": {},
   "source": [
    "<div style=\"background-color: #D9EAD3; border-radius: 10px; border: 1px solid #D2B48C; padding: 10px;\">\n",
    "    <h2 style=\"color: #8B4513; font-size: 20px;\">Neural Network for StandardScaled Data (Using ReLU Activation) using Dataset 1:</h2>\n",
    "</div>"
   ]
  },
  {
   "cell_type": "code",
   "execution_count": 122,
   "id": "7f7f1f18",
   "metadata": {},
   "outputs": [
    {
     "name": "stdout",
     "output_type": "stream",
     "text": [
      "Model: \"sequential_4\"\n",
      "_________________________________________________________________\n",
      " Layer (type)                Output Shape              Param #   \n",
      "=================================================================\n",
      " dense_14 (Dense)            (None, 64)                704       \n",
      "                                                                 \n",
      " dense_15 (Dense)            (None, 32)                2080      \n",
      "                                                                 \n",
      " dense_16 (Dense)            (None, 1)                 33        \n",
      "                                                                 \n",
      "=================================================================\n",
      "Total params: 2817 (11.00 KB)\n",
      "Trainable params: 2817 (11.00 KB)\n",
      "Non-trainable params: 0 (0.00 Byte)\n",
      "_________________________________________________________________\n",
      "Epoch 1/10\n",
      "90/90 [==============================] - 0s 999us/step - loss: 0.4409 - accuracy: 0.8082 - val_loss: 0.3498 - val_accuracy: 0.8687\n",
      "Epoch 2/10\n",
      "90/90 [==============================] - 0s 529us/step - loss: 0.3017 - accuracy: 0.8737 - val_loss: 0.3406 - val_accuracy: 0.8750\n",
      "Epoch 3/10\n",
      "90/90 [==============================] - 0s 517us/step - loss: 0.2922 - accuracy: 0.8810 - val_loss: 0.3327 - val_accuracy: 0.8750\n",
      "Epoch 4/10\n",
      "90/90 [==============================] - 0s 521us/step - loss: 0.2857 - accuracy: 0.8844 - val_loss: 0.3370 - val_accuracy: 0.8719\n",
      "Epoch 5/10\n",
      "90/90 [==============================] - 0s 515us/step - loss: 0.2827 - accuracy: 0.8837 - val_loss: 0.3366 - val_accuracy: 0.8750\n",
      "Epoch 6/10\n",
      "90/90 [==============================] - 0s 511us/step - loss: 0.2801 - accuracy: 0.8851 - val_loss: 0.3336 - val_accuracy: 0.8875\n",
      "Epoch 7/10\n",
      "90/90 [==============================] - 0s 516us/step - loss: 0.2773 - accuracy: 0.8893 - val_loss: 0.3282 - val_accuracy: 0.8875\n",
      "Epoch 8/10\n",
      "90/90 [==============================] - 0s 513us/step - loss: 0.2762 - accuracy: 0.8911 - val_loss: 0.3287 - val_accuracy: 0.8844\n",
      "Epoch 9/10\n",
      "90/90 [==============================] - 0s 516us/step - loss: 0.2748 - accuracy: 0.8893 - val_loss: 0.3324 - val_accuracy: 0.8844\n",
      "Epoch 10/10\n",
      "90/90 [==============================] - 0s 504us/step - loss: 0.2714 - accuracy: 0.8890 - val_loss: 0.3242 - val_accuracy: 0.8844\n"
     ]
    },
    {
     "data": {
      "text/plain": [
       "<keras.src.callbacks.History at 0x28e7ac730>"
      ]
     },
     "execution_count": 122,
     "metadata": {},
     "output_type": "execute_result"
    }
   ],
   "source": [
    "model_standard5 = keras.Sequential([\n",
    "    keras.layers.Dense(64, activation='relu', input_dim=X_train_stanscaled.shape[1]),\n",
    "    keras.layers.Dense(32, activation='relu'),\n",
    "    keras.layers.Dense(1, activation='sigmoid')  # Binary classification output\n",
    "])\n",
    "\n",
    "# Compile the model\n",
    "model_standard5.compile(optimizer='adam', loss='binary_crossentropy', metrics=['accuracy'])\n",
    "model_standard5.summary()\n",
    "\n",
    "# Train the model\n",
    "model_standard5.fit(X_train_stanscaled, y_train, epochs=10, batch_size=32, validation_split=0.1)"
   ]
  },
  {
   "cell_type": "code",
   "execution_count": 123,
   "id": "0074bcc7",
   "metadata": {},
   "outputs": [
    {
     "name": "stdout",
     "output_type": "stream",
     "text": [
      "25/25 [==============================] - 0s 388us/step - loss: 0.2740 - accuracy: 0.8849\n",
      "Standard Scaled Test Data accuracy (D1): 0.8848560452461243\n",
      "25/25 [==============================] - 0s 288us/step\n",
      "F1-score for Test Data for StandardScaled Model (D1): 0.8829516539440204\n",
      "\n",
      "Cohen's Kappa Score on test data: 0.7697680391383058\n"
     ]
    }
   ],
   "source": [
    "test_loss5, test_acc5 = model_standard5.evaluate(X_test_stanscaled, y_test)\n",
    "print(\"Standard Scaled Test Data accuracy (D1):\", test_acc5)\n",
    "\n",
    "y_pred_standard5 = model_standard5.predict(X_test_stanscaled)\n",
    "y_pred_standard5 = (y_pred_standard5 > 0.5).astype(int)  # Convert probabilities to binary predictions\n",
    "\n",
    "# Calculate F1-score for the StandardScaled model\n",
    "f1_standard5 = f1_score(y_test, y_pred_standard5)\n",
    "print(\"F1-score for Test Data for StandardScaled Model (D1):\", f1_standard5)\n",
    "print()\n",
    "kappa_score5 = cohen_kappa_score(y_test, y_pred_standard5)\n",
    "print(\"Cohen's Kappa Score on test data:\", kappa_score5)"
   ]
  },
  {
   "cell_type": "markdown",
   "id": "7f859674",
   "metadata": {},
   "source": [
    "<div style=\"background-color: #D9EAD3; border-radius: 10px; border: 1px solid #D2B48C; padding: 10px;\">\n",
    "    <h2 style=\"color: #8B4513; font-size: 20px;\">Time for some fine tuning for Dataset 1</h2>\n",
    "</div>"
   ]
  },
  {
   "cell_type": "code",
   "execution_count": 124,
   "id": "e193e9af",
   "metadata": {},
   "outputs": [
    {
     "name": "stderr",
     "output_type": "stream",
     "text": [
      "WARNING:absl:At this time, the v2.11+ optimizer `tf.keras.optimizers.Adam` runs slowly on M1/M2 Macs, please use the legacy Keras optimizer instead, located at `tf.keras.optimizers.legacy.Adam`.\n",
      "WARNING:absl:There is a known slowdown when using v2.11+ Keras optimizers on M1/M2 Macs. Falling back to the legacy Keras optimizer, i.e., `tf.keras.optimizers.legacy.Adam`.\n"
     ]
    },
    {
     "name": "stdout",
     "output_type": "stream",
     "text": [
      "Model: \"sequential_5\"\n",
      "_________________________________________________________________\n",
      " Layer (type)                Output Shape              Param #   \n",
      "=================================================================\n",
      " dense_17 (Dense)            (None, 128)               1408      \n",
      "                                                                 \n",
      " dropout (Dropout)           (None, 128)               0         \n",
      "                                                                 \n",
      " dense_18 (Dense)            (None, 64)                8256      \n",
      "                                                                 \n",
      " dropout_1 (Dropout)         (None, 64)                0         \n",
      "                                                                 \n",
      " dense_19 (Dense)            (None, 32)                2080      \n",
      "                                                                 \n",
      " dense_20 (Dense)            (None, 1)                 33        \n",
      "                                                                 \n",
      "=================================================================\n",
      "Total params: 11777 (46.00 KB)\n",
      "Trainable params: 11777 (46.00 KB)\n",
      "Non-trainable params: 0 (0.00 Byte)\n",
      "_________________________________________________________________\n",
      "Epoch 1/20\n",
      "10/10 [==============================] - 0s 7ms/step - loss: 0.6212 - accuracy: 0.6314 - val_loss: 0.5112 - val_accuracy: 0.8313\n",
      "Epoch 2/20\n",
      "10/10 [==============================] - 0s 2ms/step - loss: 0.4584 - accuracy: 0.8444 - val_loss: 0.3913 - val_accuracy: 0.8531\n",
      "Epoch 3/20\n",
      "10/10 [==============================] - 0s 2ms/step - loss: 0.3568 - accuracy: 0.8670 - val_loss: 0.3449 - val_accuracy: 0.8750\n",
      "Epoch 4/20\n",
      "10/10 [==============================] - 0s 2ms/step - loss: 0.3143 - accuracy: 0.8702 - val_loss: 0.3452 - val_accuracy: 0.8687\n",
      "Epoch 5/20\n",
      "10/10 [==============================] - 0s 2ms/step - loss: 0.3167 - accuracy: 0.8702 - val_loss: 0.3444 - val_accuracy: 0.8687\n",
      "Epoch 6/20\n",
      "10/10 [==============================] - 0s 2ms/step - loss: 0.3144 - accuracy: 0.8695 - val_loss: 0.3378 - val_accuracy: 0.8719\n",
      "Epoch 7/20\n",
      "10/10 [==============================] - 0s 2ms/step - loss: 0.3014 - accuracy: 0.8740 - val_loss: 0.3368 - val_accuracy: 0.8687\n",
      "Epoch 8/20\n",
      "10/10 [==============================] - 0s 2ms/step - loss: 0.3048 - accuracy: 0.8757 - val_loss: 0.3359 - val_accuracy: 0.8656\n",
      "Epoch 9/20\n",
      "10/10 [==============================] - 0s 2ms/step - loss: 0.2996 - accuracy: 0.8799 - val_loss: 0.3336 - val_accuracy: 0.8719\n",
      "Epoch 10/20\n",
      "10/10 [==============================] - 0s 2ms/step - loss: 0.3011 - accuracy: 0.8824 - val_loss: 0.3336 - val_accuracy: 0.8656\n",
      "Epoch 11/20\n",
      "10/10 [==============================] - 0s 2ms/step - loss: 0.2946 - accuracy: 0.8792 - val_loss: 0.3333 - val_accuracy: 0.8719\n",
      "Epoch 12/20\n",
      "10/10 [==============================] - 0s 2ms/step - loss: 0.2959 - accuracy: 0.8771 - val_loss: 0.3329 - val_accuracy: 0.8719\n",
      "Epoch 13/20\n",
      "10/10 [==============================] - 0s 2ms/step - loss: 0.2937 - accuracy: 0.8820 - val_loss: 0.3326 - val_accuracy: 0.8781\n",
      "Epoch 14/20\n",
      "10/10 [==============================] - 0s 2ms/step - loss: 0.2957 - accuracy: 0.8810 - val_loss: 0.3330 - val_accuracy: 0.8750\n",
      "Epoch 15/20\n",
      "10/10 [==============================] - 0s 3ms/step - loss: 0.2939 - accuracy: 0.8803 - val_loss: 0.3327 - val_accuracy: 0.8781\n",
      "Epoch 16/20\n",
      "10/10 [==============================] - 0s 3ms/step - loss: 0.2910 - accuracy: 0.8813 - val_loss: 0.3332 - val_accuracy: 0.8781\n"
     ]
    }
   ],
   "source": [
    "# Define the neural network architecture\n",
    "model_standard6 = Sequential([\n",
    "    Dense(128, activation='relu', input_dim=X_train_stanscaled.shape[1]),\n",
    "    Dropout(0.3),  # Adding dropout for regularization\n",
    "    Dense(64, activation='relu'),\n",
    "    Dropout(0.2),  # Adding dropout for regularization\n",
    "    Dense(32, activation='relu'),\n",
    "    Dense(1, activation='sigmoid')  # Binary classification output\n",
    "])\n",
    "\n",
    "# Compile the model\n",
    "model_standard6.compile(optimizer=Adam(learning_rate=0.001), loss='binary_crossentropy', metrics=['accuracy'])\n",
    "\n",
    "# Implement early stopping to prevent overfitting\n",
    "early_stopping6 = EarlyStopping(monitor='val_loss', patience=3, restore_best_weights=True)\n",
    "model_standard6.summary()\n",
    "\n",
    "# Train the model with hyperparameter tuning\n",
    "history6  = model_standard6.fit(\n",
    "    X_train_stanscaled, y_train,\n",
    "    epochs=20, batch_size=300,\n",
    "    validation_split=0.1,\n",
    "    callbacks=[early_stopping6]\n",
    ")\n"
   ]
  },
  {
   "cell_type": "code",
   "execution_count": 125,
   "id": "b811711d",
   "metadata": {},
   "outputs": [
    {
     "name": "stdout",
     "output_type": "stream",
     "text": [
      "25/25 [==============================] - 0s 442us/step - loss: 0.2772 - accuracy: 0.8874\n",
      "Tuned Standard Scaled Test Data accuracy (D1): 0.8873592019081116\n",
      "25/25 [==============================] - 0s 339us/step\n",
      "F1-score for Test Data for the Tuned StandardScaled Model (D1): 0.8875000000000001\n",
      "\n",
      "Cohen's Kappa Score on test: 0.7747236911355605\n"
     ]
    }
   ],
   "source": [
    "test_loss6, test_acc6 = model_standard6.evaluate(X_test_stanscaled, y_test)\n",
    "print(\"Tuned Standard Scaled Test Data accuracy (D1):\", test_acc6)\n",
    "\n",
    "# Predictions from the StandardScaled model\n",
    "y_pred_standard6 = model_standard6.predict(X_test_stanscaled)\n",
    "y_pred_standard6 = (y_pred_standard6 > 0.5).astype(int)  # Convert probabilities to binary predictions\n",
    "\n",
    "# Calculate F1-score for the StandardScaled model\n",
    "f1_standard6 = f1_score(y_test, y_pred_standard6)\n",
    "print(\"F1-score for Test Data for the Tuned StandardScaled Model (D1):\", f1_standard6)\n",
    "print()\n",
    "kappa_score6 = cohen_kappa_score(y_test, y_pred_standard6)\n",
    "print(\"Cohen's Kappa Score on test:\", kappa_score6)"
   ]
  },
  {
   "cell_type": "markdown",
   "id": "d79c93ec",
   "metadata": {},
   "source": [
    "<div style=\"background-color: #D9EAD3; border-radius: 10px; border: 1px solid #D2B48C; padding: 10px;\">\n",
    "    <h2 style=\"color: #8B4513; font-size: 20px;\">Neural Network for StandardScaled Data (Using ReLU Activation) using Dataset 2:</h2>\n",
    "</div>"
   ]
  },
  {
   "cell_type": "code",
   "execution_count": 126,
   "id": "d7b846d7",
   "metadata": {},
   "outputs": [
    {
     "name": "stdout",
     "output_type": "stream",
     "text": [
      "Model: \"sequential_6\"\n",
      "_________________________________________________________________\n",
      " Layer (type)                Output Shape              Param #   \n",
      "=================================================================\n",
      " dense_21 (Dense)            (None, 64)                640       \n",
      "                                                                 \n",
      " dense_22 (Dense)            (None, 32)                2080      \n",
      "                                                                 \n",
      " dense_23 (Dense)            (None, 1)                 33        \n",
      "                                                                 \n",
      "=================================================================\n",
      "Total params: 2753 (10.75 KB)\n",
      "Trainable params: 2753 (10.75 KB)\n",
      "Non-trainable params: 0 (0.00 Byte)\n",
      "_________________________________________________________________\n",
      "Epoch 1/10\n",
      "90/90 [==============================] - 0s 969us/step - loss: 0.4130 - accuracy: 0.8392 - val_loss: 0.3544 - val_accuracy: 0.8531\n",
      "Epoch 2/10\n",
      "90/90 [==============================] - 0s 526us/step - loss: 0.3130 - accuracy: 0.8670 - val_loss: 0.3524 - val_accuracy: 0.8687\n",
      "Epoch 3/10\n",
      "90/90 [==============================] - 0s 510us/step - loss: 0.3098 - accuracy: 0.8712 - val_loss: 0.3446 - val_accuracy: 0.8750\n",
      "Epoch 4/10\n",
      "90/90 [==============================] - 0s 516us/step - loss: 0.3058 - accuracy: 0.8743 - val_loss: 0.3425 - val_accuracy: 0.8750\n",
      "Epoch 5/10\n",
      "90/90 [==============================] - 0s 511us/step - loss: 0.3021 - accuracy: 0.8768 - val_loss: 0.3441 - val_accuracy: 0.8781\n",
      "Epoch 6/10\n",
      "90/90 [==============================] - 0s 514us/step - loss: 0.3007 - accuracy: 0.8723 - val_loss: 0.3419 - val_accuracy: 0.8813\n",
      "Epoch 7/10\n",
      "90/90 [==============================] - 0s 510us/step - loss: 0.2984 - accuracy: 0.8757 - val_loss: 0.3358 - val_accuracy: 0.8687\n",
      "Epoch 8/10\n",
      "90/90 [==============================] - 0s 515us/step - loss: 0.2967 - accuracy: 0.8789 - val_loss: 0.3376 - val_accuracy: 0.8687\n",
      "Epoch 9/10\n",
      "90/90 [==============================] - 0s 515us/step - loss: 0.2947 - accuracy: 0.8778 - val_loss: 0.3412 - val_accuracy: 0.8562\n",
      "Epoch 10/10\n",
      "90/90 [==============================] - 0s 513us/step - loss: 0.2923 - accuracy: 0.8764 - val_loss: 0.3343 - val_accuracy: 0.8687\n"
     ]
    },
    {
     "data": {
      "text/plain": [
       "<keras.src.callbacks.History at 0x29534a200>"
      ]
     },
     "execution_count": 126,
     "metadata": {},
     "output_type": "execute_result"
    }
   ],
   "source": [
    "model_standard7 = keras.Sequential([\n",
    "    keras.layers.Dense(64, activation='relu', input_dim=X_train_stanscaled2.shape[1]),\n",
    "    keras.layers.Dense(32, activation='relu'),\n",
    "    keras.layers.Dense(1, activation='sigmoid')  # Binary classification output\n",
    "])\n",
    "\n",
    "# Compile the model\n",
    "model_standard7.compile(optimizer='adam', loss='binary_crossentropy', metrics=['accuracy'])\n",
    "model_standard7.summary()\n",
    "\n",
    "# Train the model\n",
    "model_standard7.fit(X_train_stanscaled2, y_train2, epochs=10, batch_size=32, validation_split=0.1)"
   ]
  },
  {
   "cell_type": "code",
   "execution_count": 127,
   "id": "e5d3fbca",
   "metadata": {},
   "outputs": [
    {
     "name": "stdout",
     "output_type": "stream",
     "text": [
      "25/25 [==============================] - 0s 412us/step - loss: 0.2784 - accuracy: 0.8786\n",
      "Standard Scaled Test Data accuracy (D2): 0.8785982728004456\n",
      "25/25 [==============================] - 0s 313us/step\n",
      "F1-score for Test Data for StandardScaled Model (D2): 0.8776796973518284\n",
      "\n",
      "Cohen's Kappa Score on test data: 0.7572288194259545\n"
     ]
    }
   ],
   "source": [
    "# Evaluate the model on the test set\n",
    "test_loss7, test_acc7 = model_standard7.evaluate(X_test_stanscaled2, y_test2)\n",
    "print(\"Standard Scaled Test Data accuracy (D2):\", test_acc7)\n",
    "\n",
    "# Predictions from the StandardScaled model\n",
    "y_pred_standard7 = model_standard7.predict(X_test_stanscaled2)\n",
    "y_pred_standard7 = (y_pred_standard7 > 0.5).astype(int)  # Convert probabilities to binary predictions\n",
    "\n",
    "# Calculate F1-score for the StandardScaled model\n",
    "f1_standard7 = f1_score(y_test2, y_pred_standard7)\n",
    "print(\"F1-score for Test Data for StandardScaled Model (D2):\", f1_standard7)\n",
    "print()\n",
    "kappa_score7 = cohen_kappa_score(y_test2, y_pred_standard7)\n",
    "print(\"Cohen's Kappa Score on test data:\", kappa_score7)"
   ]
  },
  {
   "cell_type": "markdown",
   "id": "bcdeda75",
   "metadata": {},
   "source": [
    "<div style=\"background-color: #D9EAD3; border-radius: 10px; border: 1px solid #D2B48C; padding: 10px;\">\n",
    "    <h2 style=\"color: #8B4513; font-size: 20px;\">Time for some fine tuning for Dataset 2</h2>\n",
    "</div>"
   ]
  },
  {
   "cell_type": "code",
   "execution_count": 128,
   "id": "f223443f",
   "metadata": {},
   "outputs": [
    {
     "name": "stderr",
     "output_type": "stream",
     "text": [
      "WARNING:absl:At this time, the v2.11+ optimizer `tf.keras.optimizers.Adam` runs slowly on M1/M2 Macs, please use the legacy Keras optimizer instead, located at `tf.keras.optimizers.legacy.Adam`.\n",
      "WARNING:absl:There is a known slowdown when using v2.11+ Keras optimizers on M1/M2 Macs. Falling back to the legacy Keras optimizer, i.e., `tf.keras.optimizers.legacy.Adam`.\n"
     ]
    },
    {
     "name": "stdout",
     "output_type": "stream",
     "text": [
      "Model: \"sequential_7\"\n",
      "_________________________________________________________________\n",
      " Layer (type)                Output Shape              Param #   \n",
      "=================================================================\n",
      " dense_24 (Dense)            (None, 128)               1280      \n",
      "                                                                 \n",
      " dropout_2 (Dropout)         (None, 128)               0         \n",
      "                                                                 \n",
      " dense_25 (Dense)            (None, 64)                8256      \n",
      "                                                                 \n",
      " dropout_3 (Dropout)         (None, 64)                0         \n",
      "                                                                 \n",
      " dense_26 (Dense)            (None, 32)                2080      \n",
      "                                                                 \n",
      " dense_27 (Dense)            (None, 1)                 33        \n",
      "                                                                 \n",
      "=================================================================\n",
      "Total params: 11649 (45.50 KB)\n",
      "Trainable params: 11649 (45.50 KB)\n",
      "Non-trainable params: 0 (0.00 Byte)\n",
      "_________________________________________________________________\n",
      "Epoch 1/20\n",
      "10/10 [==============================] - 0s 7ms/step - loss: 0.6041 - accuracy: 0.7048 - val_loss: 0.4847 - val_accuracy: 0.8594\n",
      "Epoch 2/20\n",
      "10/10 [==============================] - 0s 2ms/step - loss: 0.4283 - accuracy: 0.8594 - val_loss: 0.3849 - val_accuracy: 0.8594\n",
      "Epoch 3/20\n",
      "10/10 [==============================] - 0s 2ms/step - loss: 0.3451 - accuracy: 0.8695 - val_loss: 0.3601 - val_accuracy: 0.8469\n",
      "Epoch 4/20\n",
      "10/10 [==============================] - 0s 2ms/step - loss: 0.3265 - accuracy: 0.8677 - val_loss: 0.3630 - val_accuracy: 0.8469\n",
      "Epoch 5/20\n",
      "10/10 [==============================] - 0s 2ms/step - loss: 0.3221 - accuracy: 0.8691 - val_loss: 0.3586 - val_accuracy: 0.8469\n",
      "Epoch 6/20\n",
      "10/10 [==============================] - 0s 2ms/step - loss: 0.3213 - accuracy: 0.8719 - val_loss: 0.3512 - val_accuracy: 0.8531\n",
      "Epoch 7/20\n",
      "10/10 [==============================] - 0s 2ms/step - loss: 0.3207 - accuracy: 0.8709 - val_loss: 0.3493 - val_accuracy: 0.8625\n",
      "Epoch 8/20\n",
      "10/10 [==============================] - 0s 2ms/step - loss: 0.3152 - accuracy: 0.8677 - val_loss: 0.3464 - val_accuracy: 0.8594\n",
      "Epoch 9/20\n",
      "10/10 [==============================] - 0s 2ms/step - loss: 0.3156 - accuracy: 0.8712 - val_loss: 0.3453 - val_accuracy: 0.8656\n",
      "Epoch 10/20\n",
      "10/10 [==============================] - 0s 2ms/step - loss: 0.3151 - accuracy: 0.8743 - val_loss: 0.3456 - val_accuracy: 0.8687\n",
      "Epoch 11/20\n",
      "10/10 [==============================] - 0s 2ms/step - loss: 0.3145 - accuracy: 0.8733 - val_loss: 0.3446 - val_accuracy: 0.8719\n",
      "Epoch 12/20\n",
      "10/10 [==============================] - 0s 2ms/step - loss: 0.3139 - accuracy: 0.8726 - val_loss: 0.3428 - val_accuracy: 0.8719\n",
      "Epoch 13/20\n",
      "10/10 [==============================] - 0s 7ms/step - loss: 0.3097 - accuracy: 0.8730 - val_loss: 0.3427 - val_accuracy: 0.8781\n",
      "Epoch 14/20\n",
      "10/10 [==============================] - 0s 2ms/step - loss: 0.3089 - accuracy: 0.8737 - val_loss: 0.3414 - val_accuracy: 0.8813\n",
      "Epoch 15/20\n",
      "10/10 [==============================] - 0s 3ms/step - loss: 0.3084 - accuracy: 0.8737 - val_loss: 0.3416 - val_accuracy: 0.8781\n",
      "Epoch 16/20\n",
      "10/10 [==============================] - 0s 2ms/step - loss: 0.3052 - accuracy: 0.8761 - val_loss: 0.3414 - val_accuracy: 0.8781\n",
      "Epoch 17/20\n",
      "10/10 [==============================] - 0s 2ms/step - loss: 0.3035 - accuracy: 0.8730 - val_loss: 0.3418 - val_accuracy: 0.8750\n",
      "Epoch 18/20\n",
      "10/10 [==============================] - 0s 2ms/step - loss: 0.3039 - accuracy: 0.8726 - val_loss: 0.3393 - val_accuracy: 0.8719\n",
      "Epoch 19/20\n",
      "10/10 [==============================] - 0s 2ms/step - loss: 0.3041 - accuracy: 0.8761 - val_loss: 0.3394 - val_accuracy: 0.8687\n",
      "Epoch 20/20\n",
      "10/10 [==============================] - 0s 2ms/step - loss: 0.3049 - accuracy: 0.8726 - val_loss: 0.3400 - val_accuracy: 0.8656\n"
     ]
    }
   ],
   "source": [
    "# Define the neural network architecture\n",
    "model_standard8 = Sequential([\n",
    "    Dense(128, activation='relu', input_dim=X_train_stanscaled2.shape[1]),\n",
    "    Dropout(0.3),  # Adding dropout for regularization\n",
    "    Dense(64, activation='relu'),\n",
    "    Dropout(0.2),  # Adding dropout for regularization\n",
    "    Dense(32, activation='relu'),\n",
    "    Dense(1, activation='sigmoid')  # Binary classification output\n",
    "])\n",
    "\n",
    "# Compile the model\n",
    "model_standard8.compile(optimizer=Adam(learning_rate=0.001), loss='binary_crossentropy', metrics=['accuracy'])\n",
    "\n",
    "# Implement early stopping to prevent overfitting\n",
    "early_stopping8 = EarlyStopping(monitor='val_loss', patience=3, restore_best_weights=True)\n",
    "model_standard8.summary()\n",
    "\n",
    "# Train the model with hyperparameter tuning\n",
    "history8 = model_standard8.fit(\n",
    "    X_train_stanscaled2, y_train2,\n",
    "    epochs=20, batch_size=300,\n",
    "    validation_split=0.1,\n",
    "    callbacks=[early_stopping8]\n",
    ")\n"
   ]
  },
  {
   "cell_type": "code",
   "execution_count": 129,
   "id": "02e61035",
   "metadata": {},
   "outputs": [
    {
     "name": "stdout",
     "output_type": "stream",
     "text": [
      "25/25 [==============================] - 0s 439us/step - loss: 0.2793 - accuracy: 0.8811\n",
      "Tuned Standard Scaled Data Test accuracy (D2): 0.8811013698577881\n",
      "25/25 [==============================] - 0s 329us/step\n",
      "F1-score for Test Data for the Tuned StandardScaled Model (D2): 0.8816936488169365\n",
      "\n",
      "Cohen's Kappa Score on test: 0.7621971659779506\n"
     ]
    }
   ],
   "source": [
    "# Evaluate the model on the test set\n",
    "test_loss8, test_acc8 = model_standard8.evaluate(X_test_stanscaled2, y_test2)\n",
    "print(\"Tuned Standard Scaled Data Test accuracy (D2):\", test_acc8)\n",
    "\n",
    "# Predictions from the StandardScaled model\n",
    "y_pred_standard8 = model_standard8.predict(X_test_stanscaled2)\n",
    "y_pred_standard8 = (y_pred_standard8 > 0.5).astype(int)  # Convert probabilities to binary predictions\n",
    "\n",
    "# Calculate F1-score for the StandardScaled model\n",
    "f1_standard8 = f1_score(y_test2, y_pred_standard8)\n",
    "print(\"F1-score for Test Data for the Tuned StandardScaled Model (D2):\", f1_standard8)\n",
    "print()\n",
    "kappa_score8 = cohen_kappa_score(y_test2, y_pred_standard8)\n",
    "print(\"Cohen's Kappa Score on test:\", kappa_score8)"
   ]
  },
  {
   "cell_type": "markdown",
   "id": "829fefe8",
   "metadata": {},
   "source": [
    "<div style=\"background-color: #D9EAD3; border-radius: 10px; border: 1px solid #D2B48C; padding: 10px;\">\n",
    "    <h2 style=\"color: #8B4513; font-size: 30px;\">K-Nearest Neighbors (KNN)</h2>\n",
    "</div>"
   ]
  },
  {
   "cell_type": "code",
   "execution_count": 130,
   "id": "127afac7",
   "metadata": {},
   "outputs": [
    {
     "name": "stdout",
     "output_type": "stream",
     "text": [
      "Fitting 5 folds for each of 36 candidates, totalling 180 fits\n"
     ]
    },
    {
     "data": {
      "text/html": [
       "<style>#sk-container-id-1 {color: black;}#sk-container-id-1 pre{padding: 0;}#sk-container-id-1 div.sk-toggleable {background-color: white;}#sk-container-id-1 label.sk-toggleable__label {cursor: pointer;display: block;width: 100%;margin-bottom: 0;padding: 0.3em;box-sizing: border-box;text-align: center;}#sk-container-id-1 label.sk-toggleable__label-arrow:before {content: \"▸\";float: left;margin-right: 0.25em;color: #696969;}#sk-container-id-1 label.sk-toggleable__label-arrow:hover:before {color: black;}#sk-container-id-1 div.sk-estimator:hover label.sk-toggleable__label-arrow:before {color: black;}#sk-container-id-1 div.sk-toggleable__content {max-height: 0;max-width: 0;overflow: hidden;text-align: left;background-color: #f0f8ff;}#sk-container-id-1 div.sk-toggleable__content pre {margin: 0.2em;color: black;border-radius: 0.25em;background-color: #f0f8ff;}#sk-container-id-1 input.sk-toggleable__control:checked~div.sk-toggleable__content {max-height: 200px;max-width: 100%;overflow: auto;}#sk-container-id-1 input.sk-toggleable__control:checked~label.sk-toggleable__label-arrow:before {content: \"▾\";}#sk-container-id-1 div.sk-estimator input.sk-toggleable__control:checked~label.sk-toggleable__label {background-color: #d4ebff;}#sk-container-id-1 div.sk-label input.sk-toggleable__control:checked~label.sk-toggleable__label {background-color: #d4ebff;}#sk-container-id-1 input.sk-hidden--visually {border: 0;clip: rect(1px 1px 1px 1px);clip: rect(1px, 1px, 1px, 1px);height: 1px;margin: -1px;overflow: hidden;padding: 0;position: absolute;width: 1px;}#sk-container-id-1 div.sk-estimator {font-family: monospace;background-color: #f0f8ff;border: 1px dotted black;border-radius: 0.25em;box-sizing: border-box;margin-bottom: 0.5em;}#sk-container-id-1 div.sk-estimator:hover {background-color: #d4ebff;}#sk-container-id-1 div.sk-parallel-item::after {content: \"\";width: 100%;border-bottom: 1px solid gray;flex-grow: 1;}#sk-container-id-1 div.sk-label:hover label.sk-toggleable__label {background-color: #d4ebff;}#sk-container-id-1 div.sk-serial::before {content: \"\";position: absolute;border-left: 1px solid gray;box-sizing: border-box;top: 0;bottom: 0;left: 50%;z-index: 0;}#sk-container-id-1 div.sk-serial {display: flex;flex-direction: column;align-items: center;background-color: white;padding-right: 0.2em;padding-left: 0.2em;position: relative;}#sk-container-id-1 div.sk-item {position: relative;z-index: 1;}#sk-container-id-1 div.sk-parallel {display: flex;align-items: stretch;justify-content: center;background-color: white;position: relative;}#sk-container-id-1 div.sk-item::before, #sk-container-id-1 div.sk-parallel-item::before {content: \"\";position: absolute;border-left: 1px solid gray;box-sizing: border-box;top: 0;bottom: 0;left: 50%;z-index: -1;}#sk-container-id-1 div.sk-parallel-item {display: flex;flex-direction: column;z-index: 1;position: relative;background-color: white;}#sk-container-id-1 div.sk-parallel-item:first-child::after {align-self: flex-end;width: 50%;}#sk-container-id-1 div.sk-parallel-item:last-child::after {align-self: flex-start;width: 50%;}#sk-container-id-1 div.sk-parallel-item:only-child::after {width: 0;}#sk-container-id-1 div.sk-dashed-wrapped {border: 1px dashed gray;margin: 0 0.4em 0.5em 0.4em;box-sizing: border-box;padding-bottom: 0.4em;background-color: white;}#sk-container-id-1 div.sk-label label {font-family: monospace;font-weight: bold;display: inline-block;line-height: 1.2em;}#sk-container-id-1 div.sk-label-container {text-align: center;}#sk-container-id-1 div.sk-container {/* jupyter's `normalize.less` sets `[hidden] { display: none; }` but bootstrap.min.css set `[hidden] { display: none !important; }` so we also need the `!important` here to be able to override the default hidden behavior on the sphinx rendered scikit-learn.org. See: https://github.com/scikit-learn/scikit-learn/issues/21755 */display: inline-block !important;position: relative;}#sk-container-id-1 div.sk-text-repr-fallback {display: none;}</style><div id=\"sk-container-id-1\" class=\"sk-top-container\"><div class=\"sk-text-repr-fallback\"><pre>GridSearchCV(cv=5, estimator=KNeighborsClassifier(), n_jobs=-1,\n",
       "             param_grid=[{&#x27;n_neighbors&#x27;: range(3, 21, 2), &#x27;p&#x27;: [1, 2],\n",
       "                          &#x27;weights&#x27;: [&#x27;uniform&#x27;, &#x27;distance&#x27;]}],\n",
       "             scoring=&#x27;f1&#x27;, verbose=True)</pre><b>In a Jupyter environment, please rerun this cell to show the HTML representation or trust the notebook. <br />On GitHub, the HTML representation is unable to render, please try loading this page with nbviewer.org.</b></div><div class=\"sk-container\" hidden><div class=\"sk-item sk-dashed-wrapped\"><div class=\"sk-label-container\"><div class=\"sk-label sk-toggleable\"><input class=\"sk-toggleable__control sk-hidden--visually\" id=\"sk-estimator-id-1\" type=\"checkbox\" ><label for=\"sk-estimator-id-1\" class=\"sk-toggleable__label sk-toggleable__label-arrow\">GridSearchCV</label><div class=\"sk-toggleable__content\"><pre>GridSearchCV(cv=5, estimator=KNeighborsClassifier(), n_jobs=-1,\n",
       "             param_grid=[{&#x27;n_neighbors&#x27;: range(3, 21, 2), &#x27;p&#x27;: [1, 2],\n",
       "                          &#x27;weights&#x27;: [&#x27;uniform&#x27;, &#x27;distance&#x27;]}],\n",
       "             scoring=&#x27;f1&#x27;, verbose=True)</pre></div></div></div><div class=\"sk-parallel\"><div class=\"sk-parallel-item\"><div class=\"sk-item\"><div class=\"sk-label-container\"><div class=\"sk-label sk-toggleable\"><input class=\"sk-toggleable__control sk-hidden--visually\" id=\"sk-estimator-id-2\" type=\"checkbox\" ><label for=\"sk-estimator-id-2\" class=\"sk-toggleable__label sk-toggleable__label-arrow\">estimator: KNeighborsClassifier</label><div class=\"sk-toggleable__content\"><pre>KNeighborsClassifier()</pre></div></div></div><div class=\"sk-serial\"><div class=\"sk-item\"><div class=\"sk-estimator sk-toggleable\"><input class=\"sk-toggleable__control sk-hidden--visually\" id=\"sk-estimator-id-3\" type=\"checkbox\" ><label for=\"sk-estimator-id-3\" class=\"sk-toggleable__label sk-toggleable__label-arrow\">KNeighborsClassifier</label><div class=\"sk-toggleable__content\"><pre>KNeighborsClassifier()</pre></div></div></div></div></div></div></div></div></div></div>"
      ],
      "text/plain": [
       "GridSearchCV(cv=5, estimator=KNeighborsClassifier(), n_jobs=-1,\n",
       "             param_grid=[{'n_neighbors': range(3, 21, 2), 'p': [1, 2],\n",
       "                          'weights': ['uniform', 'distance']}],\n",
       "             scoring='f1', verbose=True)"
      ]
     },
     "execution_count": 130,
     "metadata": {},
     "output_type": "execute_result"
    }
   ],
   "source": [
    "hyperparameters = [{\n",
    "    'n_neighbors': range(3,21,2),\n",
    "    'weights': ['uniform', 'distance'],\n",
    "    'p': [1, 2]\n",
    "}]\n",
    "\n",
    "knn = KNeighborsClassifier()\n",
    "grid_search = GridSearchCV(knn, hyperparameters, scoring='f1', cv=5, verbose=True, n_jobs=-1)\n",
    "grid_search.fit(X_train_stanscaled, y_train)"
   ]
  },
  {
   "cell_type": "code",
   "execution_count": 131,
   "id": "9ee8ccb4",
   "metadata": {},
   "outputs": [
    {
     "name": "stdout",
     "output_type": "stream",
     "text": [
      "{'n_neighbors': 13, 'p': 1, 'weights': 'distance'}\n",
      "0.9536716737618554\n"
     ]
    }
   ],
   "source": [
    "best_knn_params = grid_search.best_params_\n",
    "best_knnscore = grid_search.best_score_\n",
    "print(best_knn_params)\n",
    "print(best_knnscore)"
   ]
  },
  {
   "cell_type": "code",
   "execution_count": 132,
   "id": "1afad5f7",
   "metadata": {},
   "outputs": [],
   "source": [
    "best_knn = KNeighborsClassifier(**best_knn_params)\n",
    "best_knn.fit(X_train_stanscaled, y_train.ravel())\n",
    "y_pred_knn = best_knn.predict(X_test_stanscaled)"
   ]
  },
  {
   "cell_type": "code",
   "execution_count": 133,
   "id": "f4e9ac3d",
   "metadata": {},
   "outputs": [
    {
     "name": "stdout",
     "output_type": "stream",
     "text": [
      "F1 Score on test data for dataset 1:  0.9511885274575095\n",
      "\n",
      "Cohen's Kappa Score on test: 0.9023726200956818\n",
      "\n",
      "Accuracy (KNN) for test set for dataset 1: 0.951188986232791\n"
     ]
    }
   ],
   "source": [
    "print('F1 Score on test data for dataset 1: ', f1_score(y_test, best_knn.predict(X_test_stanscaled), average='weighted'))\n",
    "print()\n",
    "kappa_score9 = cohen_kappa_score(y_test, y_pred_knn)\n",
    "print(\"Cohen's Kappa Score on test:\", kappa_score9)\n",
    "print()\n",
    "print(\"Accuracy (KNN) for test set for dataset 1:\", metrics.accuracy_score(y_test, y_pred_knn))"
   ]
  },
  {
   "cell_type": "markdown",
   "id": "06291241",
   "metadata": {},
   "source": [
    "## Dataset 2"
   ]
  },
  {
   "cell_type": "code",
   "execution_count": 134,
   "id": "106bf977",
   "metadata": {},
   "outputs": [
    {
     "name": "stdout",
     "output_type": "stream",
     "text": [
      "Fitting 5 folds for each of 36 candidates, totalling 180 fits\n"
     ]
    },
    {
     "data": {
      "text/html": [
       "<style>#sk-container-id-2 {color: black;}#sk-container-id-2 pre{padding: 0;}#sk-container-id-2 div.sk-toggleable {background-color: white;}#sk-container-id-2 label.sk-toggleable__label {cursor: pointer;display: block;width: 100%;margin-bottom: 0;padding: 0.3em;box-sizing: border-box;text-align: center;}#sk-container-id-2 label.sk-toggleable__label-arrow:before {content: \"▸\";float: left;margin-right: 0.25em;color: #696969;}#sk-container-id-2 label.sk-toggleable__label-arrow:hover:before {color: black;}#sk-container-id-2 div.sk-estimator:hover label.sk-toggleable__label-arrow:before {color: black;}#sk-container-id-2 div.sk-toggleable__content {max-height: 0;max-width: 0;overflow: hidden;text-align: left;background-color: #f0f8ff;}#sk-container-id-2 div.sk-toggleable__content pre {margin: 0.2em;color: black;border-radius: 0.25em;background-color: #f0f8ff;}#sk-container-id-2 input.sk-toggleable__control:checked~div.sk-toggleable__content {max-height: 200px;max-width: 100%;overflow: auto;}#sk-container-id-2 input.sk-toggleable__control:checked~label.sk-toggleable__label-arrow:before {content: \"▾\";}#sk-container-id-2 div.sk-estimator input.sk-toggleable__control:checked~label.sk-toggleable__label {background-color: #d4ebff;}#sk-container-id-2 div.sk-label input.sk-toggleable__control:checked~label.sk-toggleable__label {background-color: #d4ebff;}#sk-container-id-2 input.sk-hidden--visually {border: 0;clip: rect(1px 1px 1px 1px);clip: rect(1px, 1px, 1px, 1px);height: 1px;margin: -1px;overflow: hidden;padding: 0;position: absolute;width: 1px;}#sk-container-id-2 div.sk-estimator {font-family: monospace;background-color: #f0f8ff;border: 1px dotted black;border-radius: 0.25em;box-sizing: border-box;margin-bottom: 0.5em;}#sk-container-id-2 div.sk-estimator:hover {background-color: #d4ebff;}#sk-container-id-2 div.sk-parallel-item::after {content: \"\";width: 100%;border-bottom: 1px solid gray;flex-grow: 1;}#sk-container-id-2 div.sk-label:hover label.sk-toggleable__label {background-color: #d4ebff;}#sk-container-id-2 div.sk-serial::before {content: \"\";position: absolute;border-left: 1px solid gray;box-sizing: border-box;top: 0;bottom: 0;left: 50%;z-index: 0;}#sk-container-id-2 div.sk-serial {display: flex;flex-direction: column;align-items: center;background-color: white;padding-right: 0.2em;padding-left: 0.2em;position: relative;}#sk-container-id-2 div.sk-item {position: relative;z-index: 1;}#sk-container-id-2 div.sk-parallel {display: flex;align-items: stretch;justify-content: center;background-color: white;position: relative;}#sk-container-id-2 div.sk-item::before, #sk-container-id-2 div.sk-parallel-item::before {content: \"\";position: absolute;border-left: 1px solid gray;box-sizing: border-box;top: 0;bottom: 0;left: 50%;z-index: -1;}#sk-container-id-2 div.sk-parallel-item {display: flex;flex-direction: column;z-index: 1;position: relative;background-color: white;}#sk-container-id-2 div.sk-parallel-item:first-child::after {align-self: flex-end;width: 50%;}#sk-container-id-2 div.sk-parallel-item:last-child::after {align-self: flex-start;width: 50%;}#sk-container-id-2 div.sk-parallel-item:only-child::after {width: 0;}#sk-container-id-2 div.sk-dashed-wrapped {border: 1px dashed gray;margin: 0 0.4em 0.5em 0.4em;box-sizing: border-box;padding-bottom: 0.4em;background-color: white;}#sk-container-id-2 div.sk-label label {font-family: monospace;font-weight: bold;display: inline-block;line-height: 1.2em;}#sk-container-id-2 div.sk-label-container {text-align: center;}#sk-container-id-2 div.sk-container {/* jupyter's `normalize.less` sets `[hidden] { display: none; }` but bootstrap.min.css set `[hidden] { display: none !important; }` so we also need the `!important` here to be able to override the default hidden behavior on the sphinx rendered scikit-learn.org. See: https://github.com/scikit-learn/scikit-learn/issues/21755 */display: inline-block !important;position: relative;}#sk-container-id-2 div.sk-text-repr-fallback {display: none;}</style><div id=\"sk-container-id-2\" class=\"sk-top-container\"><div class=\"sk-text-repr-fallback\"><pre>GridSearchCV(cv=5, estimator=KNeighborsClassifier(), n_jobs=-1,\n",
       "             param_grid=[{&#x27;n_neighbors&#x27;: range(3, 21, 2), &#x27;p&#x27;: [1, 2],\n",
       "                          &#x27;weights&#x27;: [&#x27;uniform&#x27;, &#x27;distance&#x27;]}],\n",
       "             scoring=&#x27;f1&#x27;, verbose=True)</pre><b>In a Jupyter environment, please rerun this cell to show the HTML representation or trust the notebook. <br />On GitHub, the HTML representation is unable to render, please try loading this page with nbviewer.org.</b></div><div class=\"sk-container\" hidden><div class=\"sk-item sk-dashed-wrapped\"><div class=\"sk-label-container\"><div class=\"sk-label sk-toggleable\"><input class=\"sk-toggleable__control sk-hidden--visually\" id=\"sk-estimator-id-4\" type=\"checkbox\" ><label for=\"sk-estimator-id-4\" class=\"sk-toggleable__label sk-toggleable__label-arrow\">GridSearchCV</label><div class=\"sk-toggleable__content\"><pre>GridSearchCV(cv=5, estimator=KNeighborsClassifier(), n_jobs=-1,\n",
       "             param_grid=[{&#x27;n_neighbors&#x27;: range(3, 21, 2), &#x27;p&#x27;: [1, 2],\n",
       "                          &#x27;weights&#x27;: [&#x27;uniform&#x27;, &#x27;distance&#x27;]}],\n",
       "             scoring=&#x27;f1&#x27;, verbose=True)</pre></div></div></div><div class=\"sk-parallel\"><div class=\"sk-parallel-item\"><div class=\"sk-item\"><div class=\"sk-label-container\"><div class=\"sk-label sk-toggleable\"><input class=\"sk-toggleable__control sk-hidden--visually\" id=\"sk-estimator-id-5\" type=\"checkbox\" ><label for=\"sk-estimator-id-5\" class=\"sk-toggleable__label sk-toggleable__label-arrow\">estimator: KNeighborsClassifier</label><div class=\"sk-toggleable__content\"><pre>KNeighborsClassifier()</pre></div></div></div><div class=\"sk-serial\"><div class=\"sk-item\"><div class=\"sk-estimator sk-toggleable\"><input class=\"sk-toggleable__control sk-hidden--visually\" id=\"sk-estimator-id-6\" type=\"checkbox\" ><label for=\"sk-estimator-id-6\" class=\"sk-toggleable__label sk-toggleable__label-arrow\">KNeighborsClassifier</label><div class=\"sk-toggleable__content\"><pre>KNeighborsClassifier()</pre></div></div></div></div></div></div></div></div></div></div>"
      ],
      "text/plain": [
       "GridSearchCV(cv=5, estimator=KNeighborsClassifier(), n_jobs=-1,\n",
       "             param_grid=[{'n_neighbors': range(3, 21, 2), 'p': [1, 2],\n",
       "                          'weights': ['uniform', 'distance']}],\n",
       "             scoring='f1', verbose=True)"
      ]
     },
     "execution_count": 134,
     "metadata": {},
     "output_type": "execute_result"
    }
   ],
   "source": [
    "hyperparameters2 = [{\n",
    "    'n_neighbors': range(3,21,2),\n",
    "    'weights': ['uniform', 'distance'],\n",
    "    'p': [1, 2]\n",
    "}]\n",
    "\n",
    "knn2 = KNeighborsClassifier()\n",
    "grid_search2 = GridSearchCV(knn, hyperparameters, scoring='f1', cv=5, verbose=True, n_jobs=-1)\n",
    "grid_search2.fit(X_train_stanscaled2, y_train2)"
   ]
  },
  {
   "cell_type": "code",
   "execution_count": 135,
   "id": "56756e35",
   "metadata": {},
   "outputs": [
    {
     "name": "stdout",
     "output_type": "stream",
     "text": [
      "{'n_neighbors': 19, 'p': 1, 'weights': 'distance'}\n",
      "0.9537008537483439\n"
     ]
    }
   ],
   "source": [
    "best_knn_params2 = grid_search2.best_params_\n",
    "best_knnscore2 = grid_search2.best_score_\n",
    "print(best_knn_params2)\n",
    "print(best_knnscore2)"
   ]
  },
  {
   "cell_type": "code",
   "execution_count": 136,
   "id": "7f432ac7",
   "metadata": {},
   "outputs": [],
   "source": [
    "best_knn2 = KNeighborsClassifier(**best_knn_params2)\n",
    "best_knn2.fit(X_train_stanscaled2, y_train2.ravel())\n",
    "y_pred_knn2 = best_knn2.predict(X_test_stanscaled2)"
   ]
  },
  {
   "cell_type": "code",
   "execution_count": 137,
   "id": "27772e3d",
   "metadata": {},
   "outputs": [
    {
     "name": "stdout",
     "output_type": "stream",
     "text": [
      "F1 Score on test data for dataset 2:  0.886065867149092\n",
      "\n",
      "Cohen's Kappa Score on test: 0.7721599508653403\n",
      "\n",
      "Accuracy (KNN) for test set for dataset 2: 0.886107634543179\n"
     ]
    }
   ],
   "source": [
    "print('F1 Score on test data for dataset 2: ', f1_score(y_test2, best_knn2.predict(X_test_stanscaled2), average='weighted'))\n",
    "print()\n",
    "kappa_score10 = cohen_kappa_score(y_test2, y_pred_knn2)\n",
    "print(\"Cohen's Kappa Score on test:\", kappa_score10)\n",
    "print()\n",
    "print(\"Accuracy (KNN) for test set for dataset 2:\", metrics.accuracy_score(y_test2, y_pred_knn2))"
   ]
  },
  {
   "cell_type": "markdown",
   "id": "5eaa2782",
   "metadata": {},
   "source": [
    "<div style=\"background-color: #D9EAD3; border-radius: 10px; border: 1px solid #D2B48C; padding: 10px;\">\n",
    "    <h2 style=\"color: #8B4513; font-size: 30px;\">Support Vector Machines (SVM)</h2>\n",
    "</div>"
   ]
  },
  {
   "cell_type": "markdown",
   "id": "18a3ff3a",
   "metadata": {},
   "source": [
    "### Dataset 1"
   ]
  },
  {
   "cell_type": "code",
   "execution_count": 138,
   "id": "b35fd9aa",
   "metadata": {},
   "outputs": [
    {
     "name": "stdout",
     "output_type": "stream",
     "text": [
      "Fitting 5 folds for each of 6 candidates, totalling 30 fits\n"
     ]
    },
    {
     "data": {
      "text/html": [
       "<style>#sk-container-id-3 {color: black;}#sk-container-id-3 pre{padding: 0;}#sk-container-id-3 div.sk-toggleable {background-color: white;}#sk-container-id-3 label.sk-toggleable__label {cursor: pointer;display: block;width: 100%;margin-bottom: 0;padding: 0.3em;box-sizing: border-box;text-align: center;}#sk-container-id-3 label.sk-toggleable__label-arrow:before {content: \"▸\";float: left;margin-right: 0.25em;color: #696969;}#sk-container-id-3 label.sk-toggleable__label-arrow:hover:before {color: black;}#sk-container-id-3 div.sk-estimator:hover label.sk-toggleable__label-arrow:before {color: black;}#sk-container-id-3 div.sk-toggleable__content {max-height: 0;max-width: 0;overflow: hidden;text-align: left;background-color: #f0f8ff;}#sk-container-id-3 div.sk-toggleable__content pre {margin: 0.2em;color: black;border-radius: 0.25em;background-color: #f0f8ff;}#sk-container-id-3 input.sk-toggleable__control:checked~div.sk-toggleable__content {max-height: 200px;max-width: 100%;overflow: auto;}#sk-container-id-3 input.sk-toggleable__control:checked~label.sk-toggleable__label-arrow:before {content: \"▾\";}#sk-container-id-3 div.sk-estimator input.sk-toggleable__control:checked~label.sk-toggleable__label {background-color: #d4ebff;}#sk-container-id-3 div.sk-label input.sk-toggleable__control:checked~label.sk-toggleable__label {background-color: #d4ebff;}#sk-container-id-3 input.sk-hidden--visually {border: 0;clip: rect(1px 1px 1px 1px);clip: rect(1px, 1px, 1px, 1px);height: 1px;margin: -1px;overflow: hidden;padding: 0;position: absolute;width: 1px;}#sk-container-id-3 div.sk-estimator {font-family: monospace;background-color: #f0f8ff;border: 1px dotted black;border-radius: 0.25em;box-sizing: border-box;margin-bottom: 0.5em;}#sk-container-id-3 div.sk-estimator:hover {background-color: #d4ebff;}#sk-container-id-3 div.sk-parallel-item::after {content: \"\";width: 100%;border-bottom: 1px solid gray;flex-grow: 1;}#sk-container-id-3 div.sk-label:hover label.sk-toggleable__label {background-color: #d4ebff;}#sk-container-id-3 div.sk-serial::before {content: \"\";position: absolute;border-left: 1px solid gray;box-sizing: border-box;top: 0;bottom: 0;left: 50%;z-index: 0;}#sk-container-id-3 div.sk-serial {display: flex;flex-direction: column;align-items: center;background-color: white;padding-right: 0.2em;padding-left: 0.2em;position: relative;}#sk-container-id-3 div.sk-item {position: relative;z-index: 1;}#sk-container-id-3 div.sk-parallel {display: flex;align-items: stretch;justify-content: center;background-color: white;position: relative;}#sk-container-id-3 div.sk-item::before, #sk-container-id-3 div.sk-parallel-item::before {content: \"\";position: absolute;border-left: 1px solid gray;box-sizing: border-box;top: 0;bottom: 0;left: 50%;z-index: -1;}#sk-container-id-3 div.sk-parallel-item {display: flex;flex-direction: column;z-index: 1;position: relative;background-color: white;}#sk-container-id-3 div.sk-parallel-item:first-child::after {align-self: flex-end;width: 50%;}#sk-container-id-3 div.sk-parallel-item:last-child::after {align-self: flex-start;width: 50%;}#sk-container-id-3 div.sk-parallel-item:only-child::after {width: 0;}#sk-container-id-3 div.sk-dashed-wrapped {border: 1px dashed gray;margin: 0 0.4em 0.5em 0.4em;box-sizing: border-box;padding-bottom: 0.4em;background-color: white;}#sk-container-id-3 div.sk-label label {font-family: monospace;font-weight: bold;display: inline-block;line-height: 1.2em;}#sk-container-id-3 div.sk-label-container {text-align: center;}#sk-container-id-3 div.sk-container {/* jupyter's `normalize.less` sets `[hidden] { display: none; }` but bootstrap.min.css set `[hidden] { display: none !important; }` so we also need the `!important` here to be able to override the default hidden behavior on the sphinx rendered scikit-learn.org. See: https://github.com/scikit-learn/scikit-learn/issues/21755 */display: inline-block !important;position: relative;}#sk-container-id-3 div.sk-text-repr-fallback {display: none;}</style><div id=\"sk-container-id-3\" class=\"sk-top-container\"><div class=\"sk-text-repr-fallback\"><pre>GridSearchCV(cv=5, estimator=SVC(), n_jobs=-1,\n",
       "             param_grid=[{&#x27;C&#x27;: [0.1, 1, 10], &#x27;kernel&#x27;: [&#x27;linear&#x27;, &#x27;rbf&#x27;]}],\n",
       "             scoring=&#x27;f1&#x27;, verbose=True)</pre><b>In a Jupyter environment, please rerun this cell to show the HTML representation or trust the notebook. <br />On GitHub, the HTML representation is unable to render, please try loading this page with nbviewer.org.</b></div><div class=\"sk-container\" hidden><div class=\"sk-item sk-dashed-wrapped\"><div class=\"sk-label-container\"><div class=\"sk-label sk-toggleable\"><input class=\"sk-toggleable__control sk-hidden--visually\" id=\"sk-estimator-id-7\" type=\"checkbox\" ><label for=\"sk-estimator-id-7\" class=\"sk-toggleable__label sk-toggleable__label-arrow\">GridSearchCV</label><div class=\"sk-toggleable__content\"><pre>GridSearchCV(cv=5, estimator=SVC(), n_jobs=-1,\n",
       "             param_grid=[{&#x27;C&#x27;: [0.1, 1, 10], &#x27;kernel&#x27;: [&#x27;linear&#x27;, &#x27;rbf&#x27;]}],\n",
       "             scoring=&#x27;f1&#x27;, verbose=True)</pre></div></div></div><div class=\"sk-parallel\"><div class=\"sk-parallel-item\"><div class=\"sk-item\"><div class=\"sk-label-container\"><div class=\"sk-label sk-toggleable\"><input class=\"sk-toggleable__control sk-hidden--visually\" id=\"sk-estimator-id-8\" type=\"checkbox\" ><label for=\"sk-estimator-id-8\" class=\"sk-toggleable__label sk-toggleable__label-arrow\">estimator: SVC</label><div class=\"sk-toggleable__content\"><pre>SVC()</pre></div></div></div><div class=\"sk-serial\"><div class=\"sk-item\"><div class=\"sk-estimator sk-toggleable\"><input class=\"sk-toggleable__control sk-hidden--visually\" id=\"sk-estimator-id-9\" type=\"checkbox\" ><label for=\"sk-estimator-id-9\" class=\"sk-toggleable__label sk-toggleable__label-arrow\">SVC</label><div class=\"sk-toggleable__content\"><pre>SVC()</pre></div></div></div></div></div></div></div></div></div></div>"
      ],
      "text/plain": [
       "GridSearchCV(cv=5, estimator=SVC(), n_jobs=-1,\n",
       "             param_grid=[{'C': [0.1, 1, 10], 'kernel': ['linear', 'rbf']}],\n",
       "             scoring='f1', verbose=True)"
      ]
     },
     "execution_count": 138,
     "metadata": {},
     "output_type": "execute_result"
    }
   ],
   "source": [
    "svm_params = [{'C': [0.1, 1, 10], 'kernel': ['linear', 'rbf']}]\n",
    "\n",
    "svm = SVC()\n",
    "svm_grid_search = GridSearchCV(svm, svm_params, scoring='f1', cv=5, verbose=True, n_jobs=-1)\n",
    "svm_grid_search.fit(X_train_stanscaled, y_train)"
   ]
  },
  {
   "cell_type": "code",
   "execution_count": 139,
   "id": "6cf3602d",
   "metadata": {},
   "outputs": [
    {
     "name": "stdout",
     "output_type": "stream",
     "text": [
      "Best Parameters: {'C': 10, 'kernel': 'rbf'}\n",
      "Best Score: 0.9536716737618554\n"
     ]
    }
   ],
   "source": [
    "best_svm_params = svm_grid_search.best_params_\n",
    "best_svmscore = grid_search.best_score_\n",
    "print(\"Best Parameters:\", best_svm_params)\n",
    "print(\"Best Score:\", best_svmscore)"
   ]
  },
  {
   "cell_type": "code",
   "execution_count": 140,
   "id": "da58cb4a",
   "metadata": {},
   "outputs": [],
   "source": [
    "best_svm = SVC(**best_svm_params)\n",
    "best_svm.fit(X_train_stanscaled, y_train)\n",
    "y_pred_svm = best_svm.predict(X_test_stanscaled)"
   ]
  },
  {
   "cell_type": "code",
   "execution_count": 141,
   "id": "5f79c794",
   "metadata": {},
   "outputs": [
    {
     "name": "stdout",
     "output_type": "stream",
     "text": [
      "F1 Score on Test Set (SVM) for dataset 1: 0.8955223880597015\n",
      "Accuracy (SVM) for test set for dataset 1: 0.8948685857321652\n",
      "Accuracy on train (SVM) for dataset 1: 0.9069840275602882\n",
      "Accuracy on test (SVM) for dataset 1: 0.8948685857321652\n",
      "Cohen's Kappa Score on test: 0.7897289371780893\n"
     ]
    }
   ],
   "source": [
    "f1_svm = f1_score(y_test, y_pred_svm)\n",
    "print(\"F1 Score on Test Set (SVM) for dataset 1:\", f1_svm)\n",
    "\n",
    "print(\"Accuracy (SVM) for test set for dataset 1:\", metrics.accuracy_score(y_test, y_pred_svm))\n",
    "y_pred_svm_train = best_svm.predict(X_train_stanscaled)\n",
    "print(\"Accuracy on train (SVM) for dataset 1:\", metrics.accuracy_score(y_train, y_pred_svm_train))\n",
    "print(\"Accuracy on test (SVM) for dataset 1:\", metrics.accuracy_score(y_test, y_pred_svm))\n",
    "kappa_score11 = cohen_kappa_score(y_test, y_pred_svm)\n",
    "print(\"Cohen's Kappa Score on test:\", kappa_score11)"
   ]
  },
  {
   "cell_type": "markdown",
   "id": "1c465c86",
   "metadata": {},
   "source": [
    "### Dataset 2"
   ]
  },
  {
   "cell_type": "code",
   "execution_count": 142,
   "id": "2361d33f",
   "metadata": {},
   "outputs": [
    {
     "name": "stdout",
     "output_type": "stream",
     "text": [
      "Fitting 5 folds for each of 6 candidates, totalling 30 fits\n"
     ]
    },
    {
     "data": {
      "text/html": [
       "<style>#sk-container-id-4 {color: black;}#sk-container-id-4 pre{padding: 0;}#sk-container-id-4 div.sk-toggleable {background-color: white;}#sk-container-id-4 label.sk-toggleable__label {cursor: pointer;display: block;width: 100%;margin-bottom: 0;padding: 0.3em;box-sizing: border-box;text-align: center;}#sk-container-id-4 label.sk-toggleable__label-arrow:before {content: \"▸\";float: left;margin-right: 0.25em;color: #696969;}#sk-container-id-4 label.sk-toggleable__label-arrow:hover:before {color: black;}#sk-container-id-4 div.sk-estimator:hover label.sk-toggleable__label-arrow:before {color: black;}#sk-container-id-4 div.sk-toggleable__content {max-height: 0;max-width: 0;overflow: hidden;text-align: left;background-color: #f0f8ff;}#sk-container-id-4 div.sk-toggleable__content pre {margin: 0.2em;color: black;border-radius: 0.25em;background-color: #f0f8ff;}#sk-container-id-4 input.sk-toggleable__control:checked~div.sk-toggleable__content {max-height: 200px;max-width: 100%;overflow: auto;}#sk-container-id-4 input.sk-toggleable__control:checked~label.sk-toggleable__label-arrow:before {content: \"▾\";}#sk-container-id-4 div.sk-estimator input.sk-toggleable__control:checked~label.sk-toggleable__label {background-color: #d4ebff;}#sk-container-id-4 div.sk-label input.sk-toggleable__control:checked~label.sk-toggleable__label {background-color: #d4ebff;}#sk-container-id-4 input.sk-hidden--visually {border: 0;clip: rect(1px 1px 1px 1px);clip: rect(1px, 1px, 1px, 1px);height: 1px;margin: -1px;overflow: hidden;padding: 0;position: absolute;width: 1px;}#sk-container-id-4 div.sk-estimator {font-family: monospace;background-color: #f0f8ff;border: 1px dotted black;border-radius: 0.25em;box-sizing: border-box;margin-bottom: 0.5em;}#sk-container-id-4 div.sk-estimator:hover {background-color: #d4ebff;}#sk-container-id-4 div.sk-parallel-item::after {content: \"\";width: 100%;border-bottom: 1px solid gray;flex-grow: 1;}#sk-container-id-4 div.sk-label:hover label.sk-toggleable__label {background-color: #d4ebff;}#sk-container-id-4 div.sk-serial::before {content: \"\";position: absolute;border-left: 1px solid gray;box-sizing: border-box;top: 0;bottom: 0;left: 50%;z-index: 0;}#sk-container-id-4 div.sk-serial {display: flex;flex-direction: column;align-items: center;background-color: white;padding-right: 0.2em;padding-left: 0.2em;position: relative;}#sk-container-id-4 div.sk-item {position: relative;z-index: 1;}#sk-container-id-4 div.sk-parallel {display: flex;align-items: stretch;justify-content: center;background-color: white;position: relative;}#sk-container-id-4 div.sk-item::before, #sk-container-id-4 div.sk-parallel-item::before {content: \"\";position: absolute;border-left: 1px solid gray;box-sizing: border-box;top: 0;bottom: 0;left: 50%;z-index: -1;}#sk-container-id-4 div.sk-parallel-item {display: flex;flex-direction: column;z-index: 1;position: relative;background-color: white;}#sk-container-id-4 div.sk-parallel-item:first-child::after {align-self: flex-end;width: 50%;}#sk-container-id-4 div.sk-parallel-item:last-child::after {align-self: flex-start;width: 50%;}#sk-container-id-4 div.sk-parallel-item:only-child::after {width: 0;}#sk-container-id-4 div.sk-dashed-wrapped {border: 1px dashed gray;margin: 0 0.4em 0.5em 0.4em;box-sizing: border-box;padding-bottom: 0.4em;background-color: white;}#sk-container-id-4 div.sk-label label {font-family: monospace;font-weight: bold;display: inline-block;line-height: 1.2em;}#sk-container-id-4 div.sk-label-container {text-align: center;}#sk-container-id-4 div.sk-container {/* jupyter's `normalize.less` sets `[hidden] { display: none; }` but bootstrap.min.css set `[hidden] { display: none !important; }` so we also need the `!important` here to be able to override the default hidden behavior on the sphinx rendered scikit-learn.org. See: https://github.com/scikit-learn/scikit-learn/issues/21755 */display: inline-block !important;position: relative;}#sk-container-id-4 div.sk-text-repr-fallback {display: none;}</style><div id=\"sk-container-id-4\" class=\"sk-top-container\"><div class=\"sk-text-repr-fallback\"><pre>GridSearchCV(cv=5, estimator=SVC(), n_jobs=-1,\n",
       "             param_grid=[{&#x27;C&#x27;: [0.1, 1, 10], &#x27;kernel&#x27;: [&#x27;linear&#x27;, &#x27;rbf&#x27;]}],\n",
       "             scoring=&#x27;f1&#x27;, verbose=True)</pre><b>In a Jupyter environment, please rerun this cell to show the HTML representation or trust the notebook. <br />On GitHub, the HTML representation is unable to render, please try loading this page with nbviewer.org.</b></div><div class=\"sk-container\" hidden><div class=\"sk-item sk-dashed-wrapped\"><div class=\"sk-label-container\"><div class=\"sk-label sk-toggleable\"><input class=\"sk-toggleable__control sk-hidden--visually\" id=\"sk-estimator-id-10\" type=\"checkbox\" ><label for=\"sk-estimator-id-10\" class=\"sk-toggleable__label sk-toggleable__label-arrow\">GridSearchCV</label><div class=\"sk-toggleable__content\"><pre>GridSearchCV(cv=5, estimator=SVC(), n_jobs=-1,\n",
       "             param_grid=[{&#x27;C&#x27;: [0.1, 1, 10], &#x27;kernel&#x27;: [&#x27;linear&#x27;, &#x27;rbf&#x27;]}],\n",
       "             scoring=&#x27;f1&#x27;, verbose=True)</pre></div></div></div><div class=\"sk-parallel\"><div class=\"sk-parallel-item\"><div class=\"sk-item\"><div class=\"sk-label-container\"><div class=\"sk-label sk-toggleable\"><input class=\"sk-toggleable__control sk-hidden--visually\" id=\"sk-estimator-id-11\" type=\"checkbox\" ><label for=\"sk-estimator-id-11\" class=\"sk-toggleable__label sk-toggleable__label-arrow\">estimator: SVC</label><div class=\"sk-toggleable__content\"><pre>SVC()</pre></div></div></div><div class=\"sk-serial\"><div class=\"sk-item\"><div class=\"sk-estimator sk-toggleable\"><input class=\"sk-toggleable__control sk-hidden--visually\" id=\"sk-estimator-id-12\" type=\"checkbox\" ><label for=\"sk-estimator-id-12\" class=\"sk-toggleable__label sk-toggleable__label-arrow\">SVC</label><div class=\"sk-toggleable__content\"><pre>SVC()</pre></div></div></div></div></div></div></div></div></div></div>"
      ],
      "text/plain": [
       "GridSearchCV(cv=5, estimator=SVC(), n_jobs=-1,\n",
       "             param_grid=[{'C': [0.1, 1, 10], 'kernel': ['linear', 'rbf']}],\n",
       "             scoring='f1', verbose=True)"
      ]
     },
     "execution_count": 142,
     "metadata": {},
     "output_type": "execute_result"
    }
   ],
   "source": [
    "svm_params2 = [{'C': [0.1, 1, 10], 'kernel': ['linear', 'rbf']}]\n",
    "\n",
    "svm2 = SVC()\n",
    "svm_grid_search2 = GridSearchCV(svm2, svm_params2, scoring='f1', cv=5, verbose=True, n_jobs=-1)\n",
    "svm_grid_search2.fit(X_train_stanscaled2, y_train2)"
   ]
  },
  {
   "cell_type": "code",
   "execution_count": 143,
   "id": "209c5e74",
   "metadata": {},
   "outputs": [
    {
     "name": "stdout",
     "output_type": "stream",
     "text": [
      "Best Parameters: {'C': 10, 'kernel': 'rbf'}\n",
      "Best Score: 0.9536716737618554\n"
     ]
    }
   ],
   "source": [
    "best_svm_params2 = svm_grid_search2.best_params_\n",
    "best_svmscore2 = grid_search.best_score_\n",
    "print(\"Best Parameters:\",best_svm_params2)\n",
    "print(\"Best Score:\", best_svmscore2)"
   ]
  },
  {
   "cell_type": "code",
   "execution_count": 144,
   "id": "201ea553",
   "metadata": {},
   "outputs": [],
   "source": [
    "best_svm2 = SVC(**best_svm_params2)\n",
    "best_svm2.fit(X_train_stanscaled2, y_train2)\n",
    "y_pred_svm2 = best_svm2.predict(X_test_stanscaled2)"
   ]
  },
  {
   "cell_type": "code",
   "execution_count": 145,
   "id": "5c0d71a5",
   "metadata": {},
   "outputs": [
    {
     "name": "stdout",
     "output_type": "stream",
     "text": [
      "F1 Score on Test Set (SVM) for dataset 2: 0.8793969849246231\n",
      "Accuracy (SVM) for test set for dataset 2: 0.8798498122653317\n",
      "Accuracy on train (SVM) for dataset 2: 0.8787973692452239\n",
      "ACcuracy on test (SVM) for dataset 2: 0.8798498122653317\n",
      "Cohen's Kappa Score on test: 0.7597203252847494\n"
     ]
    }
   ],
   "source": [
    "f1_svm2 = f1_score(y_test2, y_pred_svm2)\n",
    "print(\"F1 Score on Test Set (SVM) for dataset 2:\", f1_svm2)\n",
    "print(\"Accuracy (SVM) for test set for dataset 2:\", metrics.accuracy_score(y_test2, y_pred_svm2))\n",
    "y_pred_svm_train2 = best_svm2.predict(X_train_stanscaled2)\n",
    "print(\"Accuracy on train (SVM) for dataset 2:\", metrics.accuracy_score(y_train2, y_pred_svm_train2))\n",
    "print(\"ACcuracy on test (SVM) for dataset 2:\", metrics.accuracy_score(y_test2, y_pred_svm2))\n",
    "kappa_score12 = cohen_kappa_score(y_test2, y_pred_svm2)\n",
    "print(\"Cohen's Kappa Score on test:\", kappa_score12)"
   ]
  },
  {
   "cell_type": "markdown",
   "id": "a5ad59c2",
   "metadata": {},
   "source": [
    "<div style=\"background-color: #D9EAD3; border-radius: 10px; border: 1px solid #D2B48C; padding: 10px;\">\n",
    "    <h2 style=\"color: #8B4513; font-size: 20px;\">Finding the Overall Best Model</h2>\n",
    "</div>"
   ]
  },
  {
   "cell_type": "code",
   "execution_count": 146,
   "id": "1877e326",
   "metadata": {},
   "outputs": [
    {
     "name": "stdout",
     "output_type": "stream",
     "text": [
      "Accuracy on Test Dataset 1 Leaderboard:\n",
      "1. Random Forest: 0.9737\n",
      "2. XGBoost: 0.9700\n",
      "3. Gradient Boosting: 0.9675\n",
      "4. Gradient Boosting Decision Trees: 0.9675\n",
      "5. K-Nearest Neighbors: 0.9512\n",
      "6. Decision Tree: 0.9499\n",
      "7. ADABoost: 0.9049\n",
      "8. SVM: 0.8949\n",
      "9. Neural Networks Tuned Standardscaled: 0.8874\n",
      "10. Neural Networks Standardscaled: 0.8849\n",
      "11. Neural Networks MinMaxscaled: 0.8686\n",
      "12. Logistic Regression: 0.8673\n",
      "13. Naive Bayes: 0.8398\n",
      "14. Neural Networks Tuned MinMaxscaled: 0.8398\n",
      "\n",
      "Best Method: Random Forest\n",
      "With Accuracy of: 0.9737\n",
      "\n",
      "\n",
      "Cohen Kappa score on Test Dataset 1 Leaderboard:\n",
      "1. Random Forest: 0.9737\n",
      "2. XGBoost: 0.9700\n",
      "3. Gradient Boosting: 0.9675\n",
      "4. Gradient Boosting Decision Trees: 0.9675\n",
      "5. Decision Tree: 0.9499\n",
      "6. ADABoost: 0.9049\n",
      "7. K-Nearest Neighbors: 0.9024\n",
      "8. Logistic Regression: 0.8673\n",
      "9. Naive Bayes: 0.8398\n",
      "10. SVM: 0.7897\n",
      "11. Neural Networks Tuned Standardscaled: 0.7747\n",
      "12. Neural Networks Standardscaled: 0.7698\n",
      "13. Neural Networks MinMaxscaled: 0.7371\n",
      "14. Neural Networks Tuned MinMaxscaled: 0.6791\n",
      "\n",
      "Best Method: Random Forest\n",
      "With Cohen Kappa score of: 0.9737\n",
      "\n",
      "\n",
      "F1 score on Test Dataset 1 Leaderboard:\n",
      "1. Random Forest: 0.9737\n",
      "2. XGBoost: 0.9698\n",
      "3. Gradient Boosting: 0.9673\n",
      "4. Gradient Boosting Decision Trees: 0.9673\n",
      "5. K-Nearest Neighbors: 0.9516\n",
      "6. Decision Tree: 0.9500\n",
      "7. ADABoost: 0.9033\n",
      "8. SVM: 0.8955\n",
      "9. Neural Networks Tuned Standardscaled: 0.8875\n",
      "10. Neural Networks Standardscaled: 0.8830\n",
      "11. Neural Networks MinMaxscaled: 0.8721\n",
      "12. Logistic Regression: 0.8658\n",
      "13. Neural Networks Tuned MinMaxscaled: 0.8571\n",
      "14. Naive Bayes: 0.8384\n",
      "\n",
      "Best Method: Random Forest\n",
      "With F1 score of: 0.9737\n"
     ]
    }
   ],
   "source": [
    "accuracy_scores = {}\n",
    "\n",
    "accuracy_scores['Random Forest'] = metrics.accuracy_score(y_test, y_pred_rf)\n",
    "accuracy_scores['Decision Tree'] = metrics.accuracy_score(y_test, y_pred_dt)\n",
    "accuracy_scores['ADABoost'] = metrics.accuracy_score(y_test, y_pred_ada)\n",
    "accuracy_scores['XGBoost'] = metrics.accuracy_score(y_test, y_pred_xgb)\n",
    "accuracy_scores['Logistic Regression'] = metrics.accuracy_score(y_test, y_pred_lr)\n",
    "accuracy_scores['Naive Bayes'] = metrics.accuracy_score(y_test, y_pred_nb)\n",
    "accuracy_scores['Gradient Boosting'] = metrics.accuracy_score(y_test, y_pred_gbm)\n",
    "accuracy_scores['Gradient Boosting Decision Trees'] = metrics.accuracy_score(y_test, y_pred_gbdt)\n",
    "accuracy_scores['K-Nearest Neighbors'] = metrics.accuracy_score(y_test, y_pred_knn)\n",
    "accuracy_scores['SVM'] = metrics.accuracy_score(y_test, y_pred_svm)\n",
    "accuracy_scores['Neural Networks MinMaxscaled'] = metrics.accuracy_score(y_test, y_pred_minmax)\n",
    "accuracy_scores['Neural Networks Tuned MinMaxscaled'] = metrics.accuracy_score(y_test, y_pred_minmax3)\n",
    "accuracy_scores['Neural Networks Standardscaled'] = metrics.accuracy_score(y_test, y_pred_standard5)\n",
    "accuracy_scores['Neural Networks Tuned Standardscaled'] = metrics.accuracy_score(y_test, y_pred_standard6)\n",
    "\n",
    "# Sort accuracy_scores in descending order by values (accuracy)\n",
    "sorted_scores = {k: v for k, v in sorted(accuracy_scores.items(), key=lambda item: item[1], reverse=True)}\n",
    "\n",
    "best_method = next(iter(sorted_scores))\n",
    "best_accuracy = sorted_scores[best_method]\n",
    "\n",
    "print(\"Accuracy on Test Dataset 1 Leaderboard:\")\n",
    "for rank, (method, accuracy) in enumerate(sorted_scores.items(), start=1):\n",
    "    print(f\"{rank}. {method}: {accuracy:.4f}\")\n",
    "\n",
    "print(f\"\\nBest Method: {best_method}\")\n",
    "print(f\"With Accuracy of: {best_accuracy:.4f}\")\n",
    "print()\n",
    "print()\n",
    "Kappa_scores = {}\n",
    "\n",
    "Kappa_scores['Random Forest'] = metrics.accuracy_score(y_test, y_pred_rf)\n",
    "Kappa_scores['Decision Tree'] = metrics.accuracy_score(y_test, y_pred_dt)\n",
    "Kappa_scores['ADABoost'] = metrics.accuracy_score(y_test, y_pred_ada)\n",
    "Kappa_scores['XGBoost'] = metrics.accuracy_score(y_test, y_pred_xgb)\n",
    "Kappa_scores['Logistic Regression'] = metrics.accuracy_score(y_test, y_pred_lr)\n",
    "Kappa_scores['Naive Bayes'] = metrics.accuracy_score(y_test, y_pred_nb)\n",
    "Kappa_scores['Gradient Boosting'] = metrics.accuracy_score(y_test, y_pred_gbm)\n",
    "Kappa_scores['Gradient Boosting Decision Trees'] = metrics.accuracy_score(y_test, y_pred_gbdt)\n",
    "Kappa_scores['K-Nearest Neighbors'] = cohen_kappa_score(y_test, y_pred_knn)\n",
    "Kappa_scores['SVM'] = cohen_kappa_score(y_test, y_pred_svm)\n",
    "Kappa_scores['Neural Networks MinMaxscaled'] = cohen_kappa_score(y_test, y_pred_minmax)\n",
    "Kappa_scores['Neural Networks Tuned MinMaxscaled'] = cohen_kappa_score(y_test, y_pred_minmax3)\n",
    "Kappa_scores['Neural Networks Standardscaled'] = cohen_kappa_score(y_test, y_pred_standard5)\n",
    "Kappa_scores['Neural Networks Tuned Standardscaled'] = cohen_kappa_score(y_test, y_pred_standard6)\n",
    "\n",
    "# Sort accuracy_scores in descending order by values (accuracy)\n",
    "sortedk_scores = {k: v for k, v in sorted(Kappa_scores.items(), key=lambda item: item[1], reverse=True)}\n",
    "\n",
    "bestk_method = next(iter(sortedk_scores))\n",
    "bestk_accuracy = sortedk_scores[bestk_method]\n",
    "\n",
    "print(\"Cohen Kappa score on Test Dataset 1 Leaderboard:\")\n",
    "for rank, (method, accuracy) in enumerate(sortedk_scores.items(), start=1):\n",
    "    print(f\"{rank}. {method}: {accuracy:.4f}\")\n",
    "\n",
    "print(f\"\\nBest Method: {bestk_method}\")\n",
    "print(f\"With Cohen Kappa score of: {bestk_accuracy:.4f}\")\n",
    "print()\n",
    "print()\n",
    "f1_scores = {}\n",
    "\n",
    "f1_scores['Random Forest'] = f1_score(y_test, y_pred_rf)\n",
    "f1_scores['Decision Tree'] = f1_score(y_test, y_pred_dt)\n",
    "f1_scores['ADABoost'] = f1_score(y_test, y_pred_ada)\n",
    "f1_scores['XGBoost'] = f1_score(y_test, y_pred_xgb)\n",
    "f1_scores['Logistic Regression'] = f1_score(y_test, y_pred_lr)\n",
    "f1_scores['Naive Bayes'] = f1_score(y_test, y_pred_nb)\n",
    "f1_scores['Gradient Boosting'] = f1_score(y_test, y_pred_gbm)\n",
    "f1_scores['Gradient Boosting Decision Trees'] = f1_score(y_test, y_pred_gbdt)\n",
    "f1_scores['K-Nearest Neighbors'] = f1_score(y_test, y_pred_knn)\n",
    "f1_scores['SVM'] = f1_score(y_test, y_pred_svm)\n",
    "f1_scores['Neural Networks MinMaxscaled'] = f1_score(y_test, y_pred_minmax)\n",
    "f1_scores['Neural Networks Tuned MinMaxscaled'] = f1_score(y_test, y_pred_minmax3)\n",
    "f1_scores['Neural Networks Standardscaled'] = f1_score(y_test, y_pred_standard5)\n",
    "f1_scores['Neural Networks Tuned Standardscaled'] = f1_score(y_test, y_pred_standard6)\n",
    "\n",
    "# Sort accuracy_scores in descending order by values (accuracy)\n",
    "sortedf1_scores = {k: v for k, v in sorted(f1_scores.items(), key=lambda item: item[1], reverse=True)}\n",
    "\n",
    "bestf1_method = next(iter(sortedf1_scores))\n",
    "bestf1_accuracy = sortedf1_scores[bestf1_method]\n",
    "\n",
    "print(\"F1 score on Test Dataset 1 Leaderboard:\")\n",
    "for rank, (method, accuracy) in enumerate(sortedf1_scores.items(), start=1):\n",
    "    print(f\"{rank}. {method}: {accuracy:.4f}\")\n",
    "\n",
    "print(f\"\\nBest Method: {bestf1_method}\")\n",
    "print(f\"With F1 score of: {bestf1_accuracy:.4f}\")\n"
   ]
  },
  {
   "cell_type": "code",
   "execution_count": 147,
   "id": "5447f3d3",
   "metadata": {},
   "outputs": [
    {
     "name": "stdout",
     "output_type": "stream",
     "text": [
      "Accuracy on Test Dataset 2 Leaderboard:\n",
      "1. Gradient Boosting Decision Trees: 0.9737\n",
      "2. Decision Tree: 0.9687\n",
      "3. Gradient Boosting: 0.9687\n",
      "4. XGBoost: 0.9625\n",
      "5. Random Forest: 0.9474\n",
      "6. ADABoost: 0.9011\n",
      "7. K-Nearest Neighbors: 0.8861\n",
      "8. Neural Networks Tuned Standardscaled: 0.8811\n",
      "9. SVM: 0.8798\n",
      "10. Neural Networks Standardscaled: 0.8786\n",
      "11. Logistic Regression: 0.8748\n",
      "12. Neural Networks MinMaxscaled: 0.8698\n",
      "13. Neural Networks Tuned MinMaxscaled: 0.8661\n",
      "14. Naive Bayes: 0.8298\n",
      "\n",
      "Best Method: Gradient Boosting Decision Trees\n",
      "With Accuracy of: 0.9737\n",
      "\n",
      "\n",
      "Cohen Kappa score on Test Dataset 2 Leaderboard:\n",
      "1. Gradient Boosting Decision Trees: 0.9737\n",
      "2. Decision Tree: 0.9687\n",
      "3. Gradient Boosting: 0.9687\n",
      "4. XGBoost: 0.9625\n",
      "5. Random Forest: 0.9474\n",
      "6. ADABoost: 0.9011\n",
      "7. Logistic Regression: 0.8748\n",
      "8. Naive Bayes: 0.8298\n",
      "9. K-Nearest Neighbors: 0.7722\n",
      "10. Neural Networks Tuned Standardscaled: 0.7622\n",
      "11. SVM: 0.7597\n",
      "12. Neural Networks Standardscaled: 0.7572\n",
      "13. Neural Networks MinMaxscaled: 0.7396\n",
      "14. Neural Networks Tuned MinMaxscaled: 0.7320\n",
      "\n",
      "Best Method: Gradient Boosting Decision Trees\n",
      "With Cohen Kappa score of: 0.9737\n",
      "\n",
      "\n",
      "F1 score on Test Dataset 2 Leaderboard:\n",
      "1. Gradient Boosting Decision Trees: 0.9737\n",
      "2. Gradient Boosting: 0.9687\n",
      "3. Decision Tree: 0.9686\n",
      "4. XGBoost: 0.9623\n",
      "5. Random Forest: 0.9478\n",
      "6. ADABoost: 0.9001\n",
      "7. K-Nearest Neighbors: 0.8886\n",
      "8. Neural Networks Tuned Standardscaled: 0.8817\n",
      "9. SVM: 0.8794\n",
      "10. Neural Networks Standardscaled: 0.8777\n",
      "11. Logistic Regression: 0.8737\n",
      "12. Neural Networks Tuned MinMaxscaled: 0.8737\n",
      "13. Neural Networks MinMaxscaled: 0.8719\n",
      "14. Naive Bayes: 0.8308\n",
      "\n",
      "Best Method: Gradient Boosting Decision Trees\n",
      "With F1 score of: 0.9737\n"
     ]
    }
   ],
   "source": [
    "accuracy_scores2 = {}\n",
    "\n",
    "accuracy_scores2['Random Forest'] = metrics.accuracy_score(y_test2, y_pred_rf2)\n",
    "accuracy_scores2['Decision Tree'] = metrics.accuracy_score(y_test2, y_pred_dt2)\n",
    "accuracy_scores2['ADABoost'] = metrics.accuracy_score(y_test2, y_pred_ada2)\n",
    "accuracy_scores2['XGBoost'] = metrics.accuracy_score(y_test2, y_pred_xgb2)\n",
    "accuracy_scores2['Logistic Regression'] = metrics.accuracy_score(y_test2, y_pred_lr2)\n",
    "accuracy_scores2['Naive Bayes'] = metrics.accuracy_score(y_test2, y_pred_nb2)\n",
    "accuracy_scores2['Gradient Boosting'] = metrics.accuracy_score(y_test2, y_pred_gbm2)\n",
    "accuracy_scores2['Gradient Boosting Decision Trees'] = metrics.accuracy_score(y_test2, y_pred_gbdt2)\n",
    "accuracy_scores2['K-Nearest Neighbors'] = metrics.accuracy_score(y_test2, y_pred_knn2)\n",
    "accuracy_scores2['SVM'] = metrics.accuracy_score(y_test2, y_pred_svm2)\n",
    "accuracy_scores2['Neural Networks MinMaxscaled'] = metrics.accuracy_score(y_test2, y_pred_minmax2)\n",
    "accuracy_scores2['Neural Networks Tuned MinMaxscaled'] = metrics.accuracy_score(y_test2, y_pred_minmax4)\n",
    "accuracy_scores2['Neural Networks Standardscaled'] = metrics.accuracy_score(y_test2, y_pred_standard7)\n",
    "accuracy_scores2['Neural Networks Tuned Standardscaled'] = metrics.accuracy_score(y_test2, y_pred_standard8)\n",
    "\n",
    "\n",
    "# Sort accuracy_scores in descending order by values (accuracy)\n",
    "sorted_scores2 = {k: v for k, v in sorted(accuracy_scores2.items(), key=lambda item: item[1], reverse=True)}\n",
    "\n",
    "best_method2 = next(iter(sorted_scores2))\n",
    "best_accuracy2 = sorted_scores2[best_method2]\n",
    "\n",
    "print(\"Accuracy on Test Dataset 2 Leaderboard:\")\n",
    "for rank, (method, accuracy) in enumerate(sorted_scores2.items(), start=1):\n",
    "    print(f\"{rank}. {method}: {accuracy:.4f}\")\n",
    "\n",
    "print(f\"\\nBest Method: {best_method2}\")\n",
    "print(f\"With Accuracy of: {best_accuracy2:.4f}\")\n",
    "print()\n",
    "print()\n",
    "Kappa_scores2 = {}\n",
    "\n",
    "\n",
    "Kappa_scores2['Random Forest'] = metrics.accuracy_score(y_test2, y_pred_rf2)\n",
    "Kappa_scores2['Decision Tree'] = metrics.accuracy_score(y_test2, y_pred_dt2)\n",
    "Kappa_scores2['ADABoost'] = metrics.accuracy_score(y_test2, y_pred_ada2)\n",
    "Kappa_scores2['XGBoost'] = metrics.accuracy_score(y_test2, y_pred_xgb2)\n",
    "Kappa_scores2['Logistic Regression'] = metrics.accuracy_score(y_test2, y_pred_lr2)\n",
    "Kappa_scores2['Naive Bayes'] = metrics.accuracy_score(y_test2, y_pred_nb2)\n",
    "Kappa_scores2['Gradient Boosting'] = metrics.accuracy_score(y_test2, y_pred_gbm2)\n",
    "Kappa_scores2['Gradient Boosting Decision Trees'] = metrics.accuracy_score(y_test2, y_pred_gbdt2)\n",
    "Kappa_scores2['K-Nearest Neighbors'] = cohen_kappa_score(y_test2, y_pred_knn2)\n",
    "Kappa_scores2['SVM'] = cohen_kappa_score(y_test2, y_pred_svm2)\n",
    "Kappa_scores2['Neural Networks MinMaxscaled'] = cohen_kappa_score(y_test2, y_pred_minmax2)\n",
    "Kappa_scores2['Neural Networks Tuned MinMaxscaled'] = cohen_kappa_score(y_test2, y_pred_minmax4)\n",
    "Kappa_scores2['Neural Networks Standardscaled'] = cohen_kappa_score(y_test2, y_pred_standard7)\n",
    "Kappa_scores2['Neural Networks Tuned Standardscaled'] = cohen_kappa_score(y_test2, y_pred_standard8)\n",
    "\n",
    "\n",
    "# Sort accuracy_scores in descending order by values (accuracy)\n",
    "sortedk_scores2 = {k: v for k, v in sorted(Kappa_scores2.items(), key=lambda item: item[1], reverse=True)}\n",
    "\n",
    "bestk_method2 = next(iter(sortedk_scores2))\n",
    "bestk_accuracy2 = sortedk_scores2[bestk_method2]\n",
    "\n",
    "print(\"Cohen Kappa score on Test Dataset 2 Leaderboard:\")\n",
    "for rank, (method, accuracy) in enumerate(sortedk_scores2.items(), start=1):\n",
    "    print(f\"{rank}. {method}: {accuracy:.4f}\")\n",
    "\n",
    "print(f\"\\nBest Method: {bestk_method2}\")\n",
    "print(f\"With Cohen Kappa score of: {bestk_accuracy2:.4f}\")\n",
    "print()\n",
    "print()\n",
    "f1_scores2 = {}\n",
    "\n",
    "f1_scores2['Random Forest'] = f1_score(y_test2, y_pred_rf2)\n",
    "f1_scores2['Decision Tree'] = f1_score(y_test2, y_pred_dt2)\n",
    "f1_scores2['ADABoost'] = f1_score(y_test2, y_pred_ada2)\n",
    "f1_scores2['XGBoost'] = f1_score(y_test2, y_pred_xgb2)\n",
    "f1_scores2['Logistic Regression'] = f1_score(y_test2, y_pred_lr2)\n",
    "f1_scores2['Naive Bayes'] = f1_score(y_test2, y_pred_nb2)\n",
    "f1_scores2['Gradient Boosting'] = f1_score(y_test2, y_pred_gbm2)\n",
    "f1_scores2['Gradient Boosting Decision Trees'] = f1_score(y_test2, y_pred_gbdt2)\n",
    "f1_scores2['K-Nearest Neighbors'] = f1_score(y_test2, y_pred_knn2)\n",
    "f1_scores2['SVM'] = f1_score(y_test2, y_pred_svm2)\n",
    "f1_scores2['Neural Networks MinMaxscaled'] = f1_score(y_test2, y_pred_minmax2)\n",
    "f1_scores2['Neural Networks Tuned MinMaxscaled'] = f1_score(y_test2, y_pred_minmax4)\n",
    "f1_scores2['Neural Networks Standardscaled'] = f1_score(y_test2, y_pred_standard7)\n",
    "f1_scores2['Neural Networks Tuned Standardscaled'] = f1_score(y_test2, y_pred_standard8)\n",
    "\n",
    "\n",
    "# Sort accuracy_scores in descending order by values (accuracy)\n",
    "sortedf1_scores2 = {k: v for k, v in sorted(f1_scores2.items(), key=lambda item: item[1], reverse=True)}\n",
    "\n",
    "bestf1_method2 = next(iter(sortedf1_scores2))\n",
    "bestf1_accuracy2 = sortedf1_scores2[bestf1_method2]\n",
    "\n",
    "print(\"F1 score on Test Dataset 2 Leaderboard:\")\n",
    "for rank, (method, accuracy) in enumerate(sortedf1_scores2.items(), start=1):\n",
    "    print(f\"{rank}. {method}: {accuracy:.4f}\")\n",
    "\n",
    "print(f\"\\nBest Method: {bestf1_method2}\")\n",
    "print(f\"With F1 score of: {bestf1_accuracy2:.4f}\")\n"
   ]
  },
  {
   "cell_type": "code",
   "execution_count": 148,
   "id": "a432ede9",
   "metadata": {},
   "outputs": [
    {
     "name": "stdout",
     "output_type": "stream",
     "text": [
      "Top 10 Accuracy Scores Leaderboard:\n",
      "Rank | Method                                      | Score  | Dataset\n",
      "----------------------------------------------------------------------\n",
      "   1 | Random Forest                            | 0.9737 | Dataset 1\n",
      "   2 | Gradient Boosting Decision Trees 2       | 0.9737 | Dataset 2\n",
      "   3 | XGBoost                                  | 0.9700 | Dataset 1\n",
      "   4 | Decision Tree 2                          | 0.9687 | Dataset 2\n",
      "   5 | Gradient Boosting 2                      | 0.9687 | Dataset 2\n",
      "   6 | Gradient Boosting                        | 0.9675 | Dataset 1\n",
      "   7 | Gradient Boosting Decision Trees         | 0.9675 | Dataset 1\n",
      "   8 | XGBoost 2                                | 0.9625 | Dataset 2\n",
      "   9 | Decision Tree                            | 0.9499 | Dataset 1\n",
      "  10 | Random Forest 2                          | 0.9474 | Dataset 2\n"
     ]
    }
   ],
   "source": [
    "# Accuracy scores for Dataset 1\n",
    "accuracy_scores = {\n",
    "    'Random Forest': metrics.accuracy_score(y_test, y_pred_rf),\n",
    "    'Decision Tree': metrics.accuracy_score(y_test, y_pred_dt),\n",
    "    'ADABoost': metrics.accuracy_score(y_test, y_pred_ada),\n",
    "    'XGBoost': metrics.accuracy_score(y_test, y_pred_xgb),\n",
    "    'Logistic Regression': metrics.accuracy_score(y_test, y_pred_lr),\n",
    "    'Naive Bayes': metrics.accuracy_score(y_test, y_pred_nb),\n",
    "    'Gradient Boosting': metrics.accuracy_score(y_test, y_pred_gbm),\n",
    "    'Gradient Boosting Decision Trees': metrics.accuracy_score(y_test, y_pred_gbdt),\n",
    "    'K-Nearest Neighbors': metrics.accuracy_score(y_test, y_pred_knn),\n",
    "    'SVM' : metrics.accuracy_score(y_test, y_pred_svm),\n",
    "    'Neural Networks MinMaxscaled': metrics.accuracy_score(y_test, y_pred_minmax),\n",
    "    'Neural Networks Tuned MinMaxscaled': metrics.accuracy_score(y_test, y_pred_minmax3),\n",
    "    'Neural Networks Standardscaled': metrics.accuracy_score(y_test, y_pred_standard5),\n",
    "    'Neural Networks Tuned Standardscaled': metrics.accuracy_score(y_test, y_pred_standard6),\n",
    "}\n",
    "\n",
    "# Accuracy scores for Dataset 2\n",
    "accuracy_scores2 = {\n",
    "    'Random Forest 2': metrics.accuracy_score(y_test2, y_pred_rf2),\n",
    "    'Decision Tree 2': metrics.accuracy_score(y_test2, y_pred_dt2),\n",
    "    'ADABoost 2': metrics.accuracy_score(y_test2, y_pred_ada2),\n",
    "    'XGBoost 2': metrics.accuracy_score(y_test2, y_pred_xgb2),\n",
    "    'Logistic Regression 2': metrics.accuracy_score(y_test2, y_pred_lr2),\n",
    "    'Naive Bayes 2': metrics.accuracy_score(y_test2, y_pred_nb2),\n",
    "    'Gradient Boosting 2': metrics.accuracy_score(y_test2, y_pred_gbm2),\n",
    "    'Gradient Boosting Decision Trees 2': metrics.accuracy_score(y_test2, y_pred_gbdt2),\n",
    "    'K-Nearest Neighbors': metrics.accuracy_score(y_test2, y_pred_knn2),\n",
    "    'SVM': metrics.accuracy_score(y_test2, y_pred_svm2),\n",
    "    'Neural Networks MinMaxscaled': metrics.accuracy_score(y_test2, y_pred_minmax2),\n",
    "    'Neural Networks Tuned MinMaxscaled': metrics.accuracy_score(y_test2, y_pred_minmax4),\n",
    "    'Neural Networks Standardscaled': metrics.accuracy_score(y_test2, y_pred_standard7),\n",
    "    'Neural Networks Tuned Standardscaled': metrics.accuracy_score(y_test2, y_pred_standard8),\n",
    "}\n",
    "\n",
    "# Combine Accuracy scores from both datasets\n",
    "combined_accuracy_scores = {**accuracy_scores, **accuracy_scores2}\n",
    "\n",
    "# Sort Accuracy scores in descending order\n",
    "sorted_accuracy_scores = {k: v for k, v in sorted(combined_accuracy_scores.items(), key=lambda item: item[1], reverse=True)}\n",
    "\n",
    "# Display top 10 Accuracy Scores leaderboard\n",
    "print(\"Top 10 Accuracy Scores Leaderboard:\")\n",
    "print(\"Rank | Method                                      | Score  | Dataset\")\n",
    "print(\"-\" * 70)\n",
    "for rank, (method, score) in enumerate(sorted_accuracy_scores.items(), start=1):\n",
    "    dataset_name = \"Dataset 1\" if method in accuracy_scores else \"Dataset 2\"\n",
    "    print(f\"{rank:4d} | {method:<40} | {score:.4f} | {dataset_name}\")\n",
    "    if rank == 10:\n",
    "        break\n"
   ]
  },
  {
   "cell_type": "code",
   "execution_count": 149,
   "id": "757efb53",
   "metadata": {},
   "outputs": [
    {
     "name": "stdout",
     "output_type": "stream",
     "text": [
      "Top 10 Cohen Kappa Scores Leaderboard:\n",
      "Rank | Method                                      | Score  | Dataset\n",
      "----------------------------------------------------------------------\n",
      "   1 | Random Forest                            | 0.9474 | Dataset 1\n",
      "   2 | Gradient Boosting Decision Trees 2       | 0.9474 | Dataset 2\n",
      "   3 | XGBoost                                  | 0.9399 | Dataset 1\n",
      "   4 | Decision Tree 2                          | 0.9374 | Dataset 2\n",
      "   5 | Gradient Boosting 2                      | 0.9374 | Dataset 2\n",
      "   6 | Gradient Boosting                        | 0.9349 | Dataset 1\n",
      "   7 | Gradient Boosting Decision Trees         | 0.9349 | Dataset 1\n",
      "   8 | XGBoost 2                                | 0.9249 | Dataset 2\n",
      "   9 | K-Nearest Neighbors                      | 0.9024 | Dataset 1\n",
      "  10 | Decision Tree                            | 0.8999 | Dataset 1\n"
     ]
    }
   ],
   "source": [
    "# Cohen Kappa scores for Dataset 1\n",
    "kappa_scores = {\n",
    "    'Random Forest': cohen_kappa_score(y_test, y_pred_rf),\n",
    "    'Decision Tree': cohen_kappa_score(y_test, y_pred_dt),\n",
    "    'ADABoost': cohen_kappa_score(y_test, y_pred_ada),\n",
    "    'XGBoost': cohen_kappa_score(y_test, y_pred_xgb),\n",
    "    'Logistic Regression': cohen_kappa_score(y_test, y_pred_lr),\n",
    "    'Naive Bayes': cohen_kappa_score(y_test, y_pred_nb),\n",
    "    'Gradient Boosting': cohen_kappa_score(y_test, y_pred_gbm),\n",
    "    'Gradient Boosting Decision Trees': cohen_kappa_score(y_test, y_pred_gbdt),\n",
    "    'K-Nearest Neighbors': cohen_kappa_score(y_test, y_pred_knn),\n",
    "    'SVM': cohen_kappa_score(y_test, y_pred_svm),\n",
    "    'Neural Networks MinMaxscaled': cohen_kappa_score(y_test, y_pred_minmax),\n",
    "    'Neural Networks Tuned MinMaxscaled': cohen_kappa_score(y_test, y_pred_minmax3),\n",
    "    'Neural Networks Standardscaled': cohen_kappa_score(y_test, y_pred_standard5),\n",
    "    'Neural Networks Tuned Standardscaled': cohen_kappa_score(y_test, y_pred_standard6)\n",
    "}\n",
    "\n",
    "# Cohen Kappa scores for Dataset 2\n",
    "kappa_scores2 = {\n",
    "    'Random Forest 2': cohen_kappa_score(y_test2, y_pred_rf2),\n",
    "    'Decision Tree 2': cohen_kappa_score(y_test2, y_pred_dt2),\n",
    "    'ADABoost 2': cohen_kappa_score(y_test2, y_pred_ada2),\n",
    "    'XGBoost 2': cohen_kappa_score(y_test2, y_pred_xgb2),\n",
    "    'Logistic Regression 2': cohen_kappa_score(y_test2, y_pred_lr2),\n",
    "    'Naive Bayes 2': cohen_kappa_score(y_test2, y_pred_nb2),\n",
    "    'Gradient Boosting 2': cohen_kappa_score(y_test2, y_pred_gbm2),\n",
    "    'Gradient Boosting Decision Trees 2': cohen_kappa_score(y_test2, y_pred_gbdt2),\n",
    "    'K-Nearest Neighbors 2': cohen_kappa_score(y_test2, y_pred_knn2),\n",
    "    'SVM 2': cohen_kappa_score(y_test2, y_pred_svm2),\n",
    "    'Neural Networks MinMaxscaled 2': cohen_kappa_score(y_test2, y_pred_minmax2),\n",
    "    'Neural Networks Tuned MinMaxscaled 2': cohen_kappa_score(y_test2, y_pred_minmax4),\n",
    "    'Neural Networks Standardscaled 2': cohen_kappa_score(y_test2, y_pred_standard7),\n",
    "    'Neural Networks Tuned Standardscaled 2': cohen_kappa_score(y_test2, y_pred_standard8)\n",
    "}\n",
    "\n",
    "# Combine Cohen Kappa scores from both datasets\n",
    "combined_kappa_scores = {**kappa_scores, **kappa_scores2}\n",
    "\n",
    "# Sort Cohen Kappa scores in descending order\n",
    "sorted_kappa_scores = {k: v for k, v in sorted(combined_kappa_scores.items(), key=lambda item: item[1], reverse=True)}\n",
    "\n",
    "# Display top 10 Cohen Kappa Scores leaderboard\n",
    "print(\"Top 10 Cohen Kappa Scores Leaderboard:\")\n",
    "print(\"Rank | Method                                      | Score  | Dataset\")\n",
    "print(\"-\" * 70)\n",
    "for rank, (method, score) in enumerate(sorted_kappa_scores.items(), start=1):\n",
    "    dataset_name = \"Dataset 1\" if method in kappa_scores else \"Dataset 2\"\n",
    "    print(f\"{rank:4d} | {method:<40} | {score:.4f} | {dataset_name}\")\n",
    "    if rank == 10:\n",
    "        break\n"
   ]
  },
  {
   "cell_type": "code",
   "execution_count": 150,
   "id": "17085f46",
   "metadata": {
    "slideshow": {
     "slide_type": "slide"
    }
   },
   "outputs": [
    {
     "name": "stdout",
     "output_type": "stream",
     "text": [
      "Top 10 F1 Scores Leaderboard:\n",
      "Rank | Method                                      | Score  | Dataset\n",
      "----------------------------------------------------------------------\n",
      "   1 | Random Forest                            | 0.9737 | Dataset 1\n",
      "   2 | Gradient Boosting Decision Trees 2       | 0.9737 | Dataset 2\n",
      "   3 | XGBoost                                  | 0.9698 | Dataset 1\n",
      "   4 | Gradient Boosting 2                      | 0.9687 | Dataset 2\n",
      "   5 | Decision Tree 2                          | 0.9686 | Dataset 2\n",
      "   6 | Gradient Boosting                        | 0.9673 | Dataset 1\n",
      "   7 | Gradient Boosting Decision Trees         | 0.9673 | Dataset 1\n",
      "   8 | XGBoost 2                                | 0.9623 | Dataset 2\n",
      "   9 | K-Nearest Neighbors                      | 0.9516 | Dataset 1\n",
      "  10 | Decision Tree                            | 0.9500 | Dataset 1\n"
     ]
    }
   ],
   "source": [
    "# F1 scores for Dataset 1\n",
    "f1_scores = {\n",
    "    'Random Forest': f1_score(y_test, y_pred_rf),\n",
    "    'Decision Tree': f1_score(y_test, y_pred_dt),\n",
    "    'ADABoost': f1_score(y_test, y_pred_ada),\n",
    "    'XGBoost': f1_score(y_test, y_pred_xgb),\n",
    "    'Logistic Regression': f1_score(y_test, y_pred_lr),\n",
    "    'Naive Bayes': f1_score(y_test, y_pred_nb),\n",
    "    'Gradient Boosting': f1_score(y_test, y_pred_gbm),\n",
    "    'Gradient Boosting Decision Trees': f1_score(y_test, y_pred_gbdt),\n",
    "    'K-Nearest Neighbors': f1_score(y_test, y_pred_knn),\n",
    "    'SVM': f1_score(y_test, y_pred_svm),\n",
    "    'Neural Networks MinMaxscaled': f1_score(y_test, y_pred_minmax),\n",
    "    'Neural Networks Tuned MinMaxscaled': f1_score(y_test, y_pred_minmax3),\n",
    "    'Neural Networks Standardscaled': f1_score(y_test, y_pred_standard5),\n",
    "    'Neural Networks Tuned Standardscaled': f1_score(y_test, y_pred_standard6)\n",
    "}\n",
    "\n",
    "# F1 scores for Dataset 2\n",
    "f1_scores2 = {\n",
    "    'Random Forest 2': f1_score(y_test2, y_pred_rf2),\n",
    "    'Decision Tree 2': f1_score(y_test2, y_pred_dt2),\n",
    "    'ADABoost 2': f1_score(y_test2, y_pred_ada2),\n",
    "    'XGBoost 2': f1_score(y_test2, y_pred_xgb2),\n",
    "    'Logistic Regression 2': f1_score(y_test2, y_pred_lr2),\n",
    "    'Naive Bayes 2': f1_score(y_test2, y_pred_nb2),\n",
    "    'Gradient Boosting 2': f1_score(y_test2, y_pred_gbm2),\n",
    "    'Gradient Boosting Decision Trees 2': f1_score(y_test2, y_pred_gbdt2),\n",
    "    'K-Nearest Neighbors 2': f1_score(y_test2, y_pred_knn2),\n",
    "    'SVM 2': f1_score(y_test2, y_pred_svm2),\n",
    "    'Neural Networks MinMaxscaled 2': f1_score(y_test2, y_pred_minmax2),\n",
    "    'Neural Networks Tuned MinMaxscaled 2': f1_score(y_test2, y_pred_minmax4),\n",
    "    'Neural Networks Standardscaled 2': f1_score(y_test2, y_pred_standard7),\n",
    "    'Neural Networks Tuned Standardscaled 2': f1_score(y_test2, y_pred_standard8)\n",
    "}\n",
    "\n",
    "# Combine F1 scores from both datasets\n",
    "combined_f1_scores = {**f1_scores, **f1_scores2}\n",
    "\n",
    "# Sort F1 scores in descending order\n",
    "sorted_f1_scores = {k: v for k, v in sorted(combined_f1_scores.items(), key=lambda item: item[1], reverse=True)}\n",
    "\n",
    "# Display top 10 F1 Scores leaderboard\n",
    "print(\"Top 10 F1 Scores Leaderboard:\")\n",
    "print(\"Rank | Method                                      | Score  | Dataset\")\n",
    "print(\"-\" * 70)\n",
    "for rank, (method, score) in enumerate(sorted_f1_scores.items(), start=1):\n",
    "    dataset_name = \"Dataset 1\" if method in f1_scores else \"Dataset 2\"\n",
    "    print(f\"{rank:4d} | {method:<40} | {score:.4f} | {dataset_name}\")\n",
    "    if rank == 10:\n",
    "        break\n"
   ]
  },
  {
   "cell_type": "code",
   "execution_count": null,
   "id": "483fc45e",
   "metadata": {},
   "outputs": [],
   "source": []
  }
 ],
 "metadata": {
  "kernelspec": {
   "display_name": "final_project",
   "language": "python",
   "name": "final_project"
  },
  "language_info": {
   "codemirror_mode": {
    "name": "ipython",
    "version": 3
   },
   "file_extension": ".py",
   "mimetype": "text/x-python",
   "name": "python",
   "nbconvert_exporter": "python",
   "pygments_lexer": "ipython3",
   "version": "3.10.9"
  }
 },
 "nbformat": 4,
 "nbformat_minor": 5
}
